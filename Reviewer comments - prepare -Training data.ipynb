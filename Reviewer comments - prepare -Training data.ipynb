{
 "cells": [
  {
   "cell_type": "code",
   "execution_count": 1,
   "metadata": {
    "collapsed": false
   },
   "outputs": [],
   "source": [
    "%matplotlib inline\n",
    "\n",
    "import pandas as pd\n",
    "import numpy as np\n",
    "\n",
    "import matplotlib.pyplot as plt\n",
    "import seaborn as sns\n",
    "\n",
    "from statsmodels.api import Logit\n",
    "import patsy\n",
    "\n",
    "from joblib import load, dump\n",
    "\n",
    "from IPython.display import display"
   ]
  },
  {
   "cell_type": "code",
   "execution_count": 2,
   "metadata": {
    "collapsed": false
   },
   "outputs": [
    {
     "name": "stdout",
     "output_type": "stream",
     "text": [
      "(41618369, 56) (41618369, 56)\n",
      "CPU times: user 1min 11s, sys: 40.5 s, total: 1min 52s\n",
      "Wall time: 1min 52s\n"
     ]
    }
   ],
   "source": [
    "%%time\n",
    "with pd.HDFStore('out/Training_2002_2005.h5') as cstore:\n",
    "    df_first = cstore['first_author']\n",
    "    df_last = cstore['last_author']\n",
    "    \n",
    "print df_first.shape, df_last.shape\n",
    "df_first.columns"
   ]
  },
  {
   "cell_type": "code",
   "execution_count": 3,
   "metadata": {
    "collapsed": false
   },
   "outputs": [
    {
     "data": {
      "text/plain": [
       "Index([u'source_id', u'source_year', u'source_j', u'source_n_mesh',\n",
       "       u'source_n_mesh_ex', u'source_is_eng', u'source_country',\n",
       "       u'source_is_journal', u'source_is_review', u'source_is_case_rep',\n",
       "       u'source_is_let_ed_com', u'source_T_novelty', u'source_V_novelty',\n",
       "       u'source_PT_novelty', u'source_PV_novelty', u'source_ncites',\n",
       "       u'source_n_authors', u'sink_id', u'sink_year', u'sink_j',\n",
       "       u'sink_n_mesh', u'sink_n_mesh_ex', u'sink_is_eng', u'sink_is_journal',\n",
       "       u'sink_is_review', u'sink_is_case_rep', u'sink_is_let_ed_com',\n",
       "       u'sink_T_novelty', u'sink_V_novelty', u'sink_PT_novelty',\n",
       "       u'sink_PV_novelty', u'sink_n_authors', u'year_span', u'journal_same',\n",
       "       u'mesh_sim', u'title_sim', u'lang_sim', u'affiliation_sim',\n",
       "       u'pubtype_sim', u'cite_sim', u'author_sim', u'gender_sim', u'eth_sim',\n",
       "       u'n_common_authors', u'auid', u'gender', u'eth1', u'eth2', u'pos',\n",
       "       u'pos_nice', u'sink_last_ncites', u'sink_prev_ncites',\n",
       "       u'auth_last_npapers', u'auth_prev_papers', u'jj_sim', u'is_self_cite'],\n",
       "      dtype='object')"
      ]
     },
     "execution_count": 3,
     "metadata": {},
     "output_type": "execute_result"
    }
   ],
   "source": [
    "df_first.columns"
   ]
  },
  {
   "cell_type": "markdown",
   "metadata": {},
   "source": [
    "## Load author years data"
   ]
  },
  {
   "cell_type": "code",
   "execution_count": 4,
   "metadata": {
    "collapsed": false
   },
   "outputs": [
    {
     "name": "stdout",
     "output_type": "stream",
     "text": [
      "CPU times: user 7.84 s, sys: 784 ms, total: 8.63 s\n",
      "Wall time: 9.89 s\n"
     ]
    }
   ],
   "source": [
    "%%time\n",
    "df_authors = pd.read_csv(\"data/AuthorityFirstLastYears.txt\", sep=\"\\t\").rename(\n",
    "    columns={\"au_id\": \"auid\"})\n",
    "df_authors.shape"
   ]
  },
  {
   "cell_type": "code",
   "execution_count": 5,
   "metadata": {
    "collapsed": false
   },
   "outputs": [
    {
     "data": {
      "text/html": [
       "<div>\n",
       "<table border=\"1\" class=\"dataframe\">\n",
       "  <thead>\n",
       "    <tr style=\"text-align: right;\">\n",
       "      <th></th>\n",
       "      <th>auid</th>\n",
       "      <th>first_year</th>\n",
       "      <th>last_year</th>\n",
       "    </tr>\n",
       "  </thead>\n",
       "  <tbody>\n",
       "    <tr>\n",
       "      <th>0</th>\n",
       "      <td>9731334_2</td>\n",
       "      <td>1997</td>\n",
       "      <td>2009</td>\n",
       "    </tr>\n",
       "    <tr>\n",
       "      <th>1</th>\n",
       "      <td>2155715_1</td>\n",
       "      <td>1990</td>\n",
       "      <td>2009</td>\n",
       "    </tr>\n",
       "    <tr>\n",
       "      <th>2</th>\n",
       "      <td>7867892_1</td>\n",
       "      <td>1994</td>\n",
       "      <td>2009</td>\n",
       "    </tr>\n",
       "    <tr>\n",
       "      <th>3</th>\n",
       "      <td>14609221_2</td>\n",
       "      <td>2003</td>\n",
       "      <td>2009</td>\n",
       "    </tr>\n",
       "    <tr>\n",
       "      <th>4</th>\n",
       "      <td>8101337_1</td>\n",
       "      <td>1993</td>\n",
       "      <td>2007</td>\n",
       "    </tr>\n",
       "  </tbody>\n",
       "</table>\n",
       "</div>"
      ],
      "text/plain": [
       "         auid  first_year  last_year\n",
       "0   9731334_2        1997       2009\n",
       "1   2155715_1        1990       2009\n",
       "2   7867892_1        1994       2009\n",
       "3  14609221_2        2003       2009\n",
       "4   8101337_1        1993       2007"
      ]
     },
     "execution_count": 5,
     "metadata": {},
     "output_type": "execute_result"
    }
   ],
   "source": [
    "df_authors.head()"
   ]
  },
  {
   "cell_type": "code",
   "execution_count": 6,
   "metadata": {
    "collapsed": false
   },
   "outputs": [
    {
     "data": {
      "text/plain": [
       "auid          object\n",
       "first_year     int64\n",
       "last_year      int64\n",
       "dtype: object"
      ]
     },
     "execution_count": 6,
     "metadata": {},
     "output_type": "execute_result"
    }
   ],
   "source": [
    "df_authors.dtypes"
   ]
  },
  {
   "cell_type": "code",
   "execution_count": 7,
   "metadata": {
    "collapsed": false
   },
   "outputs": [
    {
     "data": {
      "text/html": [
       "<div>\n",
       "<table border=\"1\" class=\"dataframe\">\n",
       "  <thead>\n",
       "    <tr style=\"text-align: right;\">\n",
       "      <th></th>\n",
       "      <th>first_year</th>\n",
       "      <th>last_year</th>\n",
       "    </tr>\n",
       "  </thead>\n",
       "  <tbody>\n",
       "    <tr>\n",
       "      <th>count</th>\n",
       "      <td>9300182</td>\n",
       "      <td>9300182</td>\n",
       "    </tr>\n",
       "    <tr>\n",
       "      <th>mean</th>\n",
       "      <td>1989</td>\n",
       "      <td>1994</td>\n",
       "    </tr>\n",
       "    <tr>\n",
       "      <th>std</th>\n",
       "      <td>16</td>\n",
       "      <td>15</td>\n",
       "    </tr>\n",
       "    <tr>\n",
       "      <th>min</th>\n",
       "      <td>1865</td>\n",
       "      <td>0</td>\n",
       "    </tr>\n",
       "    <tr>\n",
       "      <th>25%</th>\n",
       "      <td>1980</td>\n",
       "      <td>1986</td>\n",
       "    </tr>\n",
       "    <tr>\n",
       "      <th>50%</th>\n",
       "      <td>1994</td>\n",
       "      <td>2000</td>\n",
       "    </tr>\n",
       "    <tr>\n",
       "      <th>75%</th>\n",
       "      <td>2003</td>\n",
       "      <td>2007</td>\n",
       "    </tr>\n",
       "    <tr>\n",
       "      <th>max</th>\n",
       "      <td>9999</td>\n",
       "      <td>2099</td>\n",
       "    </tr>\n",
       "  </tbody>\n",
       "</table>\n",
       "</div>"
      ],
      "text/plain": [
       "       first_year  last_year\n",
       "count     9300182    9300182\n",
       "mean         1989       1994\n",
       "std            16         15\n",
       "min          1865          0\n",
       "25%          1980       1986\n",
       "50%          1994       2000\n",
       "75%          2003       2007\n",
       "max          9999       2099"
      ]
     },
     "execution_count": 7,
     "metadata": {},
     "output_type": "execute_result"
    }
   ],
   "source": [
    "df_authors.describe().astype(int)"
   ]
  },
  {
   "cell_type": "code",
   "execution_count": 8,
   "metadata": {
    "collapsed": false
   },
   "outputs": [
    {
     "data": {
      "text/plain": [
       "((3, 3), (3858, 3))"
      ]
     },
     "execution_count": 8,
     "metadata": {},
     "output_type": "execute_result"
    }
   ],
   "source": [
    "df_authors[df_authors.first_year == 9999].shape, df_authors[df_authors.first_year <= 1900].shape"
   ]
  },
  {
   "cell_type": "markdown",
   "metadata": {},
   "source": [
    "## Load author expertise data"
   ]
  },
  {
   "cell_type": "code",
   "execution_count": 9,
   "metadata": {
    "collapsed": false
   },
   "outputs": [
    {
     "name": "stdout",
     "output_type": "stream",
     "text": [
      "CPU times: user 1min 2s, sys: 5.11 s, total: 1min 7s\n",
      "Wall time: 1min 7s\n"
     ]
    }
   ],
   "source": [
    "%%time\n",
    "df_expertise = pd.read_csv(\"data/AuthorExpertise.txt\", sep=\"\\t\")\n",
    "df_expertise.columns, df_expertise.shape"
   ]
  },
  {
   "cell_type": "code",
   "execution_count": 10,
   "metadata": {
    "collapsed": false
   },
   "outputs": [
    {
     "data": {
      "text/plain": [
       "(Index([u'PMID', u'auid', u'match_len', u'match_prop', u'overall_coverage_len',\n",
       "        u'overall_coverage_prop'],\n",
       "       dtype='object'), (58761322, 6))"
      ]
     },
     "execution_count": 10,
     "metadata": {},
     "output_type": "execute_result"
    }
   ],
   "source": [
    "df_expertise.columns, df_expertise.shape"
   ]
  },
  {
   "cell_type": "code",
   "execution_count": 11,
   "metadata": {
    "collapsed": false
   },
   "outputs": [
    {
     "data": {
      "text/plain": [
       "PMID                       int64\n",
       "auid                      object\n",
       "match_len                  int64\n",
       "match_prop               float64\n",
       "overall_coverage_len       int64\n",
       "overall_coverage_prop    float64\n",
       "dtype: object"
      ]
     },
     "execution_count": 11,
     "metadata": {},
     "output_type": "execute_result"
    }
   ],
   "source": [
    "df_expertise.dtypes"
   ]
  },
  {
   "cell_type": "markdown",
   "metadata": {},
   "source": [
    "## First author"
   ]
  },
  {
   "cell_type": "code",
   "execution_count": 12,
   "metadata": {
    "collapsed": false
   },
   "outputs": [
    {
     "name": "stdout",
     "output_type": "stream",
     "text": [
      "(41618369, 56)\n",
      "(41618369, 58)\n",
      "CPU times: user 1min 17s, sys: 35.4 s, total: 1min 53s\n",
      "Wall time: 1min 53s\n"
     ]
    }
   ],
   "source": [
    "%%time\n",
    "print df_first.shape\n",
    "df_first = df_first.merge(df_authors, how=\"left\", on=\"auid\")\n",
    "print df_first.shape"
   ]
  },
  {
   "cell_type": "code",
   "execution_count": 13,
   "metadata": {
    "collapsed": true
   },
   "outputs": [],
   "source": [
    "df_first[\"au_age\"] = df_first[\"source_year\"] - df_first[\"first_year\"]"
   ]
  },
  {
   "cell_type": "code",
   "execution_count": 14,
   "metadata": {
    "collapsed": false
   },
   "outputs": [
    {
     "name": "stdout",
     "output_type": "stream",
     "text": [
      "(41618369, 59)\n",
      "(41619240, 64)\n",
      "CPU times: user 1min 23s, sys: 28.6 s, total: 1min 52s\n",
      "Wall time: 1min 52s\n"
     ]
    }
   ],
   "source": [
    "%%time\n",
    "print df_first.shape\n",
    "df_first = df_first.merge(df_expertise, how=\"left\",\n",
    "                          left_on=[\"source_id\",\"auid\"],\n",
    "                          right_on=[\"PMID\",\"auid\"],)\n",
    "print df_first.shape"
   ]
  },
  {
   "cell_type": "code",
   "execution_count": 15,
   "metadata": {
    "collapsed": false
   },
   "outputs": [
    {
     "name": "stdout",
     "output_type": "stream",
     "text": [
      "(41619240, 63)\n",
      "CPU times: user 39.6 s, sys: 41.2 s, total: 1min 20s\n",
      "Wall time: 1min 20s\n"
     ]
    }
   ],
   "source": [
    "%%time\n",
    "df_first = df_first.drop(\"PMID\", axis=1)\n",
    "print df_first.shape"
   ]
  },
  {
   "cell_type": "markdown",
   "metadata": {},
   "source": [
    "## Last author"
   ]
  },
  {
   "cell_type": "code",
   "execution_count": 16,
   "metadata": {
    "collapsed": false
   },
   "outputs": [
    {
     "name": "stdout",
     "output_type": "stream",
     "text": [
      "(41618369, 56)\n",
      "(41618369, 58)\n",
      "CPU times: user 1min 23s, sys: 32.9 s, total: 1min 56s\n",
      "Wall time: 1min 56s\n"
     ]
    }
   ],
   "source": [
    "%%time\n",
    "print df_last.shape\n",
    "df_last = df_last.merge(df_authors, how=\"left\", on=\"auid\")\n",
    "print df_last.shape"
   ]
  },
  {
   "cell_type": "code",
   "execution_count": 17,
   "metadata": {
    "collapsed": true
   },
   "outputs": [],
   "source": [
    "df_last[\"au_age\"] = df_last[\"source_year\"] - df_last[\"first_year\"]"
   ]
  },
  {
   "cell_type": "code",
   "execution_count": 18,
   "metadata": {
    "collapsed": false
   },
   "outputs": [
    {
     "name": "stdout",
     "output_type": "stream",
     "text": [
      "(41618369, 59)\n",
      "(41619267, 64)\n",
      "(41619267, 63)\n",
      "CPU times: user 1min 41s, sys: 57.3 s, total: 2min 39s\n",
      "Wall time: 2min 39s\n"
     ]
    }
   ],
   "source": [
    "%%time\n",
    "print df_last.shape\n",
    "df_last = df_last.merge(df_expertise, how=\"left\",\n",
    "                          left_on=[\"source_id\",\"auid\"],\n",
    "                          right_on=[\"PMID\",\"auid\"],)\n",
    "print df_last.shape\n",
    "df_last = df_last.drop(\"PMID\", axis=1)\n",
    "print df_last.shape"
   ]
  },
  {
   "cell_type": "markdown",
   "metadata": {
    "collapsed": true
   },
   "source": [
    "## Prepare data for modelling"
   ]
  },
  {
   "cell_type": "code",
   "execution_count": 19,
   "metadata": {
    "collapsed": true
   },
   "outputs": [],
   "source": [
    "TOP_15_COUNTRIES = [\"USA\", \"UNKNOWN\", \"UK\", \"JAPAN\", \"GERMANY\", \"FRANCE\", \"ITALY\",\n",
    "                    \"CANADA\", \"CHINA\", \"AUSTRALIA\", \"SPAIN\", \"NETHERLANDS\",\n",
    "                    \"SWEDEN\", \"INDIA\", \"OTHER\"]\n",
    "TOP_15_ETHNICITIES = [\"ENGLISH\", \"GERMAN\", \"HISPANIC\", \"CHINESE\",\n",
    "                      \"JAPANESE\", \"SLAV\", \"FRENCH\", \"ITALIAN\", \"INDIAN\",\n",
    "                      \"NORDIC\", \"ARAB\", \"DUTCH\", \"KOREAN\", \"UNKNOWN\", \"OTHER\"]\n",
    "GENDERS = [\"-\", \"F\", \"M\"]"
   ]
  },
  {
   "cell_type": "code",
   "execution_count": 20,
   "metadata": {
    "collapsed": true
   },
   "outputs": [],
   "source": [
    "def prepare_data(df):\n",
    "    df[\"eth_weight\"] = 0.5 # Partial weight to multi ethnicity\n",
    "    df.ix[df.eth2 == \"UNKNOWN\", \"eth_weight\"] = 1 # Full weight to single ethnicity\n",
    "    df.ix[df.source_country == \"-\", \"source_country\"] = \"UNKNOWN\" # Set - to unknown\n",
    "    df.source_country = df.source_country.astype(\"category\", categories=TOP_15_COUNTRIES, ordered=False).fillna(\"OTHER\")\n",
    "    df.ix[df.eth1.isin(\n",
    "        [\"UNKNOWN\", \"TOOSHORT\", \"ERROR\"]),\n",
    "      \"eth1\"] = \"UNKNOWN\" # Set unknown ethnicities\n",
    "    df.ix[df.eth2.isin(\n",
    "            [\"UNKNOWN\", \"TOOSHORT\", \"ERROR\"]),\n",
    "          \"eth2\"] = \"UNKNOWN\" # Set unknown ethnicities\n",
    "    df.eth1 = df.eth1.astype(\"category\", categories=TOP_15_ETHNICITIES, ordered=False).fillna(\"OTHER\")\n",
    "    df.eth2 = df.eth2.astype(\"category\", categories=TOP_15_ETHNICITIES, ordered=False).fillna(\"OTHER\")\n",
    "    df.gender = df.gender.astype(\"category\", categories=GENDERS, ordered=False).fillna(\"-\")\n",
    "    df[[u'source_is_eng', u'source_is_journal', u'source_is_review',\n",
    "    u'source_is_case_rep', u'source_is_let_ed_com',\n",
    "    u'sink_is_eng', u'sink_is_journal', u'sink_is_review', u'sink_is_case_rep',\n",
    "    u'sink_is_let_ed_com', u'journal_same', u'affiliation_sim']] = df[[u'source_is_eng', u'source_is_journal', u'source_is_review',\n",
    "    u'source_is_case_rep', u'source_is_let_ed_com',\n",
    "    u'sink_is_eng', u'sink_is_journal', u'sink_is_review', u'sink_is_case_rep',\n",
    "    u'sink_is_let_ed_com', u'journal_same', u'affiliation_sim']].astype(\"bool\")"
   ]
  },
  {
   "cell_type": "code",
   "execution_count": 21,
   "metadata": {
    "collapsed": false
   },
   "outputs": [
    {
     "name": "stdout",
     "output_type": "stream",
     "text": [
      "CPU times: user 1min 26s, sys: 1min 14s, total: 2min 40s\n",
      "Wall time: 2min 40s\n",
      "Done first author data\n",
      "CPU times: user 1min 27s, sys: 1min 16s, total: 2min 44s\n",
      "Wall time: 2min 44s\n",
      "Done last author data\n",
      "CPU times: user 10min 42s, sys: 9min 41s, total: 20min 23s\n",
      "Wall time: 29min 50s\n"
     ]
    }
   ],
   "source": [
    "%%time\n",
    "for df, label in zip([df_first, df_last],\n",
    "              [\"first\", \"last\"]):\n",
    "    %time prepare_data(df)\n",
    "    df = df.drop([\"source_j\", \"sink_j\", \"auid\"], axis=1)\n",
    "    with pd.HDFStore('out/ModelData.20170303.h5') as cstore:\n",
    "        cstore.append(\n",
    "            '%s_author' % label,\n",
    "            df,\n",
    "            format='table',\n",
    "            data_columns=['source_country','gender', 'eth1', 'eth2'])\n",
    "    print \"Done %s author data\" % label"
   ]
  },
  {
   "cell_type": "markdown",
   "metadata": {},
   "source": [
    "## Load Journal names"
   ]
  },
  {
   "cell_type": "code",
   "execution_count": 22,
   "metadata": {
    "collapsed": false
   },
   "outputs": [
    {
     "name": "stdout",
     "output_type": "stream",
     "text": [
      "CPU times: user 1min 26s, sys: 4.6 s, total: 1min 30s\n",
      "Wall time: 1min 30s\n"
     ]
    }
   ],
   "source": [
    "%%time\n",
    "df_journals = pd.read_csv(\"data/FullArticlesData.txt\", sep=\"\\t\", usecols=[\"PMID\", \"journal\"])\n",
    "df_journals.head()"
   ]
  },
  {
   "cell_type": "code",
   "execution_count": 23,
   "metadata": {
    "collapsed": false
   },
   "outputs": [
    {
     "data": {
      "text/html": [
       "<div>\n",
       "<table border=\"1\" class=\"dataframe\">\n",
       "  <thead>\n",
       "    <tr style=\"text-align: right;\">\n",
       "      <th></th>\n",
       "      <th>PMID</th>\n",
       "      <th>journal</th>\n",
       "    </tr>\n",
       "  </thead>\n",
       "  <tbody>\n",
       "    <tr>\n",
       "      <th>0</th>\n",
       "      <td>26151966</td>\n",
       "      <td>J Hum Lact</td>\n",
       "    </tr>\n",
       "    <tr>\n",
       "      <th>1</th>\n",
       "      <td>26151965</td>\n",
       "      <td>J Hum Lact</td>\n",
       "    </tr>\n",
       "    <tr>\n",
       "      <th>2</th>\n",
       "      <td>26151955</td>\n",
       "      <td>EuroIntervention</td>\n",
       "    </tr>\n",
       "    <tr>\n",
       "      <th>3</th>\n",
       "      <td>26151954</td>\n",
       "      <td>EuroIntervention</td>\n",
       "    </tr>\n",
       "    <tr>\n",
       "      <th>4</th>\n",
       "      <td>26151953</td>\n",
       "      <td>EuroIntervention</td>\n",
       "    </tr>\n",
       "  </tbody>\n",
       "</table>\n",
       "</div>"
      ],
      "text/plain": [
       "       PMID           journal\n",
       "0  26151966        J Hum Lact\n",
       "1  26151965        J Hum Lact\n",
       "2  26151955  EuroIntervention\n",
       "3  26151954  EuroIntervention\n",
       "4  26151953  EuroIntervention"
      ]
     },
     "execution_count": 23,
     "metadata": {},
     "output_type": "execute_result"
    }
   ],
   "source": [
    "df_journals.head()"
   ]
  },
  {
   "cell_type": "code",
   "execution_count": 24,
   "metadata": {
    "collapsed": false
   },
   "outputs": [
    {
     "data": {
      "text/plain": [
       "J Biol Chem                   171068\n",
       "Science                       167415\n",
       "PLoS One                      133591\n",
       "Lancet                        129945\n",
       "Proc Natl Acad Sci U S A      121705\n",
       "Nature                        104418\n",
       "Br Med J                       97226\n",
       "Biochim Biophys Acta           96039\n",
       "Biochem Biophys Res Commun     78341\n",
       "Phys Rev Lett                  76322\n",
       "N Engl J Med                   72020\n",
       "JAMA                           66849\n",
       "BMJ                            65858\n",
       "Biochemistry                   62430\n",
       "J Immunol                      62245\n",
       "Brain Res                      56834\n",
       "Am J Physiol                   54726\n",
       "Biochem J                      54355\n",
       "J Bacteriol                    51716\n",
       "J Am Chem Soc                  50057\n",
       "Cancer Res                     48966\n",
       "Ann N Y Acad Sci               47684\n",
       "J Urol                         47368\n",
       "Phys Rev B Condens Matter      46890\n",
       "FEBS Lett                      46770\n",
       "Appl Opt                       43386\n",
       "Blood                          43160\n",
       "J Virol                        42269\n",
       "Med J Aust                     41119\n",
       "Ugeskr Laeger                  40687\n",
       "Name: journal, dtype: int64"
      ]
     },
     "execution_count": 24,
     "metadata": {},
     "output_type": "execute_result"
    }
   ],
   "source": [
    "df_journals.journal.value_counts().head(30)"
   ]
  },
  {
   "cell_type": "markdown",
   "metadata": {},
   "source": [
    "## Journal categories\n",
    "\n",
    "* MEDICINE - NEMJ, JAMA, LANCET\n",
    "* BIOLOGY - CELL, Journal of Bio Chem\n",
    "* Bioinformatics - PLoS Com Bio, BMC BioInfo\n",
    "* EPIDEMIOLOGY - MMWR. Morbidity and Mortality Weekly Report, Emerging Infectious Diseases, International Journal of Epidemiology\n",
    "* DENTISTRY - Journal of Endodontics, Journal of Clinical Periodontology, Journal of Dental Research\n",
    "* GENERIC - Proc Natl Acad Sci U S A, Nature, Science, PLoS One"
   ]
  },
  {
   "cell_type": "code",
   "execution_count": 25,
   "metadata": {
    "collapsed": false
   },
   "outputs": [
    {
     "data": {
      "text/plain": [
       "{'BIOINFORMATICS': {'BMC Bioinformatics',\n",
       "  'Bioinformatics',\n",
       "  'Bioinformation',\n",
       "  'PLoS Comput Biol'},\n",
       " 'BIOLOGY': {'Adv Exp Med Biol', 'Cell', 'J Biol Chem'},\n",
       " 'GENERIC': {'Nature', 'PLoS One', 'Proc Natl Acad Sci U S A', 'Science'},\n",
       " 'MEDICINE': {'JAMA', 'Lancet', 'N Engl J Med'}}"
      ]
     },
     "execution_count": 25,
     "metadata": {},
     "output_type": "execute_result"
    }
   ],
   "source": [
    "JOURNAL_NAMES  = dict(\n",
    "    MEDICINE = set(['JAMA', 'Lancet', 'N Engl J Med']),\n",
    "    BIOLOGY = set(['J Biol Chem', 'Cell',  'Adv Exp Med Biol']), \n",
    "    BIOINFORMATICS=set(['BMC Bioinformatics', 'Bioinformatics', 'Bioinformation', 'PLoS Comput Biol']),\n",
    "    GENERIC=set(['Proc Natl Acad Sci U S A', 'Nature', 'Science', 'PLoS One'])\n",
    ")\n",
    "JOURNAL_NAMES"
   ]
  },
  {
   "cell_type": "code",
   "execution_count": 26,
   "metadata": {
    "collapsed": false
   },
   "outputs": [
    {
     "data": {
      "text/plain": [
       "Lancet          129945\n",
       "N Engl J Med     72020\n",
       "JAMA             66849\n",
       "Name: journal, dtype: int64"
      ]
     },
     "execution_count": 26,
     "metadata": {},
     "output_type": "execute_result"
    }
   ],
   "source": [
    "df_journals[df_journals.journal.isin(JOURNAL_NAMES[\"MEDICINE\"])].journal.value_counts()"
   ]
  },
  {
   "cell_type": "code",
   "execution_count": 27,
   "metadata": {
    "collapsed": false
   },
   "outputs": [
    {
     "name": "stdout",
     "output_type": "stream",
     "text": [
      "GENERIC (527129,)\n",
      "MEDICINE (268814,)\n",
      "BIOLOGY (220521,)\n",
      "BIOINFORMATICS (22167,)\n"
     ]
    }
   ],
   "source": [
    "JOURNAL_PMIDS = dict()\n",
    "for k,v in JOURNAL_NAMES.items():\n",
    "    JOURNAL_PMIDS[k] = df_journals[df_journals.journal.isin(v)].PMID\n",
    "    print k, JOURNAL_PMIDS[k].shape"
   ]
  },
  {
   "cell_type": "code",
   "execution_count": 28,
   "metadata": {
    "collapsed": false
   },
   "outputs": [
    {
     "data": {
      "text/html": [
       "<div>\n",
       "<table border=\"1\" class=\"dataframe\">\n",
       "  <thead>\n",
       "    <tr style=\"text-align: right;\">\n",
       "      <th></th>\n",
       "      <th>PMID</th>\n",
       "      <th>journal</th>\n",
       "      <th>JOURNAL_TYPE</th>\n",
       "    </tr>\n",
       "  </thead>\n",
       "  <tbody>\n",
       "    <tr>\n",
       "      <th>0</th>\n",
       "      <td>26151946</td>\n",
       "      <td>PLoS One</td>\n",
       "      <td>GENERIC</td>\n",
       "    </tr>\n",
       "    <tr>\n",
       "      <th>1</th>\n",
       "      <td>26151935</td>\n",
       "      <td>PLoS One</td>\n",
       "      <td>GENERIC</td>\n",
       "    </tr>\n",
       "    <tr>\n",
       "      <th>2</th>\n",
       "      <td>26151934</td>\n",
       "      <td>PLoS One</td>\n",
       "      <td>GENERIC</td>\n",
       "    </tr>\n",
       "    <tr>\n",
       "      <th>3</th>\n",
       "      <td>26151932</td>\n",
       "      <td>PLoS One</td>\n",
       "      <td>GENERIC</td>\n",
       "    </tr>\n",
       "    <tr>\n",
       "      <th>4</th>\n",
       "      <td>26151929</td>\n",
       "      <td>PLoS One</td>\n",
       "      <td>GENERIC</td>\n",
       "    </tr>\n",
       "  </tbody>\n",
       "</table>\n",
       "</div>"
      ],
      "text/plain": [
       "       PMID   journal JOURNAL_TYPE\n",
       "0  26151946  PLoS One      GENERIC\n",
       "1  26151935  PLoS One      GENERIC\n",
       "2  26151934  PLoS One      GENERIC\n",
       "3  26151932  PLoS One      GENERIC\n",
       "4  26151929  PLoS One      GENERIC"
      ]
     },
     "execution_count": 28,
     "metadata": {},
     "output_type": "execute_result"
    }
   ],
   "source": [
    "pd.concat([df_journals[df_journals.journal.isin(v)\n",
    "                      ][[\"PMID\", \"journal\"]].assign(JOURNAL_TYPE=k).reset_index(drop=True)\n",
    "          for k,v in JOURNAL_NAMES.items()]).head()"
   ]
  },
  {
   "cell_type": "code",
   "execution_count": 29,
   "metadata": {
    "collapsed": false
   },
   "outputs": [
    {
     "name": "stdout",
     "output_type": "stream",
     "text": [
      "CPU times: user 7.56 s, sys: 284 ms, total: 7.84 s\n",
      "Wall time: 7.91 s\n"
     ]
    }
   ],
   "source": [
    "%%time\n",
    "with pd.HDFStore('out/JOURNAL_PMIDS.20170303.h5') as cstore:\n",
    "    for k,v in JOURNAL_PMIDS.items():\n",
    "        cstore.append('%s' % k, v, format='table')\n",
    "    cstore.append(\"ALL_JOURNAL_IDS\", pd.concat([df_journals[df_journals.journal.isin(v)\n",
    "                      ][[\"PMID\", \"journal\"]].assign(JOURNAL_TYPE=k).reset_index(drop=True)\n",
    "          for k,v in JOURNAL_NAMES.items()]), format='table')\n",
    "    "
   ]
  },
  {
   "cell_type": "code",
   "execution_count": null,
   "metadata": {
    "collapsed": true
   },
   "outputs": [],
   "source": []
  }
 ],
 "metadata": {
  "anaconda-cloud": {},
  "kernelspec": {
   "display_name": "Python [default]",
   "language": "python",
   "name": "python2"
  },
  "language_info": {
   "codemirror_mode": {
    "name": "ipython",
    "version": 2
   },
   "file_extension": ".py",
   "mimetype": "text/x-python",
   "name": "python",
   "nbconvert_exporter": "python",
   "pygments_lexer": "ipython2",
   "version": "2.7.12"
  }
 },
 "nbformat": 4,
 "nbformat_minor": 1
}
