{
 "cells": [
  {
   "cell_type": "code",
   "execution_count": 1,
   "metadata": {
    "collapsed": false
   },
   "outputs": [
    {
     "name": "stdout",
     "output_type": "stream",
     "text": [
      "MF reloaded 1\n",
      "EMS reloaded\n"
     ]
    }
   ],
   "source": [
    "%matplotlib inline\n",
    "\n",
    "import pandas as pd\n",
    "import numpy as np\n",
    "\n",
    "import matplotlib.pyplot as plt\n",
    "import seaborn as sns\n",
    "\n",
    "from statsmodels.api import Logit\n",
    "import patsy\n",
    "from joblib import load, dump\n",
    "\n",
    "import model_functions as mf\n",
    "import eval_measures as ems\n",
    "\n",
    "from IPython.display import display"
   ]
  },
  {
   "cell_type": "code",
   "execution_count": 2,
   "metadata": {
    "collapsed": true
   },
   "outputs": [],
   "source": [
    "MODEL_VERSION = \"v4.reviewer\"\n",
    "MODEL_SUFFIX = \"%s.first_author\" % MODEL_VERSION\n",
    "GENDERS = [\"-\", \"F\", \"M\"]\n",
    "TOP_15_ETHNICITIES = [\"ENGLISH\", \"GERMAN\", \"HISPANIC\", \"CHINESE\",\n",
    "                      \"JAPANESE\", \"SLAV\", \"FRENCH\", \"ITALIAN\", \"INDIAN\",\n",
    "                      \"NORDIC\", \"ARAB\", \"DUTCH\", \"KOREAN\", \"UNKNOWN\", \"OTHER\"]\n",
    "TOP_15_COUNTRIES = [\"USA\", \"UNKNOWN\", \"UK\", \"JAPAN\", \"GERMANY\", \"FRANCE\", \"ITALY\",\n",
    "                    \"CANADA\", \"CHINA\", \"AUSTRALIA\", \"SPAIN\", \"NETHERLANDS\",\n",
    "                    \"SWEDEN\", \"INDIA\", \"OTHER\"]\n",
    "\n",
    "sns.set_context(\"poster\")\n",
    "sns.set_style(\"ticks\")"
   ]
  },
  {
   "cell_type": "code",
   "execution_count": 3,
   "metadata": {
    "collapsed": true
   },
   "outputs": [],
   "source": [
    "def filtered_data(df, max_source_ncites=100, version=1):\n",
    "    # Base version 1\n",
    "    df_filtered = df[(df.source_country == \"USA\")\n",
    "                & (df.source_is_eng)\n",
    "                & (df.source_is_journal)\n",
    "                & (df.source_ncites >= 10)\n",
    "                & (df.source_ncites <=max_source_ncites)]\n",
    "    if version == 2:\n",
    "        df_filtered = df_filtered[(df.eth1 == \"ENGLISH\")\n",
    "                & (df.eth2 == \"UNKNOWN\")]\n",
    "    print df_filtered.shape, df.shape\n",
    "    return df_filtered\n",
    "\n",
    "\n",
    "def fit_model(df, base_formula, include_prc=True, MODEL_VERSION=\"v4\", MODEL_SUFFIX=\"\", version=1):\n",
    "    results_full = []\n",
    "    nrows, ncols = 1,1\n",
    "    figsize = 5\n",
    "    if include_prc:\n",
    "        fig, ax = plt.subplots(nrows, ncols, sharex=True, sharey=True,\n",
    "                               squeeze=False, figsize=(ncols*figsize, nrows*figsize))\n",
    "        fig1, ax1 = plt.subplots(nrows, ncols, sharex=True, sharey=True,\n",
    "                                 squeeze=False, figsize=(ncols*figsize, nrows*figsize))\n",
    "        print \"Created figure with %s rows and %s columns\" % (nrows, ncols)\n",
    "        ax = ax.flatten()\n",
    "        ax1 = ax1.flatten()\n",
    "\n",
    "    formula = base_formula\n",
    "    i = 0\n",
    "    measures, summary = model_fit(df, formula, include_prc=include_prc)\n",
    "\n",
    "    prc = measures.pop(\"prc\", None)\n",
    "    roc = measures.pop(\"roc\", None)\n",
    "    if include_prc and prc is not None and roc is not None:\n",
    "        ## PRC\n",
    "        plot_prc(prc, ax=ax[i], color=\"k\")\n",
    "        ax[i].plot([measures[\"recall\"]], [measures[\"precision\"]], marker=\"o\",\n",
    "                   color=\"k\", linestyle=\"none\", ms=15)\n",
    "        ax[i].plot([0,1], [1,0], \"--k\", linewidth=1)\n",
    "        ax[i].set_xlabel(\"Recall\")\n",
    "        ax[i].set_ylabel(\"Precision\")\n",
    "        ## ROC\n",
    "        plot_prc(roc, ax=ax1[i], color=\"k\")\n",
    "        ax1[i].plot([measures[\"fpr\"]], [measures[\"tpr\"]], marker=\"o\",\n",
    "                   color=\"k\", linestyle=\"none\", ms=15)\n",
    "        ax1[i].plot([0,1], [0,1], \"--k\", linewidth=1)\n",
    "        ax1[i].set_xlabel(\"False Positive Rate\")\n",
    "        ax1[i].set_ylabel(\"True Positive Rate\")\n",
    "    print measures\n",
    "    print display(summary)\n",
    "    results_full.append((\"all\", (measures, summary)))\n",
    "\n",
    "    if include_prc:\n",
    "        fig.tight_layout()\n",
    "        fig.savefig(\"PRC_model.%s.filtered_%s.pdf\" % (MODEL_SUFFIX, version), bbox_inches=\"tight\")\n",
    "        fig1.tight_layout()\n",
    "        fig1.savefig(\"ROC_model.%s.filtered_%s.pdf\" % (MODEL_SUFFIX, version), bbox_inches=\"tight\")\n",
    "        \n",
    "    dump([results_full],\n",
    "         \"results_all_model/%s/results_all_model.%s.filtered_%s.pkl\" % (MODEL_VERSION, MODEL_SUFFIX, version))\n",
    "    return [results_full]"
   ]
  },
  {
   "cell_type": "markdown",
   "metadata": {},
   "source": [
    "## Load Data"
   ]
  },
  {
   "cell_type": "code",
   "execution_count": 4,
   "metadata": {
    "collapsed": false
   },
   "outputs": [
    {
     "name": "stdout",
     "output_type": "stream",
     "text": [
      "CPU times: user 6min 6s, sys: 2min 30s, total: 8min 36s\n",
      "Wall time: 8min 36s\n"
     ]
    }
   ],
   "source": [
    "%%time\n",
    "with pd.HDFStore('out/ModelData.20170303.h5') as cstore:\n",
    "    df_fa = cstore['first_author']\n",
    "    df_la = cstore['last_author']"
   ]
  },
  {
   "cell_type": "code",
   "execution_count": 5,
   "metadata": {
    "collapsed": false
   },
   "outputs": [
    {
     "data": {
      "text/html": [
       "<div>\n",
       "<table border=\"1\" class=\"dataframe\">\n",
       "  <thead>\n",
       "    <tr style=\"text-align: right;\">\n",
       "      <th></th>\n",
       "      <th>source_id</th>\n",
       "      <th>source_year</th>\n",
       "      <th>source_n_mesh</th>\n",
       "      <th>source_n_mesh_ex</th>\n",
       "      <th>source_is_eng</th>\n",
       "      <th>source_country</th>\n",
       "      <th>source_is_journal</th>\n",
       "      <th>source_is_review</th>\n",
       "      <th>source_is_case_rep</th>\n",
       "      <th>source_is_let_ed_com</th>\n",
       "      <th>...</th>\n",
       "      <th>jj_sim</th>\n",
       "      <th>is_self_cite</th>\n",
       "      <th>first_year</th>\n",
       "      <th>last_year</th>\n",
       "      <th>au_age</th>\n",
       "      <th>match_len</th>\n",
       "      <th>match_prop</th>\n",
       "      <th>overall_coverage_len</th>\n",
       "      <th>overall_coverage_prop</th>\n",
       "      <th>eth_weight</th>\n",
       "    </tr>\n",
       "  </thead>\n",
       "  <tbody>\n",
       "    <tr>\n",
       "      <th>0</th>\n",
       "      <td>16526454</td>\n",
       "      <td>2005</td>\n",
       "      <td>11</td>\n",
       "      <td>53</td>\n",
       "      <td>True</td>\n",
       "      <td>JAPAN</td>\n",
       "      <td>True</td>\n",
       "      <td>False</td>\n",
       "      <td>False</td>\n",
       "      <td>False</td>\n",
       "      <td>...</td>\n",
       "      <td>14.6053</td>\n",
       "      <td>0</td>\n",
       "      <td>1982</td>\n",
       "      <td>2009</td>\n",
       "      <td>23</td>\n",
       "      <td>47.0</td>\n",
       "      <td>0.886792</td>\n",
       "      <td>47.0</td>\n",
       "      <td>0.886792</td>\n",
       "      <td>1.0</td>\n",
       "    </tr>\n",
       "    <tr>\n",
       "      <th>1</th>\n",
       "      <td>16526454</td>\n",
       "      <td>2005</td>\n",
       "      <td>11</td>\n",
       "      <td>53</td>\n",
       "      <td>True</td>\n",
       "      <td>JAPAN</td>\n",
       "      <td>True</td>\n",
       "      <td>False</td>\n",
       "      <td>False</td>\n",
       "      <td>False</td>\n",
       "      <td>...</td>\n",
       "      <td>14.6053</td>\n",
       "      <td>1</td>\n",
       "      <td>1982</td>\n",
       "      <td>2009</td>\n",
       "      <td>23</td>\n",
       "      <td>47.0</td>\n",
       "      <td>0.886792</td>\n",
       "      <td>47.0</td>\n",
       "      <td>0.886792</td>\n",
       "      <td>1.0</td>\n",
       "    </tr>\n",
       "    <tr>\n",
       "      <th>2</th>\n",
       "      <td>14595765</td>\n",
       "      <td>2003</td>\n",
       "      <td>17</td>\n",
       "      <td>71</td>\n",
       "      <td>True</td>\n",
       "      <td>JAPAN</td>\n",
       "      <td>True</td>\n",
       "      <td>False</td>\n",
       "      <td>False</td>\n",
       "      <td>False</td>\n",
       "      <td>...</td>\n",
       "      <td>0.0000</td>\n",
       "      <td>0</td>\n",
       "      <td>1998</td>\n",
       "      <td>2009</td>\n",
       "      <td>5</td>\n",
       "      <td>47.0</td>\n",
       "      <td>0.661972</td>\n",
       "      <td>67.0</td>\n",
       "      <td>0.943662</td>\n",
       "      <td>1.0</td>\n",
       "    </tr>\n",
       "    <tr>\n",
       "      <th>3</th>\n",
       "      <td>14595765</td>\n",
       "      <td>2003</td>\n",
       "      <td>17</td>\n",
       "      <td>71</td>\n",
       "      <td>True</td>\n",
       "      <td>JAPAN</td>\n",
       "      <td>True</td>\n",
       "      <td>False</td>\n",
       "      <td>False</td>\n",
       "      <td>False</td>\n",
       "      <td>...</td>\n",
       "      <td>5.5691</td>\n",
       "      <td>0</td>\n",
       "      <td>1998</td>\n",
       "      <td>2009</td>\n",
       "      <td>5</td>\n",
       "      <td>47.0</td>\n",
       "      <td>0.661972</td>\n",
       "      <td>67.0</td>\n",
       "      <td>0.943662</td>\n",
       "      <td>1.0</td>\n",
       "    </tr>\n",
       "    <tr>\n",
       "      <th>4</th>\n",
       "      <td>14595765</td>\n",
       "      <td>2003</td>\n",
       "      <td>17</td>\n",
       "      <td>71</td>\n",
       "      <td>True</td>\n",
       "      <td>JAPAN</td>\n",
       "      <td>True</td>\n",
       "      <td>False</td>\n",
       "      <td>False</td>\n",
       "      <td>False</td>\n",
       "      <td>...</td>\n",
       "      <td>5.5691</td>\n",
       "      <td>0</td>\n",
       "      <td>1998</td>\n",
       "      <td>2009</td>\n",
       "      <td>5</td>\n",
       "      <td>47.0</td>\n",
       "      <td>0.661972</td>\n",
       "      <td>67.0</td>\n",
       "      <td>0.943662</td>\n",
       "      <td>1.0</td>\n",
       "    </tr>\n",
       "  </tbody>\n",
       "</table>\n",
       "<p>5 rows × 61 columns</p>\n",
       "</div>"
      ],
      "text/plain": [
       "   source_id  source_year  source_n_mesh  source_n_mesh_ex source_is_eng  \\\n",
       "0   16526454         2005             11                53          True   \n",
       "1   16526454         2005             11                53          True   \n",
       "2   14595765         2003             17                71          True   \n",
       "3   14595765         2003             17                71          True   \n",
       "4   14595765         2003             17                71          True   \n",
       "\n",
       "  source_country source_is_journal source_is_review source_is_case_rep  \\\n",
       "0          JAPAN              True            False              False   \n",
       "1          JAPAN              True            False              False   \n",
       "2          JAPAN              True            False              False   \n",
       "3          JAPAN              True            False              False   \n",
       "4          JAPAN              True            False              False   \n",
       "\n",
       "  source_is_let_ed_com     ...       jj_sim  is_self_cite  first_year  \\\n",
       "0                False     ...      14.6053             0        1982   \n",
       "1                False     ...      14.6053             1        1982   \n",
       "2                False     ...       0.0000             0        1998   \n",
       "3                False     ...       5.5691             0        1998   \n",
       "4                False     ...       5.5691             0        1998   \n",
       "\n",
       "   last_year  au_age  match_len  match_prop  overall_coverage_len  \\\n",
       "0       2009      23       47.0    0.886792                  47.0   \n",
       "1       2009      23       47.0    0.886792                  47.0   \n",
       "2       2009       5       47.0    0.661972                  67.0   \n",
       "3       2009       5       47.0    0.661972                  67.0   \n",
       "4       2009       5       47.0    0.661972                  67.0   \n",
       "\n",
       "   overall_coverage_prop  eth_weight  \n",
       "0               0.886792         1.0  \n",
       "1               0.886792         1.0  \n",
       "2               0.943662         1.0  \n",
       "3               0.943662         1.0  \n",
       "4               0.943662         1.0  \n",
       "\n",
       "[5 rows x 61 columns]"
      ]
     },
     "execution_count": 5,
     "metadata": {},
     "output_type": "execute_result"
    }
   ],
   "source": [
    "df_fa.head()"
   ]
  },
  {
   "cell_type": "code",
   "execution_count": 6,
   "metadata": {
    "collapsed": false
   },
   "outputs": [
    {
     "data": {
      "text/plain": [
       "Index([u'source_id', u'source_year', u'source_n_mesh', u'source_n_mesh_ex',\n",
       "       u'source_is_eng', u'source_country', u'source_is_journal',\n",
       "       u'source_is_review', u'source_is_case_rep', u'source_is_let_ed_com',\n",
       "       u'source_T_novelty', u'source_V_novelty', u'source_PT_novelty',\n",
       "       u'source_PV_novelty', u'source_ncites', u'source_n_authors', u'sink_id',\n",
       "       u'sink_year', u'sink_n_mesh', u'sink_n_mesh_ex', u'sink_is_eng',\n",
       "       u'sink_is_journal', u'sink_is_review', u'sink_is_case_rep',\n",
       "       u'sink_is_let_ed_com', u'sink_T_novelty', u'sink_V_novelty',\n",
       "       u'sink_PT_novelty', u'sink_PV_novelty', u'sink_n_authors', u'year_span',\n",
       "       u'journal_same', u'mesh_sim', u'title_sim', u'lang_sim',\n",
       "       u'affiliation_sim', u'pubtype_sim', u'cite_sim', u'author_sim',\n",
       "       u'gender_sim', u'eth_sim', u'n_common_authors', u'gender', u'eth1',\n",
       "       u'eth2', u'pos', u'pos_nice', u'sink_last_ncites', u'sink_prev_ncites',\n",
       "       u'auth_last_npapers', u'auth_prev_papers', u'jj_sim', u'is_self_cite',\n",
       "       u'first_year', u'last_year', u'au_age', u'match_len', u'match_prop',\n",
       "       u'overall_coverage_len', u'overall_coverage_prop', u'eth_weight'],\n",
       "      dtype='object')"
      ]
     },
     "execution_count": 6,
     "metadata": {},
     "output_type": "execute_result"
    }
   ],
   "source": [
    "df_fa.columns"
   ]
  },
  {
   "cell_type": "code",
   "execution_count": 7,
   "metadata": {
    "collapsed": true
   },
   "outputs": [],
   "source": [
    "def plot_prc(prc, ax, color=\"k\", label=\"PRC\"):\n",
    "    precision, recall = prc\n",
    "    ax.plot(recall, precision, \n",
    "            marker=\"None\", linestyle=\"-\",\n",
    "            color=color, label=label)\n",
    "\n",
    "def get_all_eval_measures(predict, endog, include_prc=False):\n",
    "    measures = {}\n",
    "    pred_table = ems.cm(predict, endog)\n",
    "    measures[\"precision\"] = ems.precision(pred_table)\n",
    "    measures[\"recall\"] = ems.recall(pred_table)\n",
    "    measures[\"accuracy\"] = ems.accuracy(pred_table)\n",
    "    measures[\"f_score\"] = ems.fscore_measure(pred_table)\n",
    "    measures[\"rmse\"] = ems.rmse(predict, endog)\n",
    "    measures[\"mae\"] = ems.mae(predict, endog)\n",
    "    measures[\"auc\"] = ems.auc(predict, endog)\n",
    "    tn, fp, fn, tp = map(float, pred_table.flatten()) # WRT to 1 as positive label\n",
    "    measures[\"tn\"] = tn\n",
    "    measures[\"fn\"] = fn\n",
    "    measures[\"fp\"] = fp\n",
    "    measures[\"tp\"] = tp\n",
    "    measures[\"tpr\"] = tp * 1. / (tp + fn) \n",
    "    measures[\"fpr\"] = fp * 1. / (fp + tn) \n",
    "    print \"In eval measures function.\"\n",
    "    if include_prc:\n",
    "        ## Include the precision recall values\n",
    "        prc = ems.prc(predict, endog, float_precision=3)\n",
    "        measures[\"prc\"] = prc\n",
    "        roc = ems.roc(predict, endog, float_precision=3)\n",
    "        measures[\"roc\"] = roc\n",
    "    return measures\n",
    "\n",
    "\n",
    "def model_fit(df, formula, testing=False, include_prc=False):\n",
    "    if testing:\n",
    "        # If testing the just print X and y columns\n",
    "        print df.shape, formula, include_prc\n",
    "        return ({\"llf\": 0.1}, \"TEMP SUMMARY\")\n",
    "    ## Not testing. Fit the models and return the measures\n",
    "    print df.shape, formula, include_prc\n",
    "    y,X = patsy.dmatrices(formula, data=df, return_type=\"dataframe\")\n",
    "    print \"Created dataframes\"\n",
    "    print \"X.shape = %s, y.shape = %s\" % (X.shape, y.shape)\n",
    "    model = Logit(y,X)\n",
    "    res = model.fit()\n",
    "    predict = res.predict()\n",
    "    measures = get_all_eval_measures(predict, model.endog, include_prc=include_prc)\n",
    "    measures[\"llf\"] = res.llf\n",
    "    measures[\"aic\"] = res.aic\n",
    "    measures[\"bic\"] = res.bic\n",
    "    measures[\"prsquared\"] = res.prsquared\n",
    "    measures[\"df_model\"] = res.df_model\n",
    "    return (measures, res.summary2())\n",
    "\n",
    "\n",
    "def print_model(results_filtered, fp):\n",
    "    columns = [\"llf\", \"aic\", \"bic\", \"prsquared\", \"df_model\",\n",
    "               \"precision\", \"recall\", \"f_score\", \"auc\", \"mae\",\n",
    "               \"rmse\", \"tp\", \"fp\", \"tn\", \"fn\", \"tpr\", \"fpr\"]\n",
    "    measures = pd.DataFrame(columns=columns)\n",
    "    for j,(m,s) in results_filtered[0]:\n",
    "        print >> fp, \"%s\\t%s\\t%s\" % (\"*\"*50, j, \"*\"*50)\n",
    "        measures.ix[j,columns] = [m[k] for k in columns]\n",
    "        print >> fp, s\n",
    "    print >> fp, \"%s\\t%s\\t%s\" % (\"*\"*50, \"All Measures\", \"*\"*50)\n",
    "    print >> fp, measures.to_string()"
   ]
  },
  {
   "cell_type": "markdown",
   "metadata": {},
   "source": [
    "## Fit models version 1\n",
    "\n",
    "**Filters applied**\n",
    "* au_age = 10\n",
    "* source_ncites = [10,60]"
   ]
  },
  {
   "cell_type": "code",
   "execution_count": 8,
   "metadata": {
    "collapsed": true
   },
   "outputs": [],
   "source": [
    "def filtered_data(df, max_source_ncites=100, version=1):\n",
    "    # Base version 1\n",
    "    df_filtered = df[(df.au_age >= 8)\n",
    "                & (df.au_age <= 12)\n",
    "                & (df.source_ncites >= 10)\n",
    "                & (df.source_ncites <=max_source_ncites)]\n",
    "    print df_filtered.shape, df.shape\n",
    "    print \"Filter dataset is %.2f%% of the original data.\" % (df_filtered.shape[0] * 100./df.shape[0])\n",
    "    return df_filtered"
   ]
  },
  {
   "cell_type": "code",
   "execution_count": 9,
   "metadata": {
    "collapsed": true
   },
   "outputs": [],
   "source": [
    "base_formula = (\"is_self_cite ~ \"\n",
    "            #\"I(auth_prev_papers == 0)\"\n",
    "           \"+ I(auth_prev_papers == 1)\"\n",
    "           \"+ np.log10(auth_prev_papers + 1) + I(np.log10(auth_prev_papers + 1)**2)\"\n",
    "           \"+ C(gender, levels=GENDERS) + C(source_country, levels=TOP_15_COUNTRIES)\"\n",
    "           \"+ mf.MC(eth1, eth2, weights=eth_weight, levels=TOP_15_ETHNICITIES)\"\n",
    "           #\"+ I(source_ncites == 1)\"\n",
    "           \"+ np.log10(source_ncites)\"\n",
    "           \"+ I(np.log10(source_ncites)**2) + I(np.log10(source_ncites)**3)\"\n",
    "           \"+ I(source_n_authors > 20) + np.log10(np.clip(source_n_authors, 0, 20))\"\n",
    "           \"+ I(np.log10(np.clip(source_n_authors, 0, 20)) ** 2)\"\n",
    "           \"+ np.log10(source_n_mesh_ex + 1) + I(source_n_mesh_ex == 0)\" \n",
    "           \"+ np.log10(sink_n_mesh_ex + 1) + I(sink_n_mesh_ex == 0)\"\n",
    "           \"+ I(year_span < 0) + I(year_span == 0) + mf.score_log_1(year_span) + I(mf.score_log_1(year_span)**2)\"\n",
    "           \"+ I(sink_prev_ncites == 0) + np.log10(sink_prev_ncites + 1) + I(np.log10(sink_prev_ncites + 1)**2)\"\n",
    "           \"+ I(jj_sim == 0) + np.log10(jj_sim + 1) + I(np.log10(jj_sim + 1)**2) + journal_same\"\n",
    "           \"+ source_is_eng + source_is_journal + source_is_review + source_is_case_rep + source_is_let_ed_com\"\n",
    "           \"+ sink_is_eng + sink_is_journal + sink_is_review + sink_is_case_rep + sink_is_let_ed_com\"\n",
    "           \"+ np.log10(np.nan_to_num(source_V_novelty) + 1)\"\n",
    "           \"+ np.log10(np.nan_to_num(sink_V_novelty) + 1) + I(np.log10(np.nan_to_num(sink_V_novelty) + 1)**2)\"\n",
    "          )\n",
    "\n",
    "version = 1"
   ]
  },
  {
   "cell_type": "markdown",
   "metadata": {},
   "source": [
    "### First author"
   ]
  },
  {
   "cell_type": "code",
   "execution_count": 10,
   "metadata": {
    "collapsed": false
   },
   "outputs": [
    {
     "name": "stdout",
     "output_type": "stream",
     "text": [
      "(9677944, 61) (83238480, 61)\n",
      "Filter dataset is 11.63% of the original data.\n",
      "CPU times: user 6.85 s, sys: 3.82 s, total: 10.7 s\n",
      "Wall time: 10.7 s\n"
     ]
    }
   ],
   "source": [
    "%%time\n",
    "df_filtered = filtered_data(df_fa, max_source_ncites=60, version=version)"
   ]
  },
  {
   "cell_type": "code",
   "execution_count": 11,
   "metadata": {
    "collapsed": false,
    "scrolled": false
   },
   "outputs": [
    {
     "name": "stdout",
     "output_type": "stream",
     "text": [
      "Created figure with 1 rows and 1 columns\n",
      "(9677944, 61) is_self_cite ~ + I(auth_prev_papers == 1)+ np.log10(auth_prev_papers + 1) + I(np.log10(auth_prev_papers + 1)**2)+ C(gender, levels=GENDERS) + C(source_country, levels=TOP_15_COUNTRIES)+ mf.MC(eth1, eth2, weights=eth_weight, levels=TOP_15_ETHNICITIES)+ np.log10(source_ncites)+ I(np.log10(source_ncites)**2) + I(np.log10(source_ncites)**3)+ I(source_n_authors > 20) + np.log10(np.clip(source_n_authors, 0, 20))+ I(np.log10(np.clip(source_n_authors, 0, 20)) ** 2)+ np.log10(source_n_mesh_ex + 1) + I(source_n_mesh_ex == 0)+ np.log10(sink_n_mesh_ex + 1) + I(sink_n_mesh_ex == 0)+ I(year_span < 0) + I(year_span == 0) + mf.score_log_1(year_span) + I(mf.score_log_1(year_span)**2)+ I(sink_prev_ncites == 0) + np.log10(sink_prev_ncites + 1) + I(np.log10(sink_prev_ncites + 1)**2)+ I(jj_sim == 0) + np.log10(jj_sim + 1) + I(np.log10(jj_sim + 1)**2) + journal_same+ source_is_eng + source_is_journal + source_is_review + source_is_case_rep + source_is_let_ed_com+ sink_is_eng + sink_is_journal + sink_is_review + sink_is_case_rep + sink_is_let_ed_com+ np.log10(np.nan_to_num(source_V_novelty) + 1)+ np.log10(np.nan_to_num(sink_V_novelty) + 1) + I(np.log10(np.nan_to_num(sink_V_novelty) + 1)**2) True\n",
      "Using class based MultiVal\n",
      "using complimentary weights for 2 columns. w and 1-w\n",
      "Using class based MultiVal\n",
      "using complimentary weights for 2 columns. w and 1-w\n",
      "Created dataframes\n",
      "X.shape = (9677944, 68), y.shape = (9677944, 1)\n",
      "Optimization terminated successfully.\n",
      "         Current function value: 0.180661\n",
      "         Iterations 10\n",
      "In eval measures function.\n",
      "{'fp': 3810.0, 'auc': 0.82334340172051113, 'rmse': 0.22260550889936387, 'prsquared': 0.1827020138646327, 'recall': 0.0063714968374661155, 'precision': 0.48359989156953104, 'f_score': 0.012577286154410157, 'bic': 3497941.9345674128, 'tn': 9114140.0, 'df_model': 67.0, 'aic': 3496984.130084693, 'mae': 0.098702843970315701, 'tp': 3568.0, 'fpr': 0.00041785708410333464, 'tpr': 0.0063714968374661155, 'llf': -1748424.0650423465, 'fn': 556426.0, 'accuracy': 0.9421120849635005}\n"
     ]
    },
    {
     "data": {
      "text/html": [
       "<table class=\"simpletable\">\n",
       "<tr>\n",
       "        <td>Model:</td>              <td>Logit</td>      <td>Pseudo R-squared:</td>     <td>0.183</td>   \n",
       "</tr>\n",
       "<tr>\n",
       "  <td>Dependent Variable:</td>   <td>is_self_cite</td>         <td>AIC:</td>        <td>3496984.1301</td>\n",
       "</tr>\n",
       "<tr>\n",
       "         <td>Date:</td>        <td>2017-03-10 15:50</td>       <td>BIC:</td>        <td>3497941.9346</td>\n",
       "</tr>\n",
       "<tr>\n",
       "   <td>No. Observations:</td>       <td>9677944</td>      <td>Log-Likelihood:</td>   <td>-1.7484e+06</td>\n",
       "</tr>\n",
       "<tr>\n",
       "       <td>Df Model:</td>             <td>67</td>            <td>LL-Null:</td>       <td>-2.1393e+06</td>\n",
       "</tr>\n",
       "<tr>\n",
       "     <td>Df Residuals:</td>         <td>9677876</td>       <td>LLR p-value:</td>       <td>0.0000</td>   \n",
       "</tr>\n",
       "<tr>\n",
       "      <td>Converged:</td>           <td>1.0000</td>           <td>Scale:</td>          <td>1.0000</td>   \n",
       "</tr>\n",
       "<tr>\n",
       "    <td>No. Iterations:</td>        <td>10.0000</td>             <td></td>                <td></td>      \n",
       "</tr>\n",
       "</table>\n",
       "<table class=\"simpletable\">\n",
       "<tr>\n",
       "                                    <td></td>                                     <th>Coef.</th>  <th>Std.Err.</th>     <th>z</th>      <th>P>|z|</th>  <th>[0.025</th>   <th>0.975]</th> \n",
       "</tr>\n",
       "<tr>\n",
       "  <th>Intercept</th>                                                             <td>1.1848</td>   <td>0.4662</td>   <td>2.5411</td>   <td>0.0111</td>  <td>0.2710</td>   <td>2.0986</td> \n",
       "</tr>\n",
       "<tr>\n",
       "  <th>I(auth_prev_papers == 1)[T.True]</th>                                      <td>-0.7097</td>  <td>0.0406</td>  <td>-17.4646</td>  <td>0.0000</td>  <td>-0.7894</td>  <td>-0.6301</td>\n",
       "</tr>\n",
       "<tr>\n",
       "  <th>C(gender, levels=GENDERS)[T.F]</th>                                        <td>-0.0353</td>  <td>0.0062</td>   <td>-5.7392</td>  <td>0.0000</td>  <td>-0.0474</td>  <td>-0.0233</td>\n",
       "</tr>\n",
       "<tr>\n",
       "  <th>C(gender, levels=GENDERS)[T.M]</th>                                        <td>-0.0496</td>  <td>0.0057</td>   <td>-8.6929</td>  <td>0.0000</td>  <td>-0.0608</td>  <td>-0.0384</td>\n",
       "</tr>\n",
       "<tr>\n",
       "  <th>C(source_country, levels=TOP_15_COUNTRIES)[T.UNKNOWN]</th>                 <td>0.0344</td>   <td>0.0130</td>   <td>2.6454</td>   <td>0.0082</td>  <td>0.0089</td>   <td>0.0598</td> \n",
       "</tr>\n",
       "<tr>\n",
       "  <th>C(source_country, levels=TOP_15_COUNTRIES)[T.UK]</th>                      <td>0.0694</td>   <td>0.0061</td>   <td>11.2877</td>  <td>0.0000</td>  <td>0.0573</td>   <td>0.0814</td> \n",
       "</tr>\n",
       "<tr>\n",
       "  <th>C(source_country, levels=TOP_15_COUNTRIES)[T.JAPAN]</th>                   <td>0.3979</td>   <td>0.0108</td>   <td>36.6874</td>  <td>0.0000</td>  <td>0.3767</td>   <td>0.4192</td> \n",
       "</tr>\n",
       "<tr>\n",
       "  <th>C(source_country, levels=TOP_15_COUNTRIES)[T.GERMANY]</th>                 <td>0.0944</td>   <td>0.0075</td>   <td>12.6318</td>  <td>0.0000</td>  <td>0.0798</td>   <td>0.1091</td> \n",
       "</tr>\n",
       "<tr>\n",
       "  <th>C(source_country, levels=TOP_15_COUNTRIES)[T.FRANCE]</th>                  <td>-0.0405</td>  <td>0.0099</td>   <td>-4.1080</td>  <td>0.0000</td>  <td>-0.0598</td>  <td>-0.0212</td>\n",
       "</tr>\n",
       "<tr>\n",
       "  <th>C(source_country, levels=TOP_15_COUNTRIES)[T.ITALY]</th>                   <td>0.0269</td>   <td>0.0120</td>   <td>2.2424</td>   <td>0.0249</td>  <td>0.0034</td>   <td>0.0503</td> \n",
       "</tr>\n",
       "<tr>\n",
       "  <th>C(source_country, levels=TOP_15_COUNTRIES)[T.CANADA]</th>                  <td>-0.0093</td>  <td>0.0084</td>   <td>-1.0962</td>  <td>0.2730</td>  <td>-0.0258</td>  <td>0.0073</td> \n",
       "</tr>\n",
       "<tr>\n",
       "  <th>C(source_country, levels=TOP_15_COUNTRIES)[T.CHINA]</th>                   <td>-0.4627</td>  <td>0.0224</td>  <td>-20.6218</td>  <td>0.0000</td>  <td>-0.5067</td>  <td>-0.4187</td>\n",
       "</tr>\n",
       "<tr>\n",
       "  <th>C(source_country, levels=TOP_15_COUNTRIES)[T.AUSTRALIA]</th>               <td>0.1637</td>   <td>0.0098</td>   <td>16.7373</td>  <td>0.0000</td>  <td>0.1445</td>   <td>0.1829</td> \n",
       "</tr>\n",
       "<tr>\n",
       "  <th>C(source_country, levels=TOP_15_COUNTRIES)[T.SPAIN]</th>                   <td>-0.0809</td>  <td>0.0116</td>   <td>-6.9534</td>  <td>0.0000</td>  <td>-0.1037</td>  <td>-0.0581</td>\n",
       "</tr>\n",
       "<tr>\n",
       "  <th>C(source_country, levels=TOP_15_COUNTRIES)[T.NETHERLANDS]</th>             <td>0.1342</td>   <td>0.0135</td>   <td>9.9436</td>   <td>0.0000</td>  <td>0.1077</td>   <td>0.1607</td> \n",
       "</tr>\n",
       "<tr>\n",
       "  <th>C(source_country, levels=TOP_15_COUNTRIES)[T.SWEDEN]</th>                  <td>0.1634</td>   <td>0.0126</td>   <td>12.9740</td>  <td>0.0000</td>  <td>0.1387</td>   <td>0.1881</td> \n",
       "</tr>\n",
       "<tr>\n",
       "  <th>C(source_country, levels=TOP_15_COUNTRIES)[T.INDIA]</th>                   <td>-0.0038</td>  <td>0.0237</td>   <td>-0.1585</td>  <td>0.8740</td>  <td>-0.0502</td>  <td>0.0427</td> \n",
       "</tr>\n",
       "<tr>\n",
       "  <th>C(source_country, levels=TOP_15_COUNTRIES)[T.OTHER]</th>                   <td>-0.0194</td>  <td>0.0049</td>   <td>-3.9673</td>  <td>0.0001</td>  <td>-0.0290</td>  <td>-0.0098</td>\n",
       "</tr>\n",
       "<tr>\n",
       "  <th>I(source_n_authors > 20)[T.True]</th>                                      <td>0.0984</td>   <td>0.0266</td>   <td>3.6943</td>   <td>0.0002</td>  <td>0.0462</td>   <td>0.1506</td> \n",
       "</tr>\n",
       "<tr>\n",
       "  <th>I(source_n_mesh_ex == 0)[T.True]</th>                                      <td>-0.9388</td>  <td>0.0265</td>  <td>-35.4220</td>  <td>0.0000</td>  <td>-0.9907</td>  <td>-0.8868</td>\n",
       "</tr>\n",
       "<tr>\n",
       "  <th>I(sink_n_mesh_ex == 0)[T.True]</th>                                        <td>0.1215</td>   <td>0.0308</td>   <td>3.9487</td>   <td>0.0001</td>  <td>0.0612</td>   <td>0.1818</td> \n",
       "</tr>\n",
       "<tr>\n",
       "  <th>I(year_span < 0)[T.True]</th>                                              <td>0.8309</td>   <td>0.0348</td>   <td>23.8686</td>  <td>0.0000</td>  <td>0.7626</td>   <td>0.8991</td> \n",
       "</tr>\n",
       "<tr>\n",
       "  <th>I(year_span == 0)[T.True]</th>                                             <td>1.6416</td>   <td>0.0126</td>  <td>130.7690</td>  <td>0.0000</td>  <td>1.6170</td>   <td>1.6662</td> \n",
       "</tr>\n",
       "<tr>\n",
       "  <th>I(sink_prev_ncites == 0)[T.True]</th>                                      <td>0.2141</td>   <td>0.0076</td>   <td>27.9937</td>  <td>0.0000</td>  <td>0.1991</td>   <td>0.2290</td> \n",
       "</tr>\n",
       "<tr>\n",
       "  <th>I(jj_sim == 0)[T.True]</th>                                                <td>-0.2464</td>  <td>0.0155</td>  <td>-15.9423</td>  <td>0.0000</td>  <td>-0.2767</td>  <td>-0.2161</td>\n",
       "</tr>\n",
       "<tr>\n",
       "  <th>journal_same[T.True]</th>                                                  <td>0.4497</td>   <td>0.0054</td>   <td>83.5266</td>  <td>0.0000</td>  <td>0.4392</td>   <td>0.4603</td> \n",
       "</tr>\n",
       "<tr>\n",
       "  <th>source_is_eng[T.True]</th>                                                 <td>0.5514</td>   <td>0.0144</td>   <td>38.3475</td>  <td>0.0000</td>  <td>0.5232</td>   <td>0.5796</td> \n",
       "</tr>\n",
       "<tr>\n",
       "  <th>source_is_journal[T.True]</th>                                             <td>0.2658</td>   <td>0.0246</td>   <td>10.8182</td>  <td>0.0000</td>  <td>0.2176</td>   <td>0.3139</td> \n",
       "</tr>\n",
       "<tr>\n",
       "  <th>source_is_review[T.True]</th>                                              <td>-0.1787</td>  <td>0.0056</td>  <td>-31.8511</td>  <td>0.0000</td>  <td>-0.1897</td>  <td>-0.1677</td>\n",
       "</tr>\n",
       "<tr>\n",
       "  <th>source_is_case_rep[T.True]</th>                                            <td>-0.8118</td>  <td>0.0120</td>  <td>-67.6642</td>  <td>0.0000</td>  <td>-0.8353</td>  <td>-0.7883</td>\n",
       "</tr>\n",
       "<tr>\n",
       "  <th>source_is_let_ed_com[T.True]</th>                                          <td>-0.3118</td>  <td>0.0234</td>  <td>-13.3305</td>  <td>0.0000</td>  <td>-0.3577</td>  <td>-0.2660</td>\n",
       "</tr>\n",
       "<tr>\n",
       "  <th>sink_is_eng[T.True]</th>                                                   <td>-0.2534</td>  <td>0.0179</td>  <td>-14.1389</td>  <td>0.0000</td>  <td>-0.2885</td>  <td>-0.2182</td>\n",
       "</tr>\n",
       "<tr>\n",
       "  <th>sink_is_journal[T.True]</th>                                               <td>0.3186</td>   <td>0.0224</td>   <td>14.2437</td>  <td>0.0000</td>  <td>0.2747</td>   <td>0.3624</td> \n",
       "</tr>\n",
       "<tr>\n",
       "  <th>sink_is_review[T.True]</th>                                                <td>-0.8814</td>  <td>0.0059</td>  <td>-150.1135</td> <td>0.0000</td>  <td>-0.8929</td>  <td>-0.8699</td>\n",
       "</tr>\n",
       "<tr>\n",
       "  <th>sink_is_case_rep[T.True]</th>                                              <td>-0.5740</td>  <td>0.0110</td>  <td>-52.0673</td>  <td>0.0000</td>  <td>-0.5956</td>  <td>-0.5523</td>\n",
       "</tr>\n",
       "<tr>\n",
       "  <th>sink_is_let_ed_com[T.True]</th>                                            <td>-0.2552</td>  <td>0.0221</td>  <td>-11.5285</td>  <td>0.0000</td>  <td>-0.2986</td>  <td>-0.2118</td>\n",
       "</tr>\n",
       "<tr>\n",
       "  <th>np.log10(auth_prev_papers + 1)</th>                                        <td>3.2781</td>   <td>0.0288</td>  <td>113.6918</td>  <td>0.0000</td>  <td>3.2216</td>   <td>3.3347</td> \n",
       "</tr>\n",
       "<tr>\n",
       "  <th>I(np.log10(auth_prev_papers + 1) ** 2)</th>                                <td>-0.7045</td>  <td>0.0110</td>  <td>-64.2865</td>  <td>0.0000</td>  <td>-0.7260</td>  <td>-0.6830</td>\n",
       "</tr>\n",
       "<tr>\n",
       "  <th>mf.MC(eth1, eth2, weights=eth_weight, levels=TOP_15_ETHNICITIES)[0]</th>   <td>-0.0461</td>  <td>0.0070</td>   <td>-6.5951</td>  <td>0.0000</td>  <td>-0.0598</td>  <td>-0.0324</td>\n",
       "</tr>\n",
       "<tr>\n",
       "  <th>mf.MC(eth1, eth2, weights=eth_weight, levels=TOP_15_ETHNICITIES)[1]</th>   <td>0.0650</td>   <td>0.0078</td>   <td>8.2891</td>   <td>0.0000</td>  <td>0.0497</td>   <td>0.0804</td> \n",
       "</tr>\n",
       "<tr>\n",
       "  <th>mf.MC(eth1, eth2, weights=eth_weight, levels=TOP_15_ETHNICITIES)[2]</th>   <td>0.0724</td>   <td>0.0073</td>   <td>9.8552</td>   <td>0.0000</td>  <td>0.0580</td>   <td>0.0868</td> \n",
       "</tr>\n",
       "<tr>\n",
       "  <th>mf.MC(eth1, eth2, weights=eth_weight, levels=TOP_15_ETHNICITIES)[3]</th>   <td>-0.1367</td>  <td>0.0106</td>  <td>-12.8425</td>  <td>0.0000</td>  <td>-0.1575</td>  <td>-0.1158</td>\n",
       "</tr>\n",
       "<tr>\n",
       "  <th>mf.MC(eth1, eth2, weights=eth_weight, levels=TOP_15_ETHNICITIES)[4]</th>   <td>0.1023</td>   <td>0.0085</td>   <td>12.0295</td>  <td>0.0000</td>  <td>0.0857</td>   <td>0.1190</td> \n",
       "</tr>\n",
       "<tr>\n",
       "  <th>mf.MC(eth1, eth2, weights=eth_weight, levels=TOP_15_ETHNICITIES)[5]</th>   <td>-0.0790</td>  <td>0.0084</td>   <td>-9.4019</td>  <td>0.0000</td>  <td>-0.0955</td>  <td>-0.0626</td>\n",
       "</tr>\n",
       "<tr>\n",
       "  <th>mf.MC(eth1, eth2, weights=eth_weight, levels=TOP_15_ETHNICITIES)[6]</th>   <td>-0.0330</td>  <td>0.0110</td>   <td>-3.0106</td>  <td>0.0026</td>  <td>-0.0545</td>  <td>-0.0115</td>\n",
       "</tr>\n",
       "<tr>\n",
       "  <th>mf.MC(eth1, eth2, weights=eth_weight, levels=TOP_15_ETHNICITIES)[7]</th>   <td>-0.0493</td>  <td>0.0097</td>   <td>-5.0613</td>  <td>0.0000</td>  <td>-0.0684</td>  <td>-0.0302</td>\n",
       "</tr>\n",
       "<tr>\n",
       "  <th>mf.MC(eth1, eth2, weights=eth_weight, levels=TOP_15_ETHNICITIES)[8]</th>   <td>0.2140</td>   <td>0.0090</td>   <td>23.7418</td>  <td>0.0000</td>  <td>0.1964</td>   <td>0.2317</td> \n",
       "</tr>\n",
       "<tr>\n",
       "  <th>mf.MC(eth1, eth2, weights=eth_weight, levels=TOP_15_ETHNICITIES)[9]</th>   <td>0.0015</td>   <td>0.0103</td>   <td>0.1478</td>   <td>0.8825</td>  <td>-0.0186</td>  <td>0.0217</td> \n",
       "</tr>\n",
       "<tr>\n",
       "  <th>mf.MC(eth1, eth2, weights=eth_weight, levels=TOP_15_ETHNICITIES)[10]</th>  <td>0.0316</td>   <td>0.0123</td>   <td>2.5668</td>   <td>0.0103</td>  <td>0.0075</td>   <td>0.0557</td> \n",
       "</tr>\n",
       "<tr>\n",
       "  <th>mf.MC(eth1, eth2, weights=eth_weight, levels=TOP_15_ETHNICITIES)[11]</th>  <td>-0.2281</td>  <td>0.0128</td>  <td>-17.8070</td>  <td>0.0000</td>  <td>-0.2532</td>  <td>-0.2030</td>\n",
       "</tr>\n",
       "<tr>\n",
       "  <th>mf.MC(eth1, eth2, weights=eth_weight, levels=TOP_15_ETHNICITIES)[12]</th>  <td>0.0749</td>   <td>0.0377</td>   <td>1.9834</td>   <td>0.0473</td>  <td>0.0009</td>   <td>0.1488</td> \n",
       "</tr>\n",
       "<tr>\n",
       "  <th>mf.MC(eth1, eth2, weights=eth_weight, levels=TOP_15_ETHNICITIES)[13]</th>  <td>-0.1933</td>  <td>0.0080</td>  <td>-24.3067</td>  <td>0.0000</td>  <td>-0.2089</td>  <td>-0.1777</td>\n",
       "</tr>\n",
       "<tr>\n",
       "  <th>np.log10(source_ncites)</th>                                              <td>-14.1629</td>  <td>1.0128</td>  <td>-13.9835</td>  <td>0.0000</td> <td>-16.1480</td> <td>-12.1778</td>\n",
       "</tr>\n",
       "<tr>\n",
       "  <th>I(np.log10(source_ncites) ** 2)</th>                                       <td>10.3756</td>  <td>0.7289</td>   <td>14.2339</td>  <td>0.0000</td>  <td>8.9469</td>   <td>11.8043</td>\n",
       "</tr>\n",
       "<tr>\n",
       "  <th>I(np.log10(source_ncites) ** 3)</th>                                       <td>-2.5894</td>  <td>0.1728</td>  <td>-14.9828</td>  <td>0.0000</td>  <td>-2.9281</td>  <td>-2.2507</td>\n",
       "</tr>\n",
       "<tr>\n",
       "  <th>np.log10(np.clip(source_n_authors, 0, 20))</th>                            <td>-0.4725</td>  <td>0.0347</td>  <td>-13.6371</td>  <td>0.0000</td>  <td>-0.5405</td>  <td>-0.4046</td>\n",
       "</tr>\n",
       "<tr>\n",
       "  <th>I(np.log10(np.clip(source_n_authors, 0, 20)) ** 2)</th>                    <td>0.0698</td>   <td>0.0247</td>   <td>2.8212</td>   <td>0.0048</td>  <td>0.0213</td>   <td>0.1182</td> \n",
       "</tr>\n",
       "<tr>\n",
       "  <th>np.log10(source_n_mesh_ex + 1)</th>                                        <td>-0.2537</td>  <td>0.0108</td>  <td>-23.5056</td>  <td>0.0000</td>  <td>-0.2749</td>  <td>-0.2326</td>\n",
       "</tr>\n",
       "<tr>\n",
       "  <th>np.log10(sink_n_mesh_ex + 1)</th>                                          <td>-0.0262</td>  <td>0.0107</td>   <td>-2.4473</td>  <td>0.0144</td>  <td>-0.0472</td>  <td>-0.0052</td>\n",
       "</tr>\n",
       "<tr>\n",
       "  <th>mf.score_log_1(year_span)</th>                                             <td>5.1609</td>   <td>0.0364</td>  <td>141.5994</td>  <td>0.0000</td>  <td>5.0894</td>   <td>5.2323</td> \n",
       "</tr>\n",
       "<tr>\n",
       "  <th>I(mf.score_log_1(year_span) ** 2)</th>                                     <td>-4.9401</td>  <td>0.0258</td>  <td>-191.2948</td> <td>0.0000</td>  <td>-4.9907</td>  <td>-4.8895</td>\n",
       "</tr>\n",
       "<tr>\n",
       "  <th>np.log10(sink_prev_ncites + 1)</th>                                        <td>-0.1915</td>  <td>0.0131</td>  <td>-14.5804</td>  <td>0.0000</td>  <td>-0.2172</td>  <td>-0.1658</td>\n",
       "</tr>\n",
       "<tr>\n",
       "  <th>I(np.log10(sink_prev_ncites + 1) ** 2)</th>                                <td>-0.3225</td>  <td>0.0054</td>  <td>-59.7720</td>  <td>0.0000</td>  <td>-0.3331</td>  <td>-0.3120</td>\n",
       "</tr>\n",
       "<tr>\n",
       "  <th>np.log10(jj_sim + 1)</th>                                                  <td>0.0685</td>   <td>0.0191</td>   <td>3.5869</td>   <td>0.0003</td>  <td>0.0311</td>   <td>0.1059</td> \n",
       "</tr>\n",
       "<tr>\n",
       "  <th>I(np.log10(jj_sim + 1) ** 2)</th>                                          <td>0.0006</td>   <td>0.0057</td>   <td>0.1026</td>   <td>0.9183</td>  <td>-0.0105</td>  <td>0.0117</td> \n",
       "</tr>\n",
       "<tr>\n",
       "  <th>np.log10(np.nan_to_num(source_V_novelty) + 1)</th>                         <td>-0.1099</td>  <td>0.0025</td>  <td>-43.3158</td>  <td>0.0000</td>  <td>-0.1149</td>  <td>-0.1050</td>\n",
       "</tr>\n",
       "<tr>\n",
       "  <th>np.log10(np.nan_to_num(sink_V_novelty) + 1)</th>                           <td>0.0973</td>   <td>0.0146</td>   <td>6.6665</td>   <td>0.0000</td>  <td>0.0687</td>   <td>0.1259</td> \n",
       "</tr>\n",
       "<tr>\n",
       "  <th>I(np.log10(np.nan_to_num(sink_V_novelty) + 1) ** 2)</th>                   <td>-0.0271</td>  <td>0.0025</td>  <td>-10.8833</td>  <td>0.0000</td>  <td>-0.0319</td>  <td>-0.0222</td>\n",
       "</tr>\n",
       "</table>"
      ],
      "text/plain": [
       "<class 'statsmodels.iolib.summary2.Summary'>\n",
       "\"\"\"\n",
       "                                                     Results: Logit\n",
       "=========================================================================================================================\n",
       "Model:                                Logit                              Pseudo R-squared:                   0.183       \n",
       "Dependent Variable:                   is_self_cite                       AIC:                                3496984.1301\n",
       "Date:                                 2017-03-10 15:50                   BIC:                                3497941.9346\n",
       "No. Observations:                     9677944                            Log-Likelihood:                     -1.7484e+06 \n",
       "Df Model:                             67                                 LL-Null:                            -2.1393e+06 \n",
       "Df Residuals:                         9677876                            LLR p-value:                        0.0000      \n",
       "Converged:                            1.0000                             Scale:                              1.0000      \n",
       "No. Iterations:                       10.0000                                                                            \n",
       "-------------------------------------------------------------------------------------------------------------------------\n",
       "                                                                      Coef.   Std.Err.     z     P>|z|   [0.025   0.975] \n",
       "-------------------------------------------------------------------------------------------------------------------------\n",
       "Intercept                                                              1.1848   0.4662    2.5411 0.0111   0.2710   2.0986\n",
       "I(auth_prev_papers == 1)[T.True]                                      -0.7097   0.0406  -17.4646 0.0000  -0.7894  -0.6301\n",
       "C(gender, levels=GENDERS)[T.F]                                        -0.0353   0.0062   -5.7392 0.0000  -0.0474  -0.0233\n",
       "C(gender, levels=GENDERS)[T.M]                                        -0.0496   0.0057   -8.6929 0.0000  -0.0608  -0.0384\n",
       "C(source_country, levels=TOP_15_COUNTRIES)[T.UNKNOWN]                  0.0344   0.0130    2.6454 0.0082   0.0089   0.0598\n",
       "C(source_country, levels=TOP_15_COUNTRIES)[T.UK]                       0.0694   0.0061   11.2877 0.0000   0.0573   0.0814\n",
       "C(source_country, levels=TOP_15_COUNTRIES)[T.JAPAN]                    0.3979   0.0108   36.6874 0.0000   0.3767   0.4192\n",
       "C(source_country, levels=TOP_15_COUNTRIES)[T.GERMANY]                  0.0944   0.0075   12.6318 0.0000   0.0798   0.1091\n",
       "C(source_country, levels=TOP_15_COUNTRIES)[T.FRANCE]                  -0.0405   0.0099   -4.1080 0.0000  -0.0598  -0.0212\n",
       "C(source_country, levels=TOP_15_COUNTRIES)[T.ITALY]                    0.0269   0.0120    2.2424 0.0249   0.0034   0.0503\n",
       "C(source_country, levels=TOP_15_COUNTRIES)[T.CANADA]                  -0.0093   0.0084   -1.0962 0.2730  -0.0258   0.0073\n",
       "C(source_country, levels=TOP_15_COUNTRIES)[T.CHINA]                   -0.4627   0.0224  -20.6218 0.0000  -0.5067  -0.4187\n",
       "C(source_country, levels=TOP_15_COUNTRIES)[T.AUSTRALIA]                0.1637   0.0098   16.7373 0.0000   0.1445   0.1829\n",
       "C(source_country, levels=TOP_15_COUNTRIES)[T.SPAIN]                   -0.0809   0.0116   -6.9534 0.0000  -0.1037  -0.0581\n",
       "C(source_country, levels=TOP_15_COUNTRIES)[T.NETHERLANDS]              0.1342   0.0135    9.9436 0.0000   0.1077   0.1607\n",
       "C(source_country, levels=TOP_15_COUNTRIES)[T.SWEDEN]                   0.1634   0.0126   12.9740 0.0000   0.1387   0.1881\n",
       "C(source_country, levels=TOP_15_COUNTRIES)[T.INDIA]                   -0.0038   0.0237   -0.1585 0.8740  -0.0502   0.0427\n",
       "C(source_country, levels=TOP_15_COUNTRIES)[T.OTHER]                   -0.0194   0.0049   -3.9673 0.0001  -0.0290  -0.0098\n",
       "I(source_n_authors > 20)[T.True]                                       0.0984   0.0266    3.6943 0.0002   0.0462   0.1506\n",
       "I(source_n_mesh_ex == 0)[T.True]                                      -0.9388   0.0265  -35.4220 0.0000  -0.9907  -0.8868\n",
       "I(sink_n_mesh_ex == 0)[T.True]                                         0.1215   0.0308    3.9487 0.0001   0.0612   0.1818\n",
       "I(year_span < 0)[T.True]                                               0.8309   0.0348   23.8686 0.0000   0.7626   0.8991\n",
       "I(year_span == 0)[T.True]                                              1.6416   0.0126  130.7690 0.0000   1.6170   1.6662\n",
       "I(sink_prev_ncites == 0)[T.True]                                       0.2141   0.0076   27.9937 0.0000   0.1991   0.2290\n",
       "I(jj_sim == 0)[T.True]                                                -0.2464   0.0155  -15.9423 0.0000  -0.2767  -0.2161\n",
       "journal_same[T.True]                                                   0.4497   0.0054   83.5266 0.0000   0.4392   0.4603\n",
       "source_is_eng[T.True]                                                  0.5514   0.0144   38.3475 0.0000   0.5232   0.5796\n",
       "source_is_journal[T.True]                                              0.2658   0.0246   10.8182 0.0000   0.2176   0.3139\n",
       "source_is_review[T.True]                                              -0.1787   0.0056  -31.8511 0.0000  -0.1897  -0.1677\n",
       "source_is_case_rep[T.True]                                            -0.8118   0.0120  -67.6642 0.0000  -0.8353  -0.7883\n",
       "source_is_let_ed_com[T.True]                                          -0.3118   0.0234  -13.3305 0.0000  -0.3577  -0.2660\n",
       "sink_is_eng[T.True]                                                   -0.2534   0.0179  -14.1389 0.0000  -0.2885  -0.2182\n",
       "sink_is_journal[T.True]                                                0.3186   0.0224   14.2437 0.0000   0.2747   0.3624\n",
       "sink_is_review[T.True]                                                -0.8814   0.0059 -150.1135 0.0000  -0.8929  -0.8699\n",
       "sink_is_case_rep[T.True]                                              -0.5740   0.0110  -52.0673 0.0000  -0.5956  -0.5523\n",
       "sink_is_let_ed_com[T.True]                                            -0.2552   0.0221  -11.5285 0.0000  -0.2986  -0.2118\n",
       "np.log10(auth_prev_papers + 1)                                         3.2781   0.0288  113.6918 0.0000   3.2216   3.3347\n",
       "I(np.log10(auth_prev_papers + 1) ** 2)                                -0.7045   0.0110  -64.2865 0.0000  -0.7260  -0.6830\n",
       "mf.MC(eth1, eth2, weights=eth_weight, levels=TOP_15_ETHNICITIES)[0]   -0.0461   0.0070   -6.5951 0.0000  -0.0598  -0.0324\n",
       "mf.MC(eth1, eth2, weights=eth_weight, levels=TOP_15_ETHNICITIES)[1]    0.0650   0.0078    8.2891 0.0000   0.0497   0.0804\n",
       "mf.MC(eth1, eth2, weights=eth_weight, levels=TOP_15_ETHNICITIES)[2]    0.0724   0.0073    9.8552 0.0000   0.0580   0.0868\n",
       "mf.MC(eth1, eth2, weights=eth_weight, levels=TOP_15_ETHNICITIES)[3]   -0.1367   0.0106  -12.8425 0.0000  -0.1575  -0.1158\n",
       "mf.MC(eth1, eth2, weights=eth_weight, levels=TOP_15_ETHNICITIES)[4]    0.1023   0.0085   12.0295 0.0000   0.0857   0.1190\n",
       "mf.MC(eth1, eth2, weights=eth_weight, levels=TOP_15_ETHNICITIES)[5]   -0.0790   0.0084   -9.4019 0.0000  -0.0955  -0.0626\n",
       "mf.MC(eth1, eth2, weights=eth_weight, levels=TOP_15_ETHNICITIES)[6]   -0.0330   0.0110   -3.0106 0.0026  -0.0545  -0.0115\n",
       "mf.MC(eth1, eth2, weights=eth_weight, levels=TOP_15_ETHNICITIES)[7]   -0.0493   0.0097   -5.0613 0.0000  -0.0684  -0.0302\n",
       "mf.MC(eth1, eth2, weights=eth_weight, levels=TOP_15_ETHNICITIES)[8]    0.2140   0.0090   23.7418 0.0000   0.1964   0.2317\n",
       "mf.MC(eth1, eth2, weights=eth_weight, levels=TOP_15_ETHNICITIES)[9]    0.0015   0.0103    0.1478 0.8825  -0.0186   0.0217\n",
       "mf.MC(eth1, eth2, weights=eth_weight, levels=TOP_15_ETHNICITIES)[10]   0.0316   0.0123    2.5668 0.0103   0.0075   0.0557\n",
       "mf.MC(eth1, eth2, weights=eth_weight, levels=TOP_15_ETHNICITIES)[11]  -0.2281   0.0128  -17.8070 0.0000  -0.2532  -0.2030\n",
       "mf.MC(eth1, eth2, weights=eth_weight, levels=TOP_15_ETHNICITIES)[12]   0.0749   0.0377    1.9834 0.0473   0.0009   0.1488\n",
       "mf.MC(eth1, eth2, weights=eth_weight, levels=TOP_15_ETHNICITIES)[13]  -0.1933   0.0080  -24.3067 0.0000  -0.2089  -0.1777\n",
       "np.log10(source_ncites)                                              -14.1629   1.0128  -13.9835 0.0000 -16.1480 -12.1778\n",
       "I(np.log10(source_ncites) ** 2)                                       10.3756   0.7289   14.2339 0.0000   8.9469  11.8043\n",
       "I(np.log10(source_ncites) ** 3)                                       -2.5894   0.1728  -14.9828 0.0000  -2.9281  -2.2507\n",
       "np.log10(np.clip(source_n_authors, 0, 20))                            -0.4725   0.0347  -13.6371 0.0000  -0.5405  -0.4046\n",
       "I(np.log10(np.clip(source_n_authors, 0, 20)) ** 2)                     0.0698   0.0247    2.8212 0.0048   0.0213   0.1182\n",
       "np.log10(source_n_mesh_ex + 1)                                        -0.2537   0.0108  -23.5056 0.0000  -0.2749  -0.2326\n",
       "np.log10(sink_n_mesh_ex + 1)                                          -0.0262   0.0107   -2.4473 0.0144  -0.0472  -0.0052\n",
       "mf.score_log_1(year_span)                                              5.1609   0.0364  141.5994 0.0000   5.0894   5.2323\n",
       "I(mf.score_log_1(year_span) ** 2)                                     -4.9401   0.0258 -191.2948 0.0000  -4.9907  -4.8895\n",
       "np.log10(sink_prev_ncites + 1)                                        -0.1915   0.0131  -14.5804 0.0000  -0.2172  -0.1658\n",
       "I(np.log10(sink_prev_ncites + 1) ** 2)                                -0.3225   0.0054  -59.7720 0.0000  -0.3331  -0.3120\n",
       "np.log10(jj_sim + 1)                                                   0.0685   0.0191    3.5869 0.0003   0.0311   0.1059\n",
       "I(np.log10(jj_sim + 1) ** 2)                                           0.0006   0.0057    0.1026 0.9183  -0.0105   0.0117\n",
       "np.log10(np.nan_to_num(source_V_novelty) + 1)                         -0.1099   0.0025  -43.3158 0.0000  -0.1149  -0.1050\n",
       "np.log10(np.nan_to_num(sink_V_novelty) + 1)                            0.0973   0.0146    6.6665 0.0000   0.0687   0.1259\n",
       "I(np.log10(np.nan_to_num(sink_V_novelty) + 1) ** 2)                   -0.0271   0.0025  -10.8833 0.0000  -0.0319  -0.0222\n",
       "=========================================================================================================================\n",
       "\n",
       "\"\"\""
      ]
     },
     "metadata": {},
     "output_type": "display_data"
    },
    {
     "name": "stdout",
     "output_type": "stream",
     "text": [
      "None\n"
     ]
    },
    {
     "data": {
      "image/png": "[encoded data removed]",
      "text/plain": [
       "<matplotlib.figure.Figure at 0x7fa236ee2990>"
      ]
     },
     "metadata": {},
     "output_type": "display_data"
    },
    {
     "data": {
      "image/png": "[encoded data removed]",
      "text/plain": [
       "<matplotlib.figure.Figure at 0x7fa236ee2750>"
      ]
     },
     "metadata": {},
     "output_type": "display_data"
    }
   ],
   "source": [
    "MODEL_SUFFIX = \"%s.first_author\" % MODEL_VERSION\n",
    "\n",
    "results_full = fit_model(df_filtered, base_formula, include_prc=True,\n",
    "                            MODEL_VERSION=MODEL_VERSION, MODEL_SUFFIX=MODEL_SUFFIX, version=version)"
   ]
  },
  {
   "cell_type": "code",
   "execution_count": 12,
   "metadata": {
    "collapsed": true
   },
   "outputs": [],
   "source": [
    "results_filtered = load(\"results_all_model/%s/results_all_model.%s.filtered_%s.pkl\" \n",
    "                        % (MODEL_VERSION, MODEL_SUFFIX, version))\n",
    "with open(\"Filtered_models.%s.filtered_%s.txt\" % (MODEL_SUFFIX, version), \"wb+\") as fp: \n",
    "    print_model(results_filtered, fp)"
   ]
  },
  {
   "cell_type": "markdown",
   "metadata": {},
   "source": [
    "### Last author"
   ]
  },
  {
   "cell_type": "code",
   "execution_count": 13,
   "metadata": {
    "collapsed": false
   },
   "outputs": [
    {
     "name": "stdout",
     "output_type": "stream",
     "text": [
      "(8632368, 61) (83238534, 61)\n",
      "Filter dataset is 10.37% of the original data.\n",
      "CPU times: user 6.23 s, sys: 2.77 s, total: 9 s\n",
      "Wall time: 9.01 s\n"
     ]
    }
   ],
   "source": [
    "%%time\n",
    "df_filtered_la = filtered_data(df_la, max_source_ncites=60, version=version)"
   ]
  },
  {
   "cell_type": "code",
   "execution_count": 14,
   "metadata": {
    "collapsed": false,
    "scrolled": false
   },
   "outputs": [
    {
     "name": "stdout",
     "output_type": "stream",
     "text": [
      "Created figure with 1 rows and 1 columns\n",
      "(8632368, 61) is_self_cite ~ + I(auth_prev_papers == 1)+ np.log10(auth_prev_papers + 1) + I(np.log10(auth_prev_papers + 1)**2)+ C(gender, levels=GENDERS) + C(source_country, levels=TOP_15_COUNTRIES)+ mf.MC(eth1, eth2, weights=eth_weight, levels=TOP_15_ETHNICITIES)+ np.log10(source_ncites)+ I(np.log10(source_ncites)**2) + I(np.log10(source_ncites)**3)+ I(source_n_authors > 20) + np.log10(np.clip(source_n_authors, 0, 20))+ I(np.log10(np.clip(source_n_authors, 0, 20)) ** 2)+ np.log10(source_n_mesh_ex + 1) + I(source_n_mesh_ex == 0)+ np.log10(sink_n_mesh_ex + 1) + I(sink_n_mesh_ex == 0)+ I(year_span < 0) + I(year_span == 0) + mf.score_log_1(year_span) + I(mf.score_log_1(year_span)**2)+ I(sink_prev_ncites == 0) + np.log10(sink_prev_ncites + 1) + I(np.log10(sink_prev_ncites + 1)**2)+ I(jj_sim == 0) + np.log10(jj_sim + 1) + I(np.log10(jj_sim + 1)**2) + journal_same+ source_is_eng + source_is_journal + source_is_review + source_is_case_rep + source_is_let_ed_com+ sink_is_eng + sink_is_journal + sink_is_review + sink_is_case_rep + sink_is_let_ed_com+ np.log10(np.nan_to_num(source_V_novelty) + 1)+ np.log10(np.nan_to_num(sink_V_novelty) + 1) + I(np.log10(np.nan_to_num(sink_V_novelty) + 1)**2) True\n",
      "Using class based MultiVal\n",
      "using complimentary weights for 2 columns. w and 1-w\n",
      "Using class based MultiVal\n",
      "using complimentary weights for 2 columns. w and 1-w\n",
      "Created dataframes\n",
      "X.shape = (8632368, 68), y.shape = (8632368, 1)\n",
      "Optimization terminated successfully.\n",
      "         Current function value: 0.226985\n",
      "         Iterations 10\n",
      "In eval measures function.\n",
      "{'fp': 3708.0, 'auc': 0.79017102567278463, 'rmse': 0.25285677595909417, 'prsquared': 0.15284244232627842, 'recall': 0.00650456821064629, 'precision': 0.5338194619059593, 'f_score': 0.012852528884893286, 'bic': 3919921.1625689357, 'tn': 7975888.0, 'df_model': 67.0, 'aic': 3918971.1325685745, 'mae': 0.12752700240537745, 'tp': 4246.0, 'fpr': 0.0004646851795504434, 'tpr': 0.00650456821064629, 'llf': -1959417.5662842873, 'fn': 648526.0, 'accuracy': 0.9244432118741925}\n"
     ]
    },
    {
     "data": {
      "text/html": [
       "<table class=\"simpletable\">\n",
       "<tr>\n",
       "        <td>Model:</td>              <td>Logit</td>      <td>Pseudo R-squared:</td>     <td>0.153</td>   \n",
       "</tr>\n",
       "<tr>\n",
       "  <td>Dependent Variable:</td>   <td>is_self_cite</td>         <td>AIC:</td>        <td>3918971.1326</td>\n",
       "</tr>\n",
       "<tr>\n",
       "         <td>Date:</td>        <td>2017-03-10 15:58</td>       <td>BIC:</td>        <td>3919921.1626</td>\n",
       "</tr>\n",
       "<tr>\n",
       "   <td>No. Observations:</td>       <td>8632368</td>      <td>Log-Likelihood:</td>   <td>-1.9594e+06</td>\n",
       "</tr>\n",
       "<tr>\n",
       "       <td>Df Model:</td>             <td>67</td>            <td>LL-Null:</td>       <td>-2.3129e+06</td>\n",
       "</tr>\n",
       "<tr>\n",
       "     <td>Df Residuals:</td>         <td>8632300</td>       <td>LLR p-value:</td>       <td>0.0000</td>   \n",
       "</tr>\n",
       "<tr>\n",
       "      <td>Converged:</td>           <td>1.0000</td>           <td>Scale:</td>          <td>1.0000</td>   \n",
       "</tr>\n",
       "<tr>\n",
       "    <td>No. Iterations:</td>        <td>10.0000</td>             <td></td>                <td></td>      \n",
       "</tr>\n",
       "</table>\n",
       "<table class=\"simpletable\">\n",
       "<tr>\n",
       "                                    <td></td>                                     <th>Coef.</th>  <th>Std.Err.</th>     <th>z</th>      <th>P>|z|</th>  <th>[0.025</th>   <th>0.975]</th> \n",
       "</tr>\n",
       "<tr>\n",
       "  <th>Intercept</th>                                                             <td>2.2028</td>   <td>0.4372</td>   <td>5.0384</td>   <td>0.0000</td>  <td>1.3459</td>   <td>3.0597</td> \n",
       "</tr>\n",
       "<tr>\n",
       "  <th>I(auth_prev_papers == 1)[T.True]</th>                                      <td>-0.5754</td>  <td>0.0572</td>  <td>-10.0538</td>  <td>0.0000</td>  <td>-0.6876</td>  <td>-0.4633</td>\n",
       "</tr>\n",
       "<tr>\n",
       "  <th>C(gender, levels=GENDERS)[T.F]</th>                                        <td>-0.0371</td>  <td>0.0059</td>   <td>-6.2782</td>  <td>0.0000</td>  <td>-0.0487</td>  <td>-0.0255</td>\n",
       "</tr>\n",
       "<tr>\n",
       "  <th>C(gender, levels=GENDERS)[T.M]</th>                                        <td>-0.0468</td>  <td>0.0052</td>   <td>-9.0524</td>  <td>0.0000</td>  <td>-0.0569</td>  <td>-0.0367</td>\n",
       "</tr>\n",
       "<tr>\n",
       "  <th>C(source_country, levels=TOP_15_COUNTRIES)[T.UNKNOWN]</th>                 <td>-0.1037</td>  <td>0.0124</td>   <td>-8.3587</td>  <td>0.0000</td>  <td>-0.1281</td>  <td>-0.0794</td>\n",
       "</tr>\n",
       "<tr>\n",
       "  <th>C(source_country, levels=TOP_15_COUNTRIES)[T.UK]</th>                      <td>0.0019</td>   <td>0.0054</td>   <td>0.3459</td>   <td>0.7294</td>  <td>-0.0087</td>  <td>0.0125</td> \n",
       "</tr>\n",
       "<tr>\n",
       "  <th>C(source_country, levels=TOP_15_COUNTRIES)[T.JAPAN]</th>                   <td>0.0049</td>   <td>0.0137</td>   <td>0.3547</td>   <td>0.7228</td>  <td>-0.0221</td>  <td>0.0318</td> \n",
       "</tr>\n",
       "<tr>\n",
       "  <th>C(source_country, levels=TOP_15_COUNTRIES)[T.GERMANY]</th>                 <td>-0.0465</td>  <td>0.0065</td>   <td>-7.1383</td>  <td>0.0000</td>  <td>-0.0593</td>  <td>-0.0338</td>\n",
       "</tr>\n",
       "<tr>\n",
       "  <th>C(source_country, levels=TOP_15_COUNTRIES)[T.FRANCE]</th>                  <td>-0.0344</td>  <td>0.0094</td>   <td>-3.6772</td>  <td>0.0002</td>  <td>-0.0528</td>  <td>-0.0161</td>\n",
       "</tr>\n",
       "<tr>\n",
       "  <th>C(source_country, levels=TOP_15_COUNTRIES)[T.ITALY]</th>                   <td>-0.1149</td>  <td>0.0136</td>   <td>-8.4272</td>  <td>0.0000</td>  <td>-0.1416</td>  <td>-0.0882</td>\n",
       "</tr>\n",
       "<tr>\n",
       "  <th>C(source_country, levels=TOP_15_COUNTRIES)[T.CANADA]</th>                  <td>-0.0732</td>  <td>0.0074</td>   <td>-9.8850</td>  <td>0.0000</td>  <td>-0.0877</td>  <td>-0.0587</td>\n",
       "</tr>\n",
       "<tr>\n",
       "  <th>C(source_country, levels=TOP_15_COUNTRIES)[T.CHINA]</th>                   <td>-0.5470</td>  <td>0.0117</td>  <td>-46.9097</td>  <td>0.0000</td>  <td>-0.5699</td>  <td>-0.5242</td>\n",
       "</tr>\n",
       "<tr>\n",
       "  <th>C(source_country, levels=TOP_15_COUNTRIES)[T.AUSTRALIA]</th>               <td>-0.0389</td>  <td>0.0092</td>   <td>-4.2145</td>  <td>0.0000</td>  <td>-0.0570</td>  <td>-0.0208</td>\n",
       "</tr>\n",
       "<tr>\n",
       "  <th>C(source_country, levels=TOP_15_COUNTRIES)[T.SPAIN]</th>                   <td>-0.0855</td>  <td>0.0115</td>   <td>-7.4247</td>  <td>0.0000</td>  <td>-0.1081</td>  <td>-0.0629</td>\n",
       "</tr>\n",
       "<tr>\n",
       "  <th>C(source_country, levels=TOP_15_COUNTRIES)[T.NETHERLANDS]</th>             <td>-0.0627</td>  <td>0.0129</td>   <td>-4.8550</td>  <td>0.0000</td>  <td>-0.0880</td>  <td>-0.0374</td>\n",
       "</tr>\n",
       "<tr>\n",
       "  <th>C(source_country, levels=TOP_15_COUNTRIES)[T.SWEDEN]</th>                  <td>0.0181</td>   <td>0.0114</td>   <td>1.5827</td>   <td>0.1135</td>  <td>-0.0043</td>  <td>0.0404</td> \n",
       "</tr>\n",
       "<tr>\n",
       "  <th>C(source_country, levels=TOP_15_COUNTRIES)[T.INDIA]</th>                   <td>-0.0323</td>  <td>0.0192</td>   <td>-1.6823</td>  <td>0.0925</td>  <td>-0.0700</td>  <td>0.0053</td> \n",
       "</tr>\n",
       "<tr>\n",
       "  <th>C(source_country, levels=TOP_15_COUNTRIES)[T.OTHER]</th>                   <td>-0.1702</td>  <td>0.0045</td>  <td>-37.4087</td>  <td>0.0000</td>  <td>-0.1791</td>  <td>-0.1613</td>\n",
       "</tr>\n",
       "<tr>\n",
       "  <th>I(source_n_authors > 20)[T.True]</th>                                      <td>-0.0417</td>  <td>0.0278</td>   <td>-1.4975</td>  <td>0.1343</td>  <td>-0.0963</td>  <td>0.0129</td> \n",
       "</tr>\n",
       "<tr>\n",
       "  <th>I(source_n_mesh_ex == 0)[T.True]</th>                                      <td>-0.7730</td>  <td>0.0222</td>  <td>-34.7774</td>  <td>0.0000</td>  <td>-0.8166</td>  <td>-0.7294</td>\n",
       "</tr>\n",
       "<tr>\n",
       "  <th>I(sink_n_mesh_ex == 0)[T.True]</th>                                        <td>-0.2458</td>  <td>0.0257</td>   <td>-9.5504</td>  <td>0.0000</td>  <td>-0.2962</td>  <td>-0.1954</td>\n",
       "</tr>\n",
       "<tr>\n",
       "  <th>I(year_span < 0)[T.True]</th>                                              <td>0.5038</td>   <td>0.0361</td>   <td>13.9389</td>  <td>0.0000</td>  <td>0.4330</td>   <td>0.5747</td> \n",
       "</tr>\n",
       "<tr>\n",
       "  <th>I(year_span == 0)[T.True]</th>                                             <td>1.5378</td>   <td>0.0116</td>  <td>132.5089</td>  <td>0.0000</td>  <td>1.5150</td>   <td>1.5605</td> \n",
       "</tr>\n",
       "<tr>\n",
       "  <th>I(sink_prev_ncites == 0)[T.True]</th>                                      <td>0.2247</td>   <td>0.0070</td>   <td>32.0093</td>  <td>0.0000</td>  <td>0.2109</td>   <td>0.2384</td> \n",
       "</tr>\n",
       "<tr>\n",
       "  <th>I(jj_sim == 0)[T.True]</th>                                                <td>-0.2446</td>  <td>0.0149</td>  <td>-16.3723</td>  <td>0.0000</td>  <td>-0.2739</td>  <td>-0.2153</td>\n",
       "</tr>\n",
       "<tr>\n",
       "  <th>journal_same[T.True]</th>                                                  <td>0.4727</td>   <td>0.0051</td>   <td>92.6276</td>  <td>0.0000</td>  <td>0.4627</td>   <td>0.4827</td> \n",
       "</tr>\n",
       "<tr>\n",
       "  <th>source_is_eng[T.True]</th>                                                 <td>0.5683</td>   <td>0.0161</td>   <td>35.2007</td>  <td>0.0000</td>  <td>0.5367</td>   <td>0.5999</td> \n",
       "</tr>\n",
       "<tr>\n",
       "  <th>source_is_journal[T.True]</th>                                             <td>0.2208</td>   <td>0.0238</td>   <td>9.2736</td>   <td>0.0000</td>  <td>0.1742</td>   <td>0.2675</td> \n",
       "</tr>\n",
       "<tr>\n",
       "  <th>source_is_review[T.True]</th>                                              <td>-0.3151</td>  <td>0.0056</td>  <td>-56.3992</td>  <td>0.0000</td>  <td>-0.3260</td>  <td>-0.3041</td>\n",
       "</tr>\n",
       "<tr>\n",
       "  <th>source_is_case_rep[T.True]</th>                                            <td>-0.9205</td>  <td>0.0133</td>  <td>-69.1575</td>  <td>0.0000</td>  <td>-0.9466</td>  <td>-0.8944</td>\n",
       "</tr>\n",
       "<tr>\n",
       "  <th>source_is_let_ed_com[T.True]</th>                                          <td>-0.3430</td>  <td>0.0228</td>  <td>-15.0106</td>  <td>0.0000</td>  <td>-0.3877</td>  <td>-0.2982</td>\n",
       "</tr>\n",
       "<tr>\n",
       "  <th>sink_is_eng[T.True]</th>                                                   <td>-0.0436</td>  <td>0.0212</td>   <td>-2.0566</td>  <td>0.0397</td>  <td>-0.0852</td>  <td>-0.0020</td>\n",
       "</tr>\n",
       "<tr>\n",
       "  <th>sink_is_journal[T.True]</th>                                               <td>0.3935</td>   <td>0.0219</td>   <td>17.9631</td>  <td>0.0000</td>  <td>0.3505</td>   <td>0.4364</td> \n",
       "</tr>\n",
       "<tr>\n",
       "  <th>sink_is_review[T.True]</th>                                                <td>-0.8257</td>  <td>0.0053</td>  <td>-156.8617</td> <td>0.0000</td>  <td>-0.8360</td>  <td>-0.8154</td>\n",
       "</tr>\n",
       "<tr>\n",
       "  <th>sink_is_case_rep[T.True]</th>                                              <td>-0.7503</td>  <td>0.0130</td>  <td>-57.6461</td>  <td>0.0000</td>  <td>-0.7758</td>  <td>-0.7248</td>\n",
       "</tr>\n",
       "<tr>\n",
       "  <th>sink_is_let_ed_com[T.True]</th>                                            <td>-0.2783</td>  <td>0.0217</td>  <td>-12.8320</td>  <td>0.0000</td>  <td>-0.3209</td>  <td>-0.2358</td>\n",
       "</tr>\n",
       "<tr>\n",
       "  <th>np.log10(auth_prev_papers + 1)</th>                                        <td>3.3853</td>   <td>0.0283</td>  <td>119.6488</td>  <td>0.0000</td>  <td>3.3298</td>   <td>3.4407</td> \n",
       "</tr>\n",
       "<tr>\n",
       "  <th>I(np.log10(auth_prev_papers + 1) ** 2)</th>                                <td>-0.7682</td>  <td>0.0096</td>  <td>-80.0474</td>  <td>0.0000</td>  <td>-0.7870</td>  <td>-0.7494</td>\n",
       "</tr>\n",
       "<tr>\n",
       "  <th>mf.MC(eth1, eth2, weights=eth_weight, levels=TOP_15_ETHNICITIES)[0]</th>   <td>0.1325</td>   <td>0.0060</td>   <td>22.1580</td>  <td>0.0000</td>  <td>0.1208</td>   <td>0.1442</td> \n",
       "</tr>\n",
       "<tr>\n",
       "  <th>mf.MC(eth1, eth2, weights=eth_weight, levels=TOP_15_ETHNICITIES)[1]</th>   <td>0.1471</td>   <td>0.0075</td>   <td>19.6100</td>  <td>0.0000</td>  <td>0.1324</td>   <td>0.1618</td> \n",
       "</tr>\n",
       "<tr>\n",
       "  <th>mf.MC(eth1, eth2, weights=eth_weight, levels=TOP_15_ETHNICITIES)[2]</th>   <td>0.1771</td>   <td>0.0064</td>   <td>27.8537</td>  <td>0.0000</td>  <td>0.1646</td>   <td>0.1895</td> \n",
       "</tr>\n",
       "<tr>\n",
       "  <th>mf.MC(eth1, eth2, weights=eth_weight, levels=TOP_15_ETHNICITIES)[3]</th>   <td>0.1755</td>   <td>0.0135</td>   <td>12.9762</td>  <td>0.0000</td>  <td>0.1490</td>   <td>0.2020</td> \n",
       "</tr>\n",
       "<tr>\n",
       "  <th>mf.MC(eth1, eth2, weights=eth_weight, levels=TOP_15_ETHNICITIES)[4]</th>   <td>0.2139</td>   <td>0.0093</td>   <td>22.9793</td>  <td>0.0000</td>  <td>0.1956</td>   <td>0.2321</td> \n",
       "</tr>\n",
       "<tr>\n",
       "  <th>mf.MC(eth1, eth2, weights=eth_weight, levels=TOP_15_ETHNICITIES)[5]</th>   <td>0.0474</td>   <td>0.0079</td>   <td>6.0386</td>   <td>0.0000</td>  <td>0.0320</td>   <td>0.0628</td> \n",
       "</tr>\n",
       "<tr>\n",
       "  <th>mf.MC(eth1, eth2, weights=eth_weight, levels=TOP_15_ETHNICITIES)[6]</th>   <td>0.1150</td>   <td>0.0112</td>   <td>10.2734</td>  <td>0.0000</td>  <td>0.0931</td>   <td>0.1369</td> \n",
       "</tr>\n",
       "<tr>\n",
       "  <th>mf.MC(eth1, eth2, weights=eth_weight, levels=TOP_15_ETHNICITIES)[7]</th>   <td>0.0413</td>   <td>0.0090</td>   <td>4.5849</td>   <td>0.0000</td>  <td>0.0236</td>   <td>0.0589</td> \n",
       "</tr>\n",
       "<tr>\n",
       "  <th>mf.MC(eth1, eth2, weights=eth_weight, levels=TOP_15_ETHNICITIES)[8]</th>   <td>0.1999</td>   <td>0.0086</td>   <td>23.2352</td>  <td>0.0000</td>  <td>0.1830</td>   <td>0.2168</td> \n",
       "</tr>\n",
       "<tr>\n",
       "  <th>mf.MC(eth1, eth2, weights=eth_weight, levels=TOP_15_ETHNICITIES)[9]</th>   <td>0.0196</td>   <td>0.0110</td>   <td>1.7785</td>   <td>0.0753</td>  <td>-0.0020</td>  <td>0.0413</td> \n",
       "</tr>\n",
       "<tr>\n",
       "  <th>mf.MC(eth1, eth2, weights=eth_weight, levels=TOP_15_ETHNICITIES)[10]</th>  <td>0.0219</td>   <td>0.0111</td>   <td>1.9732</td>   <td>0.0485</td>  <td>0.0001</td>   <td>0.0437</td> \n",
       "</tr>\n",
       "<tr>\n",
       "  <th>mf.MC(eth1, eth2, weights=eth_weight, levels=TOP_15_ETHNICITIES)[11]</th>  <td>-0.0424</td>  <td>0.0096</td>   <td>-4.4029</td>  <td>0.0000</td>  <td>-0.0613</td>  <td>-0.0235</td>\n",
       "</tr>\n",
       "<tr>\n",
       "  <th>mf.MC(eth1, eth2, weights=eth_weight, levels=TOP_15_ETHNICITIES)[12]</th>  <td>-0.1538</td>  <td>0.0406</td>   <td>-3.7842</td>  <td>0.0002</td>  <td>-0.2334</td>  <td>-0.0741</td>\n",
       "</tr>\n",
       "<tr>\n",
       "  <th>mf.MC(eth1, eth2, weights=eth_weight, levels=TOP_15_ETHNICITIES)[13]</th>  <td>-0.0702</td>  <td>0.0081</td>   <td>-8.6381</td>  <td>0.0000</td>  <td>-0.0862</td>  <td>-0.0543</td>\n",
       "</tr>\n",
       "<tr>\n",
       "  <th>np.log10(source_ncites)</th>                                              <td>-16.4630</td>  <td>0.9478</td>  <td>-17.3699</td>  <td>0.0000</td> <td>-18.3206</td> <td>-14.6054</td>\n",
       "</tr>\n",
       "<tr>\n",
       "  <th>I(np.log10(source_ncites) ** 2)</th>                                       <td>11.9542</td>  <td>0.6816</td>   <td>17.5396</td>  <td>0.0000</td>  <td>10.6184</td>  <td>13.2900</td>\n",
       "</tr>\n",
       "<tr>\n",
       "  <th>I(np.log10(source_ncites) ** 3)</th>                                       <td>-2.9140</td>  <td>0.1614</td>  <td>-18.0502</td>  <td>0.0000</td>  <td>-3.2304</td>  <td>-2.5976</td>\n",
       "</tr>\n",
       "<tr>\n",
       "  <th>np.log10(np.clip(source_n_authors, 0, 20))</th>                            <td>-0.6571</td>  <td>0.0326</td>  <td>-20.1531</td>  <td>0.0000</td>  <td>-0.7210</td>  <td>-0.5932</td>\n",
       "</tr>\n",
       "<tr>\n",
       "  <th>I(np.log10(np.clip(source_n_authors, 0, 20)) ** 2)</th>                    <td>0.2607</td>   <td>0.0237</td>   <td>11.0213</td>  <td>0.0000</td>  <td>0.2143</td>   <td>0.3070</td> \n",
       "</tr>\n",
       "<tr>\n",
       "  <th>np.log10(source_n_mesh_ex + 1)</th>                                        <td>-0.1706</td>  <td>0.0097</td>  <td>-17.5314</td>  <td>0.0000</td>  <td>-0.1897</td>  <td>-0.1515</td>\n",
       "</tr>\n",
       "<tr>\n",
       "  <th>np.log10(sink_n_mesh_ex + 1)</th>                                          <td>-0.1483</td>  <td>0.0096</td>  <td>-15.5204</td>  <td>0.0000</td>  <td>-0.1670</td>  <td>-0.1296</td>\n",
       "</tr>\n",
       "<tr>\n",
       "  <th>mf.score_log_1(year_span)</th>                                             <td>4.5965</td>   <td>0.0340</td>  <td>135.3353</td>  <td>0.0000</td>  <td>4.5299</td>   <td>4.6631</td> \n",
       "</tr>\n",
       "<tr>\n",
       "  <th>I(mf.score_log_1(year_span) ** 2)</th>                                     <td>-4.6457</td>  <td>0.0239</td>  <td>-194.7366</td> <td>0.0000</td>  <td>-4.6924</td>  <td>-4.5989</td>\n",
       "</tr>\n",
       "<tr>\n",
       "  <th>np.log10(sink_prev_ncites + 1)</th>                                        <td>-0.1509</td>  <td>0.0109</td>  <td>-13.7934</td>  <td>0.0000</td>  <td>-0.1723</td>  <td>-0.1294</td>\n",
       "</tr>\n",
       "<tr>\n",
       "  <th>I(np.log10(sink_prev_ncites + 1) ** 2)</th>                                <td>-0.1769</td>  <td>0.0041</td>  <td>-43.4268</td>  <td>0.0000</td>  <td>-0.1849</td>  <td>-0.1689</td>\n",
       "</tr>\n",
       "<tr>\n",
       "  <th>np.log10(jj_sim + 1)</th>                                                  <td>0.1277</td>   <td>0.0190</td>   <td>6.7160</td>   <td>0.0000</td>  <td>0.0904</td>   <td>0.1650</td> \n",
       "</tr>\n",
       "<tr>\n",
       "  <th>I(np.log10(jj_sim + 1) ** 2)</th>                                          <td>-0.0479</td>  <td>0.0058</td>   <td>-8.2941</td>  <td>0.0000</td>  <td>-0.0592</td>  <td>-0.0366</td>\n",
       "</tr>\n",
       "<tr>\n",
       "  <th>np.log10(np.nan_to_num(source_V_novelty) + 1)</th>                         <td>-0.1157</td>  <td>0.0023</td>  <td>-50.3251</td>  <td>0.0000</td>  <td>-0.1202</td>  <td>-0.1112</td>\n",
       "</tr>\n",
       "<tr>\n",
       "  <th>np.log10(np.nan_to_num(sink_V_novelty) + 1)</th>                           <td>0.0259</td>   <td>0.0125</td>   <td>2.0825</td>   <td>0.0373</td>  <td>0.0015</td>   <td>0.0503</td> \n",
       "</tr>\n",
       "<tr>\n",
       "  <th>I(np.log10(np.nan_to_num(sink_V_novelty) + 1) ** 2)</th>                   <td>-0.0207</td>  <td>0.0022</td>   <td>-9.5680</td>  <td>0.0000</td>  <td>-0.0249</td>  <td>-0.0164</td>\n",
       "</tr>\n",
       "</table>"
      ],
      "text/plain": [
       "<class 'statsmodels.iolib.summary2.Summary'>\n",
       "\"\"\"\n",
       "                                                     Results: Logit\n",
       "=========================================================================================================================\n",
       "Model:                                Logit                              Pseudo R-squared:                   0.153       \n",
       "Dependent Variable:                   is_self_cite                       AIC:                                3918971.1326\n",
       "Date:                                 2017-03-10 15:58                   BIC:                                3919921.1626\n",
       "No. Observations:                     8632368                            Log-Likelihood:                     -1.9594e+06 \n",
       "Df Model:                             67                                 LL-Null:                            -2.3129e+06 \n",
       "Df Residuals:                         8632300                            LLR p-value:                        0.0000      \n",
       "Converged:                            1.0000                             Scale:                              1.0000      \n",
       "No. Iterations:                       10.0000                                                                            \n",
       "-------------------------------------------------------------------------------------------------------------------------\n",
       "                                                                      Coef.   Std.Err.     z     P>|z|   [0.025   0.975] \n",
       "-------------------------------------------------------------------------------------------------------------------------\n",
       "Intercept                                                              2.2028   0.4372    5.0384 0.0000   1.3459   3.0597\n",
       "I(auth_prev_papers == 1)[T.True]                                      -0.5754   0.0572  -10.0538 0.0000  -0.6876  -0.4633\n",
       "C(gender, levels=GENDERS)[T.F]                                        -0.0371   0.0059   -6.2782 0.0000  -0.0487  -0.0255\n",
       "C(gender, levels=GENDERS)[T.M]                                        -0.0468   0.0052   -9.0524 0.0000  -0.0569  -0.0367\n",
       "C(source_country, levels=TOP_15_COUNTRIES)[T.UNKNOWN]                 -0.1037   0.0124   -8.3587 0.0000  -0.1281  -0.0794\n",
       "C(source_country, levels=TOP_15_COUNTRIES)[T.UK]                       0.0019   0.0054    0.3459 0.7294  -0.0087   0.0125\n",
       "C(source_country, levels=TOP_15_COUNTRIES)[T.JAPAN]                    0.0049   0.0137    0.3547 0.7228  -0.0221   0.0318\n",
       "C(source_country, levels=TOP_15_COUNTRIES)[T.GERMANY]                 -0.0465   0.0065   -7.1383 0.0000  -0.0593  -0.0338\n",
       "C(source_country, levels=TOP_15_COUNTRIES)[T.FRANCE]                  -0.0344   0.0094   -3.6772 0.0002  -0.0528  -0.0161\n",
       "C(source_country, levels=TOP_15_COUNTRIES)[T.ITALY]                   -0.1149   0.0136   -8.4272 0.0000  -0.1416  -0.0882\n",
       "C(source_country, levels=TOP_15_COUNTRIES)[T.CANADA]                  -0.0732   0.0074   -9.8850 0.0000  -0.0877  -0.0587\n",
       "C(source_country, levels=TOP_15_COUNTRIES)[T.CHINA]                   -0.5470   0.0117  -46.9097 0.0000  -0.5699  -0.5242\n",
       "C(source_country, levels=TOP_15_COUNTRIES)[T.AUSTRALIA]               -0.0389   0.0092   -4.2145 0.0000  -0.0570  -0.0208\n",
       "C(source_country, levels=TOP_15_COUNTRIES)[T.SPAIN]                   -0.0855   0.0115   -7.4247 0.0000  -0.1081  -0.0629\n",
       "C(source_country, levels=TOP_15_COUNTRIES)[T.NETHERLANDS]             -0.0627   0.0129   -4.8550 0.0000  -0.0880  -0.0374\n",
       "C(source_country, levels=TOP_15_COUNTRIES)[T.SWEDEN]                   0.0181   0.0114    1.5827 0.1135  -0.0043   0.0404\n",
       "C(source_country, levels=TOP_15_COUNTRIES)[T.INDIA]                   -0.0323   0.0192   -1.6823 0.0925  -0.0700   0.0053\n",
       "C(source_country, levels=TOP_15_COUNTRIES)[T.OTHER]                   -0.1702   0.0045  -37.4087 0.0000  -0.1791  -0.1613\n",
       "I(source_n_authors > 20)[T.True]                                      -0.0417   0.0278   -1.4975 0.1343  -0.0963   0.0129\n",
       "I(source_n_mesh_ex == 0)[T.True]                                      -0.7730   0.0222  -34.7774 0.0000  -0.8166  -0.7294\n",
       "I(sink_n_mesh_ex == 0)[T.True]                                        -0.2458   0.0257   -9.5504 0.0000  -0.2962  -0.1954\n",
       "I(year_span < 0)[T.True]                                               0.5038   0.0361   13.9389 0.0000   0.4330   0.5747\n",
       "I(year_span == 0)[T.True]                                              1.5378   0.0116  132.5089 0.0000   1.5150   1.5605\n",
       "I(sink_prev_ncites == 0)[T.True]                                       0.2247   0.0070   32.0093 0.0000   0.2109   0.2384\n",
       "I(jj_sim == 0)[T.True]                                                -0.2446   0.0149  -16.3723 0.0000  -0.2739  -0.2153\n",
       "journal_same[T.True]                                                   0.4727   0.0051   92.6276 0.0000   0.4627   0.4827\n",
       "source_is_eng[T.True]                                                  0.5683   0.0161   35.2007 0.0000   0.5367   0.5999\n",
       "source_is_journal[T.True]                                              0.2208   0.0238    9.2736 0.0000   0.1742   0.2675\n",
       "source_is_review[T.True]                                              -0.3151   0.0056  -56.3992 0.0000  -0.3260  -0.3041\n",
       "source_is_case_rep[T.True]                                            -0.9205   0.0133  -69.1575 0.0000  -0.9466  -0.8944\n",
       "source_is_let_ed_com[T.True]                                          -0.3430   0.0228  -15.0106 0.0000  -0.3877  -0.2982\n",
       "sink_is_eng[T.True]                                                   -0.0436   0.0212   -2.0566 0.0397  -0.0852  -0.0020\n",
       "sink_is_journal[T.True]                                                0.3935   0.0219   17.9631 0.0000   0.3505   0.4364\n",
       "sink_is_review[T.True]                                                -0.8257   0.0053 -156.8617 0.0000  -0.8360  -0.8154\n",
       "sink_is_case_rep[T.True]                                              -0.7503   0.0130  -57.6461 0.0000  -0.7758  -0.7248\n",
       "sink_is_let_ed_com[T.True]                                            -0.2783   0.0217  -12.8320 0.0000  -0.3209  -0.2358\n",
       "np.log10(auth_prev_papers + 1)                                         3.3853   0.0283  119.6488 0.0000   3.3298   3.4407\n",
       "I(np.log10(auth_prev_papers + 1) ** 2)                                -0.7682   0.0096  -80.0474 0.0000  -0.7870  -0.7494\n",
       "mf.MC(eth1, eth2, weights=eth_weight, levels=TOP_15_ETHNICITIES)[0]    0.1325   0.0060   22.1580 0.0000   0.1208   0.1442\n",
       "mf.MC(eth1, eth2, weights=eth_weight, levels=TOP_15_ETHNICITIES)[1]    0.1471   0.0075   19.6100 0.0000   0.1324   0.1618\n",
       "mf.MC(eth1, eth2, weights=eth_weight, levels=TOP_15_ETHNICITIES)[2]    0.1771   0.0064   27.8537 0.0000   0.1646   0.1895\n",
       "mf.MC(eth1, eth2, weights=eth_weight, levels=TOP_15_ETHNICITIES)[3]    0.1755   0.0135   12.9762 0.0000   0.1490   0.2020\n",
       "mf.MC(eth1, eth2, weights=eth_weight, levels=TOP_15_ETHNICITIES)[4]    0.2139   0.0093   22.9793 0.0000   0.1956   0.2321\n",
       "mf.MC(eth1, eth2, weights=eth_weight, levels=TOP_15_ETHNICITIES)[5]    0.0474   0.0079    6.0386 0.0000   0.0320   0.0628\n",
       "mf.MC(eth1, eth2, weights=eth_weight, levels=TOP_15_ETHNICITIES)[6]    0.1150   0.0112   10.2734 0.0000   0.0931   0.1369\n",
       "mf.MC(eth1, eth2, weights=eth_weight, levels=TOP_15_ETHNICITIES)[7]    0.0413   0.0090    4.5849 0.0000   0.0236   0.0589\n",
       "mf.MC(eth1, eth2, weights=eth_weight, levels=TOP_15_ETHNICITIES)[8]    0.1999   0.0086   23.2352 0.0000   0.1830   0.2168\n",
       "mf.MC(eth1, eth2, weights=eth_weight, levels=TOP_15_ETHNICITIES)[9]    0.0196   0.0110    1.7785 0.0753  -0.0020   0.0413\n",
       "mf.MC(eth1, eth2, weights=eth_weight, levels=TOP_15_ETHNICITIES)[10]   0.0219   0.0111    1.9732 0.0485   0.0001   0.0437\n",
       "mf.MC(eth1, eth2, weights=eth_weight, levels=TOP_15_ETHNICITIES)[11]  -0.0424   0.0096   -4.4029 0.0000  -0.0613  -0.0235\n",
       "mf.MC(eth1, eth2, weights=eth_weight, levels=TOP_15_ETHNICITIES)[12]  -0.1538   0.0406   -3.7842 0.0002  -0.2334  -0.0741\n",
       "mf.MC(eth1, eth2, weights=eth_weight, levels=TOP_15_ETHNICITIES)[13]  -0.0702   0.0081   -8.6381 0.0000  -0.0862  -0.0543\n",
       "np.log10(source_ncites)                                              -16.4630   0.9478  -17.3699 0.0000 -18.3206 -14.6054\n",
       "I(np.log10(source_ncites) ** 2)                                       11.9542   0.6816   17.5396 0.0000  10.6184  13.2900\n",
       "I(np.log10(source_ncites) ** 3)                                       -2.9140   0.1614  -18.0502 0.0000  -3.2304  -2.5976\n",
       "np.log10(np.clip(source_n_authors, 0, 20))                            -0.6571   0.0326  -20.1531 0.0000  -0.7210  -0.5932\n",
       "I(np.log10(np.clip(source_n_authors, 0, 20)) ** 2)                     0.2607   0.0237   11.0213 0.0000   0.2143   0.3070\n",
       "np.log10(source_n_mesh_ex + 1)                                        -0.1706   0.0097  -17.5314 0.0000  -0.1897  -0.1515\n",
       "np.log10(sink_n_mesh_ex + 1)                                          -0.1483   0.0096  -15.5204 0.0000  -0.1670  -0.1296\n",
       "mf.score_log_1(year_span)                                              4.5965   0.0340  135.3353 0.0000   4.5299   4.6631\n",
       "I(mf.score_log_1(year_span) ** 2)                                     -4.6457   0.0239 -194.7366 0.0000  -4.6924  -4.5989\n",
       "np.log10(sink_prev_ncites + 1)                                        -0.1509   0.0109  -13.7934 0.0000  -0.1723  -0.1294\n",
       "I(np.log10(sink_prev_ncites + 1) ** 2)                                -0.1769   0.0041  -43.4268 0.0000  -0.1849  -0.1689\n",
       "np.log10(jj_sim + 1)                                                   0.1277   0.0190    6.7160 0.0000   0.0904   0.1650\n",
       "I(np.log10(jj_sim + 1) ** 2)                                          -0.0479   0.0058   -8.2941 0.0000  -0.0592  -0.0366\n",
       "np.log10(np.nan_to_num(source_V_novelty) + 1)                         -0.1157   0.0023  -50.3251 0.0000  -0.1202  -0.1112\n",
       "np.log10(np.nan_to_num(sink_V_novelty) + 1)                            0.0259   0.0125    2.0825 0.0373   0.0015   0.0503\n",
       "I(np.log10(np.nan_to_num(sink_V_novelty) + 1) ** 2)                   -0.0207   0.0022   -9.5680 0.0000  -0.0249  -0.0164\n",
       "=========================================================================================================================\n",
       "\n",
       "\"\"\""
      ]
     },
     "metadata": {},
     "output_type": "display_data"
    },
    {
     "name": "stdout",
     "output_type": "stream",
     "text": [
      "None\n",
      "CPU times: user 32min 47s, sys: 3min 56s, total: 36min 43s\n",
      "Wall time: 8min 47s\n"
     ]
    },
    {
     "data": {
      "image/png": "[encoded data removed]",
      "text/plain": [
       "<matplotlib.figure.Figure at 0x7fa236ee2a90>"
      ]
     },
     "metadata": {},
     "output_type": "display_data"
    },
    {
     "data": {
      "image/png": "[encoded data removed]",
      "text/plain": [
       "<matplotlib.figure.Figure at 0x7fa21e4f4b10>"
      ]
     },
     "metadata": {},
     "output_type": "display_data"
    }
   ],
   "source": [
    "%%time\n",
    "MODEL_SUFFIX = \"%s.last_author\" % MODEL_VERSION\n",
    "\n",
    "results_full = fit_model(df_filtered_la, base_formula, include_prc=True,\n",
    "                            MODEL_VERSION=MODEL_VERSION, MODEL_SUFFIX=MODEL_SUFFIX, version=version)"
   ]
  },
  {
   "cell_type": "code",
   "execution_count": 15,
   "metadata": {
    "collapsed": true
   },
   "outputs": [],
   "source": [
    "results_filtered = load(\"results_all_model/%s/results_all_model.%s.filtered_%s.pkl\" \n",
    "                        % (MODEL_VERSION, MODEL_SUFFIX, version))\n",
    "with open(\"Filtered_models.%s.filtered_%s.txt\" % (MODEL_SUFFIX, version), \"wb+\") as fp: \n",
    "    print_model(results_filtered, fp)"
   ]
  },
  {
   "cell_type": "markdown",
   "metadata": {
    "collapsed": true
   },
   "source": [
    "## Final full filtered dataset"
   ]
  },
  {
   "cell_type": "code",
   "execution_count": 16,
   "metadata": {
    "collapsed": true
   },
   "outputs": [],
   "source": [
    "def filtered_data(df, max_source_ncites=100, version=1):\n",
    "    # Base version 1\n",
    "    df_filtered = df[(df.gender != \"-\")\n",
    "                & (df.source_ncites >= 10)\n",
    "                & (df.source_ncites <=max_source_ncites)]\n",
    "    print df_filtered.shape, df.shape\n",
    "    print \"Filter dataset is %.2f%% of the original data.\" % (df_filtered.shape[0] * 100./df.shape[0])\n",
    "    return df_filtered"
   ]
  },
  {
   "cell_type": "code",
   "execution_count": 17,
   "metadata": {
    "collapsed": true
   },
   "outputs": [],
   "source": [
    "GENDERS_NO_UNK=[\"M\", \"F\"]"
   ]
  },
  {
   "cell_type": "code",
   "execution_count": 18,
   "metadata": {
    "collapsed": true
   },
   "outputs": [],
   "source": [
    "base_formula = (\"is_self_cite ~ \"\n",
    "            \"I(auth_prev_papers == 0)\"\n",
    "           \"+ I(auth_prev_papers == 1)\"\n",
    "           \"+ np.log10(auth_prev_papers + 1) + I(np.log10(auth_prev_papers + 1)**2)\"\n",
    "           \"+ C(gender, levels=GENDERS_NO_UNK) + C(source_country, levels=TOP_15_COUNTRIES)\"\n",
    "           \"+ mf.MC(eth1, eth2, weights=eth_weight, levels=TOP_15_ETHNICITIES)\"\n",
    "           #\"+ I(source_ncites == 1)\"\n",
    "           \"+ np.log10(source_ncites)\"\n",
    "           \"+ I(np.log10(source_ncites)**2) + I(np.log10(source_ncites)**3)\"\n",
    "           \"+ I(source_n_authors > 20) + np.log10(np.clip(source_n_authors, 0, 20))\"\n",
    "           \"+ I(np.log10(np.clip(source_n_authors, 0, 20)) ** 2)\"\n",
    "           \"+ np.log10(source_n_mesh_ex + 1) + I(source_n_mesh_ex == 0)\" \n",
    "           \"+ np.log10(sink_n_mesh_ex + 1) + I(sink_n_mesh_ex == 0)\"\n",
    "           \"+ I(year_span < 0) + I(year_span == 0) + mf.score_log_1(year_span) + I(mf.score_log_1(year_span)**2)\"\n",
    "           \"+ I(sink_prev_ncites == 0) + np.log10(sink_prev_ncites + 1) + I(np.log10(sink_prev_ncites + 1)**2)\"\n",
    "           \"+ I(jj_sim == 0) + np.log10(jj_sim + 1) + I(np.log10(jj_sim + 1)**2) + journal_same\"\n",
    "           \"+ source_is_eng + source_is_journal + source_is_review + source_is_case_rep + source_is_let_ed_com\"\n",
    "           \"+ sink_is_eng + sink_is_journal + sink_is_review + sink_is_case_rep + sink_is_let_ed_com\"\n",
    "           \"+ np.log10(np.nan_to_num(source_V_novelty) + 1)\"\n",
    "           \"+ np.log10(np.nan_to_num(sink_V_novelty) + 1) + I(np.log10(np.nan_to_num(sink_V_novelty) + 1)**2)\"\n",
    "          )\n",
    "version = \"full_filtered\""
   ]
  },
  {
   "cell_type": "markdown",
   "metadata": {},
   "source": [
    "## First author"
   ]
  },
  {
   "cell_type": "code",
   "execution_count": null,
   "metadata": {
    "collapsed": false
   },
   "outputs": [
    {
     "name": "stdout",
     "output_type": "stream",
     "text": [
      "(52297350, 61) (83238480, 61)\n",
      "Filter dataset is 62.83% of the original data.\n",
      "CPU times: user 15.8 s, sys: 11.6 s, total: 27.4 s\n",
      "Wall time: 27.4 s\n"
     ]
    }
   ],
   "source": [
    "%%time\n",
    "df_filtered_fa = filtered_data(df_fa, max_source_ncites=60, version=version)"
   ]
  },
  {
   "cell_type": "code",
   "execution_count": null,
   "metadata": {
    "collapsed": false,
    "scrolled": false
   },
   "outputs": [
    {
     "name": "stdout",
     "output_type": "stream",
     "text": [
      "Created figure with 1 rows and 1 columns\n",
      "(52297350, 61) is_self_cite ~ I(auth_prev_papers == 0)+ I(auth_prev_papers == 1)+ np.log10(auth_prev_papers + 1) + I(np.log10(auth_prev_papers + 1)**2)+ C(gender, levels=GENDERS_NO_UNK) + C(source_country, levels=TOP_15_COUNTRIES)+ mf.MC(eth1, eth2, weights=eth_weight, levels=TOP_15_ETHNICITIES)+ np.log10(source_ncites)+ I(np.log10(source_ncites)**2) + I(np.log10(source_ncites)**3)+ I(source_n_authors > 20) + np.log10(np.clip(source_n_authors, 0, 20))+ I(np.log10(np.clip(source_n_authors, 0, 20)) ** 2)+ np.log10(source_n_mesh_ex + 1) + I(source_n_mesh_ex == 0)+ np.log10(sink_n_mesh_ex + 1) + I(sink_n_mesh_ex == 0)+ I(year_span < 0) + I(year_span == 0) + mf.score_log_1(year_span) + I(mf.score_log_1(year_span)**2)+ I(sink_prev_ncites == 0) + np.log10(sink_prev_ncites + 1) + I(np.log10(sink_prev_ncites + 1)**2)+ I(jj_sim == 0) + np.log10(jj_sim + 1) + I(np.log10(jj_sim + 1)**2) + journal_same+ source_is_eng + source_is_journal + source_is_review + source_is_case_rep + source_is_let_ed_com+ sink_is_eng + sink_is_journal + sink_is_review + sink_is_case_rep + sink_is_let_ed_com+ np.log10(np.nan_to_num(source_V_novelty) + 1)+ np.log10(np.nan_to_num(sink_V_novelty) + 1) + I(np.log10(np.nan_to_num(sink_V_novelty) + 1)**2) True\n",
      "Using class based MultiVal\n",
      "using complimentary weights for 2 columns. w and 1-w\n"
     ]
    }
   ],
   "source": [
    "%%time\n",
    "MODEL_SUFFIX = \"%s.first_author\" % MODEL_VERSION\n",
    "\n",
    "results_full = fit_model(df_filtered_fa, base_formula, include_prc=True,\n",
    "                            MODEL_VERSION=MODEL_VERSION, MODEL_SUFFIX=MODEL_SUFFIX, version=version)"
   ]
  },
  {
   "cell_type": "code",
   "execution_count": null,
   "metadata": {
    "collapsed": true
   },
   "outputs": [],
   "source": [
    "results_filtered = load(\"results_all_model/%s/results_all_model.%s.filtered_%s.pkl\" \n",
    "                        % (MODEL_VERSION, MODEL_SUFFIX, version))\n",
    "with open(\"Filtered_models.%s.filtered_%s.txt\" % (MODEL_SUFFIX, version), \"wb+\") as fp: \n",
    "    print_model(results_filtered, fp)"
   ]
  },
  {
   "cell_type": "markdown",
   "metadata": {},
   "source": [
    "### Last author"
   ]
  },
  {
   "cell_type": "code",
   "execution_count": null,
   "metadata": {
    "collapsed": false
   },
   "outputs": [],
   "source": [
    "%%time\n",
    "df_filtered_la = filtered_data(df_la, max_source_ncites=60, version=version)"
   ]
  },
  {
   "cell_type": "code",
   "execution_count": null,
   "metadata": {
    "collapsed": false,
    "scrolled": false
   },
   "outputs": [],
   "source": [
    "%%time\n",
    "MODEL_SUFFIX = \"%s.last_author\" % MODEL_VERSION\n",
    "\n",
    "results_full = fit_model(df_filtered_la, base_formula, include_prc=True,\n",
    "                            MODEL_VERSION=MODEL_VERSION, MODEL_SUFFIX=MODEL_SUFFIX, version=version)"
   ]
  },
  {
   "cell_type": "code",
   "execution_count": null,
   "metadata": {
    "collapsed": true
   },
   "outputs": [],
   "source": [
    "results_filtered = load(\"results_all_model/%s/results_all_model.%s.filtered_%s.pkl\" \n",
    "                        % (MODEL_VERSION, MODEL_SUFFIX, version))\n",
    "with open(\"Filtered_models.%s.filtered_%s.txt\" % (MODEL_SUFFIX, version), \"wb+\") as fp: \n",
    "    print_model(results_filtered, fp)"
   ]
  },
  {
   "cell_type": "markdown",
   "metadata": {},
   "source": [
    "# Filter by journal"
   ]
  },
  {
   "cell_type": "code",
   "execution_count": null,
   "metadata": {
    "collapsed": false
   },
   "outputs": [],
   "source": [
    "JOURNAL_NAMES  = dict(\n",
    "    MEDICINE = set(['JAMA', 'Lancet', 'N Engl J Med']),\n",
    "    BIOLOGY = set(['J Biol Chem', 'Cell',  'Adv Exp Med Biol']), \n",
    "    BIOINFORMATICS=set(['BMC Bioinformatics', 'Bioinformatics', 'Bioinformation', 'PLoS Comput Biol']),\n",
    "    GENERIC=set(['Proc Natl Acad Sci U S A', 'Nature', 'Science', 'PLoS One'])\n",
    ")\n",
    "JOURNAL_PMIDS = dict()\n",
    "with pd.HDFStore('out/JOURNAL_PMIDS.20170303.h5') as cstore:\n",
    "    for k in JOURNAL_NAMES:\n",
    "        JOURNAL_PMIDS[k] = set(cstore[k].values.tolist())\n",
    "        print k, len(JOURNAL_PMIDS[k])"
   ]
  },
  {
   "cell_type": "code",
   "execution_count": null,
   "metadata": {
    "collapsed": false
   },
   "outputs": [],
   "source": [
    "%%time\n",
    "df_filtered = df_fa[df_fa.source_id.isin(JOURNAL_PMIDS[\"MEDICINE\"])]\n",
    "print df_filtered.shape"
   ]
  },
  {
   "cell_type": "code",
   "execution_count": null,
   "metadata": {
    "collapsed": true
   },
   "outputs": [],
   "source": [
    "base_formula = (\"is_self_cite ~ I(auth_prev_papers == 1) \"\n",
    "           \"+ np.log10(auth_prev_papers + 1) + I(np.log10(auth_prev_papers + 1)**2)\"\n",
    "           \"+ C(gender, levels=GENDERS)\"\n",
    "           \"+ mf.MC(eth1, eth2, weights=eth_weight, levels=TOP_15_ETHNICITIES)\"\n",
    "           \"+ np.log10(source_ncites) \"\n",
    "           \"+ I(np.log10(source_ncites)**2) + I(np.log10(source_ncites)**3)\"\n",
    "           \"+ I(source_n_authors > 20) + np.log10(np.clip(source_n_authors, 0, 20))\"\n",
    "           \"+ I(np.log10(np.clip(source_n_authors, 0, 20)) ** 2)\"\n",
    "           \"+ np.log10(source_n_mesh_ex + 1) + I(source_n_mesh_ex == 0)\" \n",
    "           \"+ np.log10(sink_n_mesh_ex + 1) + I(sink_n_mesh_ex == 0)\"\n",
    "           \"+ I(year_span < 0) + I(year_span == 0) + mf.score_log_1(year_span) + I(mf.score_log_1(year_span)**2)\"\n",
    "           \"+ I(sink_prev_ncites == 0) + np.log10(sink_prev_ncites + 1) + I(np.log10(sink_prev_ncites + 1)**2)\"\n",
    "           \"+ I(jj_sim == 0) + np.log10(jj_sim + 1) + I(np.log10(jj_sim + 1)**2) + journal_same\"\n",
    "           \"+ sink_is_eng + sink_is_journal + sink_is_review + sink_is_case_rep + sink_is_let_ed_com\"\n",
    "           \"+ np.log10(np.nan_to_num(source_V_novelty) + 1)\"\n",
    "           \"+ np.log10(np.nan_to_num(sink_V_novelty) + 1) + I(np.log10(np.nan_to_num(sink_V_novelty) + 1)**2)\"\n",
    "          )"
   ]
  },
  {
   "cell_type": "markdown",
   "metadata": {},
   "source": [
    "### FIRST AUTHOR"
   ]
  },
  {
   "cell_type": "code",
   "execution_count": null,
   "metadata": {
    "collapsed": false,
    "scrolled": true
   },
   "outputs": [],
   "source": [
    "MODEL_SUFFIX = \"%s.first_author\" % MODEL_VERSION\n",
    "for k,v in JOURNAL_PMIDS.iteritems():\n",
    "    print \"**\"*20, k, \"**\"*20\n",
    "    version = k\n",
    "    df_filtered = df_fa[df_fa.source_id.isin(v)]\n",
    "    results_full = fit_model(df_filtered, base_formula, include_prc=True,\n",
    "                                MODEL_VERSION=MODEL_VERSION, MODEL_SUFFIX=MODEL_SUFFIX, version=version)\n",
    "    results_filtered = load(\"results_all_model/%s/results_all_model.%s.filtered_%s.pkl\" \n",
    "                        % (MODEL_VERSION, MODEL_SUFFIX, version))\n",
    "    with open(\"Filtered_models.%s.filtered_%s.txt\" % (MODEL_SUFFIX, version), \"wb+\") as fp: \n",
    "        print_model(results_filtered, fp)\n",
    "    print \"**\"*20, \"DONE\", k, \"**\"*20"
   ]
  },
  {
   "cell_type": "markdown",
   "metadata": {},
   "source": [
    "### LAST AUTHOR"
   ]
  },
  {
   "cell_type": "code",
   "execution_count": null,
   "metadata": {
    "collapsed": false,
    "scrolled": true
   },
   "outputs": [],
   "source": [
    "MODEL_SUFFIX = \"%s.last_author\" % MODEL_VERSION\n",
    "for k,v in JOURNAL_PMIDS.iteritems():\n",
    "    print \"**\"*20, k, \"**\"*20\n",
    "    version = k\n",
    "    df_filtered = df_la[df_la.source_id.isin(v)]\n",
    "    results_full = fit_model(df_filtered, base_formula, include_prc=True,\n",
    "                                MODEL_VERSION=MODEL_VERSION, MODEL_SUFFIX=MODEL_SUFFIX, version=version)\n",
    "    results_filtered = load(\"results_all_model/%s/results_all_model.%s.filtered_%s.pkl\" \n",
    "                        % (MODEL_VERSION, MODEL_SUFFIX, version))\n",
    "    with open(\"Filtered_models.%s.filtered_%s.txt\" % (MODEL_SUFFIX, version), \"wb+\") as fp: \n",
    "        print_model(results_filtered, fp)\n",
    "    print \"**\"*20, \"DONE\", k, \"**\"*20"
   ]
  },
  {
   "cell_type": "markdown",
   "metadata": {},
   "source": [
    "## Filter with JOURNAL and age and citations"
   ]
  },
  {
   "cell_type": "code",
   "execution_count": null,
   "metadata": {
    "collapsed": true
   },
   "outputs": [],
   "source": [
    "def filtered_data(df, max_source_ncites=100, version=1):\n",
    "    # Base version 1\n",
    "    df_filtered = df[(df.au_age == 10)\n",
    "                & (df.source_ncites >= 10)\n",
    "                & (df.source_ncites <=max_source_ncites)]\n",
    "    if version == 2:\n",
    "        df_filtered = df_filtered[(df.eth1 == \"ENGLISH\")\n",
    "                & (df.eth2 == \"UNKNOWN\")]\n",
    "    print df_filtered.shape, df.shape\n",
    "    return df_filtered"
   ]
  },
  {
   "cell_type": "markdown",
   "metadata": {},
   "source": [
    "### First author"
   ]
  },
  {
   "cell_type": "code",
   "execution_count": null,
   "metadata": {
    "collapsed": false
   },
   "outputs": [],
   "source": [
    "MODEL_SUFFIX = \"%s.first_author\" % MODEL_VERSION\n",
    "for k,v in JOURNAL_PMIDS.iteritems():\n",
    "    print \"**\"*20, k, \"**\"*20\n",
    "    version = \"%s_with_age_cites\" % k\n",
    "    df_filtered = df_fa[df_fa.source_id.isin(v)]\n",
    "    df_filtered = filtered_data(df_filtered, max_source_ncites=60, version=version)\n",
    "    results_full = fit_model(df_filtered, base_formula, include_prc=True,\n",
    "                                MODEL_VERSION=MODEL_VERSION, MODEL_SUFFIX=MODEL_SUFFIX, version=version)\n",
    "    results_filtered = load(\"results_all_model/%s/results_all_model.%s.filtered_%s.pkl\" \n",
    "                        % (MODEL_VERSION, MODEL_SUFFIX, version))\n",
    "    with open(\"Filtered_models.%s.filtered_%s.txt\" % (MODEL_SUFFIX, version), \"wb+\") as fp: \n",
    "        print_model(results_filtered, fp)\n",
    "    print \"**\"*20, \"DONE\", k, \"**\"*20"
   ]
  },
  {
   "cell_type": "markdown",
   "metadata": {},
   "source": [
    "### Last author"
   ]
  },
  {
   "cell_type": "code",
   "execution_count": null,
   "metadata": {
    "collapsed": false
   },
   "outputs": [],
   "source": [
    "MODEL_SUFFIX = \"%s.last_author\" % MODEL_VERSION\n",
    "for k,v in JOURNAL_PMIDS.iteritems():\n",
    "    print \"**\"*20, k, \"**\"*20\n",
    "    version = \"%s_with_age_cites\" % k\n",
    "    df_filtered = df_la[df_la.source_id.isin(v)]\n",
    "    df_filtered = filtered_data(df_filtered, max_source_ncites=60, version=version)\n",
    "    results_full = fit_model(df_filtered, base_formula, include_prc=True,\n",
    "                                MODEL_VERSION=MODEL_VERSION, MODEL_SUFFIX=MODEL_SUFFIX, version=version)\n",
    "    results_filtered = load(\"results_all_model/%s/results_all_model.%s.filtered_%s.pkl\" \n",
    "                        % (MODEL_VERSION, MODEL_SUFFIX, version))\n",
    "    with open(\"Filtered_models.%s.filtered_%s.txt\" % (MODEL_SUFFIX, version), \"wb+\") as fp: \n",
    "        print_model(results_filtered, fp)\n",
    "    print \"**\"*20, \"DONE\", k, \"**\"*20"
   ]
  },
  {
   "cell_type": "code",
   "execution_count": null,
   "metadata": {
    "collapsed": true
   },
   "outputs": [],
   "source": []
  },
  {
   "cell_type": "markdown",
   "metadata": {
    "collapsed": true
   },
   "source": [
    "## Final full filtered dataset -  - age and prior paper filter"
   ]
  },
  {
   "cell_type": "code",
   "execution_count": null,
   "metadata": {
    "collapsed": true
   },
   "outputs": [],
   "source": [
    "def filtered_data(df, max_source_ncites=100, version=1):\n",
    "    # Base version 1\n",
    "    df_filtered = df[(df.gender != \"-\")\n",
    "                & (df.source_ncites >= 10)\n",
    "                & (df.source_ncites <=max_source_ncites)\n",
    "                & (df.auth_prev_papers >= 5)\n",
    "                & (df.auth_prev_papers <= 20)\n",
    "                & (df.au_age == 10)]\n",
    "    print df_filtered.shape, df.shape\n",
    "    return df_filtered"
   ]
  },
  {
   "cell_type": "code",
   "execution_count": null,
   "metadata": {
    "collapsed": true
   },
   "outputs": [],
   "source": [
    "GENDERS_NO_UNK=[\"M\", \"F\"]"
   ]
  },
  {
   "cell_type": "code",
   "execution_count": null,
   "metadata": {
    "collapsed": true
   },
   "outputs": [],
   "source": [
    "base_formula = (\"is_self_cite ~ \"\n",
    "           \"+ np.log10(auth_prev_papers + 1) + I(np.log10(auth_prev_papers + 1)**2)\"\n",
    "           \"+ C(gender, levels=GENDERS_NO_UNK)\"\n",
    "           \"+ mf.MC(eth1, eth2, weights=eth_weight, levels=TOP_15_ETHNICITIES)\"\n",
    "           \"+ np.log10(source_ncites) \"\n",
    "           \"+ I(np.log10(source_ncites)**2) + I(np.log10(source_ncites)**3)\"\n",
    "           \"+ I(source_n_authors > 20) + np.log10(np.clip(source_n_authors, 0, 20))\"\n",
    "           \"+ I(np.log10(np.clip(source_n_authors, 0, 20)) ** 2)\"\n",
    "           \"+ np.log10(source_n_mesh_ex + 1) + I(source_n_mesh_ex == 0)\" \n",
    "           \"+ np.log10(sink_n_mesh_ex + 1) + I(sink_n_mesh_ex == 0)\"\n",
    "           \"+ I(year_span < 0) + I(year_span == 0) + mf.score_log_1(year_span) + I(mf.score_log_1(year_span)**2)\"\n",
    "           \"+ I(sink_prev_ncites == 0) + np.log10(sink_prev_ncites + 1) + I(np.log10(sink_prev_ncites + 1)**2)\"\n",
    "           \"+ I(jj_sim == 0) + np.log10(jj_sim + 1) + I(np.log10(jj_sim + 1)**2) + journal_same\"\n",
    "           \"+ sink_is_eng + sink_is_journal + sink_is_review + sink_is_case_rep + sink_is_let_ed_com\"\n",
    "           \"+ np.log10(np.nan_to_num(source_V_novelty) + 1)\"\n",
    "           \"+ np.log10(np.nan_to_num(sink_V_novelty) + 1) + I(np.log10(np.nan_to_num(sink_V_novelty) + 1)**2)\"\n",
    "          )\n",
    "version = \"full_filtered_age_papers\""
   ]
  },
  {
   "cell_type": "markdown",
   "metadata": {},
   "source": [
    "## First author"
   ]
  },
  {
   "cell_type": "code",
   "execution_count": null,
   "metadata": {
    "collapsed": false
   },
   "outputs": [],
   "source": [
    "%%time\n",
    "df_filtered_fa = filtered_data(df_fa, max_source_ncites=60, version=version)"
   ]
  },
  {
   "cell_type": "code",
   "execution_count": null,
   "metadata": {
    "collapsed": false,
    "scrolled": false
   },
   "outputs": [],
   "source": [
    "%%time\n",
    "MODEL_SUFFIX = \"%s.first_author\" % MODEL_VERSION\n",
    "\n",
    "results_full = fit_model(df_filtered_fa, base_formula, include_prc=True,\n",
    "                            MODEL_VERSION=MODEL_VERSION, MODEL_SUFFIX=MODEL_SUFFIX, version=version)"
   ]
  },
  {
   "cell_type": "code",
   "execution_count": null,
   "metadata": {
    "collapsed": true
   },
   "outputs": [],
   "source": [
    "results_filtered = load(\"results_all_model/%s/results_all_model.%s.filtered_%s.pkl\" \n",
    "                        % (MODEL_VERSION, MODEL_SUFFIX, version))\n",
    "with open(\"Filtered_models.%s.filtered_%s.txt\" % (MODEL_SUFFIX, version), \"wb+\") as fp: \n",
    "    print_model(results_filtered, fp)"
   ]
  },
  {
   "cell_type": "markdown",
   "metadata": {},
   "source": [
    "### Last author"
   ]
  },
  {
   "cell_type": "code",
   "execution_count": null,
   "metadata": {
    "collapsed": false
   },
   "outputs": [],
   "source": [
    "%%time\n",
    "df_filtered_la = filtered_data(df_la, max_source_ncites=60, version=version)"
   ]
  },
  {
   "cell_type": "code",
   "execution_count": null,
   "metadata": {
    "collapsed": false,
    "scrolled": false
   },
   "outputs": [],
   "source": [
    "%%time\n",
    "MODEL_SUFFIX = \"%s.last_author\" % MODEL_VERSION\n",
    "\n",
    "results_full = fit_model(df_filtered_la, base_formula, include_prc=True,\n",
    "                            MODEL_VERSION=MODEL_VERSION, MODEL_SUFFIX=MODEL_SUFFIX, version=version)"
   ]
  },
  {
   "cell_type": "code",
   "execution_count": null,
   "metadata": {
    "collapsed": true
   },
   "outputs": [],
   "source": [
    "results_filtered = load(\"results_all_model/%s/results_all_model.%s.filtered_%s.pkl\" \n",
    "                        % (MODEL_VERSION, MODEL_SUFFIX, version))\n",
    "with open(\"Filtered_models.%s.filtered_%s.txt\" % (MODEL_SUFFIX, version), \"wb+\") as fp: \n",
    "    print_model(results_filtered, fp)"
   ]
  },
  {
   "cell_type": "markdown",
   "metadata": {
    "collapsed": true
   },
   "source": [
    "## Final full filtered dataset -  - age and prior paper filter - with expertise"
   ]
  },
  {
   "cell_type": "code",
   "execution_count": null,
   "metadata": {
    "collapsed": true
   },
   "outputs": [],
   "source": [
    "def filtered_data(df, max_source_ncites=100, version=1):\n",
    "    # Base version 1\n",
    "    df_filtered = df[(df.gender != \"-\")\n",
    "                & (df.source_ncites >= 10)\n",
    "                & (df.source_ncites <=max_source_ncites)\n",
    "                & (df.auth_prev_papers >= 15)\n",
    "                & (df.auth_prev_papers <= 20)\n",
    "                & (df.au_age == 10)]\n",
    "    print df_filtered.shape, df.shape\n",
    "    return df_filtered"
   ]
  },
  {
   "cell_type": "code",
   "execution_count": null,
   "metadata": {
    "collapsed": true
   },
   "outputs": [],
   "source": [
    "GENDERS_NO_UNK=[\"M\", \"F\"]"
   ]
  },
  {
   "cell_type": "code",
   "execution_count": null,
   "metadata": {
    "collapsed": true
   },
   "outputs": [],
   "source": [
    "def is_null(x):\n",
    "    return pd.isnull(x)\n",
    "\n",
    "def fillnan(x, value=-1):\n",
    "    return x.fillna(value)"
   ]
  },
  {
   "cell_type": "code",
   "execution_count": null,
   "metadata": {
    "collapsed": true
   },
   "outputs": [],
   "source": [
    "base_formula = (\"is_self_cite ~ \"\n",
    "           \"+ np.log10(auth_prev_papers + 1) + I(np.log10(auth_prev_papers + 1)**2)\"\n",
    "            \"+ I(fillnan(match_prop) == 0) + I(fillnan(match_prop) == 1) \"\n",
    "            \"+ fillnan(match_prop, value=0)\"\n",
    "           \"+ C(gender, levels=GENDERS_NO_UNK)\"\n",
    "           \"+ mf.MC(eth1, eth2, weights=eth_weight, levels=TOP_15_ETHNICITIES)\"\n",
    "           \"+ np.log10(source_ncites) \"\n",
    "           \"+ I(np.log10(source_ncites)**2) + I(np.log10(source_ncites)**3)\"\n",
    "           \"+ I(source_n_authors > 20) + np.log10(np.clip(source_n_authors, 0, 20))\"\n",
    "           \"+ I(np.log10(np.clip(source_n_authors, 0, 20)) ** 2)\"\n",
    "           \"+ np.log10(source_n_mesh_ex + 1) + I(source_n_mesh_ex == 0)\" \n",
    "           \"+ np.log10(sink_n_mesh_ex + 1) + I(sink_n_mesh_ex == 0)\"\n",
    "           \"+ I(year_span < 0) + I(year_span == 0) + mf.score_log_1(year_span) + I(mf.score_log_1(year_span)**2)\"\n",
    "           \"+ I(sink_prev_ncites == 0) + np.log10(sink_prev_ncites + 1) + I(np.log10(sink_prev_ncites + 1)**2)\"\n",
    "           \"+ I(jj_sim == 0) + np.log10(jj_sim + 1) + I(np.log10(jj_sim + 1)**2) + journal_same\"\n",
    "           \"+ sink_is_eng + sink_is_journal + sink_is_review + sink_is_case_rep + sink_is_let_ed_com\"\n",
    "           \"+ np.log10(np.nan_to_num(source_V_novelty) + 1)\"\n",
    "           \"+ np.log10(np.nan_to_num(sink_V_novelty) + 1) + I(np.log10(np.nan_to_num(sink_V_novelty) + 1)**2)\"\n",
    "          )\n",
    "version = \"full_filtered_age_papers_expertise\""
   ]
  },
  {
   "cell_type": "markdown",
   "metadata": {},
   "source": [
    "## First author"
   ]
  },
  {
   "cell_type": "code",
   "execution_count": null,
   "metadata": {
    "collapsed": false
   },
   "outputs": [],
   "source": [
    "%%time\n",
    "df_filtered_fa = filtered_data(df_fa, max_source_ncites=60, version=version)"
   ]
  },
  {
   "cell_type": "code",
   "execution_count": null,
   "metadata": {
    "collapsed": false,
    "scrolled": false
   },
   "outputs": [],
   "source": [
    "%%time\n",
    "MODEL_SUFFIX = \"%s.first_author\" % MODEL_VERSION\n",
    "\n",
    "results_full = fit_model(df_filtered_fa, base_formula, include_prc=True,\n",
    "                            MODEL_VERSION=MODEL_VERSION, MODEL_SUFFIX=MODEL_SUFFIX, version=version)"
   ]
  },
  {
   "cell_type": "code",
   "execution_count": null,
   "metadata": {
    "collapsed": true
   },
   "outputs": [],
   "source": [
    "results_filtered = load(\"results_all_model/%s/results_all_model.%s.filtered_%s.pkl\" \n",
    "                        % (MODEL_VERSION, MODEL_SUFFIX, version))\n",
    "with open(\"Filtered_models.%s.filtered_%s.txt\" % (MODEL_SUFFIX, version), \"wb+\") as fp: \n",
    "    print_model(results_filtered, fp)"
   ]
  },
  {
   "cell_type": "markdown",
   "metadata": {},
   "source": [
    "### Last author"
   ]
  },
  {
   "cell_type": "code",
   "execution_count": null,
   "metadata": {
    "collapsed": false
   },
   "outputs": [],
   "source": [
    "%%time\n",
    "df_filtered_la = filtered_data(df_la, max_source_ncites=60, version=version)"
   ]
  },
  {
   "cell_type": "code",
   "execution_count": null,
   "metadata": {
    "collapsed": false,
    "scrolled": false
   },
   "outputs": [],
   "source": [
    "%%time\n",
    "MODEL_SUFFIX = \"%s.last_author\" % MODEL_VERSION\n",
    "\n",
    "results_full = fit_model(df_filtered_la, base_formula, include_prc=True,\n",
    "                            MODEL_VERSION=MODEL_VERSION, MODEL_SUFFIX=MODEL_SUFFIX, version=version)"
   ]
  },
  {
   "cell_type": "code",
   "execution_count": null,
   "metadata": {
    "collapsed": true
   },
   "outputs": [],
   "source": [
    "results_filtered = load(\"results_all_model/%s/results_all_model.%s.filtered_%s.pkl\" \n",
    "                        % (MODEL_VERSION, MODEL_SUFFIX, version))\n",
    "with open(\"Filtered_models.%s.filtered_%s.txt\" % (MODEL_SUFFIX, version), \"wb+\") as fp: \n",
    "    print_model(results_filtered, fp)"
   ]
  },
  {
   "cell_type": "markdown",
   "metadata": {},
   "source": [
    "## Add Journal feature to filtered models"
   ]
  },
  {
   "cell_type": "code",
   "execution_count": null,
   "metadata": {
    "collapsed": false
   },
   "outputs": [],
   "source": [
    "with pd.HDFStore('out/JOURNAL_PMIDS.20170303.h5') as cstore:\n",
    "    df_journals = cstore[\"ALL_JOURNAL_IDS\"]\n",
    "\n",
    "print df_journals.shape\n",
    "df_journals.head()"
   ]
  },
  {
   "cell_type": "code",
   "execution_count": null,
   "metadata": {
    "collapsed": false
   },
   "outputs": [],
   "source": [
    "df_journals.journal.value_counts()"
   ]
  },
  {
   "cell_type": "code",
   "execution_count": null,
   "metadata": {
    "collapsed": false
   },
   "outputs": [],
   "source": [
    "df_journals.JOURNAL_TYPE.value_counts()"
   ]
  },
  {
   "cell_type": "code",
   "execution_count": null,
   "metadata": {
    "collapsed": false
   },
   "outputs": [],
   "source": [
    "df_journals.pivot_table(index=\"journal\", columns=\"JOURNAL_TYPE\", values=\"PMID\", aggfunc=len).fillna(0)"
   ]
  },
  {
   "cell_type": "code",
   "execution_count": null,
   "metadata": {
    "collapsed": false
   },
   "outputs": [],
   "source": [
    "df_fa.columns"
   ]
  },
  {
   "cell_type": "code",
   "execution_count": null,
   "metadata": {
    "collapsed": true
   },
   "outputs": [],
   "source": [
    "def filtered_data(df, max_source_ncites=100, version=1):\n",
    "    # Base version 1\n",
    "    df_filtered = df[(df.gender != \"-\")\n",
    "                & (df.source_ncites >= 10)\n",
    "                & (df.source_ncites <=max_source_ncites)\n",
    "                & (df.auth_prev_papers >= 15)\n",
    "                & (df.auth_prev_papers <= 20)\n",
    "                & (df.au_age == 10)].copy()\n",
    "    print df_filtered.shape, df.shape\n",
    "    df_filtered = df_filtered.merge(df_journals[df_journals.JOURNAL_TYPE == \"GENERIC\"], how=\"inner\",\n",
    "                                    left_on=\"source_id\", right_on=\"PMID\")\n",
    "    print df_filtered.shape, df.shape\n",
    "    return df_filtered"
   ]
  },
  {
   "cell_type": "code",
   "execution_count": null,
   "metadata": {
    "collapsed": true
   },
   "outputs": [],
   "source": [
    "base_formula = (\"is_self_cite ~ \"\n",
    "           \"+ np.log10(auth_prev_papers + 1) + I(np.log10(auth_prev_papers + 1)**2)\"\n",
    "            #\"+ I(fillnan(match_prop) == 0) + I(fillnan(match_prop) == 1) \"\n",
    "            \"+ fillnan(match_prop, value=0)\"\n",
    "            \"+ C(journal)\"\n",
    "           \"+ C(gender, levels=GENDERS_NO_UNK)\"\n",
    "           \"+ mf.MC(eth1, eth2, weights=eth_weight, levels=TOP_15_ETHNICITIES)\"\n",
    "           \"+ np.log10(source_ncites) \"\n",
    "           \"+ I(np.log10(source_ncites)**2) + I(np.log10(source_ncites)**3)\"\n",
    "           \"+ I(source_n_authors > 20) + np.log10(np.clip(source_n_authors, 0, 20))\"\n",
    "           \"+ I(np.log10(np.clip(source_n_authors, 0, 20)) ** 2)\"\n",
    "           \"+ np.log10(source_n_mesh_ex + 1) + I(source_n_mesh_ex == 0)\" \n",
    "           \"+ np.log10(sink_n_mesh_ex + 1) + I(sink_n_mesh_ex == 0)\"\n",
    "           \"+ I(year_span < 0) + I(year_span == 0) + mf.score_log_1(year_span) + I(mf.score_log_1(year_span)**2)\"\n",
    "           \"+ I(sink_prev_ncites == 0) + np.log10(sink_prev_ncites + 1) + I(np.log10(sink_prev_ncites + 1)**2)\"\n",
    "           \"+ I(jj_sim == 0) + np.log10(jj_sim + 1) + I(np.log10(jj_sim + 1)**2) + journal_same\"\n",
    "           \"+ sink_is_eng + sink_is_journal + sink_is_review + sink_is_case_rep + sink_is_let_ed_com\"\n",
    "           \"+ np.log10(np.nan_to_num(source_V_novelty) + 1)\"\n",
    "           \"+ np.log10(np.nan_to_num(sink_V_novelty) + 1) + I(np.log10(np.nan_to_num(sink_V_novelty) + 1)**2)\"\n",
    "          )\n",
    "version = \"full_filtered_age_papers_expertise_journal\""
   ]
  },
  {
   "cell_type": "markdown",
   "metadata": {},
   "source": [
    "## First author"
   ]
  },
  {
   "cell_type": "code",
   "execution_count": null,
   "metadata": {
    "collapsed": false
   },
   "outputs": [],
   "source": [
    "%%time\n",
    "df_filtered_fa = filtered_data(df_fa, max_source_ncites=60, version=version)"
   ]
  },
  {
   "cell_type": "code",
   "execution_count": null,
   "metadata": {
    "collapsed": false
   },
   "outputs": [],
   "source": [
    "ax = sns.heatmap(df_filtered_fa.corr())\n",
    "ax.get_figure().tight_layout()"
   ]
  },
  {
   "cell_type": "code",
   "execution_count": null,
   "metadata": {
    "collapsed": false,
    "scrolled": false
   },
   "outputs": [],
   "source": [
    "%%time\n",
    "MODEL_SUFFIX = \"%s.first_author\" % MODEL_VERSION\n",
    "\n",
    "results_full = fit_model(df_filtered_fa, base_formula, include_prc=True,\n",
    "                            MODEL_VERSION=MODEL_VERSION, MODEL_SUFFIX=MODEL_SUFFIX, version=version)"
   ]
  },
  {
   "cell_type": "code",
   "execution_count": null,
   "metadata": {
    "collapsed": true
   },
   "outputs": [],
   "source": [
    "results_filtered = load(\"results_all_model/%s/results_all_model.%s.filtered_%s.pkl\" \n",
    "                        % (MODEL_VERSION, MODEL_SUFFIX, version))\n",
    "with open(\"Filtered_models.%s.filtered_%s.txt\" % (MODEL_SUFFIX, version), \"wb+\") as fp: \n",
    "    print_model(results_filtered, fp)"
   ]
  },
  {
   "cell_type": "markdown",
   "metadata": {},
   "source": [
    "### Last author"
   ]
  },
  {
   "cell_type": "code",
   "execution_count": null,
   "metadata": {
    "collapsed": false
   },
   "outputs": [],
   "source": [
    "%%time\n",
    "df_filtered_la = filtered_data(df_la, max_source_ncites=60, version=version)"
   ]
  },
  {
   "cell_type": "code",
   "execution_count": null,
   "metadata": {
    "collapsed": false,
    "scrolled": false
   },
   "outputs": [],
   "source": [
    "%%time\n",
    "MODEL_SUFFIX = \"%s.last_author\" % MODEL_VERSION\n",
    "\n",
    "results_full = fit_model(df_filtered_la, base_formula, include_prc=True,\n",
    "                            MODEL_VERSION=MODEL_VERSION, MODEL_SUFFIX=MODEL_SUFFIX, version=version)"
   ]
  },
  {
   "cell_type": "code",
   "execution_count": null,
   "metadata": {
    "collapsed": false
   },
   "outputs": [],
   "source": [
    "results_filtered = load(\"results_all_model/%s/results_all_model.%s.filtered_%s.pkl\" \n",
    "                        % (MODEL_VERSION, MODEL_SUFFIX, version))\n",
    "with open(\"Filtered_models.%s.filtered_%s.txt\" % (MODEL_SUFFIX, version), \"wb+\") as fp: \n",
    "    print_model(results_filtered, fp)"
   ]
  },
  {
   "cell_type": "code",
   "execution_count": null,
   "metadata": {
    "collapsed": true
   },
   "outputs": [],
   "source": []
  }
 ],
 "metadata": {
  "kernelspec": {
   "display_name": "Python [default]",
   "language": "python",
   "name": "python2"
  },
  "language_info": {
   "codemirror_mode": {
    "name": "ipython",
    "version": 2
   },
   "file_extension": ".py",
   "mimetype": "text/x-python",
   "name": "python",
   "nbconvert_exporter": "python",
   "pygments_lexer": "ipython2",
   "version": "2.7.12"
  }
 },
 "nbformat": 4,
 "nbformat_minor": 0
}
