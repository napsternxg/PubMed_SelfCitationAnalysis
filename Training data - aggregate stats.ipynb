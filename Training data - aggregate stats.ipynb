{
 "cells": [
  {
   "cell_type": "code",
   "execution_count": 1,
   "metadata": {
    "collapsed": true
   },
   "outputs": [],
   "source": [
    "import numpy as np\n",
    "import pandas as pd\n",
    "\n",
    "import pyspark.sql.types as T\n",
    "import pyspark.sql.functions as F\n",
    "\n",
    "sqlContext.setConf(\"spark.sql.shuffle.partitions\", 30)"
   ]
  },
  {
   "cell_type": "code",
   "execution_count": 2,
   "metadata": {
    "collapsed": true
   },
   "outputs": [],
   "source": [
    "df = sqlContext.read.parquet(\"out/Training_2002_2005.parquet\")"
   ]
  },
  {
   "cell_type": "code",
   "execution_count": 3,
   "metadata": {},
   "outputs": [
    {
     "name": "stdout",
     "output_type": "stream",
     "text": [
      "['source_id', 'source_year', 'source_j', 'source_n_mesh', 'source_n_mesh_ex', 'source_is_eng', 'source_country', 'source_is_journal', 'source_is_review', 'source_is_case_rep', 'source_is_let_ed_com', 'source_T_novelty', 'source_V_novelty', 'source_PT_novelty', 'source_PV_novelty', 'source_ncites', 'source_n_authors', 'sink_id', 'sink_year', 'sink_j', 'sink_n_mesh', 'sink_n_mesh_ex', 'sink_is_eng', 'sink_is_journal', 'sink_is_review', 'sink_is_case_rep', 'sink_is_let_ed_com', 'sink_T_novelty', 'sink_V_novelty', 'sink_PT_novelty', 'sink_PV_novelty', 'sink_n_authors', 'year_span', 'journal_same', 'mesh_sim', 'title_sim', 'lang_sim', 'affiliation_sim', 'pubtype_sim', 'cite_sim', 'author_sim', 'gender_sim', 'eth_sim', 'n_common_authors', 'auid', 'gender', 'eth1', 'eth2', 'pos', 'pos_nice', 'sink_last_ncites', 'sink_prev_ncites', 'auth_last_npapers', 'auth_prev_papers', 'jj_sim', 'is_self_cite']\n"
     ]
    }
   ],
   "source": [
    "print(df.columns)"
   ]
  },
  {
   "cell_type": "code",
   "execution_count": 4,
   "metadata": {},
   "outputs": [
    {
     "data": {
      "text/plain": [
       "Row(source_id=15543590, source_year=2005, source_j=u'J Med Virol', source_n_mesh=15, source_n_mesh_ex=82, source_is_eng=1, source_country=u'JAPAN', source_is_journal=1, source_is_review=0, source_is_case_rep=0, source_is_let_ed_com=0, source_T_novelty=36, source_V_novelty=1715, source_PT_novelty=0, source_PV_novelty=1, source_ncites=34, source_n_authors=11, sink_id=3711685, sink_year=1986, sink_j=u'J Infect Dis', sink_n_mesh=12, sink_n_mesh_ex=57, sink_is_eng=1, sink_is_journal=1, sink_is_review=0, sink_is_case_rep=0, sink_is_let_ed_com=0, sink_T_novelty=15, sink_V_novelty=1463, sink_PT_novelty=2, sink_PV_novelty=3, sink_n_authors=5, year_span=19, journal_same=0, mesh_sim=0.1666666716337204, title_sim=0.37721675634384155, lang_sim=1.0, affiliation_sim=0.0, pubtype_sim=0.25, cite_sim=0.03125, author_sim=0.0, gender_sim=0.9300464987754822, eth_sim=0.6515082120895386, n_common_authors=0, auid=u'14575764_4', gender=u'M', eth1=u'JAPANESE', eth2=u'UNKNOWN', pos=2, pos_nice=2, sink_last_ncites=5, sink_prev_ncites=97, auth_last_npapers=2, auth_prev_papers=1, jj_sim=18.048799514770508, is_self_cite=0)"
      ]
     },
     "execution_count": 4,
     "metadata": {},
     "output_type": "execute_result"
    }
   ],
   "source": [
    "df.filter(\"pos == 2 and pos_nice == 2\").head()"
   ]
  },
  {
   "cell_type": "code",
   "execution_count": 5,
   "metadata": {},
   "outputs": [
    {
     "name": "stdout",
     "output_type": "stream",
     "text": [
      "Total papers in the 2nd author data:\n"
     ]
    },
    {
     "data": {
      "text/plain": [
       "1344967"
      ]
     },
     "execution_count": 5,
     "metadata": {},
     "output_type": "execute_result"
    }
   ],
   "source": [
    "print(\"Total papers in the 2nd author data:\")\n",
    "df.filter(\"pos == 2 and pos_nice == 2\").select(\"source_id\").distinct().count()"
   ]
  },
  {
   "cell_type": "code",
   "execution_count": null,
   "metadata": {
    "collapsed": true
   },
   "outputs": [],
   "source": []
  }
 ],
 "metadata": {
  "kernelspec": {
   "display_name": "Python [default]",
   "language": "python",
   "name": "python2"
  },
  "language_info": {
   "codemirror_mode": {
    "name": "ipython",
    "version": 2
   },
   "file_extension": ".py",
   "mimetype": "text/x-python",
   "name": "python",
   "nbconvert_exporter": "python",
   "pygments_lexer": "ipython2",
   "version": "2.7.12"
  }
 },
 "nbformat": 4,
 "nbformat_minor": 1
}
