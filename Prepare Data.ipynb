{
 "cells": [
  {
   "cell_type": "markdown",
   "metadata": {},
   "source": [
    "# Self Citation Analysis\n",
    "\n",
    "## General guidelines\n",
    "\n",
    " * Convert all booleans to integers to reduce storage space in text files.\n",
    "\n",
    "## Prepare data\n",
    "\n",
    "Input files `data/FullArticlesData.nohead.txt` and `data/FullAuthorsData.nohead.txt`"
   ]
  },
  {
   "cell_type": "code",
   "execution_count": 1,
   "metadata": {
    "collapsed": false
   },
   "outputs": [
    {
     "name": "stdout",
     "output_type": "stream",
     "text": [
      "==> data/FullArticlesData.header.txt <==\r\n",
      "PMID\tyear\tjournal\tmesh\tMesh_counts\tExploded_Mesh_counts\ttitle_tokenized\tlanguages\tmapaffil_author\tpub_types\tTFirstP\tVolFirstP\tPair_TFirstP\tPair_VolFirstP\tcited\tNcited\tNcitedby\r\n",
      "\r\n",
      "==> data/FullAuthorData.header.txt <==\r\n",
      "au_id\tau_ids\tEthnea\tGenni\r\n"
     ]
    }
   ],
   "source": [
    "! head data/FullArticlesData.header.txt data/FullAuthorData.header.txt"
   ]
  },
  {
   "cell_type": "code",
   "execution_count": 2,
   "metadata": {
    "collapsed": true
   },
   "outputs": [],
   "source": [
    "import numpy as np\n",
    "import pandas as pd\n",
    "\n",
    "import pyspark.sql.types as T\n",
    "import pyspark.sql.functions as F\n",
    "from collections import Counter"
   ]
  },
  {
   "cell_type": "markdown",
   "metadata": {},
   "source": [
    "## Prepare author data"
   ]
  },
  {
   "cell_type": "code",
   "execution_count": 3,
   "metadata": {
    "collapsed": true
   },
   "outputs": [],
   "source": [
    "def read_author_data(x):\n",
    "    x = x.split(\"\\t\")\n",
    "    auid = x[0]\n",
    "    au_ids = map(lambda y: (int(y[0]), int(y[1])),\n",
    "                 (k.split(\"_\") for k in x[1].split(\"|\"))) # PMID, AU_POS\n",
    "    ethnicity = x[2].split(\"-\")\n",
    "    ethnicity = tuple(ethnicity + [\"UNKNOWN\"]*(2-len(ethnicity)))\n",
    "    gender = x[3]\n",
    "    return (((auid, gender)+ ethnicity + k) for k in au_ids)"
   ]
  },
  {
   "cell_type": "code",
   "execution_count": 4,
   "metadata": {
    "collapsed": true
   },
   "outputs": [],
   "source": [
    "author_data = sc.textFile(\"data/FullAuthorData.nohead.txt\").flatMap(read_author_data)"
   ]
  },
  {
   "cell_type": "code",
   "execution_count": 5,
   "metadata": {
    "collapsed": false
   },
   "outputs": [
    {
     "data": {
      "text/plain": [
       "[(u'9731334_2', u'M', u'ENGLISH', 'UNKNOWN', 19497574, 5),\n",
       " (u'9731334_2', u'M', u'ENGLISH', 'UNKNOWN', 19452371, 2),\n",
       " (u'9731334_2', u'M', u'ENGLISH', 'UNKNOWN', 19308471, 2)]"
      ]
     },
     "execution_count": 5,
     "metadata": {},
     "output_type": "execute_result"
    }
   ],
   "source": [
    "author_data.take(3)"
   ]
  },
  {
   "cell_type": "code",
   "execution_count": 6,
   "metadata": {
    "collapsed": true
   },
   "outputs": [],
   "source": [
    "def author_pos_nice(x,n):\n",
    "    if x == 1 and n == 1:\n",
    "        return 0 # SOLO\n",
    "    if x == 1:\n",
    "        return 1 # FIRST\n",
    "    if x == n:\n",
    "        return -1 # LAST\n",
    "    return 2 # MIDDLE\n",
    "    \n",
    "def join_authors(x):\n",
    "    pmid, author_data = x\n",
    "    author_data = dict(map(lambda x: (x[-1], x[:-1]), author_data))\n",
    "    n_authors = max(author_data.keys()) # POSITION OF LAST AUTHOR\n",
    "    au_data_nice = map(lambda i: (author_data.get(i, (\"-\",)*4) + (i, author_pos_nice(i, n_authors))), \n",
    "                         xrange(1,n_authors+1))\n",
    "    auids, gender, eth1, eth2, pos, pos_nice = zip(*au_data_nice)\n",
    "    return (pmid, n_authors, auids, gender, eth1, eth2, pos, pos_nice)\n",
    "    "
   ]
  },
  {
   "cell_type": "code",
   "execution_count": 7,
   "metadata": {
    "collapsed": false
   },
   "outputs": [
    {
     "name": "stdout",
     "output_type": "stream",
     "text": [
      "[1, 2, 2, 2, -1]\n",
      "[0]\n"
     ]
    }
   ],
   "source": [
    "print map(lambda x: author_pos_nice(x,5), range(1,5+1))\n",
    "print map(lambda x: author_pos_nice(x,1), range(1,2))"
   ]
  },
  {
   "cell_type": "code",
   "execution_count": 12,
   "metadata": {
    "collapsed": false
   },
   "outputs": [
    {
     "name": "stdout",
     "output_type": "stream",
     "text": [
      "(19497574, 5, (u'9731334_2', u'9731334_2', u'9731334_2', '-', u'9731334_2'), (u'M', u'M', u'M', '-', u'M'), (u'ENGLISH', u'ENGLISH', u'ENGLISH', '-', u'ENGLISH'), ('UNKNOWN', 'UNKNOWN', 'UNKNOWN', '-', 'UNKNOWN'), (1, 2, 3, 4, 5), (1, 2, 2, 2, -1))\n"
     ]
    }
   ],
   "source": [
    "t = join_authors((19497574, [(u'9731334_2', u'M', u'ENGLISH', 'UNKNOWN', 5),\n",
    "                        (u'9731334_2', u'M', u'ENGLISH', 'UNKNOWN', 2),\n",
    "                        (u'9731334_2', u'M', u'ENGLISH', 'UNKNOWN', 3),\n",
    "                        (u'9731334_2', u'M', u'ENGLISH', 'UNKNOWN', 1),\n",
    "                        ]))\n",
    "print t"
   ]
  },
  {
   "cell_type": "code",
   "execution_count": 14,
   "metadata": {
    "collapsed": false
   },
   "outputs": [
    {
     "data": {
      "text/plain": [
       "[19497574,\n",
       " 5,\n",
       " '9731334_2|9731334_2|9731334_2|-|9731334_2',\n",
       " 'M|M|M|-|M',\n",
       " 'ENGLISH|ENGLISH|ENGLISH|-|ENGLISH',\n",
       " 'UNKNOWN|UNKNOWN|UNKNOWN|-|UNKNOWN',\n",
       " '1|2|3|4|5',\n",
       " '1|2|2|2|-1']"
      ]
     },
     "execution_count": 14,
     "metadata": {},
     "output_type": "execute_result"
    }
   ],
   "source": [
    "[t[0], t[1]] + map(lambda x: \"|\".join(str(k) for k in x), t[2:])"
   ]
  },
  {
   "cell_type": "code",
   "execution_count": 11,
   "metadata": {
    "collapsed": false
   },
   "outputs": [
    {
     "data": {
      "text/plain": [
       "[(19497574, (u'9731334_2', u'M', u'ENGLISH', 'UNKNOWN', 5)),\n",
       " (19452371, (u'9731334_2', u'M', u'ENGLISH', 'UNKNOWN', 2)),\n",
       " (19308471, (u'9731334_2', u'M', u'ENGLISH', 'UNKNOWN', 2))]"
      ]
     },
     "execution_count": 11,
     "metadata": {},
     "output_type": "execute_result"
    }
   ],
   "source": [
    "author_data.map(lambda x: (x[4], tuple(x[0:4] + x[5:]))).take(3)"
   ]
  },
  {
   "cell_type": "code",
   "execution_count": 18,
   "metadata": {
    "collapsed": false
   },
   "outputs": [
    {
     "data": {
      "text/plain": [
       "[(4685824,\n",
       "  [(u'5573339_3', u'-', u'SLAV', 'UNKNOWN', 2),\n",
       "   (u'13553860_3', u'-', u'SLAV', 'UNKNOWN', 3),\n",
       "   (u'13224522_1', u'-', u'SLAV', 'UNKNOWN', 1)]),\n",
       " (15433730,\n",
       "  [(u'18739762_1', u'M', u'ENGLISH', 'UNKNOWN', 3),\n",
       "   (u'18856265_2', u'M', u'ENGLISH', 'UNKNOWN', 1),\n",
       "   (u'17859119_1', u'M', u'SLAV', u'ENGLISH', 2)]),\n",
       " (3178500,\n",
       "  [(u'544143_1', u'M', u'ENGLISH', 'UNKNOWN', 7),\n",
       "   (u'6573842_1', u'-', u'HISPANIC', u'AFRICAN', 3),\n",
       "   (u'3178500_5', u'-', u'ENGLISH', 'UNKNOWN', 5),\n",
       "   (u'3178500_2', u'-', u'ENGLISH', 'UNKNOWN', 2),\n",
       "   (u'3178500_6', u'-', u'ENGLISH', 'UNKNOWN', 6),\n",
       "   (u'6214040_2', u'-', u'AFRICAN', u'INDIAN', 1),\n",
       "   (u'6493841_3', u'-', u'AFRICAN', 'UNKNOWN', 4)])]"
      ]
     },
     "execution_count": 18,
     "metadata": {},
     "output_type": "execute_result"
    }
   ],
   "source": [
    "author_data.map(\n",
    "    lambda x: (x[4], [tuple(x[0:4] + x[5:])])).reduceByKey(\n",
    "    lambda x,y: x+y).take(3)"
   ]
  },
  {
   "cell_type": "code",
   "execution_count": 19,
   "metadata": {
    "collapsed": false
   },
   "outputs": [
    {
     "data": {
      "text/plain": [
       "[(4685824,\n",
       "  3,\n",
       "  (u'13224522_1', u'5573339_3', u'13553860_3'),\n",
       "  (u'-', u'-', u'-'),\n",
       "  (u'SLAV', u'SLAV', u'SLAV'),\n",
       "  ('UNKNOWN', 'UNKNOWN', 'UNKNOWN'),\n",
       "  (1, 2, 3),\n",
       "  (1, 2, -1)),\n",
       " (15433730,\n",
       "  3,\n",
       "  (u'18856265_2', u'17859119_1', u'18739762_1'),\n",
       "  (u'M', u'M', u'M'),\n",
       "  (u'ENGLISH', u'SLAV', u'ENGLISH'),\n",
       "  ('UNKNOWN', u'ENGLISH', 'UNKNOWN'),\n",
       "  (1, 2, 3),\n",
       "  (1, 2, -1)),\n",
       " (3178500,\n",
       "  7,\n",
       "  (u'6214040_2',\n",
       "   u'3178500_2',\n",
       "   u'6573842_1',\n",
       "   u'6493841_3',\n",
       "   u'3178500_5',\n",
       "   u'3178500_6',\n",
       "   u'544143_1'),\n",
       "  (u'-', u'-', u'-', u'-', u'-', u'-', u'M'),\n",
       "  (u'AFRICAN',\n",
       "   u'ENGLISH',\n",
       "   u'HISPANIC',\n",
       "   u'AFRICAN',\n",
       "   u'ENGLISH',\n",
       "   u'ENGLISH',\n",
       "   u'ENGLISH'),\n",
       "  (u'INDIAN',\n",
       "   'UNKNOWN',\n",
       "   u'AFRICAN',\n",
       "   'UNKNOWN',\n",
       "   'UNKNOWN',\n",
       "   'UNKNOWN',\n",
       "   'UNKNOWN'),\n",
       "  (1, 2, 3, 4, 5, 6, 7),\n",
       "  (1, 2, 2, 2, 2, 2, -1))]"
      ]
     },
     "execution_count": 19,
     "metadata": {},
     "output_type": "execute_result"
    }
   ],
   "source": [
    "map(join_authors, [(4685824,\n",
    "  [(u'5573339_3', u'-', u'SLAV', 'UNKNOWN', 2),\n",
    "   (u'13553860_3', u'-', u'SLAV', 'UNKNOWN', 3),\n",
    "   (u'13224522_1', u'-', u'SLAV', 'UNKNOWN', 1)]),\n",
    " (15433730,\n",
    "  [(u'18739762_1', u'M', u'ENGLISH', 'UNKNOWN', 3),\n",
    "   (u'18856265_2', u'M', u'ENGLISH', 'UNKNOWN', 1),\n",
    "   (u'17859119_1', u'M', u'SLAV', u'ENGLISH', 2)]),\n",
    " (3178500,\n",
    "  [(u'544143_1', u'M', u'ENGLISH', 'UNKNOWN', 7),\n",
    "   (u'6573842_1', u'-', u'HISPANIC', u'AFRICAN', 3),\n",
    "   (u'3178500_5', u'-', u'ENGLISH', 'UNKNOWN', 5),\n",
    "   (u'3178500_2', u'-', u'ENGLISH', 'UNKNOWN', 2),\n",
    "   (u'3178500_6', u'-', u'ENGLISH', 'UNKNOWN', 6),\n",
    "   (u'6214040_2', u'-', u'AFRICAN', u'INDIAN', 1),\n",
    "   (u'6493841_3', u'-', u'AFRICAN', 'UNKNOWN', 4)])])"
   ]
  },
  {
   "cell_type": "code",
   "execution_count": 20,
   "metadata": {
    "collapsed": true
   },
   "outputs": [],
   "source": [
    "paper_author_joined = author_data.map(\n",
    "    lambda x: (x[4], [tuple(x[0:4] + x[5:])])).reduceByKey(\n",
    "    lambda x,y: x+y).map(join_authors).map(\n",
    "    lambda t: tuple([t[0], t[1]] +  map(lambda x: \"|\".join(str(k) for k in x), t[2:]))\n",
    ")"
   ]
  },
  {
   "cell_type": "code",
   "execution_count": 21,
   "metadata": {
    "collapsed": false
   },
   "outputs": [],
   "source": [
    "paper_author_joined.map(lambda x: \"\\t\".join(\"%s\" for k in xrange(len(x))) % x).saveAsTextFile(\"out/pmid_nauth_auids\")"
   ]
  },
  {
   "cell_type": "markdown",
   "metadata": {},
   "source": [
    "## Join author data with paper data"
   ]
  },
  {
   "cell_type": "code",
   "execution_count": 22,
   "metadata": {
    "collapsed": true
   },
   "outputs": [],
   "source": [
    "paper_full = sc.textFile(\"data/FullArticlesData.nohead.txt\").map(lambda x: x.split(\"\\t\")).map(\n",
    "    lambda x: (int(x[0]), x))\n",
    "paper_author = sc.textFile(\"out/pmid_nauth_auids/part-*\").map(lambda x: x.split(\"\\t\")).map(\n",
    "    lambda x: (int(x[0]), x[1:]))\n"
   ]
  },
  {
   "cell_type": "code",
   "execution_count": 23,
   "metadata": {
    "collapsed": false,
    "scrolled": false
   },
   "outputs": [],
   "source": [
    "paper_full.join(paper_author).map(\n",
    "    lambda x: tuple(x[1][0] + x[1][1])).map(\n",
    "    lambda x: \"\\t\".join(\"%s\" for k in xrange(len(x))) % x\n",
    ").saveAsTextFile(\"out/paper_data_authors\")"
   ]
  },
  {
   "cell_type": "markdown",
   "metadata": {},
   "source": [
    "## Read full paper data"
   ]
  },
  {
   "cell_type": "code",
   "execution_count": 3,
   "metadata": {
    "collapsed": true
   },
   "outputs": [],
   "source": [
    "def read_paper_data(x):\n",
    "    x = x.split(\"\\t\")\n",
    "    pmid = int(x[0])\n",
    "    year = int(x[1])\n",
    "    journal = x[2]\n",
    "    mesh = set([]) if x[3] in [\"-\", \"NULL\"] else set(x[3].lower().replace(\" \", \"\").split(\"|\"))\n",
    "    n_mesh = 0 if x[4] == \"NULL\" else int(x[4])\n",
    "    n_ex_mesh = 0 if x[5] == \"NULL\" else int(x[5])\n",
    "    title_words = Counter([]) if x[6] in [\"-\", \"NULL\"] else Counter(x[6].split(\" \"))\n",
    "    languages = set([]) if x[7] in [\"-\", \"NULL\"] else set(x[7].split(\"|\"))\n",
    "    is_eng = int(\"eng\" in languages)\n",
    "    affiliation = \"-\" if x[8] == \"NULL\" else x[8]\n",
    "    pub_types = set([]) if x[9] in [\"-\", \"NULL\"] else set(x[9].split(\"|\"))\n",
    "    is_journal = int(\"journal article\" in pub_types)\n",
    "    is_review = int(\"review\" in pub_types)\n",
    "    is_case_rep = int(\"case reports\" in pub_types)\n",
    "    is_let_com_ed = int(len(pub_types.intersection(set([\"letter\", \"comment\", \"editorial\"]))) > 0)\n",
    "    TFirstP = np.nan if x[10] == \"NULL\" else int(x[10])\n",
    "    VolFirstP = np.nan if x[11] == \"NULL\" else int(x[11])\n",
    "    Pair_TFirstP = np.nan if x[12] == \"NULL\" else int(x[12])\n",
    "    Pair_VolFirstP = np.nan if x[13] == \"NULL\" else int(x[13])\n",
    "    cites = set([]) if x[14] in [\"-\", \"NULL\"] else set(int(k) for k in x[14].split(\",\"))\n",
    "    ncites = len(cites)\n",
    "    # SKIP columns Ncited and Ncitedby\n",
    "    nauthors = int(x[17])\n",
    "    auids = x[18].split(\"|\")\n",
    "    gender = x[19].split(\"|\")\n",
    "    eth1 = x[20].split(\"|\")\n",
    "    eth2 = x[21].split(\"|\")\n",
    "    au_pos = list(int(k) for k in x[22].split(\"|\"))\n",
    "    au_pos_nice = list(int(k) for k in x[23].split(\"|\"))\n",
    "    return (pmid, year, journal, mesh, n_mesh, n_ex_mesh, title_words, languages, is_eng,\n",
    "            affiliation, pub_types, is_journal, is_review, is_case_rep, is_let_com_ed,\n",
    "            TFirstP, VolFirstP, Pair_TFirstP, Pair_VolFirstP, ncites, cites,\n",
    "            nauthors, auids, gender, eth1, eth2, au_pos, au_pos_nice)"
   ]
  },
  {
   "cell_type": "code",
   "execution_count": 4,
   "metadata": {
    "collapsed": true
   },
   "outputs": [],
   "source": [
    "paper_data = sc.textFile(\"out/paper_data_authors/part-*\").map(read_paper_data)"
   ]
  },
  {
   "cell_type": "code",
   "execution_count": 5,
   "metadata": {
    "collapsed": false,
    "scrolled": false
   },
   "outputs": [
    {
     "name": "stdout",
     "output_type": "stream",
     "text": [
      "0 5898241\n",
      "1 1965\n",
      "2 Acta Pathol Jpn\n",
      "3 set([u'middleaged', u'aged', u'adolescent', u'pulmonaryemphysema', u'humans', u'female', u'male'])\n",
      "4 5\n",
      "5 21\n",
      "6 Counter({u'emphysema': 1, u'chronic': 1, u'pulmonary': 1, u'morphopathology': 1})\n",
      "7 set([u'eng'])\n",
      "8 1\n",
      "9 JAPAN\n",
      "10 set([u'journal article'])\n",
      "11 1\n",
      "12 0\n",
      "13 0\n",
      "14 0\n",
      "15 18\n",
      "16 2703\n",
      "17 2\n",
      "18 4\n",
      "19 5\n",
      "20 set([13651600, 13846107, 13786957, 13670406, 13713495])\n",
      "21 1\n",
      "22 [u'5898241_1']\n",
      "23 [u'-']\n",
      "24 [u'JAPANESE']\n",
      "25 [u'UNKNOWN']\n",
      "26 [1]\n",
      "27 [0]\n"
     ]
    }
   ],
   "source": [
    "t = paper_data.take(1)\n",
    "for i, k in enumerate(t[0]):\n",
    "    print i, k"
   ]
  },
  {
   "cell_type": "markdown",
   "metadata": {},
   "source": [
    "## Join citation pairs"
   ]
  },
  {
   "cell_type": "code",
   "execution_count": 6,
   "metadata": {
    "collapsed": true
   },
   "outputs": [],
   "source": [
    "def jaccard_sim(x,y):\n",
    "    if not isinstance(x,set):\n",
    "        x = set(x)\n",
    "    if not isinstance(y,set):\n",
    "        y = set(y)\n",
    "    common = x & y\n",
    "    union = x | y\n",
    "    u_len = max(len(union), 1) * 1.0\n",
    "    return len(common) / u_len\n",
    "    \n",
    "    \n",
    "def cosine_sim(x,y):\n",
    "    if not isinstance(x,Counter):\n",
    "        x = Counter(x)\n",
    "    if not isinstance(y,Counter):\n",
    "        y = Counter(y)\n",
    "    union = set(x.keys()) | set(y.keys())\n",
    "    dotprod = sum(x.get(k,0)*y.get(k,0) for k in union) * 1.0\n",
    "    normx = max(np.sqrt(np.sum(k**2 for k in x.values())), 1.0)\n",
    "    normy = max(np.sqrt(np.sum(k**2 for k in y.values())), 1.0)\n",
    "    return dotprod / (normx*normy)"
   ]
  },
  {
   "cell_type": "code",
   "execution_count": 7,
   "metadata": {
    "collapsed": false
   },
   "outputs": [
    {
     "name": "stdout",
     "output_type": "stream",
     "text": [
      "0.0\n",
      "0.0\n"
     ]
    }
   ],
   "source": [
    "print jaccard_sim(t[0][3], set())\n",
    "print cosine_sim(t[0][6], Counter())"
   ]
  },
  {
   "cell_type": "code",
   "execution_count": 8,
   "metadata": {
    "collapsed": true
   },
   "outputs": [],
   "source": [
    "def pair_features(x):\n",
    "    citeid = x[0]\n",
    "    source_features = x[1][0]\n",
    "    sink_features = x[1][1]\n",
    "    year_span = source_features[1] - sink_features[1]\n",
    "    journal_same = int(source_features[2] == sink_features[2]) # Convert bool to int for small space\n",
    "    mesh_sim = jaccard_sim(source_features[3], sink_features[3])\n",
    "    title_sim = cosine_sim(source_features[6], sink_features[6])\n",
    "    lang_sim = jaccard_sim(source_features[7], sink_features[7])\n",
    "    affiliation_sim = int(source_features[9] == sink_features[9]) # Convert bool to int for small space\n",
    "    pubtype_sim = jaccard_sim(source_features[10], sink_features[10])\n",
    "    cite_sim = jaccard_sim(source_features[20], sink_features[20])\n",
    "    author_sim = jaccard_sim(source_features[22], sink_features[22])\n",
    "    gender_sim = cosine_sim(source_features[23], sink_features[23])\n",
    "    eth_sim = cosine_sim(source_features[24] + source_features[25],\n",
    "                         sink_features[24] + sink_features[25])\n",
    "    common_authors = set(source_features[22]).intersection(sink_features[22])\n",
    "    n_common_authors = len(common_authors)\n",
    "    common_features = (year_span, journal_same, mesh_sim, title_sim, lang_sim, affiliation_sim,\n",
    "                      pubtype_sim, cite_sim, author_sim, gender_sim, eth_sim, n_common_authors, common_authors)\n",
    "    return (source_features, sink_features, common_features)"
   ]
  },
  {
   "cell_type": "code",
   "execution_count": 9,
   "metadata": {
    "collapsed": false
   },
   "outputs": [
    {
     "name": "stdout",
     "output_type": "stream",
     "text": [
      "[(5898241, 1965, u'Acta Pathol Jpn', set([u'middleaged', u'aged', u'adolescent', u'pulmonaryemphysema', u'humans', u'female', u'male']), 5, 21, Counter({u'emphysema': 1, u'chronic': 1, u'pulmonary': 1, u'morphopathology': 1}), set([u'eng']), 1, u'JAPAN', set([u'journal article']), 1, 0, 0, 0, 18, 2703, 2, 4, 5, set([13651600, 13846107, 13786957, 13670406, 13713495]), 1, [u'5898241_1'], [u'-'], [u'JAPANESE'], [u'UNKNOWN'], [1], [0]), (12976130, 1952, u'Acta Physiol Scand', set([u'lipidmetabolism', u'stearates']), 2, 7, Counter({u'lipid': 1, u'mechanism': 1, u'absorption': 1, u'metabolism': 1, u'fat': 1, u'intestinal': 1}), set([u'eng']), 1, u'SWEDEN', set([u'journal article']), 1, 0, 0, 0, 4, 7, 0, 1, 5, set([12976128, 12976129, 14810955, 14832237, 15421966]), 1, [u'12976127_1'], [u'F'], [u'NORDIC'], [u'UNKNOWN'], [1], [0])]\n"
     ]
    }
   ],
   "source": [
    "t = paper_data.take(2)\n",
    "print t"
   ]
  },
  {
   "cell_type": "code",
   "execution_count": 10,
   "metadata": {
    "collapsed": false
   },
   "outputs": [
    {
     "name": "stdout",
     "output_type": "stream",
     "text": [
      "((5898241, 1965, u'Acta Pathol Jpn', set([u'middleaged', u'aged', u'adolescent', u'pulmonaryemphysema', u'humans', u'female', u'male']), 5, 21, Counter({u'emphysema': 1, u'chronic': 1, u'pulmonary': 1, u'morphopathology': 1}), set([u'eng']), 1, u'JAPAN', set([u'journal article']), 1, 0, 0, 0, 18, 2703, 2, 4, 5, set([13651600, 13846107, 13786957, 13670406, 13713495]), 1, [u'5898241_1'], [u'-'], [u'JAPANESE'], [u'UNKNOWN'], [1], [0]), (12976130, 1952, u'Acta Physiol Scand', set([u'lipidmetabolism', u'stearates']), 2, 7, Counter({u'lipid': 1, u'mechanism': 1, u'absorption': 1, u'metabolism': 1, u'fat': 1, u'intestinal': 1}), set([u'eng']), 1, u'SWEDEN', set([u'journal article']), 1, 0, 0, 0, 4, 7, 0, 1, 5, set([12976128, 12976129, 14810955, 14832237, 15421966]), 1, [u'12976127_1'], [u'F'], [u'NORDIC'], [u'UNKNOWN'], [1], [0]), (13, 0, 0.0, 0.0, 1.0, 0, 1.0, 0.0, 0.0, 0.0, 0.49999999999999989, 0, set([])))\n"
     ]
    }
   ],
   "source": [
    "tt = pair_features((1, t))\n",
    "print tt"
   ]
  },
  {
   "cell_type": "code",
   "execution_count": 11,
   "metadata": {
    "collapsed": false
   },
   "outputs": [
    {
     "name": "stdout",
     "output_type": "stream",
     "text": [
      "Source:  (5898241, 1965, u'Acta Pathol Jpn', set([u'middleaged', u'aged', u'adolescent', u'pulmonaryemphysema', u'humans', u'female', u'male']), 5, 21, Counter({u'emphysema': 1, u'chronic': 1, u'pulmonary': 1, u'morphopathology': 1}), set([u'eng']), 1, u'JAPAN', set([u'journal article']), 1, 0, 0, 0, 18, 2703, 2, 4, 5, set([13651600, 13846107, 13786957, 13670406, 13713495]), 1, [u'5898241_1'], [u'-'], [u'JAPANESE'], [u'UNKNOWN'], [1], [0]) \n",
      "\n",
      "Sink:  (12976130, 1952, u'Acta Physiol Scand', set([u'lipidmetabolism', u'stearates']), 2, 7, Counter({u'lipid': 1, u'mechanism': 1, u'absorption': 1, u'metabolism': 1, u'fat': 1, u'intestinal': 1}), set([u'eng']), 1, u'SWEDEN', set([u'journal article']), 1, 0, 0, 0, 4, 7, 0, 1, 5, set([12976128, 12976129, 14810955, 14832237, 15421966]), 1, [u'12976127_1'], [u'F'], [u'NORDIC'], [u'UNKNOWN'], [1], [0]) \n",
      "\n",
      "Common:  (13, 0, 0.0, 0.0, 1.0, 0, 1.0, 0.0, 0.0, 0.0, 0.49999999999999989, 0, set([])) \n",
      "\n"
     ]
    }
   ],
   "source": [
    "print \"Source: \", tt[0], \"\\n\"\n",
    "print \"Sink: \", tt[1], \"\\n\"\n",
    "print \"Common: \", tt[2], \"\\n\""
   ]
  },
  {
   "cell_type": "code",
   "execution_count": 12,
   "metadata": {
    "collapsed": true
   },
   "outputs": [],
   "source": [
    "def filter_pair_features(x):\n",
    "    source, sink, common = x\n",
    "    source_authors = zip(source[22], source[23], source[24], # auid, gender, eth1, \n",
    "                         source[25], source[26], source[27], # eth2, pos, pos_nice\n",
    "                        ) \n",
    "    source_final = (source[0], source[1], source[2], source[4], source[5], # pmid, year, journal, n_mesh, n_mesh_ex\n",
    "                    source[8], source[9], source[11], source[12], source[13], # is_eng, country, is_journal, is_review, is_case_rep\n",
    "                    source[14], source[15], source[16], source[17], source[18], # is_let_ed_com, TFirstP, VolFirstP, Pair_TFP, Pair_VFP\n",
    "                    source[19], source[21], # ncites, n_authors\n",
    "                   )\n",
    "    \n",
    "    sink_final = (sink[0], sink[1], sink[2], sink[4], sink[5], # pmid, year, journal, n_mesh, n_mesh_ex\n",
    "                    sink[8], sink[11], sink[12], sink[13], # is_eng, is_journal, is_review, is_case_rep\n",
    "                    sink[14], sink[15], sink[16], sink[17], sink[18], # is_let_ed_com, TFirstP, VolFirstP, Pair_TFP, Pair_VFP\n",
    "                    sink[21], # n_authors\n",
    "                   )\n",
    "    common_final = common[:-1] # Except set of common authors\n",
    "    common_authors = common[-1]\n",
    "    return (source_final, sink_final, common_final, source_authors, common_authors)\n",
    "    \n",
    "    \n",
    "    "
   ]
  },
  {
   "cell_type": "code",
   "execution_count": 13,
   "metadata": {
    "collapsed": false
   },
   "outputs": [
    {
     "name": "stdout",
     "output_type": "stream",
     "text": [
      "Source:  (5898241, 1965, u'Acta Pathol Jpn', 5, 21, 1, u'JAPAN', 1, 0, 0, 0, 18, 2703, 2, 4, 5, 1) \n",
      "\n",
      "Sink:  (12976130, 1952, u'Acta Physiol Scand', 2, 7, 1, 1, 0, 0, 0, 4, 7, 0, 1, 1) \n",
      "\n",
      "Common:  (13, 0, 0.0, 0.0, 1.0, 0, 1.0, 0.0, 0.0, 0.0, 0.49999999999999989, 0) \n",
      "\n",
      "Source authors:  [(u'5898241_1', u'-', u'JAPANESE', u'UNKNOWN', 1, 0)] \n",
      "\n",
      "Common authors:  set([]) \n",
      "\n"
     ]
    }
   ],
   "source": [
    "tt = filter_pair_features(pair_features((1, t)))\n",
    "print \"Source: \", tt[0], \"\\n\"\n",
    "print \"Sink: \", tt[1], \"\\n\"\n",
    "print \"Common: \", tt[2], \"\\n\"\n",
    "print \"Source authors: \", tt[3], \"\\n\"\n",
    "print \"Common authors: \", tt[4], \"\\n\""
   ]
  },
  {
   "cell_type": "markdown",
   "metadata": {},
   "source": [
    "## Create pmid citeid author triplet features"
   ]
  },
  {
   "cell_type": "code",
   "execution_count": 14,
   "metadata": {
    "collapsed": true
   },
   "outputs": [],
   "source": [
    "# Broadcast source data with citation id\n",
    "source_data = paper_data.flatMap(lambda x: ((k, x) for k in x[20]))"
   ]
  },
  {
   "cell_type": "code",
   "execution_count": 15,
   "metadata": {
    "collapsed": false
   },
   "outputs": [],
   "source": [
    "paper_cite_joined = source_data.join(paper_data.map(\n",
    "    # Join source data with sink data\n",
    "    lambda x: (x[0], x))).map(\n",
    "    # Generate pair features between source and sink\n",
    "    lambda x: filter_pair_features(pair_features(x))).flatMap(\n",
    "    # Broadcast source, sink, author triples with self_cite status\n",
    "lambda x: ((x[0], x[1], x[2], k, (int(k[0] in x[4]),)) for k in x[3])) # source_f, sink_f, common_f, source_auth_f, is_self_cite"
   ]
  },
  {
   "cell_type": "code",
   "execution_count": 16,
   "metadata": {
    "collapsed": true
   },
   "outputs": [],
   "source": [
    "paper_cite_joined.map(lambda x: tuple(x[0] + x[1] + x[2] + x[3] + x[4])).map(\n",
    "    lambda x: \"\\t\".join(\"%s\" for k in xrange(len(x))) % x\n",
    ").saveAsTextFile(\"out/source_sink_common_auth_self_cite\")"
   ]
  },
  {
   "cell_type": "markdown",
   "metadata": {},
   "source": [
    "Run `cat out/source_sink_common_auth_self_cite`\n",
    "\n",
    "\n",
    "## Cumulative Citations per year"
   ]
  },
  {
   "cell_type": "code",
   "execution_count": 69,
   "metadata": {
    "collapsed": true
   },
   "outputs": [],
   "source": [
    "def cum_cites_per_year(x):\n",
    "    pmid, year_cites = x\n",
    "    years, cites = zip(*sorted(year_cites, key=lambda x: x[0]))\n",
    "    years = np.array(years)\n",
    "    cites = np.array(cites)\n",
    "    pastcites = np.cumsum(cites) - cites\n",
    "    return ((pmid, years[i], cites[i], pastcites[i]) for i in xrange(years.shape[0]))"
   ]
  },
  {
   "cell_type": "code",
   "execution_count": 70,
   "metadata": {
    "collapsed": false
   },
   "outputs": [
    {
     "data": {
      "text/plain": [
       "[(1, 2000, 2, 0), (1, 2002, 5, 2), (1, 2011, 1, 7)]"
      ]
     },
     "execution_count": 70,
     "metadata": {},
     "output_type": "execute_result"
    }
   ],
   "source": [
    "list(cum_cites_per_year((1, [(2011,1), (2002, 5), (2000, 2)])))"
   ]
  },
  {
   "cell_type": "code",
   "execution_count": 71,
   "metadata": {
    "collapsed": false
   },
   "outputs": [],
   "source": [
    "cite_year = paper_data.flatMap(\n",
    "    lambda x: (((k, x[1]), 1) for k in x[20])\n",
    ").reduceByKey(lambda x,y: x+y).map(\n",
    "    lambda x: (x[0][0], [(x[0][1], x[1])])\n",
    ").reduceByKey(lambda x,y: x+y).flatMap(cum_cites_per_year)"
   ]
  },
  {
   "cell_type": "code",
   "execution_count": 72,
   "metadata": {
    "collapsed": true
   },
   "outputs": [],
   "source": [
    "cite_year.map(lambda x: \"\\t\".join(\"%s\" for k in xrange(len(x))) % x\n",
    ").saveAsTextFile(\"out/cites_per_year\")"
   ]
  },
  {
   "cell_type": "markdown",
   "metadata": {},
   "source": [
    "## Cumulative papers per year for an author"
   ]
  },
  {
   "cell_type": "code",
   "execution_count": 73,
   "metadata": {
    "collapsed": true
   },
   "outputs": [],
   "source": [
    "paper_data.flatMap(\n",
    "    lambda x: (((k, x[1]), 1) for k in x[22])\n",
    ").reduceByKey(lambda x,y: x+y).map(\n",
    "    lambda x: (x[0][0], [(x[0][1], x[1])])\n",
    ").reduceByKey(lambda x,y: x+y).flatMap(cum_cites_per_year\n",
    ").map(lambda x: \"\\t\".join(\"%s\" for k in xrange(len(x))) % x\n",
    ").saveAsTextFile(\"out/au_papers_per_year\")"
   ]
  },
  {
   "cell_type": "markdown",
   "metadata": {},
   "source": [
    "## Join full triplet data"
   ]
  },
  {
   "cell_type": "code",
   "execution_count": 3,
   "metadata": {
    "collapsed": false
   },
   "outputs": [
    {
     "name": "stdout",
     "output_type": "stream",
     "text": [
      "0 15927672\n",
      "1 2005\n",
      "2 Leuk Res\n",
      "3 18\n",
      "4 87\n",
      "5 1\n",
      "6 JAPAN\n",
      "7 1\n",
      "8 0\n",
      "9 0\n",
      "10 0\n",
      "11 17\n",
      "12 1761\n",
      "13 0\n",
      "14 1\n",
      "15 19\n",
      "16 10\n",
      "17 10500098\n",
      "18 1999\n",
      "19 Genes Dev\n",
      "20 25\n",
      "21 106\n",
      "22 1\n",
      "23 1\n",
      "24 0\n",
      "25 0\n",
      "26 0\n",
      "27 2\n",
      "28 66\n",
      "29 0\n",
      "30 1\n",
      "31 18\n",
      "32 6\n",
      "33 0\n",
      "34 0.0487804878049\n",
      "35 0.0\n",
      "36 1.0\n",
      "37 0\n",
      "38 0.5\n",
      "39 0.0131578947368\n",
      "40 0.0\n",
      "41 0.967873016478\n",
      "42 0.554700196225\n",
      "43 0\n",
      "44 12583628_1\n",
      "45 F\n",
      "46 JAPANESE\n",
      "47 UNKNOWN\n",
      "48 1\n",
      "49 1\n",
      "50 0\n"
     ]
    }
   ],
   "source": [
    "for i,k in enumerate(sc.textFile(\"out/source_sink_common_auth_self_cite\").map(lambda x: x.split(\"\\t\")).take(1)[0]):\n",
    "    print i, k"
   ]
  },
  {
   "cell_type": "code",
   "execution_count": 8,
   "metadata": {
    "collapsed": true
   },
   "outputs": [],
   "source": [
    "full_data = sc.textFile(\"out/source_sink_common_auth_self_cite/part-*\").map(\n",
    "    lambda x: x.split(\"\\t\")).map(\n",
    "    lambda x: ((int(x[17]), int(x[1])), x)).filter(lambda x: (x[0][1] >= 2002) & (x[0][1] <= 2005))\n",
    "\n",
    "cite_per_year = sc.textFile(\"out/cites_per_year\").map(\n",
    "    lambda x: x.split(\"\\t\")).map(\n",
    "    lambda x: ((int(x[0]), int(x[1])), x[2:])\n",
    ")\n",
    "au_paper_per_year = sc.textFile(\"out/au_papers_per_year\").map(\n",
    "    lambda x: x.split(\"\\t\")).map(\n",
    "    lambda x: ((x[0], int(x[1])), x[2:])\n",
    ")"
   ]
  },
  {
   "cell_type": "code",
   "execution_count": 9,
   "metadata": {
    "collapsed": false
   },
   "outputs": [
    {
     "name": "stdout",
     "output_type": "stream",
     "text": [
      "Full:  ((10500098, 2005), [u'15927672', u'2005', u'Leuk Res', u'18', u'87', u'1', u'JAPAN', u'1', u'0', u'0', u'0', u'17', u'1761', u'0', u'1', u'19', u'10', u'10500098', u'1999', u'Genes Dev', u'25', u'106', u'1', u'1', u'0', u'0', u'0', u'2', u'66', u'0', u'1', u'18', u'6', u'0', u'0.0487804878049', u'0.0', u'1.0', u'0', u'0.5', u'0.0131578947368', u'0.0', u'0.967873016478', u'0.554700196225', u'0', u'12583628_1', u'F', u'JAPANESE', u'UNKNOWN', u'1', u'1', u'0']) \n",
      "\n",
      "Citation:  ((5898241, 1970), [u'1', u'0']) \n",
      "\n",
      "Author:  ((u'11476603_1', 2001), [u'2', u'0']) \n",
      "\n"
     ]
    }
   ],
   "source": [
    "print \"Full: \", full_data.take(1)[0], \"\\n\"\n",
    "print \"Citation: \", cite_per_year.take(1)[0], \"\\n\"\n",
    "print \"Author: \", au_paper_per_year.take(1)[0], \"\\n\""
   ]
  },
  {
   "cell_type": "code",
   "execution_count": 10,
   "metadata": {
    "collapsed": false
   },
   "outputs": [
    {
     "data": {
      "text/html": [
       "<div>\n",
       "<table border=\"1\" class=\"dataframe\">\n",
       "  <thead>\n",
       "    <tr style=\"text-align: right;\">\n",
       "      <th></th>\n",
       "      <th>T1</th>\n",
       "      <th>T2</th>\n",
       "      <th>score</th>\n",
       "    </tr>\n",
       "  </thead>\n",
       "  <tbody>\n",
       "    <tr>\n",
       "      <th>0</th>\n",
       "      <td>Phys Rev Lett</td>\n",
       "      <td>Phys Rev Lett</td>\n",
       "      <td>104.0920</td>\n",
       "    </tr>\n",
       "    <tr>\n",
       "      <th>1</th>\n",
       "      <td>Science</td>\n",
       "      <td>Science</td>\n",
       "      <td>123.9470</td>\n",
       "    </tr>\n",
       "    <tr>\n",
       "      <th>2</th>\n",
       "      <td>Mod Healthc</td>\n",
       "      <td>Mod Healthc</td>\n",
       "      <td>18695.4000</td>\n",
       "    </tr>\n",
       "    <tr>\n",
       "      <th>3</th>\n",
       "      <td>J Biol Chem</td>\n",
       "      <td>J Biol Chem</td>\n",
       "      <td>14.9426</td>\n",
       "    </tr>\n",
       "    <tr>\n",
       "      <th>4</th>\n",
       "      <td>Transplant Proc</td>\n",
       "      <td>Transplant Proc</td>\n",
       "      <td>106.8940</td>\n",
       "    </tr>\n",
       "  </tbody>\n",
       "</table>\n",
       "</div>"
      ],
      "text/plain": [
       "                T1               T2       score\n",
       "0    Phys Rev Lett    Phys Rev Lett    104.0920\n",
       "1          Science          Science    123.9470\n",
       "2      Mod Healthc      Mod Healthc  18695.4000\n",
       "3      J Biol Chem      J Biol Chem     14.9426\n",
       "4  Transplant Proc  Transplant Proc    106.8940"
      ]
     },
     "execution_count": 10,
     "metadata": {},
     "output_type": "execute_result"
    }
   ],
   "source": [
    "df_jj = pd.read_csv(\"data/jj_sim.txt\", sep=\"\\t\")\n",
    "df_jj.head()"
   ]
  },
  {
   "cell_type": "code",
   "execution_count": 11,
   "metadata": {
    "collapsed": false
   },
   "outputs": [],
   "source": [
    "jj_sim = dict(map(lambda x: (tuple(sorted(x[:2])), x[2]), df_jj.values))"
   ]
  },
  {
   "cell_type": "code",
   "execution_count": 12,
   "metadata": {
    "collapsed": true
   },
   "outputs": [],
   "source": [
    "# Add past citations of sink\n",
    "full_cites_data = full_data.join(cite_per_year).map(\n",
    "    lambda x: x[1][0][:-1] + x[1][1] + [x[1][0][-1]]).map(lambda x: ((x[44], int(x[1])), x))\n",
    "# Add prior papers of author\n",
    "full_auth_data = full_cites_data.join(au_paper_per_year).map(\n",
    "    lambda x: x[1][0][:-1] + x[1][1] + [\n",
    "        jj_sim.get(tuple(sorted([x[1][0][2], x[1][0][19]])), 0), x[1][0][-1]]\n",
    ").map(lambda x: tuple(x)) # Add journal sim score"
   ]
  },
  {
   "cell_type": "code",
   "execution_count": 29,
   "metadata": {
    "collapsed": true
   },
   "outputs": [],
   "source": [
    "t = full_auth_data.take(10)"
   ]
  },
  {
   "cell_type": "code",
   "execution_count": 30,
   "metadata": {
    "collapsed": false
   },
   "outputs": [
    {
     "data": {
      "text/plain": [
       "(u'1918950',\n",
       " u'1991',\n",
       " u'J Immunol',\n",
       " u'14',\n",
       " u'55',\n",
       " u'1',\n",
       " u'USA',\n",
       " u'1',\n",
       " u'0',\n",
       " u'0',\n",
       " u'0',\n",
       " u'23',\n",
       " u'4881',\n",
       " u'8',\n",
       " u'5',\n",
       " u'29',\n",
       " u'2',\n",
       " u'6231186',\n",
       " u'1984',\n",
       " u'Eur J Immunol',\n",
       " u'19',\n",
       " u'83',\n",
       " u'1',\n",
       " u'1',\n",
       " u'0',\n",
       " u'0',\n",
       " u'0',\n",
       " u'4',\n",
       " u'907',\n",
       " u'0',\n",
       " u'1',\n",
       " u'3',\n",
       " u'7',\n",
       " u'0',\n",
       " u'0.222222222222',\n",
       " u'0.160128153805',\n",
       " u'1.0',\n",
       " u'0',\n",
       " u'0.333333333333',\n",
       " u'0.046875',\n",
       " u'0.0',\n",
       " u'0.57735026919',\n",
       " u'0.866025403784',\n",
       " u'0',\n",
       " u'5273308_1',\n",
       " u'M',\n",
       " u'ENGLISH',\n",
       " u'UNKNOWN',\n",
       " u'2',\n",
       " u'-1',\n",
       " u'22',\n",
       " u'157',\n",
       " u'9',\n",
       " u'135',\n",
       " 32.7021,\n",
       " u'0')"
      ]
     },
     "execution_count": 30,
     "metadata": {},
     "output_type": "execute_result"
    }
   ],
   "source": [
    "t[0]"
   ]
  },
  {
   "cell_type": "code",
   "execution_count": 13,
   "metadata": {
    "collapsed": false
   },
   "outputs": [],
   "source": [
    "full_auth_data.map(lambda x: \"\\t\".join(\"%s\" for k in xrange(len(x))) % x\n",
    ").saveAsTextFile(\"out/training_data_full\")"
   ]
  },
  {
   "cell_type": "markdown",
   "metadata": {
    "collapsed": true
   },
   "source": [
    "## Data columns format"
   ]
  },
  {
   "cell_type": "code",
   "execution_count": 4,
   "metadata": {
    "collapsed": false
   },
   "outputs": [
    {
     "name": "stdout",
     "output_type": "stream",
     "text": [
      "0 15073049\n",
      "1 2004\n",
      "2 Carcinogenesis\n",
      "3 28\n",
      "4 113\n",
      "5 1\n",
      "6 GERMANY\n",
      "7 1\n",
      "8 0\n",
      "9 0\n",
      "10 0\n",
      "11 6\n",
      "12 468\n",
      "13 0\n",
      "14 1\n",
      "15 63\n",
      "16 9\n",
      "17 8929531\n",
      "18 1996\n",
      "19 Cell\n",
      "20 21\n",
      "21 69\n",
      "22 1\n",
      "23 1\n",
      "24 0\n",
      "25 0\n",
      "26 0\n",
      "27 1\n",
      "28 7\n",
      "29 0\n",
      "30 1\n",
      "31 5\n",
      "32 8\n",
      "33 0\n",
      "34 0.108695652174\n",
      "35 0.0\n",
      "36 1.0\n",
      "37 0\n",
      "38 0.666666666667\n",
      "39 0.0178571428571\n",
      "40 0.0\n",
      "41 0.894427191\n",
      "42 0.832050294338\n",
      "43 0\n",
      "44 12647793_4\n",
      "45 M\n",
      "46 ARAB\n",
      "47 GERMAN\n",
      "48 1\n",
      "49 1\n",
      "50 136\n",
      "51 939\n",
      "52 3\n",
      "53 2\n",
      "54 0\n",
      "55 0\n"
     ]
    }
   ],
   "source": [
    "t = sc.textFile(\"out/training_data_full/part-00000\").map(lambda x: x.split(\"\\t\")).take(1)\n",
    "colnames = [\"source_id\", \"source_year\", \"source_j\", \"source_n_mesh\", \"source_n_mesh_ex\",\n",
    "           \"source_is_eng\", \"source_country\", \"source_is_journal\", \"source_is_review\", \"source_is_case_rep\",\n",
    "           \"source_is_let_ed_com\", \"source_T_novelty\", \"source_Vol_novelty\", \"source_Pair_T_novelty\", \"source_Pair_Vol_novelty\",\n",
    "           \"source_ncites\", \"source_n_authors\",\n",
    "           \"sink_id\", \"sink_year\", \"sink_j\", \"sink_n_mesh\", \"sink_n_mesh_ex\",\n",
    "           \"sink_is_eng\", \"sink_is_journal\", \"sink_is_review\", \"sink_is_case_rep\",\n",
    "           \"sink_is_let_ed_com\", \"sink_T_novelty\", \"sink_Vol_novelty\", \"sink_Pair_T_novelty\", \"sink_Pair_Vol_novelty\",\n",
    "           \"sink_n_authors\",\n",
    "           \"year_span\", \"journal_same\", \"mesh_sim\", \"title_sim\", \"lang_sim\", \"affiliation_sim\",\n",
    "           \"pubtype_sim\", \"cite_sim\", \"author_sim\", \"gender_sim\", \"eth_sim\", \"n_common_authors\",\n",
    "           \"auid\", \"gender\", \"eth1\", \"eth2\", \"pos\", \"pos_nice\",            \n",
    "            \"sink_last_ncites\",\"sink_prev_ncites\",\n",
    "            \"auth_last_npapers\",\"auth_prev_papers\",\n",
    "            \"is_self_cite\"\n",
    "           ]\n",
    "for i,k in enumerate(t[0]):\n",
    "    print i,k"
   ]
  },
  {
   "cell_type": "code",
   "execution_count": 5,
   "metadata": {
    "collapsed": false
   },
   "outputs": [
    {
     "data": {
      "text/plain": [
       "56"
      ]
     },
     "execution_count": 5,
     "metadata": {},
     "output_type": "execute_result"
    }
   ],
   "source": [
    "colnames = [\"source_id\", \"source_year\", \"source_j\", \"source_n_mesh\", \"source_n_mesh_ex\",\n",
    "           \"source_is_eng\", \"source_country\", \"source_is_journal\", \"source_is_review\", \"source_is_case_rep\",\n",
    "           \"source_is_let_ed_com\", \"source_T_novelty\", \"source_V_novelty\", \"source_PT_novelty\", \"source_PV_novelty\",\n",
    "           \"source_ncites\", \"source_n_authors\",\n",
    "           \"sink_id\", \"sink_year\", \"sink_j\", \"sink_n_mesh\", \"sink_n_mesh_ex\",\n",
    "           \"sink_is_eng\", \"sink_is_journal\", \"sink_is_review\", \"sink_is_case_rep\",\n",
    "           \"sink_is_let_ed_com\", \"sink_T_novelty\", \"sink_V_novelty\", \"sink_PT_novelty\", \"sink_PV_novelty\",\n",
    "           \"sink_n_authors\",\n",
    "           \"year_span\", \"journal_same\", \"mesh_sim\", \"title_sim\", \"lang_sim\", \"affiliation_sim\",\n",
    "           \"pubtype_sim\", \"cite_sim\", \"author_sim\", \"gender_sim\", \"eth_sim\", \"n_common_authors\",\n",
    "           \"auid\", \"gender\", \"eth1\", \"eth2\", \"pos\", \"pos_nice\",            \n",
    "            \"sink_last_ncites\",\"sink_prev_ncites\",\n",
    "            \"auth_last_npapers\",\"auth_prev_papers\",\n",
    "            \"jj_sim\",\n",
    "            \"is_self_cite\"\n",
    "           ]\n",
    "len(colnames)"
   ]
  },
  {
   "cell_type": "code",
   "execution_count": 6,
   "metadata": {
    "collapsed": false
   },
   "outputs": [
    {
     "name": "stdout",
     "output_type": "stream",
     "text": [
      "0 source_id 15073049\n",
      "1 source_year 2004\n",
      "2 source_j Carcinogenesis\n",
      "3 source_n_mesh 28\n",
      "4 source_n_mesh_ex 113\n",
      "5 source_is_eng 1\n",
      "6 source_country GERMANY\n",
      "7 source_is_journal 1\n",
      "8 source_is_review 0\n",
      "9 source_is_case_rep 0\n",
      "10 source_is_let_ed_com 0\n",
      "11 source_T_novelty 6\n",
      "12 source_V_novelty 468\n",
      "13 source_PT_novelty 0\n",
      "14 source_PV_novelty 1\n",
      "15 source_ncites 63\n",
      "16 source_n_authors 9\n",
      "17 sink_id 8929531\n",
      "18 sink_year 1996\n",
      "19 sink_j Cell\n",
      "20 sink_n_mesh 21\n",
      "21 sink_n_mesh_ex 69\n",
      "22 sink_is_eng 1\n",
      "23 sink_is_journal 1\n",
      "24 sink_is_review 0\n",
      "25 sink_is_case_rep 0\n",
      "26 sink_is_let_ed_com 0\n",
      "27 sink_T_novelty 1\n",
      "28 sink_V_novelty 7\n",
      "29 sink_PT_novelty 0\n",
      "30 sink_PV_novelty 1\n",
      "31 sink_n_authors 5\n",
      "32 year_span 8\n",
      "33 journal_same 0\n",
      "34 mesh_sim 0.108695652174\n",
      "35 title_sim 0.0\n",
      "36 lang_sim 1.0\n",
      "37 affiliation_sim 0\n",
      "38 pubtype_sim 0.666666666667\n",
      "39 cite_sim 0.0178571428571\n",
      "40 author_sim 0.0\n",
      "41 gender_sim 0.894427191\n",
      "42 eth_sim 0.832050294338\n",
      "43 n_common_authors 0\n",
      "44 auid 12647793_4\n",
      "45 gender M\n",
      "46 eth1 ARAB\n",
      "47 eth2 GERMAN\n",
      "48 pos 1\n",
      "49 pos_nice 1\n",
      "50 sink_last_ncites 136\n",
      "51 sink_prev_ncites 939\n",
      "52 auth_last_npapers 3\n",
      "53 auth_prev_papers 2\n",
      "54 jj_sim 0\n",
      "55 is_self_cite 0\n"
     ]
    }
   ],
   "source": [
    "for i,k in enumerate(t[0]):\n",
    "    print i,colnames[i], k"
   ]
  },
  {
   "cell_type": "code",
   "execution_count": 7,
   "metadata": {
    "collapsed": false
   },
   "outputs": [
    {
     "name": "stdout",
     "output_type": "stream",
     "text": [
      "['source_id', 'source_year', 'source_j', 'source_n_mesh', 'source_n_mesh_ex', 'source_is_eng', 'source_country', 'source_is_journal', 'source_is_review', 'source_is_case_rep', 'source_is_let_ed_com', 'source_T_novelty', 'source_V_novelty', 'source_PT_novelty', 'source_PV_novelty', 'source_ncites', 'source_n_authors', 'sink_id', 'sink_year', 'sink_j', 'sink_n_mesh', 'sink_n_mesh_ex', 'sink_is_eng', 'sink_is_journal', 'sink_is_review', 'sink_is_case_rep', 'sink_is_let_ed_com', 'sink_T_novelty', 'sink_V_novelty', 'sink_PT_novelty', 'sink_PV_novelty', 'sink_n_authors', 'year_span', 'journal_same', 'mesh_sim', 'title_sim', 'lang_sim', 'affiliation_sim', 'pubtype_sim', 'cite_sim', 'author_sim', 'gender_sim', 'eth_sim', 'n_common_authors', 'auid', 'gender', 'eth1', 'eth2', 'pos', 'pos_nice', 'sink_last_ncites', 'sink_prev_ncites', 'auth_last_npapers', 'auth_prev_papers', 'jj_sim', 'is_self_cite']\n"
     ]
    }
   ],
   "source": [
    "print colnames"
   ]
  },
  {
   "cell_type": "markdown",
   "metadata": {},
   "source": [
    "## DataFrame schema"
   ]
  },
  {
   "cell_type": "code",
   "execution_count": 8,
   "metadata": {
    "collapsed": false
   },
   "outputs": [],
   "source": [
    "string_type_idx = [2,6,19,44,45,46,47]\n",
    "float_type_idx = [34,35,36,37,38,39,40,41,42,54]\n",
    "# rest everything is int\n",
    "schema = T.StructType([\n",
    "        T.StructField(k, T.StringType() if i in string_type_idx else T.FloatType() if i in float_type_idx else T.IntegerType(),\n",
    "                     True)\n",
    "        for i,k in enumerate(colnames)\n",
    "    ])"
   ]
  },
  {
   "cell_type": "code",
   "execution_count": 9,
   "metadata": {
    "collapsed": false
   },
   "outputs": [],
   "source": [
    "df = sqlContext.read.load(\"out/training_data_full/part-*\",\n",
    "                          format=\"csv\", header=\"false\", delimiter=\"\\t\", schema=schema, nullValue=\"nan\")"
   ]
  },
  {
   "cell_type": "code",
   "execution_count": 10,
   "metadata": {
    "collapsed": false,
    "scrolled": false
   },
   "outputs": [
    {
     "name": "stdout",
     "output_type": "stream",
     "text": [
      "+---------+-----------+--------------------+-------------+----------------+-------------+--------------+-----------------+----------------+------------------+--------------------+----------------+----------------+-----------------+-----------------+-------------+----------------+--------+---------+--------------------+-----------+--------------+-----------+---------------+--------------+----------------+------------------+--------------+--------------+---------------+---------------+--------------+---------+------------+-----------+----------+--------+---------------+-----------+-----------+-----------+----------+----------+----------------+---------+------+-------+-------+---+--------+----------------+----------------+-----------------+----------------+-------+------------+\n",
      "|source_id|source_year|            source_j|source_n_mesh|source_n_mesh_ex|source_is_eng|source_country|source_is_journal|source_is_review|source_is_case_rep|source_is_let_ed_com|source_T_novelty|source_V_novelty|source_PT_novelty|source_PV_novelty|source_ncites|source_n_authors| sink_id|sink_year|              sink_j|sink_n_mesh|sink_n_mesh_ex|sink_is_eng|sink_is_journal|sink_is_review|sink_is_case_rep|sink_is_let_ed_com|sink_T_novelty|sink_V_novelty|sink_PT_novelty|sink_PV_novelty|sink_n_authors|year_span|journal_same|   mesh_sim| title_sim|lang_sim|affiliation_sim|pubtype_sim|   cite_sim| author_sim|gender_sim|   eth_sim|n_common_authors|     auid|gender|   eth1|   eth2|pos|pos_nice|sink_last_ncites|sink_prev_ncites|auth_last_npapers|auth_prev_papers| jj_sim|is_self_cite|\n",
      "+---------+-----------+--------------------+-------------+----------------+-------------+--------------+-----------------+----------------+------------------+--------------------+----------------+----------------+-----------------+-----------------+-------------+----------------+--------+---------+--------------------+-----------+--------------+-----------+---------------+--------------+----------------+------------------+--------------+--------------+---------------+---------------+--------------+---------+------------+-----------+----------+--------+---------------+-----------+-----------+-----------+----------+----------+----------------+---------+------+-------+-------+---+--------+----------------+----------------+-----------------+----------------+-------+------------+\n",
      "| 15684069|       2005|Proc Natl Acad Sc...|            6|              31|            1|           USA|                1|               0|                 0|                   0|               6|             324|                0|                3|           43|              40|15215404|     2004|   Nucleic Acids Res|         11|            31|          1|              1|             0|               0|                 0|             9|          7378|              0|              1|             2|        1|           0|        0.0|0.12309149|     1.0|            1.0|        0.5|0.040816326|        0.0|0.91328865| 0.9122083|               0|8171033_2|     M|ENGLISH|ISRAELI|  1|       1|              50|               0|                4|              18|5.62209|           0|\n",
      "| 16402894|       2005|               OMICS|            4|              16|            1|           USA|                1|               0|                 0|                   0|               7|            3079|                4|               55|           43|               4|15102467|     2004|Curr Opin Biotechnol|         13|            47|          1|              1|             0|               0|                 0|             6|          6056|              0|              2|             2|        1|           0|        0.0|       0.0|     1.0|            1.0|        0.2|        0.0|        0.2|       1.0|0.91287094|               1|8171033_2|     M|ENGLISH|ISRAELI|  4|      -1|               3|               3|                4|              18|23.5999|           1|\n",
      "| 15684069|       2005|Proc Natl Acad Sc...|            6|              31|            1|           USA|                1|               0|                 0|                   0|               6|             324|                0|                3|           43|              40|15102467|     2004|Curr Opin Biotechnol|         13|            47|          1|              1|             0|               0|                 0|             6|          6056|              0|              2|             2|        1|           0| 0.11764706|0.31980106|     1.0|            1.0|        0.2|        0.0|       0.05|0.91328865|0.83881223|               2|8171033_2|     M|ENGLISH|ISRAELI|  1|       1|               3|               3|                4|              18|6.29308|           1|\n",
      "| 16402894|       2005|               OMICS|            4|              16|            1|           USA|                1|               0|                 0|                   0|               7|            3079|                4|               55|           43|               4|15481949|     2004|           Anal Chem|          4|            13|          1|              1|             0|               0|                 0|            12|          7293|              3|             11|             5|        1|           0| 0.14285715| 0.3142697|     1.0|            1.0|       0.25|0.104477614|        0.0| 0.9701425|  0.559017|               0|8171033_2|     M|ENGLISH|ISRAELI|  4|      -1|               4|               0|                4|              18|8.69903|           0|\n",
      "| 16209638|       2005|               OMICS|           10|              41|            1|           USA|                1|               0|                 0|                   0|               6|            3079|                1|                2|           16|               4| 3239801|     1988|           Anal Chem|          3|             9|          1|              1|             0|               0|                 0|            25|          7493|             18|             78|             2|       17|           0|0.083333336|0.13363062|     1.0|            0.0| 0.33333334|        0.0|        0.0| 0.9486833|       0.5|               0|8171033_2|     M|ENGLISH|ISRAELI|  4|      -1|             179|            1067|                4|              18|8.69903|           0|\n",
      "| 15684069|       2005|Proc Natl Acad Sc...|            6|              31|            1|           USA|                1|               0|                 0|                   0|               6|             324|                0|                3|           43|              40| 9254694|     1997|   Nucleic Acids Res|         10|            36|          1|              1|             1|               0|                 0|            24|          6922|              1|              3|             7|        8|           0|        0.0|       0.0|     1.0|            1.0|       0.25|        0.0|        0.0| 0.7509262|0.96422476|               0|8171033_2|     M|ENGLISH|ISRAELI|  1|       1|            2450|           12235|                4|              18|5.62209|           0|\n",
      "| 16402894|       2005|               OMICS|            4|              16|            1|           USA|                1|               0|                 0|                   0|               7|            3079|                4|               55|           43|               4|15107238|     2004|               OMICS|         10|            41|          1|              1|             0|               0|                 0|             5|          2745|              0|              3|             3|        1|           1| 0.27272728|       0.0|     1.0|            1.0|        1.0| 0.09615385| 0.16666667|       1.0| 0.9192388|               1|8171033_2|     M|ENGLISH|ISRAELI|  4|      -1|               5|               2|                4|              18|575.043|           1|\n",
      "| 16209638|       2005|               OMICS|           10|              41|            1|           USA|                1|               0|                 0|                   0|               6|            3079|                1|                2|           16|               4|15107238|     2004|               OMICS|         10|            41|          1|              1|             0|               0|                 0|             5|          2745|              0|              3|             3|        1|           1|       0.25|       0.0|     1.0|            1.0|        1.0|0.071428575| 0.16666667| 0.9486833| 0.8944272|               1|8171033_2|     M|ENGLISH|ISRAELI|  4|      -1|               5|               2|                4|              18|575.043|           1|\n",
      "| 15684069|       2005|Proc Natl Acad Sc...|            6|              31|            1|           USA|                1|               0|                 0|                   0|               6|             324|                0|                3|           43|              40|15107238|     2004|               OMICS|         10|            41|          1|              1|             0|               0|                 0|             5|          2745|              0|              3|             3|        1|           0| 0.06666667|       0.0|     1.0|            1.0|        1.0|0.055555556|      0.075|0.91328865| 0.9015159|               3|8171033_2|     M|ENGLISH|ISRAELI|  1|       1|               5|               2|                4|              18|    0.0|           1|\n",
      "| 16402894|       2005|               OMICS|            4|              16|            1|           USA|                1|               0|                 0|                   0|               7|            3079|                4|               55|           43|               4|14976030|     2004|      Bioinformatics|          9|            28|          1|              1|             0|               0|                 0|             6|          2031|              0|              2|             2|        1|           0|        0.3|0.47140452|     1.0|            0.0| 0.33333334| 0.04347826|        0.0|       1.0| 0.9486833|               0|8171033_2|     M|ENGLISH|ISRAELI|  4|      -1|              20|               0|                4|              18|34.4224|           0|\n",
      "| 15684069|       2005|Proc Natl Acad Sc...|            6|              31|            1|           USA|                1|               0|                 0|                   0|               6|             324|                0|                3|           43|              40|10705439|     1999|      Bioinformatics|          7|            33|          1|              1|             0|               0|                 0|             4|            49|              0|              1|             1|        6|           0|0.083333336|0.08703883|     1.0|            0.0|        0.5|        0.0|        0.0|0.91328865|0.96252334|               0|8171033_2|     M|ENGLISH|ISRAELI|  1|       1|               5|               6|                4|              18|    0.0|           0|\n",
      "| 16209638|       2005|               OMICS|           10|              41|            1|           USA|                1|               0|                 0|                   0|               6|            3079|                1|                2|           16|               4|11444609|     2001|J Am Soc Mass Spe...|          0|             0|          1|              1|             0|               0|                 0|          null|          null|           null|           null|             3|        4|           0|        0.0|       0.0|     1.0|            1.0|        0.5|        0.0|        0.0| 0.9486833| 0.6666667|               0|8171033_2|     M|ENGLISH|ISRAELI|  4|      -1|              11|              15|                4|              18|17.4745|           0|\n",
      "| 15684069|       2005|Proc Natl Acad Sc...|            6|              31|            1|           USA|                1|               0|                 0|                   0|               6|             324|                0|                3|           43|              40|12177431|     2002|Proc Natl Acad Sc...|          9|            31|          1|              1|             0|               0|                 0|            10|           525|              0|              1|            22|        3|           1|0.071428575|0.10660036|     1.0|            1.0|        1.0|        0.0| 0.10714286|0.94469804| 0.9804286|               6|8171033_2|     M|ENGLISH|ISRAELI|  1|       1|              35|              86|                4|              18|15.1826|           0|\n",
      "| 16402894|       2005|               OMICS|            4|              16|            1|           USA|                1|               0|                 0|                   0|               7|            3079|                4|               55|           43|               4|10612289|     1999|     Electrophoresis|          8|            38|          1|              1|             0|               0|                 0|            20|          5733|              6|              7|             5|        6|           0|        0.0|0.09245003|     1.0|            0.0|       0.25|        0.0|        0.0| 0.9701425| 0.6708204|               0|8171033_2|     M|ENGLISH|ISRAELI|  4|      -1|              13|              36|                4|              18|    0.0|           0|\n",
      "| 15684069|       2005|Proc Natl Acad Sc...|            6|              31|            1|           USA|                1|               0|                 0|                   0|               6|             324|                0|                3|           43|              40|15024411|     2004|           PLoS Biol|         13|            41|          1|              1|             0|               0|                 0|            17|          2642|              0|              1|             1|        1|           0|0.055555556|       0.0|     1.0|            1.0|        0.5|        0.0|        0.0|0.91328865|0.96252334|               0|8171033_2|     M|ENGLISH|ISRAELI|  1|       1|               6|               4|                4|              18|    0.0|           0|\n",
      "| 16402894|       2005|               OMICS|            4|              16|            1|           USA|                1|               0|                 0|                   0|               7|            3079|                4|               55|           43|               4|10612295|     1999|     Electrophoresis|          5|            30|          1|              1|             0|               0|                 0|            53|          3511|             25|              7|             5|        6|           0|        0.0|0.10050378|     1.0|            0.0| 0.33333334|        0.0|        0.0| 0.5547002|0.47434166|               0|8171033_2|     M|ENGLISH|ISRAELI|  4|      -1|               7|              28|                4|              18|    0.0|           0|\n",
      "| 16209638|       2005|               OMICS|           10|              41|            1|           USA|                1|               0|                 0|                   0|               6|            3079|                1|                2|           16|               4|12923768|     2003|          Proteomics|          3|             9|          1|              1|             0|               0|                 0|            35|         42605|             11|            141|             5|        2|           0| 0.18181819| 0.3380617|     1.0|            0.0|        0.5|        0.1|        0.0| 0.9486833|0.33333334|               0|8171033_2|     M|ENGLISH|ISRAELI|  4|      -1|               3|               7|                4|              18|18.9482|           0|\n",
      "| 16402894|       2005|               OMICS|            4|              16|            1|           USA|                1|               0|                 0|                   0|               7|            3079|                4|               55|           43|               4|12403597|     2002|           Anal Chem|          5|            24|          1|              1|             0|               0|                 0|            29|         16901|              2|             59|             4|        3|           0|  0.2857143| 0.2773501|     1.0|            1.0|        0.5|0.060606062| 0.14285715|       1.0| 0.9503289|               1|8171033_2|     M|ENGLISH|ISRAELI|  4|      -1|              87|              81|                4|              18|8.69903|           1|\n",
      "| 16402894|       2005|               OMICS|            4|              16|            1|           USA|                1|               0|                 0|                   0|               7|            3079|                4|               55|           43|               4|12143966|     2002|               OMICS|          8|            35|          1|              1|             0|               0|                 0|            36|         40137|              0|              1|             6|        3|           1|        0.2|0.35355338|     1.0|            1.0|        0.5| 0.28301886| 0.11111111|       1.0|0.92313266|               1|8171033_2|     M|ENGLISH|ISRAELI|  4|      -1|              12|              11|                4|              18|575.043|           1|\n",
      "| 15684069|       2005|Proc Natl Acad Sc...|            6|              31|            1|           USA|                1|               0|                 0|                   0|               6|             324|                0|                3|           43|              40|12143966|     2002|               OMICS|          8|            35|          1|              1|             0|               0|                 0|            36|         40137|              0|              1|             6|        3|           0|        0.0|       0.0|     1.0|            1.0|        0.5|0.014925373|0.045454547|0.91328865| 0.9694188|               2|8171033_2|     M|ENGLISH|ISRAELI|  1|       1|              12|              11|                4|              18|    0.0|           1|\n",
      "+---------+-----------+--------------------+-------------+----------------+-------------+--------------+-----------------+----------------+------------------+--------------------+----------------+----------------+-----------------+-----------------+-------------+----------------+--------+---------+--------------------+-----------+--------------+-----------+---------------+--------------+----------------+------------------+--------------+--------------+---------------+---------------+--------------+---------+------------+-----------+----------+--------+---------------+-----------+-----------+-----------+----------+----------+----------------+---------+------+-------+-------+---+--------+----------------+----------------+-----------------+----------------+-------+------------+\n",
      "only showing top 20 rows\n",
      "\n"
     ]
    }
   ],
   "source": [
    "df.show()"
   ]
  },
  {
   "cell_type": "code",
   "execution_count": 11,
   "metadata": {
    "collapsed": false
   },
   "outputs": [
    {
     "data": {
      "text/plain": [
       "StructType(List(StructField(source_id,IntegerType,true),StructField(source_year,IntegerType,true),StructField(source_j,StringType,true),StructField(source_n_mesh,IntegerType,true),StructField(source_n_mesh_ex,IntegerType,true),StructField(source_is_eng,IntegerType,true),StructField(source_country,StringType,true),StructField(source_is_journal,IntegerType,true),StructField(source_is_review,IntegerType,true),StructField(source_is_case_rep,IntegerType,true),StructField(source_is_let_ed_com,IntegerType,true),StructField(source_T_novelty,IntegerType,true),StructField(source_V_novelty,IntegerType,true),StructField(source_PT_novelty,IntegerType,true),StructField(source_PV_novelty,IntegerType,true),StructField(source_ncites,IntegerType,true),StructField(source_n_authors,IntegerType,true),StructField(sink_id,IntegerType,true),StructField(sink_year,IntegerType,true),StructField(sink_j,StringType,true),StructField(sink_n_mesh,IntegerType,true),StructField(sink_n_mesh_ex,IntegerType,true),StructField(sink_is_eng,IntegerType,true),StructField(sink_is_journal,IntegerType,true),StructField(sink_is_review,IntegerType,true),StructField(sink_is_case_rep,IntegerType,true),StructField(sink_is_let_ed_com,IntegerType,true),StructField(sink_T_novelty,IntegerType,true),StructField(sink_V_novelty,IntegerType,true),StructField(sink_PT_novelty,IntegerType,true),StructField(sink_PV_novelty,IntegerType,true),StructField(sink_n_authors,IntegerType,true),StructField(year_span,IntegerType,true),StructField(journal_same,IntegerType,true),StructField(mesh_sim,FloatType,true),StructField(title_sim,FloatType,true),StructField(lang_sim,FloatType,true),StructField(affiliation_sim,FloatType,true),StructField(pubtype_sim,FloatType,true),StructField(cite_sim,FloatType,true),StructField(author_sim,FloatType,true),StructField(gender_sim,FloatType,true),StructField(eth_sim,FloatType,true),StructField(n_common_authors,IntegerType,true),StructField(auid,StringType,true),StructField(gender,StringType,true),StructField(eth1,StringType,true),StructField(eth2,StringType,true),StructField(pos,IntegerType,true),StructField(pos_nice,IntegerType,true),StructField(sink_last_ncites,IntegerType,true),StructField(sink_prev_ncites,IntegerType,true),StructField(auth_last_npapers,IntegerType,true),StructField(auth_prev_papers,IntegerType,true),StructField(jj_sim,FloatType,true),StructField(is_self_cite,IntegerType,true)))"
      ]
     },
     "execution_count": 11,
     "metadata": {},
     "output_type": "execute_result"
    }
   ],
   "source": [
    "df.schema"
   ]
  },
  {
   "cell_type": "code",
   "execution_count": 35,
   "metadata": {
    "collapsed": true
   },
   "outputs": [],
   "source": [
    "df.write.parquet(\"out/Training_2002_2005.parquet\")"
   ]
  },
  {
   "cell_type": "markdown",
   "metadata": {},
   "source": [
    "## Store in pandas HDFS format"
   ]
  },
  {
   "cell_type": "code",
   "execution_count": 3,
   "metadata": {
    "collapsed": false
   },
   "outputs": [
    {
     "data": {
      "text/plain": [
       "['source_id',\n",
       " 'source_year',\n",
       " 'source_j',\n",
       " 'source_n_mesh',\n",
       " 'source_n_mesh_ex',\n",
       " 'source_is_eng',\n",
       " 'source_country',\n",
       " 'source_is_journal',\n",
       " 'source_is_review',\n",
       " 'source_is_case_rep',\n",
       " 'source_is_let_ed_com',\n",
       " 'source_T_novelty',\n",
       " 'source_V_novelty',\n",
       " 'source_PT_novelty',\n",
       " 'source_PV_novelty',\n",
       " 'source_ncites',\n",
       " 'source_n_authors',\n",
       " 'sink_id',\n",
       " 'sink_year',\n",
       " 'sink_j',\n",
       " 'sink_n_mesh',\n",
       " 'sink_n_mesh_ex',\n",
       " 'sink_is_eng',\n",
       " 'sink_is_journal',\n",
       " 'sink_is_review',\n",
       " 'sink_is_case_rep',\n",
       " 'sink_is_let_ed_com',\n",
       " 'sink_T_novelty',\n",
       " 'sink_V_novelty',\n",
       " 'sink_PT_novelty',\n",
       " 'sink_PV_novelty',\n",
       " 'sink_n_authors',\n",
       " 'year_span',\n",
       " 'journal_same',\n",
       " 'mesh_sim',\n",
       " 'title_sim',\n",
       " 'lang_sim',\n",
       " 'affiliation_sim',\n",
       " 'pubtype_sim',\n",
       " 'cite_sim',\n",
       " 'author_sim',\n",
       " 'gender_sim',\n",
       " 'eth_sim',\n",
       " 'n_common_authors',\n",
       " 'auid',\n",
       " 'gender',\n",
       " 'eth1',\n",
       " 'eth2',\n",
       " 'pos',\n",
       " 'pos_nice',\n",
       " 'sink_last_ncites',\n",
       " 'sink_prev_ncites',\n",
       " 'auth_last_npapers',\n",
       " 'auth_prev_papers',\n",
       " 'jj_sim',\n",
       " 'is_self_cite']"
      ]
     },
     "execution_count": 3,
     "metadata": {},
     "output_type": "execute_result"
    }
   ],
   "source": [
    "df = sqlContext.read.parquet(\"out/Training_2002_2005.parquet\")\n",
    "df.columns"
   ]
  },
  {
   "cell_type": "markdown",
   "metadata": {},
   "source": [
    "## Store first author data"
   ]
  },
  {
   "cell_type": "code",
   "execution_count": 6,
   "metadata": {
    "collapsed": false
   },
   "outputs": [],
   "source": [
    "df.filter(\"pos_nice == 1\").write.format(\"csv\").options(header=\"false\", delimiter=\"\\t\").save(\"out/Training_2002_2005.txt\")"
   ]
  },
  {
   "cell_type": "code",
   "execution_count": 8,
   "metadata": {
    "collapsed": false
   },
   "outputs": [],
   "source": [
    "! cat out/Training_2002_2005.txt/*.csv > out/Training_2002_2005.first_author.txt"
   ]
  },
  {
   "cell_type": "code",
   "execution_count": 3,
   "metadata": {
    "collapsed": false
   },
   "outputs": [],
   "source": [
    "df_p = pd.read_csv(\"out/Training_2002_2005.first_author.txt\", sep=\"\\t\", header=None)"
   ]
  },
  {
   "cell_type": "code",
   "execution_count": 4,
   "metadata": {
    "collapsed": false
   },
   "outputs": [
    {
     "data": {
      "text/html": [
       "<div>\n",
       "<table border=\"1\" class=\"dataframe\">\n",
       "  <thead>\n",
       "    <tr style=\"text-align: right;\">\n",
       "      <th></th>\n",
       "      <th>0</th>\n",
       "      <th>1</th>\n",
       "      <th>2</th>\n",
       "      <th>3</th>\n",
       "      <th>4</th>\n",
       "      <th>5</th>\n",
       "      <th>6</th>\n",
       "      <th>7</th>\n",
       "      <th>8</th>\n",
       "      <th>9</th>\n",
       "      <th>...</th>\n",
       "      <th>46</th>\n",
       "      <th>47</th>\n",
       "      <th>48</th>\n",
       "      <th>49</th>\n",
       "      <th>50</th>\n",
       "      <th>51</th>\n",
       "      <th>52</th>\n",
       "      <th>53</th>\n",
       "      <th>54</th>\n",
       "      <th>55</th>\n",
       "    </tr>\n",
       "  </thead>\n",
       "  <tbody>\n",
       "    <tr>\n",
       "      <th>0</th>\n",
       "      <td>16526454</td>\n",
       "      <td>2005</td>\n",
       "      <td>J AOAC Int</td>\n",
       "      <td>11</td>\n",
       "      <td>53</td>\n",
       "      <td>1</td>\n",
       "      <td>JAPAN</td>\n",
       "      <td>1</td>\n",
       "      <td>0</td>\n",
       "      <td>0</td>\n",
       "      <td>...</td>\n",
       "      <td>JAPANESE</td>\n",
       "      <td>UNKNOWN</td>\n",
       "      <td>1</td>\n",
       "      <td>1</td>\n",
       "      <td>2</td>\n",
       "      <td>1</td>\n",
       "      <td>1</td>\n",
       "      <td>20</td>\n",
       "      <td>14.6053</td>\n",
       "      <td>0</td>\n",
       "    </tr>\n",
       "  </tbody>\n",
       "</table>\n",
       "<p>1 rows × 56 columns</p>\n",
       "</div>"
      ],
      "text/plain": [
       "         0     1           2   3   4   5      6   7   8   9  ...        46  \\\n",
       "0  16526454  2005  J AOAC Int  11  53   1  JAPAN   1   0   0 ...  JAPANESE   \n",
       "\n",
       "        47  48  49  50  51  52  53       54 55  \n",
       "0  UNKNOWN   1   1   2   1   1  20  14.6053  0  \n",
       "\n",
       "[1 rows x 56 columns]"
      ]
     },
     "execution_count": 4,
     "metadata": {},
     "output_type": "execute_result"
    }
   ],
   "source": [
    "df_p.head(1)"
   ]
  },
  {
   "cell_type": "code",
   "execution_count": 6,
   "metadata": {
    "collapsed": true
   },
   "outputs": [],
   "source": [
    "df_p.columns = colnames"
   ]
  },
  {
   "cell_type": "code",
   "execution_count": 7,
   "metadata": {
    "collapsed": false
   },
   "outputs": [
    {
     "data": {
      "text/html": [
       "<div>\n",
       "<table border=\"1\" class=\"dataframe\">\n",
       "  <thead>\n",
       "    <tr style=\"text-align: right;\">\n",
       "      <th></th>\n",
       "      <th>source_id</th>\n",
       "      <th>source_year</th>\n",
       "      <th>source_j</th>\n",
       "      <th>source_n_mesh</th>\n",
       "      <th>source_n_mesh_ex</th>\n",
       "      <th>source_is_eng</th>\n",
       "      <th>source_country</th>\n",
       "      <th>source_is_journal</th>\n",
       "      <th>source_is_review</th>\n",
       "      <th>source_is_case_rep</th>\n",
       "      <th>...</th>\n",
       "      <th>eth1</th>\n",
       "      <th>eth2</th>\n",
       "      <th>pos</th>\n",
       "      <th>pos_nice</th>\n",
       "      <th>sink_last_ncites</th>\n",
       "      <th>sink_prev_ncites</th>\n",
       "      <th>auth_last_npapers</th>\n",
       "      <th>auth_prev_papers</th>\n",
       "      <th>jj_sim</th>\n",
       "      <th>is_self_cite</th>\n",
       "    </tr>\n",
       "  </thead>\n",
       "  <tbody>\n",
       "    <tr>\n",
       "      <th>0</th>\n",
       "      <td>16526454</td>\n",
       "      <td>2005</td>\n",
       "      <td>J AOAC Int</td>\n",
       "      <td>11</td>\n",
       "      <td>53</td>\n",
       "      <td>1</td>\n",
       "      <td>JAPAN</td>\n",
       "      <td>1</td>\n",
       "      <td>0</td>\n",
       "      <td>0</td>\n",
       "      <td>...</td>\n",
       "      <td>JAPANESE</td>\n",
       "      <td>UNKNOWN</td>\n",
       "      <td>1</td>\n",
       "      <td>1</td>\n",
       "      <td>2</td>\n",
       "      <td>1</td>\n",
       "      <td>1</td>\n",
       "      <td>20</td>\n",
       "      <td>14.6053</td>\n",
       "      <td>0</td>\n",
       "    </tr>\n",
       "    <tr>\n",
       "      <th>1</th>\n",
       "      <td>16526454</td>\n",
       "      <td>2005</td>\n",
       "      <td>J AOAC Int</td>\n",
       "      <td>11</td>\n",
       "      <td>53</td>\n",
       "      <td>1</td>\n",
       "      <td>JAPAN</td>\n",
       "      <td>1</td>\n",
       "      <td>0</td>\n",
       "      <td>0</td>\n",
       "      <td>...</td>\n",
       "      <td>JAPANESE</td>\n",
       "      <td>UNKNOWN</td>\n",
       "      <td>1</td>\n",
       "      <td>1</td>\n",
       "      <td>1</td>\n",
       "      <td>2</td>\n",
       "      <td>1</td>\n",
       "      <td>20</td>\n",
       "      <td>14.6053</td>\n",
       "      <td>1</td>\n",
       "    </tr>\n",
       "    <tr>\n",
       "      <th>2</th>\n",
       "      <td>14595765</td>\n",
       "      <td>2003</td>\n",
       "      <td>J Comp Neurol</td>\n",
       "      <td>17</td>\n",
       "      <td>71</td>\n",
       "      <td>1</td>\n",
       "      <td>JAPAN</td>\n",
       "      <td>1</td>\n",
       "      <td>0</td>\n",
       "      <td>0</td>\n",
       "      <td>...</td>\n",
       "      <td>JAPANESE</td>\n",
       "      <td>UNKNOWN</td>\n",
       "      <td>1</td>\n",
       "      <td>1</td>\n",
       "      <td>5</td>\n",
       "      <td>8</td>\n",
       "      <td>1</td>\n",
       "      <td>7</td>\n",
       "      <td>0.0000</td>\n",
       "      <td>0</td>\n",
       "    </tr>\n",
       "    <tr>\n",
       "      <th>3</th>\n",
       "      <td>14595765</td>\n",
       "      <td>2003</td>\n",
       "      <td>J Comp Neurol</td>\n",
       "      <td>17</td>\n",
       "      <td>71</td>\n",
       "      <td>1</td>\n",
       "      <td>JAPAN</td>\n",
       "      <td>1</td>\n",
       "      <td>0</td>\n",
       "      <td>0</td>\n",
       "      <td>...</td>\n",
       "      <td>JAPANESE</td>\n",
       "      <td>UNKNOWN</td>\n",
       "      <td>1</td>\n",
       "      <td>1</td>\n",
       "      <td>5</td>\n",
       "      <td>17</td>\n",
       "      <td>1</td>\n",
       "      <td>7</td>\n",
       "      <td>5.5691</td>\n",
       "      <td>0</td>\n",
       "    </tr>\n",
       "    <tr>\n",
       "      <th>4</th>\n",
       "      <td>14595765</td>\n",
       "      <td>2003</td>\n",
       "      <td>J Comp Neurol</td>\n",
       "      <td>17</td>\n",
       "      <td>71</td>\n",
       "      <td>1</td>\n",
       "      <td>JAPAN</td>\n",
       "      <td>1</td>\n",
       "      <td>0</td>\n",
       "      <td>0</td>\n",
       "      <td>...</td>\n",
       "      <td>JAPANESE</td>\n",
       "      <td>UNKNOWN</td>\n",
       "      <td>1</td>\n",
       "      <td>1</td>\n",
       "      <td>9</td>\n",
       "      <td>22</td>\n",
       "      <td>1</td>\n",
       "      <td>7</td>\n",
       "      <td>5.5691</td>\n",
       "      <td>0</td>\n",
       "    </tr>\n",
       "  </tbody>\n",
       "</table>\n",
       "<p>5 rows × 56 columns</p>\n",
       "</div>"
      ],
      "text/plain": [
       "   source_id  source_year       source_j  source_n_mesh  source_n_mesh_ex  \\\n",
       "0   16526454         2005     J AOAC Int             11                53   \n",
       "1   16526454         2005     J AOAC Int             11                53   \n",
       "2   14595765         2003  J Comp Neurol             17                71   \n",
       "3   14595765         2003  J Comp Neurol             17                71   \n",
       "4   14595765         2003  J Comp Neurol             17                71   \n",
       "\n",
       "   source_is_eng source_country  source_is_journal  source_is_review  \\\n",
       "0              1          JAPAN                  1                 0   \n",
       "1              1          JAPAN                  1                 0   \n",
       "2              1          JAPAN                  1                 0   \n",
       "3              1          JAPAN                  1                 0   \n",
       "4              1          JAPAN                  1                 0   \n",
       "\n",
       "   source_is_case_rep     ...           eth1     eth2  pos  pos_nice  \\\n",
       "0                   0     ...       JAPANESE  UNKNOWN    1         1   \n",
       "1                   0     ...       JAPANESE  UNKNOWN    1         1   \n",
       "2                   0     ...       JAPANESE  UNKNOWN    1         1   \n",
       "3                   0     ...       JAPANESE  UNKNOWN    1         1   \n",
       "4                   0     ...       JAPANESE  UNKNOWN    1         1   \n",
       "\n",
       "   sink_last_ncites  sink_prev_ncites  auth_last_npapers  auth_prev_papers  \\\n",
       "0                 2                 1                  1                20   \n",
       "1                 1                 2                  1                20   \n",
       "2                 5                 8                  1                 7   \n",
       "3                 5                17                  1                 7   \n",
       "4                 9                22                  1                 7   \n",
       "\n",
       "    jj_sim is_self_cite  \n",
       "0  14.6053            0  \n",
       "1  14.6053            1  \n",
       "2   0.0000            0  \n",
       "3   5.5691            0  \n",
       "4   5.5691            0  \n",
       "\n",
       "[5 rows x 56 columns]"
      ]
     },
     "execution_count": 7,
     "metadata": {},
     "output_type": "execute_result"
    }
   ],
   "source": [
    "df_p.head()"
   ]
  },
  {
   "cell_type": "code",
   "execution_count": 8,
   "metadata": {
    "collapsed": true
   },
   "outputs": [],
   "source": [
    "with pd.HDFStore(\"out/Training_2002_2005.h5\") as store:\n",
    "    store[\"first_author\"] = df_p"
   ]
  },
  {
   "cell_type": "markdown",
   "metadata": {},
   "source": [
    "## Store last author data"
   ]
  },
  {
   "cell_type": "code",
   "execution_count": 4,
   "metadata": {
    "collapsed": false
   },
   "outputs": [],
   "source": [
    "df.filter(\"pos_nice == -1\").write.format(\"csv\").options(header=\"false\", delimiter=\"\\t\").save(\"out/Training_2002_2005.txt\")"
   ]
  },
  {
   "cell_type": "code",
   "execution_count": 5,
   "metadata": {
    "collapsed": true
   },
   "outputs": [],
   "source": [
    "! cat out/Training_2002_2005.txt/*.csv > out/Training_2002_2005.last_author.txt"
   ]
  },
  {
   "cell_type": "code",
   "execution_count": 6,
   "metadata": {
    "collapsed": true
   },
   "outputs": [],
   "source": [
    "df_p = pd.read_csv(\"out/Training_2002_2005.last_author.txt\", sep=\"\\t\", header=None)"
   ]
  },
  {
   "cell_type": "code",
   "execution_count": 7,
   "metadata": {
    "collapsed": false
   },
   "outputs": [
    {
     "data": {
      "text/html": [
       "<div>\n",
       "<table border=\"1\" class=\"dataframe\">\n",
       "  <thead>\n",
       "    <tr style=\"text-align: right;\">\n",
       "      <th></th>\n",
       "      <th>0</th>\n",
       "      <th>1</th>\n",
       "      <th>2</th>\n",
       "      <th>3</th>\n",
       "      <th>4</th>\n",
       "      <th>5</th>\n",
       "      <th>6</th>\n",
       "      <th>7</th>\n",
       "      <th>8</th>\n",
       "      <th>9</th>\n",
       "      <th>...</th>\n",
       "      <th>46</th>\n",
       "      <th>47</th>\n",
       "      <th>48</th>\n",
       "      <th>49</th>\n",
       "      <th>50</th>\n",
       "      <th>51</th>\n",
       "      <th>52</th>\n",
       "      <th>53</th>\n",
       "      <th>54</th>\n",
       "      <th>55</th>\n",
       "    </tr>\n",
       "  </thead>\n",
       "  <tbody>\n",
       "    <tr>\n",
       "      <th>0</th>\n",
       "      <td>15556007</td>\n",
       "      <td>2004</td>\n",
       "      <td>Chem Biol</td>\n",
       "      <td>7</td>\n",
       "      <td>41</td>\n",
       "      <td>1</td>\n",
       "      <td>GERMANY</td>\n",
       "      <td>1</td>\n",
       "      <td>0</td>\n",
       "      <td>0</td>\n",
       "      <td>...</td>\n",
       "      <td>GERMAN</td>\n",
       "      <td>UNKNOWN</td>\n",
       "      <td>7</td>\n",
       "      <td>-1</td>\n",
       "      <td>8</td>\n",
       "      <td>51</td>\n",
       "      <td>12</td>\n",
       "      <td>46</td>\n",
       "      <td>0.0</td>\n",
       "      <td>0</td>\n",
       "    </tr>\n",
       "  </tbody>\n",
       "</table>\n",
       "<p>1 rows × 56 columns</p>\n",
       "</div>"
      ],
      "text/plain": [
       "         0     1          2   3   4   5        6   7   8   9  ...      46  \\\n",
       "0  15556007  2004  Chem Biol   7  41   1  GERMANY   1   0   0 ...  GERMAN   \n",
       "\n",
       "        47  48  49  50  51  52  53   54 55  \n",
       "0  UNKNOWN   7  -1   8  51  12  46  0.0  0  \n",
       "\n",
       "[1 rows x 56 columns]"
      ]
     },
     "execution_count": 7,
     "metadata": {},
     "output_type": "execute_result"
    }
   ],
   "source": [
    "df_p.head(1)"
   ]
  },
  {
   "cell_type": "code",
   "execution_count": 9,
   "metadata": {
    "collapsed": true
   },
   "outputs": [],
   "source": [
    "colnames = [\"source_id\", \"source_year\", \"source_j\", \"source_n_mesh\", \"source_n_mesh_ex\",\n",
    "           \"source_is_eng\", \"source_country\", \"source_is_journal\", \"source_is_review\", \"source_is_case_rep\",\n",
    "           \"source_is_let_ed_com\", \"source_T_novelty\", \"source_V_novelty\", \"source_PT_novelty\", \"source_PV_novelty\",\n",
    "           \"source_ncites\", \"source_n_authors\",\n",
    "           \"sink_id\", \"sink_year\", \"sink_j\", \"sink_n_mesh\", \"sink_n_mesh_ex\",\n",
    "           \"sink_is_eng\", \"sink_is_journal\", \"sink_is_review\", \"sink_is_case_rep\",\n",
    "           \"sink_is_let_ed_com\", \"sink_T_novelty\", \"sink_V_novelty\", \"sink_PT_novelty\", \"sink_PV_novelty\",\n",
    "           \"sink_n_authors\",\n",
    "           \"year_span\", \"journal_same\", \"mesh_sim\", \"title_sim\", \"lang_sim\", \"affiliation_sim\",\n",
    "           \"pubtype_sim\", \"cite_sim\", \"author_sim\", \"gender_sim\", \"eth_sim\", \"n_common_authors\",\n",
    "           \"auid\", \"gender\", \"eth1\", \"eth2\", \"pos\", \"pos_nice\",            \n",
    "            \"sink_last_ncites\",\"sink_prev_ncites\",\n",
    "            \"auth_last_npapers\",\"auth_prev_papers\",\n",
    "            \"jj_sim\",\n",
    "            \"is_self_cite\"\n",
    "           ]"
   ]
  },
  {
   "cell_type": "code",
   "execution_count": 10,
   "metadata": {
    "collapsed": false
   },
   "outputs": [],
   "source": [
    "df_p.columns = colnames"
   ]
  },
  {
   "cell_type": "code",
   "execution_count": 11,
   "metadata": {
    "collapsed": false
   },
   "outputs": [
    {
     "data": {
      "text/html": [
       "<div>\n",
       "<table border=\"1\" class=\"dataframe\">\n",
       "  <thead>\n",
       "    <tr style=\"text-align: right;\">\n",
       "      <th></th>\n",
       "      <th>source_id</th>\n",
       "      <th>source_year</th>\n",
       "      <th>source_j</th>\n",
       "      <th>source_n_mesh</th>\n",
       "      <th>source_n_mesh_ex</th>\n",
       "      <th>source_is_eng</th>\n",
       "      <th>source_country</th>\n",
       "      <th>source_is_journal</th>\n",
       "      <th>source_is_review</th>\n",
       "      <th>source_is_case_rep</th>\n",
       "      <th>...</th>\n",
       "      <th>eth1</th>\n",
       "      <th>eth2</th>\n",
       "      <th>pos</th>\n",
       "      <th>pos_nice</th>\n",
       "      <th>sink_last_ncites</th>\n",
       "      <th>sink_prev_ncites</th>\n",
       "      <th>auth_last_npapers</th>\n",
       "      <th>auth_prev_papers</th>\n",
       "      <th>jj_sim</th>\n",
       "      <th>is_self_cite</th>\n",
       "    </tr>\n",
       "  </thead>\n",
       "  <tbody>\n",
       "    <tr>\n",
       "      <th>0</th>\n",
       "      <td>15556007</td>\n",
       "      <td>2004</td>\n",
       "      <td>Chem Biol</td>\n",
       "      <td>7</td>\n",
       "      <td>41</td>\n",
       "      <td>1</td>\n",
       "      <td>GERMANY</td>\n",
       "      <td>1</td>\n",
       "      <td>0</td>\n",
       "      <td>0</td>\n",
       "      <td>...</td>\n",
       "      <td>GERMAN</td>\n",
       "      <td>UNKNOWN</td>\n",
       "      <td>7</td>\n",
       "      <td>-1</td>\n",
       "      <td>8</td>\n",
       "      <td>51</td>\n",
       "      <td>12</td>\n",
       "      <td>46</td>\n",
       "      <td>0.0000</td>\n",
       "      <td>0</td>\n",
       "    </tr>\n",
       "    <tr>\n",
       "      <th>1</th>\n",
       "      <td>15047534</td>\n",
       "      <td>2004</td>\n",
       "      <td>Antimicrob Agents Chemother</td>\n",
       "      <td>11</td>\n",
       "      <td>56</td>\n",
       "      <td>1</td>\n",
       "      <td>GERMANY</td>\n",
       "      <td>1</td>\n",
       "      <td>0</td>\n",
       "      <td>0</td>\n",
       "      <td>...</td>\n",
       "      <td>GERMAN</td>\n",
       "      <td>UNKNOWN</td>\n",
       "      <td>6</td>\n",
       "      <td>-1</td>\n",
       "      <td>8</td>\n",
       "      <td>51</td>\n",
       "      <td>12</td>\n",
       "      <td>46</td>\n",
       "      <td>88.6607</td>\n",
       "      <td>0</td>\n",
       "    </tr>\n",
       "    <tr>\n",
       "      <th>2</th>\n",
       "      <td>15123279</td>\n",
       "      <td>2004</td>\n",
       "      <td>Chem Biol</td>\n",
       "      <td>13</td>\n",
       "      <td>54</td>\n",
       "      <td>1</td>\n",
       "      <td>GERMANY</td>\n",
       "      <td>1</td>\n",
       "      <td>0</td>\n",
       "      <td>0</td>\n",
       "      <td>...</td>\n",
       "      <td>GERMAN</td>\n",
       "      <td>UNKNOWN</td>\n",
       "      <td>5</td>\n",
       "      <td>-1</td>\n",
       "      <td>8</td>\n",
       "      <td>51</td>\n",
       "      <td>12</td>\n",
       "      <td>46</td>\n",
       "      <td>0.0000</td>\n",
       "      <td>0</td>\n",
       "    </tr>\n",
       "    <tr>\n",
       "      <th>3</th>\n",
       "      <td>15152806</td>\n",
       "      <td>2004</td>\n",
       "      <td>J Antibiot (Tokyo)</td>\n",
       "      <td>7</td>\n",
       "      <td>47</td>\n",
       "      <td>1</td>\n",
       "      <td>GERMANY</td>\n",
       "      <td>1</td>\n",
       "      <td>0</td>\n",
       "      <td>0</td>\n",
       "      <td>...</td>\n",
       "      <td>GERMAN</td>\n",
       "      <td>UNKNOWN</td>\n",
       "      <td>4</td>\n",
       "      <td>-1</td>\n",
       "      <td>8</td>\n",
       "      <td>51</td>\n",
       "      <td>12</td>\n",
       "      <td>46</td>\n",
       "      <td>12.1931</td>\n",
       "      <td>0</td>\n",
       "    </tr>\n",
       "    <tr>\n",
       "      <th>4</th>\n",
       "      <td>15556007</td>\n",
       "      <td>2004</td>\n",
       "      <td>Chem Biol</td>\n",
       "      <td>7</td>\n",
       "      <td>41</td>\n",
       "      <td>1</td>\n",
       "      <td>GERMANY</td>\n",
       "      <td>1</td>\n",
       "      <td>0</td>\n",
       "      <td>0</td>\n",
       "      <td>...</td>\n",
       "      <td>GERMAN</td>\n",
       "      <td>UNKNOWN</td>\n",
       "      <td>7</td>\n",
       "      <td>-1</td>\n",
       "      <td>2</td>\n",
       "      <td>2</td>\n",
       "      <td>12</td>\n",
       "      <td>46</td>\n",
       "      <td>0.0000</td>\n",
       "      <td>0</td>\n",
       "    </tr>\n",
       "  </tbody>\n",
       "</table>\n",
       "<p>5 rows × 56 columns</p>\n",
       "</div>"
      ],
      "text/plain": [
       "   source_id  source_year                     source_j  source_n_mesh  \\\n",
       "0   15556007         2004                    Chem Biol              7   \n",
       "1   15047534         2004  Antimicrob Agents Chemother             11   \n",
       "2   15123279         2004                    Chem Biol             13   \n",
       "3   15152806         2004           J Antibiot (Tokyo)              7   \n",
       "4   15556007         2004                    Chem Biol              7   \n",
       "\n",
       "   source_n_mesh_ex  source_is_eng source_country  source_is_journal  \\\n",
       "0                41              1        GERMANY                  1   \n",
       "1                56              1        GERMANY                  1   \n",
       "2                54              1        GERMANY                  1   \n",
       "3                47              1        GERMANY                  1   \n",
       "4                41              1        GERMANY                  1   \n",
       "\n",
       "   source_is_review  source_is_case_rep     ...         eth1     eth2  pos  \\\n",
       "0                 0                   0     ...       GERMAN  UNKNOWN    7   \n",
       "1                 0                   0     ...       GERMAN  UNKNOWN    6   \n",
       "2                 0                   0     ...       GERMAN  UNKNOWN    5   \n",
       "3                 0                   0     ...       GERMAN  UNKNOWN    4   \n",
       "4                 0                   0     ...       GERMAN  UNKNOWN    7   \n",
       "\n",
       "   pos_nice  sink_last_ncites  sink_prev_ncites  auth_last_npapers  \\\n",
       "0        -1                 8                51                 12   \n",
       "1        -1                 8                51                 12   \n",
       "2        -1                 8                51                 12   \n",
       "3        -1                 8                51                 12   \n",
       "4        -1                 2                 2                 12   \n",
       "\n",
       "   auth_prev_papers   jj_sim is_self_cite  \n",
       "0                46   0.0000            0  \n",
       "1                46  88.6607            0  \n",
       "2                46   0.0000            0  \n",
       "3                46  12.1931            0  \n",
       "4                46   0.0000            0  \n",
       "\n",
       "[5 rows x 56 columns]"
      ]
     },
     "execution_count": 11,
     "metadata": {},
     "output_type": "execute_result"
    }
   ],
   "source": [
    "df_p.head()"
   ]
  },
  {
   "cell_type": "code",
   "execution_count": 12,
   "metadata": {
    "collapsed": false
   },
   "outputs": [
    {
     "data": {
      "text/plain": [
       "source_id                                  15556007\n",
       "source_year                                    2004\n",
       "source_j                                  Chem Biol\n",
       "source_n_mesh                                     7\n",
       "source_n_mesh_ex                                 41\n",
       "source_is_eng                                     1\n",
       "source_country                              GERMANY\n",
       "source_is_journal                                 1\n",
       "source_is_review                                  0\n",
       "source_is_case_rep                                0\n",
       "source_is_let_ed_com                              0\n",
       "source_T_novelty                                  9\n",
       "source_V_novelty                                 26\n",
       "source_PT_novelty                                 0\n",
       "source_PV_novelty                                 1\n",
       "source_ncites                                    40\n",
       "source_n_authors                                  7\n",
       "sink_id                                     6295263\n",
       "sink_year                                      1982\n",
       "sink_j                  Antimicrob Agents Chemother\n",
       "sink_n_mesh                                       7\n",
       "sink_n_mesh_ex                                   35\n",
       "sink_is_eng                                       1\n",
       "sink_is_journal                                   1\n",
       "sink_is_review                                    0\n",
       "sink_is_case_rep                                  0\n",
       "sink_is_let_ed_com                                0\n",
       "sink_T_novelty                                    3\n",
       "sink_V_novelty                                   98\n",
       "sink_PT_novelty                                   0\n",
       "sink_PV_novelty                                   1\n",
       "sink_n_authors                                    5\n",
       "year_span                                        22\n",
       "journal_same                                      0\n",
       "mesh_sim                                   0.166667\n",
       "title_sim                                 0.0912871\n",
       "lang_sim                                          1\n",
       "affiliation_sim                                   0\n",
       "pubtype_sim                                0.666667\n",
       "cite_sim                                          0\n",
       "author_sim                                        0\n",
       "gender_sim                                  0.98644\n",
       "eth_sim                                    0.617497\n",
       "n_common_authors                                  0\n",
       "auid                                     17401912_1\n",
       "gender                                            M\n",
       "eth1                                         GERMAN\n",
       "eth2                                        UNKNOWN\n",
       "pos                                               7\n",
       "pos_nice                                         -1\n",
       "sink_last_ncites                                  8\n",
       "sink_prev_ncites                                 51\n",
       "auth_last_npapers                                12\n",
       "auth_prev_papers                                 46\n",
       "jj_sim                                            0\n",
       "is_self_cite                                      0\n",
       "Name: 0, dtype: object"
      ]
     },
     "execution_count": 12,
     "metadata": {},
     "output_type": "execute_result"
    }
   ],
   "source": [
    "df_p.iloc[0]"
   ]
  },
  {
   "cell_type": "code",
   "execution_count": 13,
   "metadata": {
    "collapsed": true
   },
   "outputs": [],
   "source": [
    "with pd.HDFStore(\"out/Training_2002_2005.h5\") as store:\n",
    "    store[\"last_author\"] = df_p"
   ]
  },
  {
   "cell_type": "markdown",
   "metadata": {},
   "source": [
    "## Check store"
   ]
  },
  {
   "cell_type": "code",
   "execution_count": 14,
   "metadata": {
    "collapsed": false
   },
   "outputs": [
    {
     "data": {
      "text/plain": [
       "<class 'pandas.io.pytables.HDFStore'>\n",
       "File path: out/Training_2002_2005.h5\n",
       "File is CLOSED"
      ]
     },
     "execution_count": 14,
     "metadata": {},
     "output_type": "execute_result"
    }
   ],
   "source": [
    "store"
   ]
  },
  {
   "cell_type": "code",
   "execution_count": 15,
   "metadata": {
    "collapsed": false
   },
   "outputs": [
    {
     "data": {
      "text/plain": [
       "(41618369, 56)"
      ]
     },
     "execution_count": 15,
     "metadata": {},
     "output_type": "execute_result"
    }
   ],
   "source": [
    "df_p.shape"
   ]
  },
  {
   "cell_type": "code",
   "execution_count": 16,
   "metadata": {
    "collapsed": false
   },
   "outputs": [
    {
     "name": "stdout",
     "output_type": "stream",
     "text": [
      "<class 'pandas.io.pytables.HDFStore'>\n",
      "File path: out/Training_2002_2005.h5\n",
      "/first_author            frame        (shape->[41618369,56])\n",
      "/last_author             frame        (shape->[41618369,56])\n"
     ]
    }
   ],
   "source": [
    "with pd.HDFStore(\"out/Training_2002_2005.h5\") as store:\n",
    "    print store"
   ]
  },
  {
   "cell_type": "code",
   "execution_count": 17,
   "metadata": {
    "collapsed": false
   },
   "outputs": [
    {
     "data": {
      "text/plain": [
       "Index([u'source_id', u'source_year', u'source_j', u'source_n_mesh',\n",
       "       u'source_n_mesh_ex', u'source_is_eng', u'source_country',\n",
       "       u'source_is_journal', u'source_is_review', u'source_is_case_rep',\n",
       "       u'source_is_let_ed_com', u'source_T_novelty', u'source_V_novelty',\n",
       "       u'source_PT_novelty', u'source_PV_novelty', u'source_ncites',\n",
       "       u'source_n_authors', u'sink_id', u'sink_year', u'sink_j',\n",
       "       u'sink_n_mesh', u'sink_n_mesh_ex', u'sink_is_eng', u'sink_is_journal',\n",
       "       u'sink_is_review', u'sink_is_case_rep', u'sink_is_let_ed_com',\n",
       "       u'sink_T_novelty', u'sink_V_novelty', u'sink_PT_novelty',\n",
       "       u'sink_PV_novelty', u'sink_n_authors', u'year_span', u'journal_same',\n",
       "       u'mesh_sim', u'title_sim', u'lang_sim', u'affiliation_sim',\n",
       "       u'pubtype_sim', u'cite_sim', u'author_sim', u'gender_sim', u'eth_sim',\n",
       "       u'n_common_authors', u'auid', u'gender', u'eth1', u'eth2', u'pos',\n",
       "       u'pos_nice', u'sink_last_ncites', u'sink_prev_ncites',\n",
       "       u'auth_last_npapers', u'auth_prev_papers', u'jj_sim', u'is_self_cite'],\n",
       "      dtype='object')"
      ]
     },
     "execution_count": 17,
     "metadata": {},
     "output_type": "execute_result"
    }
   ],
   "source": [
    "df_p.columns"
   ]
  },
  {
   "cell_type": "code",
   "execution_count": null,
   "metadata": {
    "collapsed": true
   },
   "outputs": [],
   "source": []
  }
 ],
 "metadata": {
  "anaconda-cloud": {},
  "kernelspec": {
   "display_name": "Python [default]",
   "language": "python",
   "name": "python2"
  },
  "language_info": {
   "codemirror_mode": {
    "name": "ipython",
    "version": 2
   },
   "file_extension": ".py",
   "mimetype": "text/x-python",
   "name": "python",
   "nbconvert_exporter": "python",
   "pygments_lexer": "ipython2",
   "version": "2.7.12"
  }
 },
 "nbformat": 4,
 "nbformat_minor": 0
}
