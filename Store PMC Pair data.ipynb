{
 "cells": [
  {
   "cell_type": "code",
   "execution_count": 1,
   "metadata": {
    "collapsed": true
   },
   "outputs": [],
   "source": [
    "import pandas as pd\n",
    "import numpy as np"
   ]
  },
  {
   "cell_type": "code",
   "execution_count": 2,
   "metadata": {},
   "outputs": [],
   "source": [
    "header = pd.read_csv(\"out/Training_data_2002_2005_pmc_pair_txt.header.txt\", sep=\"\\t\").columns"
   ]
  },
  {
   "cell_type": "code",
   "execution_count": 3,
   "metadata": {},
   "outputs": [
    {
     "data": {
      "text/plain": [
       "Index([u'source_id', u'sink_id', u'source_year', u'source_j', u'source_n_mesh',\n",
       "       u'source_n_mesh_ex', u'source_is_eng', u'source_country',\n",
       "       u'source_is_journal', u'source_is_review', u'source_is_case_rep',\n",
       "       u'source_is_let_ed_com', u'source_T_novelty', u'source_V_novelty',\n",
       "       u'source_PT_novelty', u'source_PV_novelty', u'source_ncites',\n",
       "       u'source_n_authors', u'sink_year', u'sink_j', u'sink_n_mesh',\n",
       "       u'sink_n_mesh_ex', u'sink_is_eng', u'sink_is_journal',\n",
       "       u'sink_is_review', u'sink_is_case_rep', u'sink_is_let_ed_com',\n",
       "       u'sink_T_novelty', u'sink_V_novelty', u'sink_PT_novelty',\n",
       "       u'sink_PV_novelty', u'sink_n_authors', u'year_span', u'journal_same',\n",
       "       u'mesh_sim', u'title_sim', u'lang_sim', u'affiliation_sim',\n",
       "       u'pubtype_sim', u'cite_sim', u'author_sim', u'gender_sim', u'eth_sim',\n",
       "       u'n_common_authors', u'auid', u'gender', u'eth1', u'eth2', u'pos',\n",
       "       u'pos_nice', u'sink_last_ncites', u'sink_prev_ncites',\n",
       "       u'auth_last_npapers', u'auth_prev_papers', u'jj_sim', u'is_self_cite'],\n",
       "      dtype='object')"
      ]
     },
     "execution_count": 3,
     "metadata": {},
     "output_type": "execute_result"
    }
   ],
   "source": [
    "header"
   ]
  },
  {
   "cell_type": "code",
   "execution_count": 4,
   "metadata": {},
   "outputs": [
    {
     "data": {
      "text/plain": [
       "(4837856, 56)"
      ]
     },
     "execution_count": 4,
     "metadata": {},
     "output_type": "execute_result"
    }
   ],
   "source": [
    "df_first = pd.read_csv(\"out/Training_data_2002_2005_pmc_pair_First.txt\", sep=\"\\t\", header=None, names=header)\n",
    "df_first.shape"
   ]
  },
  {
   "cell_type": "code",
   "execution_count": 5,
   "metadata": {},
   "outputs": [
    {
     "data": {
      "text/plain": [
       "(4837856, 56)"
      ]
     },
     "execution_count": 5,
     "metadata": {},
     "output_type": "execute_result"
    }
   ],
   "source": [
    "df_last = pd.read_csv(\"out/Training_data_2002_2005_pmc_pair_Last.txt\", sep=\"\\t\", header=None, names=header)\n",
    "df_last.shape"
   ]
  },
  {
   "cell_type": "code",
   "execution_count": 6,
   "metadata": {},
   "outputs": [
    {
     "data": {
      "text/plain": [
       "(4123573, 56)"
      ]
     },
     "execution_count": 6,
     "metadata": {},
     "output_type": "execute_result"
    }
   ],
   "source": [
    "df_middle_2nd = pd.read_csv(\"out/Training_data_2002_2005_pmc_pair_Middle_2nd.txt\", sep=\"\\t\", header=None, names=header)\n",
    "df_middle_2nd.shape"
   ]
  },
  {
   "cell_type": "code",
   "execution_count": 7,
   "metadata": {
    "collapsed": true
   },
   "outputs": [],
   "source": [
    "with pd.HDFStore('out/Training_2002_2005.pmc_pair.h5') as cstore:\n",
    "    cstore['first_author'] = df_first\n",
    "    cstore['last_author'] = df_last\n",
    "    cstore['middle_2nd_author'] = df_middle_2nd"
   ]
  },
  {
   "cell_type": "code",
   "execution_count": 8,
   "metadata": {},
   "outputs": [
    {
     "data": {
      "text/plain": [
       "<class 'pandas.io.pytables.HDFStore'>\n",
       "File path: out/Training_2002_2005.pmc_pair.h5\n",
       "File is CLOSED"
      ]
     },
     "execution_count": 8,
     "metadata": {},
     "output_type": "execute_result"
    }
   ],
   "source": [
    "cstore"
   ]
  },
  {
   "cell_type": "code",
   "execution_count": null,
   "metadata": {
    "collapsed": true
   },
   "outputs": [],
   "source": []
  }
 ],
 "metadata": {
  "anaconda-cloud": {},
  "kernelspec": {
   "display_name": "Python [default]",
   "language": "python",
   "name": "python2"
  },
  "language_info": {
   "codemirror_mode": {
    "name": "ipython",
    "version": 2
   },
   "file_extension": ".py",
   "mimetype": "text/x-python",
   "name": "python",
   "nbconvert_exporter": "python",
   "pygments_lexer": "ipython2",
   "version": "2.7.12"
  }
 },
 "nbformat": 4,
 "nbformat_minor": 1
}
