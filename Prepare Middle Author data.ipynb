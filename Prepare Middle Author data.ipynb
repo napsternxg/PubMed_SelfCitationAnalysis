{
 "cells": [
  {
   "cell_type": "code",
   "execution_count": 1,
   "metadata": {
    "collapsed": true
   },
   "outputs": [],
   "source": [
    "import numpy as np\n",
    "import pandas as pd\n",
    "\n",
    "import pyspark.sql.types as T\n",
    "import pyspark.sql.functions as F\n",
    "from collections import Counter"
   ]
  },
  {
   "cell_type": "code",
   "execution_count": 2,
   "metadata": {
    "collapsed": true
   },
   "outputs": [],
   "source": [
    "df = sqlContext.read.parquet(\"out/Training_2002_2005.parquet\")"
   ]
  },
  {
   "cell_type": "code",
   "execution_count": 3,
   "metadata": {},
   "outputs": [
    {
     "data": {
      "text/plain": [
       "Row(source_id=16526454, source_year=2005, source_j=u'J AOAC Int', source_n_mesh=11, source_n_mesh_ex=53, source_is_eng=1, source_country=u'JAPAN', source_is_journal=1, source_is_review=0, source_is_case_rep=0, source_is_let_ed_com=0, source_T_novelty=41, source_V_novelty=2417, source_PT_novelty=6, source_PV_novelty=2, source_ncites=2, source_n_authors=4, sink_id=11848579, sink_year=2002, sink_j=u'J Food Prot', sink_n_mesh=8, sink_n_mesh_ex=48, sink_is_eng=1, sink_is_journal=1, sink_is_review=0, sink_is_case_rep=0, sink_is_let_ed_com=0, sink_T_novelty=38, sink_V_novelty=1794, sink_PT_novelty=0, sink_PV_novelty=3, sink_n_authors=2, year_span=3, journal_same=0, mesh_sim=0.2666666805744171, title_sim=0.6145098805427551, lang_sim=1.0, affiliation_sim=0.0, pubtype_sim=0.5, cite_sim=0.3333333432674408, author_sim=0.0, gender_sim=0.7071067690849304, eth_sim=0.5, n_common_authors=0, auid=u'6185531_1', gender=u'M', eth1=u'JAPANESE', eth2=u'UNKNOWN', pos=1, pos_nice=1, sink_last_ncites=2, sink_prev_ncites=1, auth_last_npapers=1, auth_prev_papers=20, jj_sim=14.605299949645996, is_self_cite=0)"
      ]
     },
     "execution_count": 3,
     "metadata": {},
     "output_type": "execute_result"
    }
   ],
   "source": [
    "df.head()"
   ]
  },
  {
   "cell_type": "code",
   "execution_count": 4,
   "metadata": {},
   "outputs": [
    {
     "data": {
      "text/plain": [
       "Row(source_id=15543590, source_year=2005, source_j=u'J Med Virol', source_n_mesh=15, source_n_mesh_ex=82, source_is_eng=1, source_country=u'JAPAN', source_is_journal=1, source_is_review=0, source_is_case_rep=0, source_is_let_ed_com=0, source_T_novelty=36, source_V_novelty=1715, source_PT_novelty=0, source_PV_novelty=1, source_ncites=34, source_n_authors=11, sink_id=3711685, sink_year=1986, sink_j=u'J Infect Dis', sink_n_mesh=12, sink_n_mesh_ex=57, sink_is_eng=1, sink_is_journal=1, sink_is_review=0, sink_is_case_rep=0, sink_is_let_ed_com=0, sink_T_novelty=15, sink_V_novelty=1463, sink_PT_novelty=2, sink_PV_novelty=3, sink_n_authors=5, year_span=19, journal_same=0, mesh_sim=0.1666666716337204, title_sim=0.37721675634384155, lang_sim=1.0, affiliation_sim=0.0, pubtype_sim=0.25, cite_sim=0.03125, author_sim=0.0, gender_sim=0.9300464987754822, eth_sim=0.6515082120895386, n_common_authors=0, auid=u'14575764_4', gender=u'M', eth1=u'JAPANESE', eth2=u'UNKNOWN', pos=2, pos_nice=2, sink_last_ncites=5, sink_prev_ncites=97, auth_last_npapers=2, auth_prev_papers=1, jj_sim=18.048799514770508, is_self_cite=0)"
      ]
     },
     "execution_count": 4,
     "metadata": {},
     "output_type": "execute_result"
    }
   ],
   "source": [
    "df.filter(\"pos_nice == 2 AND pos == 2\").head()"
   ]
  },
  {
   "cell_type": "code",
   "execution_count": 5,
   "metadata": {},
   "outputs": [
    {
     "data": {
      "text/plain": [
       "34032575"
      ]
     },
     "execution_count": 5,
     "metadata": {},
     "output_type": "execute_result"
    }
   ],
   "source": [
    "df.filter(\"pos_nice == 2 AND pos == 2\").count()"
   ]
  },
  {
   "cell_type": "code",
   "execution_count": 6,
   "metadata": {},
   "outputs": [],
   "source": [
    "df.filter(\"pos_nice == 2 AND pos == 2\").write.format(\"csv\").options(header=\"false\", delimiter=\"\\t\").save(\"out/Training_2002_2005.txt\")"
   ]
  },
  {
   "cell_type": "code",
   "execution_count": 7,
   "metadata": {
    "collapsed": true
   },
   "outputs": [],
   "source": [
    "! cat out/Training_2002_2005.txt/*.csv > out/Training_2002_2005.middle_2nd_author.txt"
   ]
  },
  {
   "cell_type": "code",
   "execution_count": 8,
   "metadata": {},
   "outputs": [
    {
     "data": {
      "text/plain": [
       "56"
      ]
     },
     "execution_count": 8,
     "metadata": {},
     "output_type": "execute_result"
    }
   ],
   "source": [
    "colnames = [\"source_id\", \"source_year\", \"source_j\", \"source_n_mesh\", \"source_n_mesh_ex\",\n",
    "           \"source_is_eng\", \"source_country\", \"source_is_journal\", \"source_is_review\", \"source_is_case_rep\",\n",
    "           \"source_is_let_ed_com\", \"source_T_novelty\", \"source_V_novelty\", \"source_PT_novelty\", \"source_PV_novelty\",\n",
    "           \"source_ncites\", \"source_n_authors\",\n",
    "           \"sink_id\", \"sink_year\", \"sink_j\", \"sink_n_mesh\", \"sink_n_mesh_ex\",\n",
    "           \"sink_is_eng\", \"sink_is_journal\", \"sink_is_review\", \"sink_is_case_rep\",\n",
    "           \"sink_is_let_ed_com\", \"sink_T_novelty\", \"sink_V_novelty\", \"sink_PT_novelty\", \"sink_PV_novelty\",\n",
    "           \"sink_n_authors\",\n",
    "           \"year_span\", \"journal_same\", \"mesh_sim\", \"title_sim\", \"lang_sim\", \"affiliation_sim\",\n",
    "           \"pubtype_sim\", \"cite_sim\", \"author_sim\", \"gender_sim\", \"eth_sim\", \"n_common_authors\",\n",
    "           \"auid\", \"gender\", \"eth1\", \"eth2\", \"pos\", \"pos_nice\",            \n",
    "            \"sink_last_ncites\",\"sink_prev_ncites\",\n",
    "            \"auth_last_npapers\",\"auth_prev_papers\",\n",
    "            \"jj_sim\",\n",
    "            \"is_self_cite\"\n",
    "           ]\n",
    "len(colnames)"
   ]
  },
  {
   "cell_type": "code",
   "execution_count": 9,
   "metadata": {
    "collapsed": true
   },
   "outputs": [],
   "source": [
    "df_p = pd.read_csv(\"out/Training_2002_2005.middle_2nd_author.txt\", sep=\"\\t\", header=None)"
   ]
  },
  {
   "cell_type": "code",
   "execution_count": 10,
   "metadata": {},
   "outputs": [
    {
     "data": {
      "text/html": [
       "<div>\n",
       "<table border=\"1\" class=\"dataframe\">\n",
       "  <thead>\n",
       "    <tr style=\"text-align: right;\">\n",
       "      <th></th>\n",
       "      <th>0</th>\n",
       "      <th>1</th>\n",
       "      <th>2</th>\n",
       "      <th>3</th>\n",
       "      <th>4</th>\n",
       "      <th>5</th>\n",
       "      <th>6</th>\n",
       "      <th>7</th>\n",
       "      <th>8</th>\n",
       "      <th>9</th>\n",
       "      <th>...</th>\n",
       "      <th>46</th>\n",
       "      <th>47</th>\n",
       "      <th>48</th>\n",
       "      <th>49</th>\n",
       "      <th>50</th>\n",
       "      <th>51</th>\n",
       "      <th>52</th>\n",
       "      <th>53</th>\n",
       "      <th>54</th>\n",
       "      <th>55</th>\n",
       "    </tr>\n",
       "  </thead>\n",
       "  <tbody>\n",
       "    <tr>\n",
       "      <th>0</th>\n",
       "      <td>15543590</td>\n",
       "      <td>2005</td>\n",
       "      <td>J Med Virol</td>\n",
       "      <td>15</td>\n",
       "      <td>82</td>\n",
       "      <td>1</td>\n",
       "      <td>JAPAN</td>\n",
       "      <td>1</td>\n",
       "      <td>0</td>\n",
       "      <td>0</td>\n",
       "      <td>...</td>\n",
       "      <td>JAPANESE</td>\n",
       "      <td>UNKNOWN</td>\n",
       "      <td>2</td>\n",
       "      <td>2</td>\n",
       "      <td>5</td>\n",
       "      <td>97</td>\n",
       "      <td>2</td>\n",
       "      <td>1</td>\n",
       "      <td>18.0488</td>\n",
       "      <td>0</td>\n",
       "    </tr>\n",
       "    <tr>\n",
       "      <th>1</th>\n",
       "      <td>15543590</td>\n",
       "      <td>2005</td>\n",
       "      <td>J Med Virol</td>\n",
       "      <td>15</td>\n",
       "      <td>82</td>\n",
       "      <td>1</td>\n",
       "      <td>JAPAN</td>\n",
       "      <td>1</td>\n",
       "      <td>0</td>\n",
       "      <td>0</td>\n",
       "      <td>...</td>\n",
       "      <td>JAPANESE</td>\n",
       "      <td>UNKNOWN</td>\n",
       "      <td>2</td>\n",
       "      <td>2</td>\n",
       "      <td>3</td>\n",
       "      <td>42</td>\n",
       "      <td>2</td>\n",
       "      <td>1</td>\n",
       "      <td>0.0000</td>\n",
       "      <td>0</td>\n",
       "    </tr>\n",
       "    <tr>\n",
       "      <th>2</th>\n",
       "      <td>15543590</td>\n",
       "      <td>2005</td>\n",
       "      <td>J Med Virol</td>\n",
       "      <td>15</td>\n",
       "      <td>82</td>\n",
       "      <td>1</td>\n",
       "      <td>JAPAN</td>\n",
       "      <td>1</td>\n",
       "      <td>0</td>\n",
       "      <td>0</td>\n",
       "      <td>...</td>\n",
       "      <td>JAPANESE</td>\n",
       "      <td>UNKNOWN</td>\n",
       "      <td>2</td>\n",
       "      <td>2</td>\n",
       "      <td>5</td>\n",
       "      <td>77</td>\n",
       "      <td>2</td>\n",
       "      <td>1</td>\n",
       "      <td>0.0000</td>\n",
       "      <td>0</td>\n",
       "    </tr>\n",
       "    <tr>\n",
       "      <th>3</th>\n",
       "      <td>15543590</td>\n",
       "      <td>2005</td>\n",
       "      <td>J Med Virol</td>\n",
       "      <td>15</td>\n",
       "      <td>82</td>\n",
       "      <td>1</td>\n",
       "      <td>JAPAN</td>\n",
       "      <td>1</td>\n",
       "      <td>0</td>\n",
       "      <td>0</td>\n",
       "      <td>...</td>\n",
       "      <td>JAPANESE</td>\n",
       "      <td>UNKNOWN</td>\n",
       "      <td>2</td>\n",
       "      <td>2</td>\n",
       "      <td>8</td>\n",
       "      <td>198</td>\n",
       "      <td>2</td>\n",
       "      <td>1</td>\n",
       "      <td>19.3836</td>\n",
       "      <td>0</td>\n",
       "    </tr>\n",
       "    <tr>\n",
       "      <th>4</th>\n",
       "      <td>15543590</td>\n",
       "      <td>2005</td>\n",
       "      <td>J Med Virol</td>\n",
       "      <td>15</td>\n",
       "      <td>82</td>\n",
       "      <td>1</td>\n",
       "      <td>JAPAN</td>\n",
       "      <td>1</td>\n",
       "      <td>0</td>\n",
       "      <td>0</td>\n",
       "      <td>...</td>\n",
       "      <td>JAPANESE</td>\n",
       "      <td>UNKNOWN</td>\n",
       "      <td>2</td>\n",
       "      <td>2</td>\n",
       "      <td>8</td>\n",
       "      <td>17</td>\n",
       "      <td>2</td>\n",
       "      <td>1</td>\n",
       "      <td>0.0000</td>\n",
       "      <td>0</td>\n",
       "    </tr>\n",
       "  </tbody>\n",
       "</table>\n",
       "<p>5 rows × 56 columns</p>\n",
       "</div>"
      ],
      "text/plain": [
       "         0     1            2   3   4   5      6   7   8   9  ...        46  \\\n",
       "0  15543590  2005  J Med Virol  15  82   1  JAPAN   1   0   0 ...  JAPANESE   \n",
       "1  15543590  2005  J Med Virol  15  82   1  JAPAN   1   0   0 ...  JAPANESE   \n",
       "2  15543590  2005  J Med Virol  15  82   1  JAPAN   1   0   0 ...  JAPANESE   \n",
       "3  15543590  2005  J Med Virol  15  82   1  JAPAN   1   0   0 ...  JAPANESE   \n",
       "4  15543590  2005  J Med Virol  15  82   1  JAPAN   1   0   0 ...  JAPANESE   \n",
       "\n",
       "        47  48  49  50   51  52  53       54 55  \n",
       "0  UNKNOWN   2   2   5   97   2   1  18.0488  0  \n",
       "1  UNKNOWN   2   2   3   42   2   1   0.0000  0  \n",
       "2  UNKNOWN   2   2   5   77   2   1   0.0000  0  \n",
       "3  UNKNOWN   2   2   8  198   2   1  19.3836  0  \n",
       "4  UNKNOWN   2   2   8   17   2   1   0.0000  0  \n",
       "\n",
       "[5 rows x 56 columns]"
      ]
     },
     "execution_count": 10,
     "metadata": {},
     "output_type": "execute_result"
    }
   ],
   "source": [
    "df_p.head()"
   ]
  },
  {
   "cell_type": "code",
   "execution_count": 11,
   "metadata": {
    "collapsed": true
   },
   "outputs": [],
   "source": [
    "df_p.columns = colnames"
   ]
  },
  {
   "cell_type": "code",
   "execution_count": 12,
   "metadata": {
    "collapsed": true
   },
   "outputs": [],
   "source": [
    "with pd.HDFStore(\"out/Training_2002_2005.middle.h5\") as store:\n",
    "    store[\"middle_2nd_author\"] = df_p"
   ]
  },
  {
   "cell_type": "code",
   "execution_count": 13,
   "metadata": {},
   "outputs": [
    {
     "data": {
      "text/plain": [
       "<class 'pandas.io.pytables.HDFStore'>\n",
       "File path: out/Training_2002_2005.middle.h5\n",
       "File is CLOSED"
      ]
     },
     "execution_count": 13,
     "metadata": {},
     "output_type": "execute_result"
    }
   ],
   "source": [
    "store"
   ]
  },
  {
   "cell_type": "code",
   "execution_count": 14,
   "metadata": {},
   "outputs": [
    {
     "data": {
      "text/plain": [
       "Index([u'source_id', u'source_year', u'source_j', u'source_n_mesh',\n",
       "       u'source_n_mesh_ex', u'source_is_eng', u'source_country',\n",
       "       u'source_is_journal', u'source_is_review', u'source_is_case_rep',\n",
       "       u'source_is_let_ed_com', u'source_T_novelty', u'source_V_novelty',\n",
       "       u'source_PT_novelty', u'source_PV_novelty', u'source_ncites',\n",
       "       u'source_n_authors', u'sink_id', u'sink_year', u'sink_j',\n",
       "       u'sink_n_mesh', u'sink_n_mesh_ex', u'sink_is_eng', u'sink_is_journal',\n",
       "       u'sink_is_review', u'sink_is_case_rep', u'sink_is_let_ed_com',\n",
       "       u'sink_T_novelty', u'sink_V_novelty', u'sink_PT_novelty',\n",
       "       u'sink_PV_novelty', u'sink_n_authors', u'year_span', u'journal_same',\n",
       "       u'mesh_sim', u'title_sim', u'lang_sim', u'affiliation_sim',\n",
       "       u'pubtype_sim', u'cite_sim', u'author_sim', u'gender_sim', u'eth_sim',\n",
       "       u'n_common_authors', u'auid', u'gender', u'eth1', u'eth2', u'pos',\n",
       "       u'pos_nice', u'sink_last_ncites', u'sink_prev_ncites',\n",
       "       u'auth_last_npapers', u'auth_prev_papers', u'jj_sim', u'is_self_cite'],\n",
       "      dtype='object')"
      ]
     },
     "execution_count": 14,
     "metadata": {},
     "output_type": "execute_result"
    }
   ],
   "source": [
    "df_p.columns"
   ]
  },
  {
   "cell_type": "code",
   "execution_count": null,
   "metadata": {
    "collapsed": true
   },
   "outputs": [],
   "source": []
  }
 ],
 "metadata": {
  "anaconda-cloud": {},
  "kernelspec": {
   "display_name": "Python [default]",
   "language": "python",
   "name": "python2"
  },
  "language_info": {
   "codemirror_mode": {
    "name": "ipython",
    "version": 2
   },
   "file_extension": ".py",
   "mimetype": "text/x-python",
   "name": "python",
   "nbconvert_exporter": "python",
   "pygments_lexer": "ipython2",
   "version": "2.7.12"
  }
 },
 "nbformat": 4,
 "nbformat_minor": 1
}
