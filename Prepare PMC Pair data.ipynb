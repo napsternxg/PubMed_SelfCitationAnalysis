{
 "cells": [
  {
   "cell_type": "code",
   "execution_count": 1,
   "metadata": {
    "collapsed": true
   },
   "outputs": [],
   "source": [
    "import numpy as np\n",
    "import pandas as pd\n",
    "\n",
    "import pyspark.sql.types as T\n",
    "import pyspark.sql.functions as F\n",
    "from collections import Counter\n",
    "\n",
    "sqlContext.setConf(\"spark.sql.shuffle.partitions\", 30)"
   ]
  },
  {
   "cell_type": "markdown",
   "metadata": {},
   "source": [
    "## Prepare pmc_pair data\n",
    "\n",
    "\n",
    "```python\n",
    "pmc_pair_schema = T.StructType([\n",
    "    T.StructField(\"source_id\", T.IntegerType(), False),\n",
    "    T.StructField(\"sink_id\", T.IntegerType(), False),\n",
    "])\n",
    "df_pmc_pair = sqlContext.read.csv(\n",
    "    \"data/pmc_pair.txt\",\n",
    "    sep=\"\\t\",\n",
    "    header=True,\n",
    "    schema=pmc_pair_schema)\n",
    "df_pmc_pair.write.parquet(\"out/pmc_pair.parquet\")\n",
    "```"
   ]
  },
  {
   "cell_type": "code",
   "execution_count": 2,
   "metadata": {},
   "outputs": [
    {
     "data": {
      "text/plain": [
       "216570270"
      ]
     },
     "execution_count": 2,
     "metadata": {},
     "output_type": "execute_result"
    }
   ],
   "source": [
    "df = sqlContext.read.parquet(\"out/Training_2002_2005.parquet\")\n",
    "df.count()"
   ]
  },
  {
   "cell_type": "code",
   "execution_count": 3,
   "metadata": {},
   "outputs": [
    {
     "name": "stdout",
     "output_type": "stream",
     "text": [
      "104755583\n"
     ]
    },
    {
     "data": {
      "text/plain": [
       "Row(source_id=3114744, sink_id=3100643)"
      ]
     },
     "execution_count": 3,
     "metadata": {},
     "output_type": "execute_result"
    }
   ],
   "source": [
    "df_pmc_pair = sqlContext.read.parquet(\"out/pmc_pair.parquet\")\n",
    "print(df_pmc_pair.count())\n",
    "df_pmc_pair.head()"
   ]
  },
  {
   "cell_type": "markdown",
   "metadata": {},
   "source": [
    "## First author"
   ]
  },
  {
   "cell_type": "code",
   "execution_count": 4,
   "metadata": {
    "collapsed": true
   },
   "outputs": [],
   "source": [
    "df_joined = df.filter(\"pos_nice == 1\").join(df_pmc_pair, [\"source_id\", \"sink_id\"], how=\"inner\")"
   ]
  },
  {
   "cell_type": "markdown",
   "metadata": {},
   "source": [
    "```python\n",
    "\n",
    "df_joined.head(1)\n",
    "\n",
    "[Row(source_id=11675395, sink_id=8663607, source_year=2002, source_j=u'J Biol Chem', source_n_mesh=9, source_n_mesh_ex=21, source_is_eng=1, source_country=u'USA', source_is_journal=1, source_is_review=0, source_is_case_rep=0, source_is_let_ed_com=0, source_T_novelty=24, source_V_novelty=6916, source_PT_novelty=2, source_PV_novelty=2, source_ncites=60, source_n_authors=4, sink_year=1996, sink_j=u'J Biol Chem', sink_n_mesh=12, sink_n_mesh_ex=47, sink_is_eng=1, sink_is_journal=1, sink_is_review=0, sink_is_case_rep=0, sink_is_let_ed_com=0, sink_T_novelty=28, sink_V_novelty=407, sink_PT_novelty=0, sink_PV_novelty=1, sink_n_authors=4, year_span=6, journal_same=1, mesh_sim=0.23529411852359772, title_sim=0.3442651927471161, lang_sim=1.0, affiliation_sim=1.0, pubtype_sim=0.6000000238418579, cite_sim=0.0714285746216774, author_sim=0.1428571492433548, gender_sim=0.9036961197853088, eth_sim=0.861640453338623, n_common_authors=1, auid=u'10662773_3', gender=u'-', eth1=u'CHINESE', eth2=u'UNKNOWN', pos=2, pos_nice=2, sink_last_ncites=13, sink_prev_ncites=70, auth_last_npapers=3, auth_prev_papers=4, jj_sim=14.94260025024414, is_self_cite=0),]\n",
    "```"
   ]
  },
  {
   "cell_type": "code",
   "execution_count": 5,
   "metadata": {},
   "outputs": [
    {
     "data": {
      "text/plain": [
       "4837856"
      ]
     },
     "execution_count": 5,
     "metadata": {},
     "output_type": "execute_result"
    }
   ],
   "source": [
    "df_joined.count()"
   ]
  },
  {
   "cell_type": "code",
   "execution_count": 6,
   "metadata": {
    "collapsed": true
   },
   "outputs": [],
   "source": [
    "df_joined.write.csv(\"out/Training_data_2002_2005_pmc_pair_First_txt\", sep=\"\\t\", header='false')"
   ]
  },
  {
   "cell_type": "code",
   "execution_count": 7,
   "metadata": {
    "collapsed": true
   },
   "outputs": [],
   "source": [
    "! cat out/Training_data_2002_2005_pmc_pair_First_txt/part-* > out/Training_data_2002_2005_pmc_pair_First.txt"
   ]
  },
  {
   "cell_type": "markdown",
   "metadata": {},
   "source": [
    "## Last author"
   ]
  },
  {
   "cell_type": "code",
   "execution_count": 8,
   "metadata": {
    "collapsed": true
   },
   "outputs": [],
   "source": [
    "df_joined = df.filter(\"pos_nice == -1\").join(df_pmc_pair, [\"source_id\", \"sink_id\"], how=\"inner\")"
   ]
  },
  {
   "cell_type": "code",
   "execution_count": 9,
   "metadata": {},
   "outputs": [
    {
     "data": {
      "text/plain": [
       "4837856"
      ]
     },
     "execution_count": 9,
     "metadata": {},
     "output_type": "execute_result"
    }
   ],
   "source": [
    "df_joined.count()"
   ]
  },
  {
   "cell_type": "code",
   "execution_count": 10,
   "metadata": {
    "collapsed": true
   },
   "outputs": [],
   "source": [
    "df_joined.write.csv(\"out/Training_data_2002_2005_pmc_pair_Last_txt\", sep=\"\\t\", header='false')"
   ]
  },
  {
   "cell_type": "code",
   "execution_count": 11,
   "metadata": {
    "collapsed": true
   },
   "outputs": [],
   "source": [
    "! cat out/Training_data_2002_2005_pmc_pair_Last_txt/part-* > out/Training_data_2002_2005_pmc_pair_Last.txt"
   ]
  },
  {
   "cell_type": "markdown",
   "metadata": {},
   "source": [
    "## Middle 2nd author"
   ]
  },
  {
   "cell_type": "code",
   "execution_count": 12,
   "metadata": {
    "collapsed": true
   },
   "outputs": [],
   "source": [
    "df_joined = df.filter(\"pos_nice == 2 and pos == 2\").join(df_pmc_pair, [\"source_id\", \"sink_id\"], how=\"inner\")"
   ]
  },
  {
   "cell_type": "code",
   "execution_count": 13,
   "metadata": {},
   "outputs": [
    {
     "data": {
      "text/plain": [
       "4123573"
      ]
     },
     "execution_count": 13,
     "metadata": {},
     "output_type": "execute_result"
    }
   ],
   "source": [
    "df_joined.count()"
   ]
  },
  {
   "cell_type": "code",
   "execution_count": 14,
   "metadata": {
    "collapsed": true
   },
   "outputs": [],
   "source": [
    "df_joined.write.csv(\"out/Training_data_2002_2005_pmc_pair_Middle_2nd_txt\", sep=\"\\t\", header='false')"
   ]
  },
  {
   "cell_type": "code",
   "execution_count": 15,
   "metadata": {
    "collapsed": true
   },
   "outputs": [],
   "source": [
    "! cat out/Training_data_2002_2005_pmc_pair_Middle_2nd_txt/part-* > out/Training_data_2002_2005_pmc_pair_Middle_2nd.txt"
   ]
  },
  {
   "cell_type": "markdown",
   "metadata": {},
   "source": [
    "## Write header"
   ]
  },
  {
   "cell_type": "code",
   "execution_count": 16,
   "metadata": {},
   "outputs": [
    {
     "name": "stdout",
     "output_type": "stream",
     "text": [
      "['source_id', 'sink_id', 'source_year', 'source_j', 'source_n_mesh', 'source_n_mesh_ex', 'source_is_eng', 'source_country', 'source_is_journal', 'source_is_review', 'source_is_case_rep', 'source_is_let_ed_com', 'source_T_novelty', 'source_V_novelty', 'source_PT_novelty', 'source_PV_novelty', 'source_ncites', 'source_n_authors', 'sink_year', 'sink_j', 'sink_n_mesh', 'sink_n_mesh_ex', 'sink_is_eng', 'sink_is_journal', 'sink_is_review', 'sink_is_case_rep', 'sink_is_let_ed_com', 'sink_T_novelty', 'sink_V_novelty', 'sink_PT_novelty', 'sink_PV_novelty', 'sink_n_authors', 'year_span', 'journal_same', 'mesh_sim', 'title_sim', 'lang_sim', 'affiliation_sim', 'pubtype_sim', 'cite_sim', 'author_sim', 'gender_sim', 'eth_sim', 'n_common_authors', 'auid', 'gender', 'eth1', 'eth2', 'pos', 'pos_nice', 'sink_last_ncites', 'sink_prev_ncites', 'auth_last_npapers', 'auth_prev_papers', 'jj_sim', 'is_self_cite']\n"
     ]
    }
   ],
   "source": [
    "print(df_joined.columns)"
   ]
  },
  {
   "cell_type": "code",
   "execution_count": 17,
   "metadata": {},
   "outputs": [],
   "source": [
    "with open(\"out/Training_data_2002_2005_pmc_pair_txt.header.txt\", \"w+\") as fp:\n",
    "    print >> fp, \"\\t\".join(df_joined.columns)"
   ]
  },
  {
   "cell_type": "code",
   "execution_count": 18,
   "metadata": {},
   "outputs": [
    {
     "name": "stdout",
     "output_type": "stream",
     "text": [
      "source_id\tsink_id\tsource_year\tsource_j\tsource_n_mesh\tsource_n_mesh_ex\tsource_is_eng\tsource_country\tsource_is_journal\tsource_is_review\tsource_is_case_rep\tsource_is_let_ed_com\tsource_T_novelty\tsource_V_novelty\tsource_PT_novelty\tsource_PV_novelty\tsource_ncites\tsource_n_authors\tsink_year\tsink_j\tsink_n_mesh\tsink_n_mesh_ex\tsink_is_eng\tsink_is_journal\tsink_is_review\tsink_is_case_rep\tsink_is_let_ed_com\tsink_T_novelty\tsink_V_novelty\tsink_PT_novelty\tsink_PV_novelty\tsink_n_authors\tyear_span\tjournal_same\tmesh_sim\ttitle_sim\tlang_sim\taffiliation_sim\tpubtype_sim\tcite_sim\tauthor_sim\tgender_sim\teth_sim\tn_common_authors\tauid\tgender\teth1\teth2\tpos\tpos_nice\tsink_last_ncites\tsink_prev_ncites\tauth_last_npapers\tauth_prev_papers\tjj_sim\tis_self_cite\r\n"
     ]
    }
   ],
   "source": [
    "! head out/Training_data_2002_2005_pmc_pair_txt.header.txt"
   ]
  },
  {
   "cell_type": "code",
   "execution_count": null,
   "metadata": {
    "collapsed": true
   },
   "outputs": [],
   "source": []
  }
 ],
 "metadata": {
  "anaconda-cloud": {},
  "kernelspec": {
   "display_name": "Python [default]",
   "language": "python",
   "name": "python2"
  },
  "language_info": {
   "codemirror_mode": {
    "name": "ipython",
    "version": 2
   },
   "file_extension": ".py",
   "mimetype": "text/x-python",
   "name": "python",
   "nbconvert_exporter": "python",
   "pygments_lexer": "ipython2",
   "version": "2.7.12"
  }
 },
 "nbformat": 4,
 "nbformat_minor": 1
}
