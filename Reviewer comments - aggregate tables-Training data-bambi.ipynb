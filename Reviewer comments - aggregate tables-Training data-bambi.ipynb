{
 "cells": [
  {
   "cell_type": "code",
   "execution_count": 1,
   "metadata": {},
   "outputs": [
    {
     "name": "stdout",
     "output_type": "stream",
     "text": [
      "MF reloaded 1\n",
      "EMS reloaded\n"
     ]
    }
   ],
   "source": [
    "%matplotlib inline\n",
    "\n",
    "import pandas as pd\n",
    "import numpy as np\n",
    "\n",
    "import matplotlib.pyplot as plt\n",
    "import seaborn as sns\n",
    "\n",
    "from statsmodels.api import Logit\n",
    "import patsy\n",
    "\n",
    "from joblib import load, dump\n",
    "\n",
    "import model_functions as mf\n",
    "import eval_measures as ems\n",
    "\n",
    "from IPython.display import display"
   ]
  },
  {
   "cell_type": "code",
   "execution_count": 2,
   "metadata": {
    "collapsed": true
   },
   "outputs": [],
   "source": [
    "sns.set_context(\"paper\")\n",
    "sns.set_style(\"ticks\")"
   ]
  },
  {
   "cell_type": "code",
   "execution_count": 3,
   "metadata": {},
   "outputs": [
    {
     "name": "stdout",
     "output_type": "stream",
     "text": [
      "(41618369, 56) (41618369, 56)\n",
      "CPU times: user 1min 18s, sys: 45.7 s, total: 2min 3s\n",
      "Wall time: 2min 3s\n"
     ]
    }
   ],
   "source": [
    "%%time\n",
    "with pd.HDFStore('out/Training_2002_2005.h5') as cstore:\n",
    "    df_first = cstore['first_author']\n",
    "    df_last = cstore['last_author']\n",
    "    \n",
    "print df_first.shape, df_last.shape\n",
    "df_first.columns"
   ]
  },
  {
   "cell_type": "code",
   "execution_count": 4,
   "metadata": {},
   "outputs": [
    {
     "data": {
      "text/plain": [
       "Index([u'source_id', u'source_year', u'source_j', u'source_n_mesh',\n",
       "       u'source_n_mesh_ex', u'source_is_eng', u'source_country',\n",
       "       u'source_is_journal', u'source_is_review', u'source_is_case_rep',\n",
       "       u'source_is_let_ed_com', u'source_T_novelty', u'source_V_novelty',\n",
       "       u'source_PT_novelty', u'source_PV_novelty', u'source_ncites',\n",
       "       u'source_n_authors', u'sink_id', u'sink_year', u'sink_j',\n",
       "       u'sink_n_mesh', u'sink_n_mesh_ex', u'sink_is_eng', u'sink_is_journal',\n",
       "       u'sink_is_review', u'sink_is_case_rep', u'sink_is_let_ed_com',\n",
       "       u'sink_T_novelty', u'sink_V_novelty', u'sink_PT_novelty',\n",
       "       u'sink_PV_novelty', u'sink_n_authors', u'year_span', u'journal_same',\n",
       "       u'mesh_sim', u'title_sim', u'lang_sim', u'affiliation_sim',\n",
       "       u'pubtype_sim', u'cite_sim', u'author_sim', u'gender_sim', u'eth_sim',\n",
       "       u'n_common_authors', u'auid', u'gender', u'eth1', u'eth2', u'pos',\n",
       "       u'pos_nice', u'sink_last_ncites', u'sink_prev_ncites',\n",
       "       u'auth_last_npapers', u'auth_prev_papers', u'jj_sim', u'is_self_cite'],\n",
       "      dtype='object')"
      ]
     },
     "execution_count": 4,
     "metadata": {},
     "output_type": "execute_result"
    }
   ],
   "source": [
    "df_first.columns"
   ]
  },
  {
   "cell_type": "markdown",
   "metadata": {},
   "source": [
    "## Load author years data"
   ]
  },
  {
   "cell_type": "code",
   "execution_count": 5,
   "metadata": {},
   "outputs": [
    {
     "name": "stdout",
     "output_type": "stream",
     "text": [
      "CPU times: user 9.46 s, sys: 1.6 s, total: 11.1 s\n",
      "Wall time: 11.1 s\n"
     ]
    }
   ],
   "source": [
    "%%time\n",
    "df_authors = pd.read_csv(\"data/AuthorityFirstLastYears.txt\", sep=\"\\t\").rename(\n",
    "    columns={\"au_id\": \"auid\"})\n",
    "df_authors.shape"
   ]
  },
  {
   "cell_type": "code",
   "execution_count": 6,
   "metadata": {},
   "outputs": [
    {
     "data": {
      "text/html": [
       "<div>\n",
       "<table border=\"1\" class=\"dataframe\">\n",
       "  <thead>\n",
       "    <tr style=\"text-align: right;\">\n",
       "      <th></th>\n",
       "      <th>auid</th>\n",
       "      <th>first_year</th>\n",
       "      <th>last_year</th>\n",
       "    </tr>\n",
       "  </thead>\n",
       "  <tbody>\n",
       "    <tr>\n",
       "      <th>0</th>\n",
       "      <td>9731334_2</td>\n",
       "      <td>1997</td>\n",
       "      <td>2009</td>\n",
       "    </tr>\n",
       "    <tr>\n",
       "      <th>1</th>\n",
       "      <td>2155715_1</td>\n",
       "      <td>1990</td>\n",
       "      <td>2009</td>\n",
       "    </tr>\n",
       "    <tr>\n",
       "      <th>2</th>\n",
       "      <td>7867892_1</td>\n",
       "      <td>1994</td>\n",
       "      <td>2009</td>\n",
       "    </tr>\n",
       "    <tr>\n",
       "      <th>3</th>\n",
       "      <td>14609221_2</td>\n",
       "      <td>2003</td>\n",
       "      <td>2009</td>\n",
       "    </tr>\n",
       "    <tr>\n",
       "      <th>4</th>\n",
       "      <td>8101337_1</td>\n",
       "      <td>1993</td>\n",
       "      <td>2007</td>\n",
       "    </tr>\n",
       "  </tbody>\n",
       "</table>\n",
       "</div>"
      ],
      "text/plain": [
       "         auid  first_year  last_year\n",
       "0   9731334_2        1997       2009\n",
       "1   2155715_1        1990       2009\n",
       "2   7867892_1        1994       2009\n",
       "3  14609221_2        2003       2009\n",
       "4   8101337_1        1993       2007"
      ]
     },
     "execution_count": 6,
     "metadata": {},
     "output_type": "execute_result"
    }
   ],
   "source": [
    "df_authors.head()"
   ]
  },
  {
   "cell_type": "code",
   "execution_count": 7,
   "metadata": {},
   "outputs": [
    {
     "data": {
      "text/plain": [
       "auid          object\n",
       "first_year     int64\n",
       "last_year      int64\n",
       "dtype: object"
      ]
     },
     "execution_count": 7,
     "metadata": {},
     "output_type": "execute_result"
    }
   ],
   "source": [
    "df_authors.dtypes"
   ]
  },
  {
   "cell_type": "code",
   "execution_count": 8,
   "metadata": {},
   "outputs": [
    {
     "data": {
      "text/html": [
       "<div>\n",
       "<table border=\"1\" class=\"dataframe\">\n",
       "  <thead>\n",
       "    <tr style=\"text-align: right;\">\n",
       "      <th></th>\n",
       "      <th>first_year</th>\n",
       "      <th>last_year</th>\n",
       "    </tr>\n",
       "  </thead>\n",
       "  <tbody>\n",
       "    <tr>\n",
       "      <th>count</th>\n",
       "      <td>9300182</td>\n",
       "      <td>9300182</td>\n",
       "    </tr>\n",
       "    <tr>\n",
       "      <th>mean</th>\n",
       "      <td>1989</td>\n",
       "      <td>1994</td>\n",
       "    </tr>\n",
       "    <tr>\n",
       "      <th>std</th>\n",
       "      <td>16</td>\n",
       "      <td>15</td>\n",
       "    </tr>\n",
       "    <tr>\n",
       "      <th>min</th>\n",
       "      <td>1865</td>\n",
       "      <td>0</td>\n",
       "    </tr>\n",
       "    <tr>\n",
       "      <th>25%</th>\n",
       "      <td>1980</td>\n",
       "      <td>1986</td>\n",
       "    </tr>\n",
       "    <tr>\n",
       "      <th>50%</th>\n",
       "      <td>1994</td>\n",
       "      <td>2000</td>\n",
       "    </tr>\n",
       "    <tr>\n",
       "      <th>75%</th>\n",
       "      <td>2003</td>\n",
       "      <td>2007</td>\n",
       "    </tr>\n",
       "    <tr>\n",
       "      <th>max</th>\n",
       "      <td>9999</td>\n",
       "      <td>2099</td>\n",
       "    </tr>\n",
       "  </tbody>\n",
       "</table>\n",
       "</div>"
      ],
      "text/plain": [
       "       first_year  last_year\n",
       "count     9300182    9300182\n",
       "mean         1989       1994\n",
       "std            16         15\n",
       "min          1865          0\n",
       "25%          1980       1986\n",
       "50%          1994       2000\n",
       "75%          2003       2007\n",
       "max          9999       2099"
      ]
     },
     "execution_count": 8,
     "metadata": {},
     "output_type": "execute_result"
    }
   ],
   "source": [
    "df_authors.describe().astype(int)"
   ]
  },
  {
   "cell_type": "code",
   "execution_count": 9,
   "metadata": {},
   "outputs": [
    {
     "data": {
      "text/plain": [
       "((3, 3), (3858, 3))"
      ]
     },
     "execution_count": 9,
     "metadata": {},
     "output_type": "execute_result"
    }
   ],
   "source": [
    "df_authors[df_authors.first_year == 9999].shape, df_authors[df_authors.first_year <= 1900].shape"
   ]
  },
  {
   "cell_type": "markdown",
   "metadata": {},
   "source": [
    "## Load author expertise data"
   ]
  },
  {
   "cell_type": "code",
   "execution_count": 10,
   "metadata": {},
   "outputs": [
    {
     "name": "stdout",
     "output_type": "stream",
     "text": [
      "CPU times: user 1min 3s, sys: 7.96 s, total: 1min 11s\n",
      "Wall time: 1min 11s\n"
     ]
    }
   ],
   "source": [
    "%%time\n",
    "df_expertise = pd.read_csv(\"data/AuthorExpertise.txt\", sep=\"\\t\")\n",
    "df_expertise.columns, df_expertise.shape"
   ]
  },
  {
   "cell_type": "code",
   "execution_count": 11,
   "metadata": {},
   "outputs": [
    {
     "data": {
      "text/plain": [
       "(Index([u'PMID', u'auid', u'match_len', u'match_prop', u'overall_coverage_len',\n",
       "        u'overall_coverage_prop'],\n",
       "       dtype='object'), (58761322, 6))"
      ]
     },
     "execution_count": 11,
     "metadata": {},
     "output_type": "execute_result"
    }
   ],
   "source": [
    "df_expertise.columns, df_expertise.shape"
   ]
  },
  {
   "cell_type": "code",
   "execution_count": 12,
   "metadata": {},
   "outputs": [
    {
     "data": {
      "text/plain": [
       "PMID                       int64\n",
       "auid                      object\n",
       "match_len                  int64\n",
       "match_prop               float64\n",
       "overall_coverage_len       int64\n",
       "overall_coverage_prop    float64\n",
       "dtype: object"
      ]
     },
     "execution_count": 12,
     "metadata": {},
     "output_type": "execute_result"
    }
   ],
   "source": [
    "df_expertise.dtypes"
   ]
  },
  {
   "cell_type": "markdown",
   "metadata": {},
   "source": [
    "## First author"
   ]
  },
  {
   "cell_type": "code",
   "execution_count": 13,
   "metadata": {},
   "outputs": [
    {
     "name": "stdout",
     "output_type": "stream",
     "text": [
      "(41618369, 56)\n",
      "(41618369, 58)\n",
      "CPU times: user 1min 17s, sys: 42.8 s, total: 1min 59s\n",
      "Wall time: 1min 59s\n"
     ]
    }
   ],
   "source": [
    "%%time\n",
    "print df_first.shape\n",
    "df_first = df_first.merge(df_authors, how=\"left\", on=\"auid\")\n",
    "print df_first.shape"
   ]
  },
  {
   "cell_type": "code",
   "execution_count": 14,
   "metadata": {
    "collapsed": true
   },
   "outputs": [],
   "source": [
    "df_first[\"au_age\"] = df_first[\"source_year\"] - df_first[\"first_year\"]"
   ]
  },
  {
   "cell_type": "code",
   "execution_count": 15,
   "metadata": {},
   "outputs": [
    {
     "data": {
      "text/plain": [
       "Index([u'source_id', u'source_year', u'source_j', u'source_n_mesh',\n",
       "       u'source_n_mesh_ex', u'source_is_eng', u'source_country',\n",
       "       u'source_is_journal', u'source_is_review', u'source_is_case_rep',\n",
       "       u'source_is_let_ed_com', u'source_T_novelty', u'source_V_novelty',\n",
       "       u'source_PT_novelty', u'source_PV_novelty', u'source_ncites',\n",
       "       u'source_n_authors', u'sink_id', u'sink_year', u'sink_j',\n",
       "       u'sink_n_mesh', u'sink_n_mesh_ex', u'sink_is_eng', u'sink_is_journal',\n",
       "       u'sink_is_review', u'sink_is_case_rep', u'sink_is_let_ed_com',\n",
       "       u'sink_T_novelty', u'sink_V_novelty', u'sink_PT_novelty',\n",
       "       u'sink_PV_novelty', u'sink_n_authors', u'year_span', u'journal_same',\n",
       "       u'mesh_sim', u'title_sim', u'lang_sim', u'affiliation_sim',\n",
       "       u'pubtype_sim', u'cite_sim', u'author_sim', u'gender_sim', u'eth_sim',\n",
       "       u'n_common_authors', u'auid', u'gender', u'eth1', u'eth2', u'pos',\n",
       "       u'pos_nice', u'sink_last_ncites', u'sink_prev_ncites',\n",
       "       u'auth_last_npapers', u'auth_prev_papers', u'jj_sim', u'is_self_cite',\n",
       "       u'first_year', u'last_year', u'au_age'],\n",
       "      dtype='object')"
      ]
     },
     "execution_count": 15,
     "metadata": {},
     "output_type": "execute_result"
    }
   ],
   "source": [
    "df_first.columns"
   ]
  },
  {
   "cell_type": "code",
   "execution_count": 16,
   "metadata": {},
   "outputs": [
    {
     "name": "stdout",
     "output_type": "stream",
     "text": [
      "(41618369, 59)\n",
      "(41619240, 64)\n",
      "CPU times: user 1min 9s, sys: 20.4 s, total: 1min 30s\n",
      "Wall time: 1min 30s\n"
     ]
    }
   ],
   "source": [
    "%%time\n",
    "print df_first.shape\n",
    "df_first = df_first.merge(df_expertise, how=\"left\",\n",
    "                          left_on=[\"source_id\",\"auid\"],\n",
    "                          right_on=[\"PMID\",\"auid\"],)\n",
    "print df_first.shape"
   ]
  },
  {
   "cell_type": "code",
   "execution_count": 17,
   "metadata": {},
   "outputs": [
    {
     "data": {
      "text/plain": [
       "Index([u'source_id', u'source_year', u'source_j', u'source_n_mesh',\n",
       "       u'source_n_mesh_ex', u'source_is_eng', u'source_country',\n",
       "       u'source_is_journal', u'source_is_review', u'source_is_case_rep',\n",
       "       u'source_is_let_ed_com', u'source_T_novelty', u'source_V_novelty',\n",
       "       u'source_PT_novelty', u'source_PV_novelty', u'source_ncites',\n",
       "       u'source_n_authors', u'sink_id', u'sink_year', u'sink_j',\n",
       "       u'sink_n_mesh', u'sink_n_mesh_ex', u'sink_is_eng', u'sink_is_journal',\n",
       "       u'sink_is_review', u'sink_is_case_rep', u'sink_is_let_ed_com',\n",
       "       u'sink_T_novelty', u'sink_V_novelty', u'sink_PT_novelty',\n",
       "       u'sink_PV_novelty', u'sink_n_authors', u'year_span', u'journal_same',\n",
       "       u'mesh_sim', u'title_sim', u'lang_sim', u'affiliation_sim',\n",
       "       u'pubtype_sim', u'cite_sim', u'author_sim', u'gender_sim', u'eth_sim',\n",
       "       u'n_common_authors', u'auid', u'gender', u'eth1', u'eth2', u'pos',\n",
       "       u'pos_nice', u'sink_last_ncites', u'sink_prev_ncites',\n",
       "       u'auth_last_npapers', u'auth_prev_papers', u'jj_sim', u'is_self_cite',\n",
       "       u'first_year', u'last_year', u'au_age', u'PMID', u'match_len',\n",
       "       u'match_prop', u'overall_coverage_len', u'overall_coverage_prop'],\n",
       "      dtype='object')"
      ]
     },
     "execution_count": 17,
     "metadata": {},
     "output_type": "execute_result"
    }
   ],
   "source": [
    "df_first.columns"
   ]
  },
  {
   "cell_type": "code",
   "execution_count": 18,
   "metadata": {},
   "outputs": [
    {
     "name": "stdout",
     "output_type": "stream",
     "text": [
      "(41619240, 63)\n",
      "CPU times: user 36.4 s, sys: 37.5 s, total: 1min 13s\n",
      "Wall time: 1min 13s\n"
     ]
    }
   ],
   "source": [
    "%%time\n",
    "df_first = df_first.drop(\"PMID\", axis=1)\n",
    "print df_first.shape"
   ]
  },
  {
   "cell_type": "markdown",
   "metadata": {},
   "source": [
    "## Last author"
   ]
  },
  {
   "cell_type": "code",
   "execution_count": 19,
   "metadata": {},
   "outputs": [
    {
     "name": "stdout",
     "output_type": "stream",
     "text": [
      "(41618369, 56)\n",
      "(41618369, 58)\n",
      "CPU times: user 1min 27s, sys: 39.6 s, total: 2min 7s\n",
      "Wall time: 2min 7s\n"
     ]
    }
   ],
   "source": [
    "%%time\n",
    "print df_last.shape\n",
    "df_last = df_last.merge(df_authors, how=\"left\", on=\"auid\")\n",
    "print df_last.shape"
   ]
  },
  {
   "cell_type": "code",
   "execution_count": 20,
   "metadata": {
    "collapsed": true
   },
   "outputs": [],
   "source": [
    "df_last[\"au_age\"] = df_last[\"source_year\"] - df_last[\"first_year\"]"
   ]
  },
  {
   "cell_type": "code",
   "execution_count": 21,
   "metadata": {},
   "outputs": [
    {
     "name": "stdout",
     "output_type": "stream",
     "text": [
      "(41618369, 59)\n",
      "(41619267, 64)\n",
      "(41619267, 63)\n",
      "CPU times: user 1min 54s, sys: 1min 7s, total: 3min 1s\n",
      "Wall time: 3min 1s\n"
     ]
    }
   ],
   "source": [
    "%%time\n",
    "print df_last.shape\n",
    "df_last = df_last.merge(df_expertise, how=\"left\",\n",
    "                          left_on=[\"source_id\",\"auid\"],\n",
    "                          right_on=[\"PMID\",\"auid\"],)\n",
    "print df_last.shape\n",
    "df_last = df_last.drop(\"PMID\", axis=1)\n",
    "print df_last.shape"
   ]
  },
  {
   "cell_type": "markdown",
   "metadata": {
    "collapsed": true
   },
   "source": [
    "## Modelling considerations"
   ]
  },
  {
   "cell_type": "code",
   "execution_count": 22,
   "metadata": {
    "collapsed": true
   },
   "outputs": [],
   "source": [
    "TOP_15_COUNTRIES = [\"USA\", \"UNKNOWN\", \"UK\", \"JAPAN\", \"GERMANY\", \"FRANCE\", \"ITALY\",\n",
    "                    \"CANADA\", \"CHINA\", \"AUSTRALIA\", \"SPAIN\", \"NETHERLANDS\",\n",
    "                    \"SWEDEN\", \"INDIA\", \"OTHER\"]\n",
    "TOP_15_ETHNICITIES = [\"ENGLISH\", \"GERMAN\", \"HISPANIC\", \"CHINESE\",\n",
    "                      \"JAPANESE\", \"SLAV\", \"FRENCH\", \"ITALIAN\", \"INDIAN\",\n",
    "                      \"NORDIC\", \"ARAB\", \"DUTCH\", \"KOREAN\", \"UNKNOWN\", \"OTHER\"]\n",
    "GENDERS = [\"-\", \"F\", \"M\"]\n",
    "\n",
    "def prepare_data(df):\n",
    "    df[\"eth_weight\"] = 0.5 # Partial weight to multi ethnicity\n",
    "    df.ix[df.eth2 == \"UNKNOWN\", \"eth_weight\"] = 1 # Full weight to single ethnicity\n",
    "    df.ix[df.source_country == \"-\", \"source_country\"] = \"UNKNOWN\" # Set - to unknown\n",
    "    df.source_country = df.source_country.astype(\"category\", categories=TOP_15_COUNTRIES, ordered=False).fillna(\"OTHER\")\n",
    "    df.ix[df.eth1.isin(\n",
    "        [\"UNKNOWN\", \"TOOSHORT\", \"ERROR\"]),\n",
    "      \"eth1\"] = \"UNKNOWN\" # Set unknown ethnicities\n",
    "    df.ix[df.eth2.isin(\n",
    "            [\"UNKNOWN\", \"TOOSHORT\", \"ERROR\"]),\n",
    "          \"eth2\"] = \"UNKNOWN\" # Set unknown ethnicities\n",
    "    df.eth1 = df.eth1.astype(\"category\", categories=TOP_15_ETHNICITIES, ordered=False).fillna(\"OTHER\")\n",
    "    df.eth2 = df.eth2.astype(\"category\", categories=TOP_15_ETHNICITIES, ordered=False).fillna(\"OTHER\")\n",
    "    df.gender = df.gender.astype(\"category\", categories=GENDERS, ordered=False).fillna(\"-\")\n",
    "    df[[u'source_is_eng', u'source_is_journal', u'source_is_review',\n",
    "    u'source_is_case_rep', u'source_is_let_ed_com',\n",
    "    u'sink_is_eng', u'sink_is_journal', u'sink_is_review', u'sink_is_case_rep',\n",
    "    u'sink_is_let_ed_com', u'journal_same', u'affiliation_sim']] = df[[u'source_is_eng', u'source_is_journal', u'source_is_review',\n",
    "    u'source_is_case_rep', u'source_is_let_ed_com',\n",
    "    u'sink_is_eng', u'sink_is_journal', u'sink_is_review', u'sink_is_case_rep',\n",
    "    u'sink_is_let_ed_com', u'journal_same', u'affiliation_sim']].astype(\"bool\")"
   ]
  },
  {
   "cell_type": "code",
   "execution_count": 23,
   "metadata": {
    "collapsed": true
   },
   "outputs": [],
   "source": [
    "prepare_data(df_first)\n",
    "prepare_data(df_last)"
   ]
  },
  {
   "cell_type": "markdown",
   "metadata": {},
   "source": [
    "## Tables of gender self citation for age and prior papers"
   ]
  },
  {
   "cell_type": "code",
   "execution_count": 24,
   "metadata": {
    "collapsed": true
   },
   "outputs": [],
   "source": [
    "def filtered_data(df):\n",
    "    # Base version 1\n",
    "    df_filtered = df[(df.gender != \"-\")\n",
    "                & (df.source_ncites >= 10)\n",
    "                & (df.source_ncites <=60)]\n",
    "    print df_filtered.shape, df.shape\n",
    "    print \"Filter dataset is %.2f%% of the original data.\" % (df_filtered.shape[0] * 100./df.shape[0])\n",
    "    return df_filtered\n",
    "\n",
    "def aggregate_function(x, median_col=\"auth_prev_papers\", span=1):\n",
    "    median = x[median_col].median()\n",
    "    x = x[(x[median_col] >= (median - span))\n",
    "         & (x[median_col] <= (median + span))]\n",
    "    t = x.groupby(\"gender\")[\"is_self_cite\"].agg([np.mean, len])\n",
    "    t[\"median\"] = median\n",
    "    return t"
   ]
  },
  {
   "cell_type": "markdown",
   "metadata": {},
   "source": [
    "### First author"
   ]
  },
  {
   "cell_type": "code",
   "execution_count": 25,
   "metadata": {},
   "outputs": [
    {
     "name": "stdout",
     "output_type": "stream",
     "text": [
      "(26148675, 64) (41619240, 64)\n",
      "Filter dataset is 62.83% of the original data.\n"
     ]
    },
    {
     "data": {
      "text/html": [
       "<div>\n",
       "<table border=\"1\" class=\"dataframe\">\n",
       "  <thead>\n",
       "    <tr>\n",
       "      <th></th>\n",
       "      <th colspan=\"3\" halign=\"left\">mean</th>\n",
       "      <th colspan=\"3\" halign=\"left\">len</th>\n",
       "    </tr>\n",
       "    <tr>\n",
       "      <th>gender</th>\n",
       "      <th>-</th>\n",
       "      <th>F</th>\n",
       "      <th>M</th>\n",
       "      <th>-</th>\n",
       "      <th>F</th>\n",
       "      <th>M</th>\n",
       "    </tr>\n",
       "    <tr>\n",
       "      <th>au_age</th>\n",
       "      <th></th>\n",
       "      <th></th>\n",
       "      <th></th>\n",
       "      <th></th>\n",
       "      <th></th>\n",
       "      <th></th>\n",
       "    </tr>\n",
       "  </thead>\n",
       "  <tbody>\n",
       "    <tr>\n",
       "      <th>(4, 6]</th>\n",
       "      <td>NaN</td>\n",
       "      <td>0.039301</td>\n",
       "      <td>0.045931</td>\n",
       "      <td>NaN</td>\n",
       "      <td>1075897.0</td>\n",
       "      <td>1850463.0</td>\n",
       "    </tr>\n",
       "    <tr>\n",
       "      <th>(6, 8]</th>\n",
       "      <td>NaN</td>\n",
       "      <td>0.044391</td>\n",
       "      <td>0.053354</td>\n",
       "      <td>NaN</td>\n",
       "      <td>797698.0</td>\n",
       "      <td>1502238.0</td>\n",
       "    </tr>\n",
       "    <tr>\n",
       "      <th>(8, 12]</th>\n",
       "      <td>NaN</td>\n",
       "      <td>0.053800</td>\n",
       "      <td>0.063481</td>\n",
       "      <td>NaN</td>\n",
       "      <td>1037551.0</td>\n",
       "      <td>2141894.0</td>\n",
       "    </tr>\n",
       "    <tr>\n",
       "      <th>(12, 18]</th>\n",
       "      <td>NaN</td>\n",
       "      <td>0.068604</td>\n",
       "      <td>0.080691</td>\n",
       "      <td>NaN</td>\n",
       "      <td>881774.0</td>\n",
       "      <td>2023373.0</td>\n",
       "    </tr>\n",
       "    <tr>\n",
       "      <th>(18, 22]</th>\n",
       "      <td>NaN</td>\n",
       "      <td>0.080206</td>\n",
       "      <td>0.096689</td>\n",
       "      <td>NaN</td>\n",
       "      <td>361556.0</td>\n",
       "      <td>927872.0</td>\n",
       "    </tr>\n",
       "    <tr>\n",
       "      <th>(22, 27]</th>\n",
       "      <td>NaN</td>\n",
       "      <td>0.088466</td>\n",
       "      <td>0.109285</td>\n",
       "      <td>NaN</td>\n",
       "      <td>292644.0</td>\n",
       "      <td>863976.0</td>\n",
       "    </tr>\n",
       "    <tr>\n",
       "      <th>(27, 33]</th>\n",
       "      <td>NaN</td>\n",
       "      <td>0.096430</td>\n",
       "      <td>0.125897</td>\n",
       "      <td>NaN</td>\n",
       "      <td>189672.0</td>\n",
       "      <td>682763.0</td>\n",
       "    </tr>\n",
       "  </tbody>\n",
       "</table>\n",
       "</div>"
      ],
      "text/plain": [
       "         mean                     len                      \n",
       "gender      -         F         M   -          F          M\n",
       "au_age                                                     \n",
       "(4, 6]    NaN  0.039301  0.045931 NaN  1075897.0  1850463.0\n",
       "(6, 8]    NaN  0.044391  0.053354 NaN   797698.0  1502238.0\n",
       "(8, 12]   NaN  0.053800  0.063481 NaN  1037551.0  2141894.0\n",
       "(12, 18]  NaN  0.068604  0.080691 NaN   881774.0  2023373.0\n",
       "(18, 22]  NaN  0.080206  0.096689 NaN   361556.0   927872.0\n",
       "(22, 27]  NaN  0.088466  0.109285 NaN   292644.0   863976.0\n",
       "(27, 33]  NaN  0.096430  0.125897 NaN   189672.0   682763.0"
      ]
     },
     "metadata": {},
     "output_type": "display_data"
    },
    {
     "name": "stdout",
     "output_type": "stream",
     "text": [
      "CPU times: user 14.5 s, sys: 10.9 s, total: 25.4 s\n",
      "Wall time: 25.4 s\n"
     ]
    }
   ],
   "source": [
    "%%time\n",
    "df_t_first = filtered_data(df_first)\n",
    "display(df_t_first.pivot_table(index=pd.cut(df_t_first.au_age,\n",
    "                                    bins=[4,6,8,12,18,22,27,33]),\n",
    "                      columns=\"gender\", values=\"is_self_cite\", aggfunc=[np.mean, len]))"
   ]
  },
  {
   "cell_type": "code",
   "execution_count": 26,
   "metadata": {},
   "outputs": [
    {
     "data": {
      "text/plain": [
       "gender\n",
       "-         NaN\n",
       "F    3.962280\n",
       "M    5.787288\n",
       "Name: is_self_cite, dtype: float64"
      ]
     },
     "execution_count": 26,
     "metadata": {},
     "output_type": "execute_result"
    }
   ],
   "source": [
    "df_t_first[[\"gender\", \"is_self_cite\"]].groupby(\"gender\").is_self_cite.mean()* 100"
   ]
  },
  {
   "cell_type": "markdown",
   "metadata": {},
   "source": [
    "### Last author"
   ]
  },
  {
   "cell_type": "code",
   "execution_count": 27,
   "metadata": {},
   "outputs": [
    {
     "name": "stdout",
     "output_type": "stream",
     "text": [
      "(27526723, 64) (41619267, 64)\n",
      "Filter dataset is 66.14% of the original data.\n"
     ]
    },
    {
     "data": {
      "text/html": [
       "<div>\n",
       "<table border=\"1\" class=\"dataframe\">\n",
       "  <thead>\n",
       "    <tr>\n",
       "      <th></th>\n",
       "      <th colspan=\"3\" halign=\"left\">mean</th>\n",
       "      <th colspan=\"3\" halign=\"left\">len</th>\n",
       "    </tr>\n",
       "    <tr>\n",
       "      <th>gender</th>\n",
       "      <th>-</th>\n",
       "      <th>F</th>\n",
       "      <th>M</th>\n",
       "      <th>-</th>\n",
       "      <th>F</th>\n",
       "      <th>M</th>\n",
       "    </tr>\n",
       "    <tr>\n",
       "      <th>au_age</th>\n",
       "      <th></th>\n",
       "      <th></th>\n",
       "      <th></th>\n",
       "      <th></th>\n",
       "      <th></th>\n",
       "      <th></th>\n",
       "    </tr>\n",
       "  </thead>\n",
       "  <tbody>\n",
       "    <tr>\n",
       "      <th>(4, 6]</th>\n",
       "      <td>NaN</td>\n",
       "      <td>0.043577</td>\n",
       "      <td>0.054559</td>\n",
       "      <td>NaN</td>\n",
       "      <td>245198.0</td>\n",
       "      <td>670691.0</td>\n",
       "    </tr>\n",
       "    <tr>\n",
       "      <th>(6, 8]</th>\n",
       "      <td>NaN</td>\n",
       "      <td>0.054254</td>\n",
       "      <td>0.068265</td>\n",
       "      <td>NaN</td>\n",
       "      <td>288087.0</td>\n",
       "      <td>913149.0</td>\n",
       "    </tr>\n",
       "    <tr>\n",
       "      <th>(8, 12]</th>\n",
       "      <td>NaN</td>\n",
       "      <td>0.068714</td>\n",
       "      <td>0.080418</td>\n",
       "      <td>NaN</td>\n",
       "      <td>713097.0</td>\n",
       "      <td>2403210.0</td>\n",
       "    </tr>\n",
       "    <tr>\n",
       "      <th>(12, 18]</th>\n",
       "      <td>NaN</td>\n",
       "      <td>0.084920</td>\n",
       "      <td>0.095047</td>\n",
       "      <td>NaN</td>\n",
       "      <td>1148708.0</td>\n",
       "      <td>4332862.0</td>\n",
       "    </tr>\n",
       "    <tr>\n",
       "      <th>(18, 22]</th>\n",
       "      <td>NaN</td>\n",
       "      <td>0.097655</td>\n",
       "      <td>0.105987</td>\n",
       "      <td>NaN</td>\n",
       "      <td>666520.0</td>\n",
       "      <td>2911318.0</td>\n",
       "    </tr>\n",
       "    <tr>\n",
       "      <th>(22, 27]</th>\n",
       "      <td>NaN</td>\n",
       "      <td>0.109483</td>\n",
       "      <td>0.113665</td>\n",
       "      <td>NaN</td>\n",
       "      <td>646299.0</td>\n",
       "      <td>3328608.0</td>\n",
       "    </tr>\n",
       "    <tr>\n",
       "      <th>(27, 33]</th>\n",
       "      <td>NaN</td>\n",
       "      <td>0.119224</td>\n",
       "      <td>0.123024</td>\n",
       "      <td>NaN</td>\n",
       "      <td>474820.0</td>\n",
       "      <td>3166102.0</td>\n",
       "    </tr>\n",
       "  </tbody>\n",
       "</table>\n",
       "</div>"
      ],
      "text/plain": [
       "         mean                     len                      \n",
       "gender      -         F         M   -          F          M\n",
       "au_age                                                     \n",
       "(4, 6]    NaN  0.043577  0.054559 NaN   245198.0   670691.0\n",
       "(6, 8]    NaN  0.054254  0.068265 NaN   288087.0   913149.0\n",
       "(8, 12]   NaN  0.068714  0.080418 NaN   713097.0  2403210.0\n",
       "(12, 18]  NaN  0.084920  0.095047 NaN  1148708.0  4332862.0\n",
       "(18, 22]  NaN  0.097655  0.105987 NaN   666520.0  2911318.0\n",
       "(22, 27]  NaN  0.109483  0.113665 NaN   646299.0  3328608.0\n",
       "(27, 33]  NaN  0.119224  0.123024 NaN   474820.0  3166102.0"
      ]
     },
     "metadata": {},
     "output_type": "display_data"
    },
    {
     "name": "stdout",
     "output_type": "stream",
     "text": [
      "CPU times: user 17.5 s, sys: 12 s, total: 29.5 s\n",
      "Wall time: 29.5 s\n"
     ]
    }
   ],
   "source": [
    "%%time\n",
    "df_t_last = filtered_data(df_last)\n",
    "display(df_t_last.pivot_table(index=pd.cut(df_t_last.au_age,\n",
    "                                    bins=[4,6,8,12,18,22,27,33]),\n",
    "                      columns=\"gender\", values=\"is_self_cite\", aggfunc=[np.mean, len]))"
   ]
  },
  {
   "cell_type": "code",
   "execution_count": 28,
   "metadata": {},
   "outputs": [
    {
     "data": {
      "text/plain": [
       "gender\n",
       "-         NaN\n",
       "F    7.834364\n",
       "M    9.931546\n",
       "Name: is_self_cite, dtype: float64"
      ]
     },
     "execution_count": 28,
     "metadata": {},
     "output_type": "execute_result"
    }
   ],
   "source": [
    "df_t_last[[\"gender\", \"is_self_cite\"]].groupby(\"gender\").is_self_cite.mean()* 100"
   ]
  },
  {
   "cell_type": "markdown",
   "metadata": {},
   "source": [
    "## Plot author age and self-citation"
   ]
  },
  {
   "cell_type": "code",
   "execution_count": 29,
   "metadata": {
    "collapsed": true
   },
   "outputs": [],
   "source": [
    "def get_lower_quantile(x):\n",
    "    return pd.Series.quantile(x, q=0.05)\n",
    "    \n",
    "def get_upper_quantile(x):\n",
    "    return pd.Series.quantile(x, q=0.95)\n",
    "\n",
    "\n",
    "def mean_confidence_interval(data, confidence=0.95):\n",
    "    from scipy import stats\n",
    "    a = data*1.0\n",
    "    n = len(a)\n",
    "    m, se = a.mean(), stats.sem(a)\n",
    "    h = se * stats.t._ppf((1+confidence)/2., n-1)\n",
    "    return pd.Series([m, m-h, m+h], index=[\"mean\", \"ci_l\", \"ci_u\"])"
   ]
  },
  {
   "cell_type": "markdown",
   "metadata": {},
   "source": [
    "## Load Journal names"
   ]
  },
  {
   "cell_type": "code",
   "execution_count": 30,
   "metadata": {},
   "outputs": [
    {
     "name": "stdout",
     "output_type": "stream",
     "text": [
      "CPU times: user 1min 27s, sys: 3.24 s, total: 1min 30s\n",
      "Wall time: 1min 30s\n"
     ]
    }
   ],
   "source": [
    "%%time\n",
    "df_journals = pd.read_csv(\"data/FullArticlesData.txt\", sep=\"\\t\", usecols=[\"PMID\", \"journal\"])\n",
    "df_journals.head()"
   ]
  },
  {
   "cell_type": "code",
   "execution_count": 31,
   "metadata": {},
   "outputs": [
    {
     "data": {
      "text/html": [
       "<div>\n",
       "<table border=\"1\" class=\"dataframe\">\n",
       "  <thead>\n",
       "    <tr style=\"text-align: right;\">\n",
       "      <th></th>\n",
       "      <th>PMID</th>\n",
       "      <th>journal</th>\n",
       "    </tr>\n",
       "  </thead>\n",
       "  <tbody>\n",
       "    <tr>\n",
       "      <th>0</th>\n",
       "      <td>26151966</td>\n",
       "      <td>J Hum Lact</td>\n",
       "    </tr>\n",
       "    <tr>\n",
       "      <th>1</th>\n",
       "      <td>26151965</td>\n",
       "      <td>J Hum Lact</td>\n",
       "    </tr>\n",
       "    <tr>\n",
       "      <th>2</th>\n",
       "      <td>26151955</td>\n",
       "      <td>EuroIntervention</td>\n",
       "    </tr>\n",
       "    <tr>\n",
       "      <th>3</th>\n",
       "      <td>26151954</td>\n",
       "      <td>EuroIntervention</td>\n",
       "    </tr>\n",
       "    <tr>\n",
       "      <th>4</th>\n",
       "      <td>26151953</td>\n",
       "      <td>EuroIntervention</td>\n",
       "    </tr>\n",
       "  </tbody>\n",
       "</table>\n",
       "</div>"
      ],
      "text/plain": [
       "       PMID           journal\n",
       "0  26151966        J Hum Lact\n",
       "1  26151965        J Hum Lact\n",
       "2  26151955  EuroIntervention\n",
       "3  26151954  EuroIntervention\n",
       "4  26151953  EuroIntervention"
      ]
     },
     "execution_count": 31,
     "metadata": {},
     "output_type": "execute_result"
    }
   ],
   "source": [
    "df_journals.head()"
   ]
  },
  {
   "cell_type": "code",
   "execution_count": 32,
   "metadata": {},
   "outputs": [
    {
     "data": {
      "text/plain": [
       "J Biol Chem                   171068\n",
       "Science                       167415\n",
       "PLoS One                      133591\n",
       "Lancet                        129945\n",
       "Proc Natl Acad Sci U S A      121705\n",
       "Nature                        104418\n",
       "Br Med J                       97226\n",
       "Biochim Biophys Acta           96039\n",
       "Biochem Biophys Res Commun     78341\n",
       "Phys Rev Lett                  76322\n",
       "N Engl J Med                   72020\n",
       "JAMA                           66849\n",
       "BMJ                            65858\n",
       "Biochemistry                   62430\n",
       "J Immunol                      62245\n",
       "Brain Res                      56834\n",
       "Am J Physiol                   54726\n",
       "Biochem J                      54355\n",
       "J Bacteriol                    51716\n",
       "J Am Chem Soc                  50057\n",
       "Cancer Res                     48966\n",
       "Ann N Y Acad Sci               47684\n",
       "J Urol                         47368\n",
       "Phys Rev B Condens Matter      46890\n",
       "FEBS Lett                      46770\n",
       "Appl Opt                       43386\n",
       "Blood                          43160\n",
       "J Virol                        42269\n",
       "Med J Aust                     41119\n",
       "Ugeskr Laeger                  40687\n",
       "Name: journal, dtype: int64"
      ]
     },
     "execution_count": 32,
     "metadata": {},
     "output_type": "execute_result"
    }
   ],
   "source": [
    "df_journals.journal.value_counts().head(30)"
   ]
  },
  {
   "cell_type": "markdown",
   "metadata": {},
   "source": [
    "## Journal categories\n",
    "\n",
    "* MEDICINE - NEMJ, JAMA, LANCET\n",
    "* BIOLOGY - CELL, Journal of Bio Chem\n",
    "* Bioinformatics - PLoS Com Bio, BMC BioInfo\n",
    "* EPIDEMIOLOGY - MMWR. Morbidity and Mortality Weekly Report, Emerging Infectious Diseases, International Journal of Epidemiology\n",
    "* DENTISTRY - Journal of Endodontics, Journal of Clinical Periodontology, Journal of Dental Research\n",
    "* GENERIC - Proc Natl Acad Sci U S A, Nature, Science, PLoS One"
   ]
  },
  {
   "cell_type": "code",
   "execution_count": 33,
   "metadata": {},
   "outputs": [
    {
     "data": {
      "text/plain": [
       "{'BIOLOGY': {'Adv Exp Med Biol',\n",
       "  'Biochem J',\n",
       "  'Biochemistry',\n",
       "  'Biochim Biophys Acta',\n",
       "  'Bioinformatics',\n",
       "  'Cell',\n",
       "  'FEBS Lett',\n",
       "  'J Bacteriol',\n",
       "  'J Biol Chem',\n",
       "  'J Virol',\n",
       "  'Mol Cell',\n",
       "  'Nucleic Acids Res'},\n",
       " 'GENERIC': {'Ann N Y Acad Sci',\n",
       "  'Nature',\n",
       "  'Proc Natl Acad Sci U S A',\n",
       "  'Science'},\n",
       " 'MEDICINE': {'BMJ', 'JAMA', 'Lancet', 'N Engl J Med'},\n",
       " 'SPECIAL_MEDICINE': {'Blood',\n",
       "  'Brain Res',\n",
       "  'Cancer Res',\n",
       "  'Circulation',\n",
       "  'Clin Cancer Res',\n",
       "  'Gut',\n",
       "  'J Am Coll Cardiol',\n",
       "  'J Clin Oncol',\n",
       "  'J Immunol',\n",
       "  'J Urol'}}"
      ]
     },
     "execution_count": 33,
     "metadata": {},
     "output_type": "execute_result"
    }
   ],
   "source": [
    "JOURNAL_NAMES  = dict(\n",
    "    GENERIC=set(['Proc Natl Acad Sci U S A', 'Nature', 'Science',\n",
    "                 'Ann N Y Acad Sci',]), # General Science\n",
    "    MEDICINE = set(['JAMA', 'Lancet', 'N Engl J Med',\n",
    "                    'BMJ', \n",
    "                    #'Med J Aust', 'Ugeskr Laeger'\n",
    "                   ]), # General Medicine\n",
    "    BIOLOGY = set(['J Biol Chem', 'Cell',  'Adv Exp Med Biol',\n",
    "                   'Mol Cell', 'Biochim Biophys Acta', 'Biochemistry',\n",
    "                   'Biochem J', 'FEBS Lett', 'J Bacteriol', 'J Virol',\n",
    "                   'Bioinformatics', 'Nucleic Acids Res']), # Biology\n",
    "    #BIOINFORMATICS=set([]),\n",
    "    SPECIAL_MEDICINE=set(['Cancer Res', 'Clin Cancer Res', 'J Clin Oncol',\n",
    "                'J Am Coll Cardiol', 'Gut', 'Circulation', 'Blood',\n",
    "                'J Immunol', 'Brain Res', #'Am J Physiol',\n",
    "                'J Urol', \n",
    "               ]) # Speciality Medicine\n",
    ")\n",
    "\n",
    "JOURNAL_NAMES"
   ]
  },
  {
   "cell_type": "code",
   "execution_count": 34,
   "metadata": {},
   "outputs": [
    {
     "data": {
      "text/plain": [
       "Lancet          129945\n",
       "N Engl J Med     72020\n",
       "JAMA             66849\n",
       "BMJ              65858\n",
       "Name: journal, dtype: int64"
      ]
     },
     "execution_count": 34,
     "metadata": {},
     "output_type": "execute_result"
    }
   ],
   "source": [
    "df_journals[df_journals.journal.isin(JOURNAL_NAMES[\"MEDICINE\"])].journal.value_counts()"
   ]
  },
  {
   "cell_type": "code",
   "execution_count": 35,
   "metadata": {},
   "outputs": [
    {
     "data": {
      "text/html": [
       "<div>\n",
       "<table border=\"1\" class=\"dataframe\">\n",
       "  <thead>\n",
       "    <tr style=\"text-align: right;\">\n",
       "      <th></th>\n",
       "      <th>PMID</th>\n",
       "      <th>journal</th>\n",
       "      <th>JOURNAL_TYPE</th>\n",
       "    </tr>\n",
       "  </thead>\n",
       "  <tbody>\n",
       "    <tr>\n",
       "      <th>0</th>\n",
       "      <td>26151285</td>\n",
       "      <td>JAMA</td>\n",
       "      <td>MEDICINE</td>\n",
       "    </tr>\n",
       "    <tr>\n",
       "      <th>1</th>\n",
       "      <td>26151284</td>\n",
       "      <td>JAMA</td>\n",
       "      <td>MEDICINE</td>\n",
       "    </tr>\n",
       "    <tr>\n",
       "      <th>2</th>\n",
       "      <td>26151282</td>\n",
       "      <td>JAMA</td>\n",
       "      <td>MEDICINE</td>\n",
       "    </tr>\n",
       "    <tr>\n",
       "      <th>3</th>\n",
       "      <td>26151281</td>\n",
       "      <td>JAMA</td>\n",
       "      <td>MEDICINE</td>\n",
       "    </tr>\n",
       "    <tr>\n",
       "      <th>4</th>\n",
       "      <td>26151280</td>\n",
       "      <td>JAMA</td>\n",
       "      <td>MEDICINE</td>\n",
       "    </tr>\n",
       "  </tbody>\n",
       "</table>\n",
       "</div>"
      ],
      "text/plain": [
       "       PMID journal JOURNAL_TYPE\n",
       "0  26151285    JAMA     MEDICINE\n",
       "1  26151284    JAMA     MEDICINE\n",
       "2  26151282    JAMA     MEDICINE\n",
       "3  26151281    JAMA     MEDICINE\n",
       "4  26151280    JAMA     MEDICINE"
      ]
     },
     "execution_count": 35,
     "metadata": {},
     "output_type": "execute_result"
    }
   ],
   "source": [
    "pd.concat([df_journals[df_journals.journal.isin(v)\n",
    "                      ][[\"PMID\", \"journal\"]].assign(JOURNAL_TYPE=k).reset_index(drop=True)\n",
    "          for k,v in JOURNAL_NAMES.items()]).head()"
   ]
  },
  {
   "cell_type": "markdown",
   "metadata": {},
   "source": [
    "# Plot full models for journals"
   ]
  },
  {
   "cell_type": "code",
   "execution_count": 36,
   "metadata": {},
   "outputs": [
    {
     "data": {
      "text/plain": [
       "Index([u'source_id', u'source_year', u'source_j', u'source_n_mesh',\n",
       "       u'source_n_mesh_ex', u'source_is_eng', u'source_country',\n",
       "       u'source_is_journal', u'source_is_review', u'source_is_case_rep',\n",
       "       u'source_is_let_ed_com', u'source_T_novelty', u'source_V_novelty',\n",
       "       u'source_PT_novelty', u'source_PV_novelty', u'source_ncites',\n",
       "       u'source_n_authors', u'sink_id', u'sink_year', u'sink_j',\n",
       "       u'sink_n_mesh', u'sink_n_mesh_ex', u'sink_is_eng', u'sink_is_journal',\n",
       "       u'sink_is_review', u'sink_is_case_rep', u'sink_is_let_ed_com',\n",
       "       u'sink_T_novelty', u'sink_V_novelty', u'sink_PT_novelty',\n",
       "       u'sink_PV_novelty', u'sink_n_authors', u'year_span', u'journal_same',\n",
       "       u'mesh_sim', u'title_sim', u'lang_sim', u'affiliation_sim',\n",
       "       u'pubtype_sim', u'cite_sim', u'author_sim', u'gender_sim', u'eth_sim',\n",
       "       u'n_common_authors', u'auid', u'gender', u'eth1', u'eth2', u'pos',\n",
       "       u'pos_nice', u'sink_last_ncites', u'sink_prev_ncites',\n",
       "       u'auth_last_npapers', u'auth_prev_papers', u'jj_sim', u'is_self_cite',\n",
       "       u'first_year', u'last_year', u'au_age', u'match_len', u'match_prop',\n",
       "       u'overall_coverage_len', u'overall_coverage_prop', u'eth_weight'],\n",
       "      dtype='object')"
      ]
     },
     "execution_count": 36,
     "metadata": {},
     "output_type": "execute_result"
    }
   ],
   "source": [
    "df_t_first.columns"
   ]
  },
  {
   "cell_type": "markdown",
   "metadata": {},
   "source": [
    "## Indiv journal analysis"
   ]
  },
  {
   "cell_type": "code",
   "execution_count": 37,
   "metadata": {
    "collapsed": true
   },
   "outputs": [],
   "source": [
    "journal_model_formula = (\"is_self_cite ~ \"\n",
    "            \"I(auth_prev_papers == 0)\"\n",
    "           \"+ I(auth_prev_papers == 1)\"\n",
    "           \"+ np.log10(auth_prev_papers + 1) + I(np.log10(auth_prev_papers + 1)**2)\"\n",
    "           \"+ C(gender, levels=['M', 'F'])\"\n",
    "           \"+ C(source_country, levels=TOP_15_COUNTRIES)\"\n",
    "           \"+ mf.MC(eth1, eth2, weights=eth_weight, levels=TOP_15_ETHNICITIES)\"\n",
    "           #\"+ I(source_ncites == 1)\"\n",
    "           \"+ np.log10(source_ncites)\"\n",
    "           \"+ I(np.log10(source_ncites)**2) \"#\"+ I(np.log10(source_ncites)**3)\"\n",
    "           #\"+ I(source_n_authors > 20)\"\n",
    "           #              \" + np.log10(np.clip(source_n_authors, 0, 20))\"\n",
    "           #\"+ I(np.log10(np.clip(source_n_authors, 0, 20)) ** 2)\"\n",
    "           \"+ np.log10(source_n_mesh_ex + 1) + \"#\"I(source_n_mesh_ex == 0)\" \n",
    "           \"+ np.log10(sink_n_mesh_ex + 1) + I(sink_n_mesh_ex == 0)\"\n",
    "           \"+ I(year_span < 0) + I(year_span == 0)\"\n",
    "                         \" + mf.score_log_1(year_span) + I(mf.score_log_1(year_span)**2)\"\n",
    "           \"+ I(sink_prev_ncites == 0) \"\n",
    "                         \"+ np.log10(sink_prev_ncites + 1) + I(np.log10(sink_prev_ncites + 1)**2)\"\n",
    "           \"+ I(jj_sim == 0) + np.log10(jj_sim + 1) + I(np.log10(jj_sim + 1)**2) + journal_same\"\n",
    "           \"+ source_is_eng + source_is_journal + source_is_review + source_is_case_rep + source_is_let_ed_com\"\n",
    "           \"+ sink_is_eng + sink_is_journal + sink_is_review + sink_is_case_rep + sink_is_let_ed_com\"\n",
    "           \"+ np.log10(np.nan_to_num(source_V_novelty) + 1)\"\n",
    "           \"+ np.log10(np.nan_to_num(sink_V_novelty) + 1) + I(np.log10(np.nan_to_num(sink_V_novelty) + 1)**2)\"\n",
    "            \"+ I(match_prop == 0) + I(match_prop == 1) + match_prop + I(match_prop**2)\"\n",
    "          )"
   ]
  },
  {
   "cell_type": "markdown",
   "metadata": {
    "collapsed": true
   },
   "source": [
    "## Bambi analysis"
   ]
  },
  {
   "cell_type": "code",
   "execution_count": 38,
   "metadata": {
    "collapsed": true
   },
   "outputs": [],
   "source": [
    "from bambi import Model"
   ]
  },
  {
   "cell_type": "code",
   "execution_count": 57,
   "metadata": {
    "collapsed": true
   },
   "outputs": [],
   "source": [
    "bm_model = Model(df_t_first.copy())"
   ]
  },
  {
   "cell_type": "code",
   "execution_count": 58,
   "metadata": {
    "collapsed": true
   },
   "outputs": [],
   "source": [
    "bm_model.add((\"is_self_cite ~ I(auth_prev_papers == 0)\"\n",
    "           \"+ I(auth_prev_papers == 1)\"\n",
    "           \"+ np.log10(auth_prev_papers + 1) + I(np.log10(auth_prev_papers + 1)**2)\"),\n",
    "            random=[\"1|I(gender=='F')\"])"
   ]
  },
  {
   "cell_type": "code",
   "execution_count": 59,
   "metadata": {},
   "outputs": [
    {
     "name": "stderr",
     "output_type": "stream",
     "text": [
      "INFO:pystan:COMPILING THE C++ CODE FOR MODEL anon_model_7f124d399a4ec8f0e8e9a79b4c866b8d NOW.\n"
     ]
    }
   ],
   "source": [
    "bm_model.build(backend=\"stan\")"
   ]
  },
  {
   "cell_type": "code",
   "execution_count": 60,
   "metadata": {},
   "outputs": [
    {
     "ename": "OSError",
     "evalue": "[Errno 12] Cannot allocate memory",
     "output_type": "error",
     "traceback": [
      "\u001b[0;31m---------------------------------------------------------------------------\u001b[0m",
      "\u001b[0;31mOSError\u001b[0m                                   Traceback (most recent call last)",
      "\u001b[0;32m<ipython-input-60-f635c68e9830>\u001b[0m in \u001b[0;36m<module>\u001b[0;34m()\u001b[0m\n\u001b[0;32m----> 1\u001b[0;31m \u001b[0mresults\u001b[0m \u001b[0;34m=\u001b[0m \u001b[0mbm_model\u001b[0m\u001b[0;34m.\u001b[0m\u001b[0mfit\u001b[0m\u001b[0;34m(\u001b[0m\u001b[0msamples\u001b[0m\u001b[0;34m=\u001b[0m\u001b[0;36m5000\u001b[0m\u001b[0;34m,\u001b[0m \u001b[0mchains\u001b[0m\u001b[0;34m=\u001b[0m\u001b[0;36m4\u001b[0m\u001b[0;34m)\u001b[0m\u001b[0;34m\u001b[0m\u001b[0m\n\u001b[0m",
      "\u001b[0;32m/content/smishra8/SOFTWARE/anaconda2/lib/python2.7/site-packages/bambi/models.pyc\u001b[0m in \u001b[0;36mfit\u001b[0;34m(self, fixed, random, priors, family, link, run, categorical, backend, **kwargs)\u001b[0m\n\u001b[1;32m    273\u001b[0m                               \"sampling begins.\" % self._backend_name)\n\u001b[1;32m    274\u001b[0m                 \u001b[0mself\u001b[0m\u001b[0;34m.\u001b[0m\u001b[0mbuild\u001b[0m\u001b[0;34m(\u001b[0m\u001b[0mbackend\u001b[0m\u001b[0;34m)\u001b[0m\u001b[0;34m\u001b[0m\u001b[0m\n\u001b[0;32m--> 275\u001b[0;31m             \u001b[0;32mreturn\u001b[0m \u001b[0mself\u001b[0m\u001b[0;34m.\u001b[0m\u001b[0mbackend\u001b[0m\u001b[0;34m.\u001b[0m\u001b[0mrun\u001b[0m\u001b[0;34m(\u001b[0m\u001b[0;34m**\u001b[0m\u001b[0mkwargs\u001b[0m\u001b[0;34m)\u001b[0m\u001b[0;34m\u001b[0m\u001b[0m\n\u001b[0m\u001b[1;32m    276\u001b[0m \u001b[0;34m\u001b[0m\u001b[0m\n\u001b[1;32m    277\u001b[0m         \u001b[0mself\u001b[0m\u001b[0;34m.\u001b[0m\u001b[0m_backend_name\u001b[0m \u001b[0;34m=\u001b[0m \u001b[0mbackend\u001b[0m\u001b[0;34m\u001b[0m\u001b[0m\n",
      "\u001b[0;32m/content/smishra8/SOFTWARE/anaconda2/lib/python2.7/site-packages/bambi/backends/stan.pyc\u001b[0m in \u001b[0;36mrun\u001b[0;34m(self, samples, chains, **kwargs)\u001b[0m\n\u001b[1;32m    301\u001b[0m         '''\n\u001b[1;32m    302\u001b[0m         self.fit = self.stan_model.sampling(data=self.X, iter=samples,\n\u001b[0;32m--> 303\u001b[0;31m                                             chains=chains, **kwargs)\n\u001b[0m\u001b[1;32m    304\u001b[0m         \u001b[0;32mreturn\u001b[0m \u001b[0mself\u001b[0m\u001b[0;34m.\u001b[0m\u001b[0m_convert_to_results\u001b[0m\u001b[0;34m(\u001b[0m\u001b[0;34m)\u001b[0m\u001b[0;34m\u001b[0m\u001b[0m\n\u001b[1;32m    305\u001b[0m \u001b[0;34m\u001b[0m\u001b[0m\n",
      "\u001b[0;32m/content/smishra8/SOFTWARE/anaconda2/lib/python2.7/site-packages/pystan/model.pyc\u001b[0m in \u001b[0;36msampling\u001b[0;34m(self, data, pars, chains, iter, warmup, thin, seed, init, sample_file, diagnostic_file, verbose, algorithm, control, n_jobs, **kwargs)\u001b[0m\n\u001b[1;32m    718\u001b[0m         \u001b[0mcall_sampler_args\u001b[0m \u001b[0;34m=\u001b[0m \u001b[0mizip\u001b[0m\u001b[0;34m(\u001b[0m\u001b[0mitertools\u001b[0m\u001b[0;34m.\u001b[0m\u001b[0mrepeat\u001b[0m\u001b[0;34m(\u001b[0m\u001b[0mdata\u001b[0m\u001b[0;34m)\u001b[0m\u001b[0;34m,\u001b[0m \u001b[0margs_list\u001b[0m\u001b[0;34m,\u001b[0m \u001b[0mitertools\u001b[0m\u001b[0;34m.\u001b[0m\u001b[0mrepeat\u001b[0m\u001b[0;34m(\u001b[0m\u001b[0mpars\u001b[0m\u001b[0;34m)\u001b[0m\u001b[0;34m)\u001b[0m\u001b[0;34m\u001b[0m\u001b[0m\n\u001b[1;32m    719\u001b[0m         \u001b[0mcall_sampler_star\u001b[0m \u001b[0;34m=\u001b[0m \u001b[0mself\u001b[0m\u001b[0;34m.\u001b[0m\u001b[0mmodule\u001b[0m\u001b[0;34m.\u001b[0m\u001b[0m_call_sampler_star\u001b[0m\u001b[0;34m\u001b[0m\u001b[0m\n\u001b[0;32m--> 720\u001b[0;31m         \u001b[0mret_and_samples\u001b[0m \u001b[0;34m=\u001b[0m \u001b[0m_map_parallel\u001b[0m\u001b[0;34m(\u001b[0m\u001b[0mcall_sampler_star\u001b[0m\u001b[0;34m,\u001b[0m \u001b[0mcall_sampler_args\u001b[0m\u001b[0;34m,\u001b[0m \u001b[0mn_jobs\u001b[0m\u001b[0;34m)\u001b[0m\u001b[0;34m\u001b[0m\u001b[0m\n\u001b[0m\u001b[1;32m    721\u001b[0m         \u001b[0msamples\u001b[0m \u001b[0;34m=\u001b[0m \u001b[0;34m[\u001b[0m\u001b[0msmpl\u001b[0m \u001b[0;32mfor\u001b[0m \u001b[0m_\u001b[0m\u001b[0;34m,\u001b[0m \u001b[0msmpl\u001b[0m \u001b[0;32min\u001b[0m \u001b[0mret_and_samples\u001b[0m\u001b[0;34m]\u001b[0m\u001b[0;34m\u001b[0m\u001b[0m\n\u001b[1;32m    722\u001b[0m \u001b[0;34m\u001b[0m\u001b[0m\n",
      "\u001b[0;32m/content/smishra8/SOFTWARE/anaconda2/lib/python2.7/site-packages/pystan/model.pyc\u001b[0m in \u001b[0;36m_map_parallel\u001b[0;34m(function, args, n_jobs)\u001b[0m\n\u001b[1;32m     77\u001b[0m         \u001b[0;32mif\u001b[0m \u001b[0mn_jobs\u001b[0m \u001b[0;34m==\u001b[0m \u001b[0;34m-\u001b[0m\u001b[0;36m1\u001b[0m\u001b[0;34m:\u001b[0m\u001b[0;34m\u001b[0m\u001b[0m\n\u001b[1;32m     78\u001b[0m             \u001b[0mn_jobs\u001b[0m \u001b[0;34m=\u001b[0m \u001b[0mNone\u001b[0m\u001b[0;34m\u001b[0m\u001b[0m\n\u001b[0;32m---> 79\u001b[0;31m         \u001b[0mpool\u001b[0m \u001b[0;34m=\u001b[0m \u001b[0mmultiprocessing\u001b[0m\u001b[0;34m.\u001b[0m\u001b[0mPool\u001b[0m\u001b[0;34m(\u001b[0m\u001b[0mprocesses\u001b[0m\u001b[0;34m=\u001b[0m\u001b[0mn_jobs\u001b[0m\u001b[0;34m)\u001b[0m\u001b[0;34m\u001b[0m\u001b[0m\n\u001b[0m\u001b[1;32m     80\u001b[0m         \u001b[0mmap_result\u001b[0m \u001b[0;34m=\u001b[0m \u001b[0mpool\u001b[0m\u001b[0;34m.\u001b[0m\u001b[0mmap\u001b[0m\u001b[0;34m(\u001b[0m\u001b[0mfunction\u001b[0m\u001b[0;34m,\u001b[0m \u001b[0margs\u001b[0m\u001b[0;34m)\u001b[0m\u001b[0;34m\u001b[0m\u001b[0m\n\u001b[1;32m     81\u001b[0m         \u001b[0mpool\u001b[0m\u001b[0;34m.\u001b[0m\u001b[0mclose\u001b[0m\u001b[0;34m(\u001b[0m\u001b[0;34m)\u001b[0m\u001b[0;34m\u001b[0m\u001b[0m\n",
      "\u001b[0;32m/content/smishra8/SOFTWARE/anaconda2/lib/python2.7/multiprocessing/__init__.pyc\u001b[0m in \u001b[0;36mPool\u001b[0;34m(processes, initializer, initargs, maxtasksperchild)\u001b[0m\n\u001b[1;32m    230\u001b[0m     '''\n\u001b[1;32m    231\u001b[0m     \u001b[0;32mfrom\u001b[0m \u001b[0mmultiprocessing\u001b[0m\u001b[0;34m.\u001b[0m\u001b[0mpool\u001b[0m \u001b[0;32mimport\u001b[0m \u001b[0mPool\u001b[0m\u001b[0;34m\u001b[0m\u001b[0m\n\u001b[0;32m--> 232\u001b[0;31m     \u001b[0;32mreturn\u001b[0m \u001b[0mPool\u001b[0m\u001b[0;34m(\u001b[0m\u001b[0mprocesses\u001b[0m\u001b[0;34m,\u001b[0m \u001b[0minitializer\u001b[0m\u001b[0;34m,\u001b[0m \u001b[0minitargs\u001b[0m\u001b[0;34m,\u001b[0m \u001b[0mmaxtasksperchild\u001b[0m\u001b[0;34m)\u001b[0m\u001b[0;34m\u001b[0m\u001b[0m\n\u001b[0m\u001b[1;32m    233\u001b[0m \u001b[0;34m\u001b[0m\u001b[0m\n\u001b[1;32m    234\u001b[0m \u001b[0;32mdef\u001b[0m \u001b[0mRawValue\u001b[0m\u001b[0;34m(\u001b[0m\u001b[0mtypecode_or_type\u001b[0m\u001b[0;34m,\u001b[0m \u001b[0;34m*\u001b[0m\u001b[0margs\u001b[0m\u001b[0;34m)\u001b[0m\u001b[0;34m:\u001b[0m\u001b[0;34m\u001b[0m\u001b[0m\n",
      "\u001b[0;32m/content/smishra8/SOFTWARE/anaconda2/lib/python2.7/multiprocessing/pool.pyc\u001b[0m in \u001b[0;36m__init__\u001b[0;34m(self, processes, initializer, initargs, maxtasksperchild)\u001b[0m\n\u001b[1;32m    157\u001b[0m         \u001b[0mself\u001b[0m\u001b[0;34m.\u001b[0m\u001b[0m_processes\u001b[0m \u001b[0;34m=\u001b[0m \u001b[0mprocesses\u001b[0m\u001b[0;34m\u001b[0m\u001b[0m\n\u001b[1;32m    158\u001b[0m         \u001b[0mself\u001b[0m\u001b[0;34m.\u001b[0m\u001b[0m_pool\u001b[0m \u001b[0;34m=\u001b[0m \u001b[0;34m[\u001b[0m\u001b[0;34m]\u001b[0m\u001b[0;34m\u001b[0m\u001b[0m\n\u001b[0;32m--> 159\u001b[0;31m         \u001b[0mself\u001b[0m\u001b[0;34m.\u001b[0m\u001b[0m_repopulate_pool\u001b[0m\u001b[0;34m(\u001b[0m\u001b[0;34m)\u001b[0m\u001b[0;34m\u001b[0m\u001b[0m\n\u001b[0m\u001b[1;32m    160\u001b[0m \u001b[0;34m\u001b[0m\u001b[0m\n\u001b[1;32m    161\u001b[0m         self._worker_handler = threading.Thread(\n",
      "\u001b[0;32m/content/smishra8/SOFTWARE/anaconda2/lib/python2.7/multiprocessing/pool.pyc\u001b[0m in \u001b[0;36m_repopulate_pool\u001b[0;34m(self)\u001b[0m\n\u001b[1;32m    221\u001b[0m             \u001b[0mw\u001b[0m\u001b[0;34m.\u001b[0m\u001b[0mname\u001b[0m \u001b[0;34m=\u001b[0m \u001b[0mw\u001b[0m\u001b[0;34m.\u001b[0m\u001b[0mname\u001b[0m\u001b[0;34m.\u001b[0m\u001b[0mreplace\u001b[0m\u001b[0;34m(\u001b[0m\u001b[0;34m'Process'\u001b[0m\u001b[0;34m,\u001b[0m \u001b[0;34m'PoolWorker'\u001b[0m\u001b[0;34m)\u001b[0m\u001b[0;34m\u001b[0m\u001b[0m\n\u001b[1;32m    222\u001b[0m             \u001b[0mw\u001b[0m\u001b[0;34m.\u001b[0m\u001b[0mdaemon\u001b[0m \u001b[0;34m=\u001b[0m \u001b[0mTrue\u001b[0m\u001b[0;34m\u001b[0m\u001b[0m\n\u001b[0;32m--> 223\u001b[0;31m             \u001b[0mw\u001b[0m\u001b[0;34m.\u001b[0m\u001b[0mstart\u001b[0m\u001b[0;34m(\u001b[0m\u001b[0;34m)\u001b[0m\u001b[0;34m\u001b[0m\u001b[0m\n\u001b[0m\u001b[1;32m    224\u001b[0m             \u001b[0mdebug\u001b[0m\u001b[0;34m(\u001b[0m\u001b[0;34m'added worker'\u001b[0m\u001b[0;34m)\u001b[0m\u001b[0;34m\u001b[0m\u001b[0m\n\u001b[1;32m    225\u001b[0m \u001b[0;34m\u001b[0m\u001b[0m\n",
      "\u001b[0;32m/content/smishra8/SOFTWARE/anaconda2/lib/python2.7/multiprocessing/process.pyc\u001b[0m in \u001b[0;36mstart\u001b[0;34m(self)\u001b[0m\n\u001b[1;32m    128\u001b[0m         \u001b[0;32melse\u001b[0m\u001b[0;34m:\u001b[0m\u001b[0;34m\u001b[0m\u001b[0m\n\u001b[1;32m    129\u001b[0m             \u001b[0;32mfrom\u001b[0m \u001b[0;34m.\u001b[0m\u001b[0mforking\u001b[0m \u001b[0;32mimport\u001b[0m \u001b[0mPopen\u001b[0m\u001b[0;34m\u001b[0m\u001b[0m\n\u001b[0;32m--> 130\u001b[0;31m         \u001b[0mself\u001b[0m\u001b[0;34m.\u001b[0m\u001b[0m_popen\u001b[0m \u001b[0;34m=\u001b[0m \u001b[0mPopen\u001b[0m\u001b[0;34m(\u001b[0m\u001b[0mself\u001b[0m\u001b[0;34m)\u001b[0m\u001b[0;34m\u001b[0m\u001b[0m\n\u001b[0m\u001b[1;32m    131\u001b[0m         \u001b[0m_current_process\u001b[0m\u001b[0;34m.\u001b[0m\u001b[0m_children\u001b[0m\u001b[0;34m.\u001b[0m\u001b[0madd\u001b[0m\u001b[0;34m(\u001b[0m\u001b[0mself\u001b[0m\u001b[0;34m)\u001b[0m\u001b[0;34m\u001b[0m\u001b[0m\n\u001b[1;32m    132\u001b[0m \u001b[0;34m\u001b[0m\u001b[0m\n",
      "\u001b[0;32m/content/smishra8/SOFTWARE/anaconda2/lib/python2.7/multiprocessing/forking.pyc\u001b[0m in \u001b[0;36m__init__\u001b[0;34m(self, process_obj)\u001b[0m\n\u001b[1;32m    119\u001b[0m             \u001b[0mself\u001b[0m\u001b[0;34m.\u001b[0m\u001b[0mreturncode\u001b[0m \u001b[0;34m=\u001b[0m \u001b[0mNone\u001b[0m\u001b[0;34m\u001b[0m\u001b[0m\n\u001b[1;32m    120\u001b[0m \u001b[0;34m\u001b[0m\u001b[0m\n\u001b[0;32m--> 121\u001b[0;31m             \u001b[0mself\u001b[0m\u001b[0;34m.\u001b[0m\u001b[0mpid\u001b[0m \u001b[0;34m=\u001b[0m \u001b[0mos\u001b[0m\u001b[0;34m.\u001b[0m\u001b[0mfork\u001b[0m\u001b[0;34m(\u001b[0m\u001b[0;34m)\u001b[0m\u001b[0;34m\u001b[0m\u001b[0m\n\u001b[0m\u001b[1;32m    122\u001b[0m             \u001b[0;32mif\u001b[0m \u001b[0mself\u001b[0m\u001b[0;34m.\u001b[0m\u001b[0mpid\u001b[0m \u001b[0;34m==\u001b[0m \u001b[0;36m0\u001b[0m\u001b[0;34m:\u001b[0m\u001b[0;34m\u001b[0m\u001b[0m\n\u001b[1;32m    123\u001b[0m                 \u001b[0;32mif\u001b[0m \u001b[0;34m'random'\u001b[0m \u001b[0;32min\u001b[0m \u001b[0msys\u001b[0m\u001b[0;34m.\u001b[0m\u001b[0mmodules\u001b[0m\u001b[0;34m:\u001b[0m\u001b[0;34m\u001b[0m\u001b[0m\n",
      "\u001b[0;31mOSError\u001b[0m: [Errno 12] Cannot allocate memory"
     ]
    }
   ],
   "source": [
    "results = bm_model.fit(samples=5000, chains=4)"
   ]
  },
  {
   "cell_type": "code",
   "execution_count": 55,
   "metadata": {},
   "outputs": [
    {
     "data": {
      "text/plain": [
       "array([[<matplotlib.axes._subplots.AxesSubplot object at 0x7fdf0e636b10>,\n",
       "        <matplotlib.axes._subplots.AxesSubplot object at 0x7fde5f84ea50>],\n",
       "       [<matplotlib.axes._subplots.AxesSubplot object at 0x7fde5ff5d250>,\n",
       "        <matplotlib.axes._subplots.AxesSubplot object at 0x7fde5ffc9190>],\n",
       "       [<matplotlib.axes._subplots.AxesSubplot object at 0x7fde5f368d90>,\n",
       "        <matplotlib.axes._subplots.AxesSubplot object at 0x7fde736da210>],\n",
       "       [<matplotlib.axes._subplots.AxesSubplot object at 0x7fde73714c50>,\n",
       "        <matplotlib.axes._subplots.AxesSubplot object at 0x7fde5f78b9d0>],\n",
       "       [<matplotlib.axes._subplots.AxesSubplot object at 0x7fde3d874910>,\n",
       "        <matplotlib.axes._subplots.AxesSubplot object at 0x7fde5f860490>],\n",
       "       [<matplotlib.axes._subplots.AxesSubplot object at 0x7fde3d7b1d90>,\n",
       "        <matplotlib.axes._subplots.AxesSubplot object at 0x7fde3d93ee90>],\n",
       "       [<matplotlib.axes._subplots.AxesSubplot object at 0x7fdc29cf21d0>,\n",
       "        <matplotlib.axes._subplots.AxesSubplot object at 0x7fdc29c7a210>],\n",
       "       [<matplotlib.axes._subplots.AxesSubplot object at 0x7fde3d699910>,\n",
       "        <matplotlib.axes._subplots.AxesSubplot object at 0x7fda9e826bd0>]], dtype=object)"
      ]
     },
     "execution_count": 55,
     "metadata": {},
     "output_type": "execute_result"
    },
    {
     "data": {
      "image/png": "[encoded data removed]",
      "text/plain": [
       "<matplotlib.figure.Figure at 0x7fda9e4361d0>"
      ]
     },
     "metadata": {},
     "output_type": "display_data"
    }
   ],
   "source": [
    "results[100:].plot()"
   ]
  },
  {
   "cell_type": "code",
   "execution_count": 56,
   "metadata": {},
   "outputs": [
    {
     "name": "stderr",
     "output_type": "stream",
     "text": [
      "/content/smishra8/SOFTWARE/anaconda2/lib/python2.7/site-packages/bambi/results.py:346: UserWarning: Multiple MCMC chains are required in order to compute convergence diagnostics.\n",
      "  warnings.warn('Multiple MCMC chains are required in order '\n"
     ]
    },
    {
     "data": {
      "text/html": [
       "<div>\n",
       "<table border=\"1\" class=\"dataframe\">\n",
       "  <thead>\n",
       "    <tr style=\"text-align: right;\">\n",
       "      <th></th>\n",
       "      <th>mean</th>\n",
       "      <th>sd</th>\n",
       "      <th>hpd0.95_lower</th>\n",
       "      <th>hpd0.95_upper</th>\n",
       "    </tr>\n",
       "  </thead>\n",
       "  <tbody>\n",
       "    <tr>\n",
       "      <th>1|I(gender == 'F')[False]</th>\n",
       "      <td>-0.001151</td>\n",
       "      <td>0.037598</td>\n",
       "      <td>-0.056117</td>\n",
       "      <td>0.049701</td>\n",
       "    </tr>\n",
       "    <tr>\n",
       "      <th>1|I(gender == 'F')[True]</th>\n",
       "      <td>-0.003557</td>\n",
       "      <td>0.037211</td>\n",
       "      <td>-0.060585</td>\n",
       "      <td>0.041850</td>\n",
       "    </tr>\n",
       "    <tr>\n",
       "      <th>1|I(gender=='F')_sd</th>\n",
       "      <td>0.038701</td>\n",
       "      <td>0.078857</td>\n",
       "      <td>0.000014</td>\n",
       "      <td>0.103080</td>\n",
       "    </tr>\n",
       "    <tr>\n",
       "      <th>I(auth_prev_papers == 0)</th>\n",
       "      <td>-0.038119</td>\n",
       "      <td>0.014020</td>\n",
       "      <td>-0.064268</td>\n",
       "      <td>-0.007719</td>\n",
       "    </tr>\n",
       "    <tr>\n",
       "      <th>I(auth_prev_papers == 1)</th>\n",
       "      <td>-0.020105</td>\n",
       "      <td>0.010725</td>\n",
       "      <td>-0.036769</td>\n",
       "      <td>0.001919</td>\n",
       "    </tr>\n",
       "    <tr>\n",
       "      <th>I(np.log10(auth_prev_papers + 1) ** 2)</th>\n",
       "      <td>0.044541</td>\n",
       "      <td>0.008407</td>\n",
       "      <td>0.026558</td>\n",
       "      <td>0.059693</td>\n",
       "    </tr>\n",
       "    <tr>\n",
       "      <th>Intercept</th>\n",
       "      <td>0.043910</td>\n",
       "      <td>0.040540</td>\n",
       "      <td>-0.002829</td>\n",
       "      <td>0.103333</td>\n",
       "    </tr>\n",
       "    <tr>\n",
       "      <th>is_self_cite_sd</th>\n",
       "      <td>0.220345</td>\n",
       "      <td>0.001362</td>\n",
       "      <td>0.217944</td>\n",
       "      <td>0.223128</td>\n",
       "    </tr>\n",
       "    <tr>\n",
       "      <th>np.log10(auth_prev_papers + 1)</th>\n",
       "      <td>-0.039475</td>\n",
       "      <td>0.022008</td>\n",
       "      <td>-0.077879</td>\n",
       "      <td>0.007790</td>\n",
       "    </tr>\n",
       "  </tbody>\n",
       "</table>\n",
       "</div>"
      ],
      "text/plain": [
       "                                            mean        sd  hpd0.95_lower  \\\n",
       "1|I(gender == 'F')[False]              -0.001151  0.037598      -0.056117   \n",
       "1|I(gender == 'F')[True]               -0.003557  0.037211      -0.060585   \n",
       "1|I(gender=='F')_sd                     0.038701  0.078857       0.000014   \n",
       "I(auth_prev_papers == 0)               -0.038119  0.014020      -0.064268   \n",
       "I(auth_prev_papers == 1)               -0.020105  0.010725      -0.036769   \n",
       "I(np.log10(auth_prev_papers + 1) ** 2)  0.044541  0.008407       0.026558   \n",
       "Intercept                               0.043910  0.040540      -0.002829   \n",
       "is_self_cite_sd                         0.220345  0.001362       0.217944   \n",
       "np.log10(auth_prev_papers + 1)         -0.039475  0.022008      -0.077879   \n",
       "\n",
       "                                        hpd0.95_upper  \n",
       "1|I(gender == 'F')[False]                    0.049701  \n",
       "1|I(gender == 'F')[True]                     0.041850  \n",
       "1|I(gender=='F')_sd                          0.103080  \n",
       "I(auth_prev_papers == 0)                    -0.007719  \n",
       "I(auth_prev_papers == 1)                     0.001919  \n",
       "I(np.log10(auth_prev_papers + 1) ** 2)       0.059693  \n",
       "Intercept                                    0.103333  \n",
       "is_self_cite_sd                              0.223128  \n",
       "np.log10(auth_prev_papers + 1)               0.007790  "
      ]
     },
     "execution_count": 56,
     "metadata": {},
     "output_type": "execute_result"
    }
   ],
   "source": [
    "results[100:].summary(ranefs=True)"
   ]
  },
  {
   "cell_type": "code",
   "execution_count": null,
   "metadata": {
    "collapsed": true
   },
   "outputs": [],
   "source": []
  }
 ],
 "metadata": {
  "anaconda-cloud": {},
  "kernelspec": {
   "display_name": "Python [default]",
   "language": "python",
   "name": "python2"
  },
  "language_info": {
   "codemirror_mode": {
    "name": "ipython",
    "version": 2
   },
   "file_extension": ".py",
   "mimetype": "text/x-python",
   "name": "python",
   "nbconvert_exporter": "python",
   "pygments_lexer": "ipython2",
   "version": "2.7.12"
  }
 },
 "nbformat": 4,
 "nbformat_minor": 1
}
